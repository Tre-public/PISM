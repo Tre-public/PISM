{
 "cells": [
  {
   "cell_type": "code",
   "execution_count": null,
   "id": "9fa0a1ed-a42f-4aa7-89ae-d8d3804a688e",
   "metadata": {},
   "outputs": [],
   "source": [
    "import pandas as pd\n",
    "from sklearn.ensemble import RandomForestClassifier, RandomForestRegressor\n",
    "import numpy as np\n",
    "from sklearn.model_selection import train_test_split"
   ]
  },
  {
   "cell_type": "code",
   "execution_count": null,
   "id": "814e0259-f857-44c8-ba04-71d977d5b5e7",
   "metadata": {
    "tags": []
   },
   "outputs": [],
   "source": [
    "lark_dw = pd.read_csv(\"./lark_job.csv\")\n",
    "# lark_dw.isnull().sum()"
   ]
  },
  {
   "cell_type": "code",
   "execution_count": null,
   "id": "09d0c81d-ca5a-4d2a-a720-e17076effad9",
   "metadata": {
    "tags": []
   },
   "outputs": [],
   "source": [
    "lark_dw.fillna(0, inplace=True)\n",
    "# lark_dw.head(10)"
   ]
  },
  {
   "cell_type": "code",
   "execution_count": null,
   "id": "c0030ee4-e9de-458d-b1c2-6213eb0dea41",
   "metadata": {},
   "outputs": [],
   "source": [
    "import matplotlib.pyplot as plt\n",
    "%matplotlib inline"
   ]
  },
  {
   "cell_type": "code",
   "execution_count": null,
   "id": "74cc3a82-91ce-4e1c-8d6f-1bf9408e4176",
   "metadata": {
    "tags": []
   },
   "outputs": [],
   "source": [
    "# lark_dw[\"fuxi_task_num\"].value_counts()\n",
    "#lark_dw[lark_dw[\"fuxi_task_num\"] == 53]\n",
    "lark_dw.columns"
   ]
  },
  {
   "cell_type": "code",
   "execution_count": null,
   "id": "671aac27-a446-4712-899f-e4975e33bded",
   "metadata": {},
   "outputs": [],
   "source": [
    "lark_dw[lark_dw[\"odps_inst_id\"] == \"20220206035950687grs6g5ys\"].fuxi_inst_num"
   ]
  },
  {
   "cell_type": "code",
   "execution_count": null,
   "id": "b4e29366-324e-460b-ae12-f07708c5a2d5",
   "metadata": {
    "tags": []
   },
   "outputs": [],
   "source": [
    "task_num = lark_dw[\"fuxi_task_num\"].values\n",
    "project_name = lark_dw[\"project_name\"].values\n",
    "project_map = {}\n",
    "index = 0\n",
    "for i in range(len(project_name)):\n",
    "    if project_name[i] not in project_map:\n",
    "        project_map[project_name[i]] = index\n",
    "        index += 1\n",
    "    project_name[i] = project_map[project_name[i]]\n",
    "\n",
    "inst_num = lark_dw[\"fuxi_inst_num\"].values\n",
    "cpu_cost = lark_dw[\"fuxi_cpu_cost\"].values\n",
    "mem_cost = lark_dw[\"fuxi_mem_cost\"].values\n",
    "start_time = (lark_dw[\"start_time\"].values % 86400)\n",
    "end_time = (lark_dw[\"end_time\"].values % 86400)\n",
    "job_type = lark_dw[\"fuxi_job_sn\"].values\n",
    "quota_id = lark_dw[\"fuxi_quota_id\"].values\n",
    "plan_cpu = lark_dw[\"plan_cpu_cost\"].values\n",
    "plan_mem = lark_dw[\"plan_mem_cost\"].values\n",
    "duration = []\n",
    "for i in range(start_time.shape[0]):\n",
    "    if end_time[i] > start_time[i]:\n",
    "        duration.append(end_time[i] - start_time[i])\n",
    "    else:\n",
    "        duration.append(end_time[i] + 86400 - start_time[i])\n",
    "duration = np.asarray(duration)\n",
    "X = np.vstack((inst_num, cpu_cost, mem_cost, start_time, end_time, duration, plan_cpu, plan_mem, job_type, quota_id, project_name, task_num)).T\n",
    "X.shape"
   ]
  },
  {
   "cell_type": "code",
   "execution_count": null,
   "id": "ae5cddc7-badd-4c06-a075-d268e228434b",
   "metadata": {
    "tags": []
   },
   "outputs": [],
   "source": [
    "task_type = len(list(lark_dw[\"fuxi_task_num\"].value_counts()))\n",
    "lark_dw[\"fuxi_task_num\"].value_counts()"
   ]
  },
  {
   "cell_type": "code",
   "execution_count": null,
   "id": "4fe3d46c-fe21-495f-b121-adc105895d51",
   "metadata": {},
   "outputs": [],
   "source": [
    "model = RandomForestClassifier()\n",
    "X_train,X_test,y_train,y_test = train_test_split(X[:, [0, 1, 3, 6, 7, 8, 9, 10]], task_num, test_size=0.1, random_state=0)\n",
    "X_train.shape\n",
    "model.fit(X_train, y_train)\n",
    "print(model.score(X_train, y_train))\n",
    "print(model.score(X_test, y_test))"
   ]
  },
  {
   "cell_type": "code",
   "execution_count": null,
   "id": "0961b99a-719e-4337-97d9-a558fe8886a1",
   "metadata": {
    "tags": []
   },
   "outputs": [],
   "source": [
    "accuracy = [0 for i in range(100)]\n",
    "total = [0 for i in range(100)]\n",
    "y_predict = model.predict(X_test)\n",
    "for i in range(y_predict.shape[0]):\n",
    "    total[y_test[i]] += 1\n",
    "    if y_predict[i] == y_test[i]:\n",
    "        accuracy[y_test[i]] += 1\n",
    "for i in range(100):\n",
    "    if accuracy[i]:\n",
    "        print(i, accuracy[i], accuracy[i]/total[i])"
   ]
  },
  {
   "cell_type": "markdown",
   "id": "f696e3ae-3fb3-4536-a063-cd64a1b50661",
   "metadata": {},
   "source": [
    "## cpu_cost bucket"
   ]
  },
  {
   "cell_type": "code",
   "execution_count": null,
   "id": "fc4428c7-f7b2-4669-836e-1760cc8e6e01",
   "metadata": {},
   "outputs": [],
   "source": [
    "avg_cpu_cost = cpu_cost / inst_num\n",
    "label = [0 for i in range(avg_cpu_cost.shape[0])]\n",
    "# avg_cpu_cost = sorted(avg_cpu_cost)\n",
    "# y = 100. * np.arange(len(avg_cpu_cost))/(len(avg_cpu_cost)-1)\n",
    "# plt.figure()\n",
    "# plt.plot(avg_cpu_cost, y)\n",
    "# plt.xlim(0, 2000)\n",
    "for i in range(avg_cpu_cost.shape[0]):\n",
    "    if avg_cpu_cost[i] < 200:\n",
    "        label[i] = int(avg_cpu_cost[i]/20)\n",
    "    elif avg_cpu_cost[i] < 600:\n",
    "        label[i] = int(avg_cpu_cost[i]/50 + 6)\n",
    "    elif avg_cpu_cost[i] < 2000:\n",
    "        label[i] = int(avg_cpu_cost[i]/200 + 15)\n",
    "    elif avg_cpu_cost[i] >= 10000:\n",
    "        label[i] = 25\n",
    "        "
   ]
  },
  {
   "cell_type": "code",
   "execution_count": null,
   "id": "801141b2-1b16-4b99-bbaa-59df99e121b3",
   "metadata": {},
   "outputs": [],
   "source": [
    "model = RandomForestClassifier()\n",
    "X_train,X_test,y_train,y_test = train_test_split(X[:, [0, 3, 4, 5, 6, 7, 8, 9, 10, 11]], label, test_size=0.1, random_state=0)\n",
    "X_train.shape\n",
    "model.fit(X_train, y_train)\n",
    "print(model.score(X_train, y_train))\n",
    "print(model.score(X_test, y_test))"
   ]
  },
  {
   "cell_type": "code",
   "execution_count": null,
   "id": "ecaa279f-ea17-4d2b-bdc9-998804d9d3f2",
   "metadata": {
    "tags": []
   },
   "outputs": [],
   "source": [
    "accuracy = [0 for i in range(100)]\n",
    "ambiguous_accuracy = [0 for i in range(100)]\n",
    "total = [0 for i in range(100)]\n",
    "y_predict = model.predict(X_test)\n",
    "for i in range(y_predict.shape[0]):\n",
    "    total[y_test[i]] += 1\n",
    "    if y_predict[i] == y_test[i]:\n",
    "        accuracy[y_test[i]] += 1\n",
    "    if abs(y_predict[i] - y_test[i]) <= 1:\n",
    "        ambiguous_accuracy[y_test[i]] += 1\n",
    "\n",
    "for i in range(100):\n",
    "    if accuracy[i]:\n",
    "        print(i, accuracy[i], accuracy[i]/total[i], ambiguous_accuracy[i]/total[i])"
   ]
  },
  {
   "cell_type": "markdown",
   "id": "0f07584d-0ef4-414f-978e-2fb98fc5219c",
   "metadata": {},
   "source": [
    "## duration bucket"
   ]
  },
  {
   "cell_type": "code",
   "execution_count": null,
   "id": "e5930a34-90da-4f39-a2c3-c11c39eb24bb",
   "metadata": {},
   "outputs": [],
   "source": [
    "label = [0 for i in range(len(duration))]\n",
    "# duration = sorted(duration)\n",
    "# y = 100. * np.arange(len(duration))/(len(duration)-1)\n",
    "# plt.figure()\n",
    "# plt.plot(duration, y)\n",
    "# plt.xlim(0, 400)\n",
    "for i in range(len(duration)):\n",
    "    if duration[i] < 50:\n",
    "        label[i] = int(duration[i]/5)\n",
    "    elif avg_cpu_cost[i] < 100:\n",
    "        label[i] = int(avg_cpu_cost[i]/10 + 5)\n",
    "    elif avg_cpu_cost[i] < 200:\n",
    "        label[i] = int(avg_cpu_cost[i]/20 + 10)\n",
    "    elif avg_cpu_cost[i] >= 400:\n",
    "        label[i] = 20\n",
    "        "
   ]
  },
  {
   "cell_type": "code",
   "execution_count": null,
   "id": "ca4b4526-9c21-4c88-84b2-b9c21f28653a",
   "metadata": {},
   "outputs": [],
   "source": [
    "model = RandomForestClassifier()\n",
    "X_train,X_test,y_train,y_test = train_test_split(X[:, [0, 3, 6, 7, 8, 9, 10, 11]], label, test_size=0.1, random_state=0)\n",
    "X_train.shape\n",
    "model.fit(X_train, y_train)\n",
    "print(model.score(X_train, y_train))\n",
    "print(model.score(X_test, y_test))"
   ]
  },
  {
   "cell_type": "code",
   "execution_count": null,
   "id": "0747d598-10ee-4e0f-ab9d-cfa837d08ad0",
   "metadata": {},
   "outputs": [],
   "source": [
    "accuracy = [0 for i in range(100)]\n",
    "ambiguous_accuracy = [0 for i in range(100)]\n",
    "total = [0 for i in range(100)]\n",
    "y_predict = model.predict(X_test)\n",
    "for i in range(y_predict.shape[0]):\n",
    "    total[y_test[i]] += 1\n",
    "    if y_predict[i] == y_test[i]:\n",
    "        accuracy[y_test[i]] += 1\n",
    "    if abs(y_predict[i] - y_test[i]) <= 4:\n",
    "        ambiguous_accuracy[y_test[i]] += 1\n",
    "\n",
    "for i in range(100):\n",
    "    if accuracy[i]:\n",
    "        print(i, accuracy[i], accuracy[i]/total[i], ambiguous_accuracy[i]/total[i])"
   ]
  },
  {
   "cell_type": "code",
   "execution_count": null,
   "id": "06997e31-e3b3-479c-90b0-7c32c1ec725d",
   "metadata": {},
   "outputs": [],
   "source": []
  },
  {
   "cell_type": "code",
   "execution_count": null,
   "id": "eae28423-cb09-4ea7-91bc-fb6a4f0ed29c",
   "metadata": {},
   "outputs": [],
   "source": [
    "category_cpu = [[] for i in range(100)]\n",
    "category_instance = [[] for i in range(100)]\n",
    "for i in range(task_num.shape[0]):\n",
    "    category_cpu[task_num[i]].append(cpu_cost[i])\n",
    "    category_instance[task_num[i]].append(inst_num[i])\n"
   ]
  },
  {
   "cell_type": "code",
   "execution_count": null,
   "id": "3d5f4ad1-ca8a-467b-b1cc-5e2222acf71a",
   "metadata": {
    "tags": []
   },
   "outputs": [],
   "source": [
    "plt.figure()\n",
    "plt.scatter(category_cpu[1], category_instance[1])\n",
    "plt.xscale(\"log\")\n",
    "plt.yscale(\"log\")\n",
    "plt.show()"
   ]
  },
  {
   "cell_type": "markdown",
   "id": "6b0f3e2c-ecea-4669-b877-abaca9797106",
   "metadata": {
    "tags": []
   },
   "source": [
    "全特征 精度 1/0.931\n",
    "0,0.7072580214459075,0.703497997329773\n",
    "1,0.7630387438656041,0.47540720961281707\n",
    "2,0.9110416159793967,0.3983444592790387\n",
    "3,0.6765726899956681,0.4436849132176235\n",
    "4,0.6768219230107348,0.4200267022696929\n",
    "5,0.4709673208044292,0.4597596795727637\n",
    "6,0.728822611368586,0.5590921228304406\n",
    "7,0.6989680566352356,0.5451001335113485\n",
    "8,0.40302758772112013,0.4022429906542056\n",
    "9,0.36057489748808724,0.36352469959946593\n",
    "instance数量，使用cpu，开始时间，0.9999940658805937, 0.8446461949265688\n",
    "instance数量，使用cpu，开始时间，结束时间，0.9999762635223746, 0.8840587449933245\n",
    "除去使用mem，结束时间0.9999881317611873, 0.9154606141522029"
   ]
  },
  {
   "cell_type": "code",
   "execution_count": null,
   "id": "b21ead6e-8b18-4b6d-83e5-8c0b3014ba55",
   "metadata": {
    "tags": []
   },
   "outputs": [],
   "source": [
    "X = np.vstack((inst_num, task_num, start_time, project_name)).T\n",
    "# X"
   ]
  },
  {
   "cell_type": "code",
   "execution_count": null,
   "id": "7eddaebf-a775-475a-aa2c-1f3ddf3bfd6b",
   "metadata": {},
   "outputs": [],
   "source": [
    "from sklearn.ensemble import RandomForestRegressor\n",
    "model = RandomForestRegressor()\n",
    "X_train,X_test,y_train,y_test = train_test_split(X, cpu_cost, test_size=0.1, random_state=0)\n",
    "model.fit(X_train, y_train)\n",
    "print(model.score(X_train, y_train))\n",
    "print(model.score(X_test, y_test))"
   ]
  },
  {
   "cell_type": "code",
   "execution_count": null,
   "id": "2c90b92d-f145-4d0c-86ea-a102f40e03d6",
   "metadata": {
    "tags": []
   },
   "outputs": [],
   "source": [
    "y_train_predict = model.predict(X_train)\n",
    "plt.figure(figsize=(20,10))\n",
    "plt.plot(range(200), y_train[0:200])\n",
    "plt.plot(range(200), y_train_predict[0:200])\n",
    "plt.legend([\"train\", \"predict\"])\n",
    "plt.yscale(\"log\")\n",
    "plt.show()\n",
    "\n",
    "y_test_predict = model.predict(X_test)\n",
    "plt.figure(figsize=(20,10))\n",
    "plt.plot(range(200), y_test[0:200])\n",
    "plt.plot(range(200), y_test_predict[0:200])\n",
    "plt.legend([\"test\", \"predict\"])\n",
    "plt.yscale(\"log\")\n",
    "plt.show()"
   ]
  },
  {
   "cell_type": "code",
   "execution_count": null,
   "id": "7f9b8fe1-9863-4cc6-8e13-f0078d81d6e5",
   "metadata": {},
   "outputs": [],
   "source": [
    "error = []\n",
    "for i in range(y_train.shape[0]):\n",
    "    if y_train[i] == 0:\n",
    "        error.append(y_train_predict[i])\n",
    "    else:\n",
    "        error.append((y_train[i] - y_train_predict[i]) / y_train[i])\n",
    "error_interval = [0 for i in range(11)]\n",
    "for i in error:\n",
    "    index = int(i//0.2+5)\n",
    "    if index > 10:\n",
    "        index = 10\n",
    "    elif index < 0:\n",
    "        index = 0\n",
    "    error_interval[index] += 1\n",
    "train_error_interval = np.asarray(error_interval) / len(error)\n",
    "error = []\n",
    "for i in range(y_test.shape[0]):\n",
    "    if y_test[i] == 0:\n",
    "        error.append(y_test_predict[i])\n",
    "    else:\n",
    "        error.append((y_test[i] - y_test_predict[i]) / y_test[i])\n",
    "error_interval = [0 for i in range(11)]\n",
    "for i in error:\n",
    "    index = int(i//0.2+5)\n",
    "    if index > 10:\n",
    "        index = 10\n",
    "    elif index < 0:\n",
    "        index = 0\n",
    "    error_interval[index] += 1\n",
    "test_error_interval = np.asarray(error_interval) / len(error)"
   ]
  },
  {
   "cell_type": "code",
   "execution_count": null,
   "id": "5afa214f-d23d-4b2a-992f-e7311d2b8a0f",
   "metadata": {},
   "outputs": [],
   "source": [
    "plt.figure()\n",
    "plt.plot(range(11), train_error_interval)\n",
    "plt.plot(range(11), test_error_interval)"
   ]
  },
  {
   "cell_type": "code",
   "execution_count": null,
   "id": "8b739cc7-450d-4ff0-8345-f77a0830d0e6",
   "metadata": {},
   "outputs": [],
   "source": [
    "error = []\n",
    "for i in range(y_test.shape[0]):\n",
    "    if y_test[i] == 0:\n",
    "        error.append(abs(y_test_predict[i]))\n",
    "    else:\n",
    "        error.append(abs((y_test[i] - y_test_predict[i]) / y_test[i]))\n",
    "error = sorted(error)\n",
    "train_error = 100. * np.arange(len(error))/(len(error)-1)\n",
    "plt.figure()\n",
    "plt.plot(error, train_error)\n",
    "plt.xlim(0, 1)"
   ]
  },
  {
   "cell_type": "code",
   "execution_count": null,
   "id": "3466030b-883d-4d43-b0c5-9110998ff605",
   "metadata": {},
   "outputs": [],
   "source": []
  },
  {
   "cell_type": "code",
   "execution_count": null,
   "id": "5d42c322-65fc-4e8e-9f76-958b037863de",
   "metadata": {},
   "outputs": [],
   "source": [
    "model.predict(X_test)[0:30]"
   ]
  },
  {
   "cell_type": "markdown",
   "id": "69c70aa1-b58f-4a75-b09f-912636ef959b",
   "metadata": {},
   "source": [
    "instance_num, task_num, start_time作为特征\n",
    "预测duration: 0.583453995731672, 0.14398273766226943\n",
    "预测cpu_cost: 0.9973088839129767, 0.9888808900851879\n",
    "增加job_type, quota_id, plan_cpu, plan_mem\n",
    "duration: 0.6569621694905388, 0.22182187327722058\n",
    "cpu_cost: 0.9971900615327868, 0.9888324466271863\n",
    "和instance_num的相关性最大"
   ]
  },
  {
   "cell_type": "markdown",
   "id": "63a4f36c-e088-4535-a174-2c2c28f44892",
   "metadata": {},
   "source": [
    "任务提交时，已知task_num, instance_num, start_time\n",
    "可以预测总CPU用时（属于任务的所有实例的CPU运行时间）\n",
    "还需区分不同task（CPU用量不同），预测运行时间\n",
    "可以从instance的数据中得到（但是误差较大）"
   ]
  },
  {
   "cell_type": "code",
   "execution_count": null,
   "id": "3e6b8507-b160-4bed-953a-c2a2c48dba8b",
   "metadata": {},
   "outputs": [],
   "source": [
    "lark_dw.drop(columns=[\"running_cluster\",\"real_cpu_cost\", \"real_mem_cost\"], inplace=True)"
   ]
  },
  {
   "cell_type": "code",
   "execution_count": null,
   "id": "ca37da0b-097f-4e5e-b7b6-f52f0a4b64ea",
   "metadata": {},
   "outputs": [],
   "source": [
    "lark_dw[lark_dw[\"fuxi_job_name\"]==\"lark_dw_20220206035950687grs6g5ys_SQL_0_1_0_job_0\"]"
   ]
  },
  {
   "cell_type": "code",
   "execution_count": null,
   "id": "3ba4e302-d5c9-42af-aa1b-fd7c6a540347",
   "metadata": {},
   "outputs": [],
   "source": [
    "lark_dw_instance = pd.read_csv(\"./lark_instance.csv\")"
   ]
  },
  {
   "cell_type": "code",
   "execution_count": null,
   "id": "642703fa-e5de-4e26-ba1a-b7870f5c32da",
   "metadata": {},
   "outputs": [],
   "source": [
    "lark_dw_instance.drop(columns=[\"total_seq_no\", \"seq_no\"], inplace=True)\n",
    "lark_dw_instance.fillna(0, inplace=True)"
   ]
  },
  {
   "cell_type": "code",
   "execution_count": null,
   "id": "79447c75-e7f2-4993-a593-abfbe4016a3e",
   "metadata": {
    "tags": []
   },
   "outputs": [],
   "source": [
    "target = lark_dw_instance[lark_dw_instance[\"odps_inst_id\"]==\"20220206040005867gizk70m\"]\n",
    "target.shape\n",
    "# target[target[\"fuxi_task_name\"] != \"M1\"].head(50)\n",
    "# target.sort_values(\"worker_address\", inplace=True)\n",
    "# target.to_csv(\"./tmp.csv\")"
   ]
  },
  {
   "cell_type": "code",
   "execution_count": null,
   "id": "330585f4-fb7b-4a0b-a4be-87981b4a186f",
   "metadata": {},
   "outputs": [],
   "source": [
    "cpu_usage = target[\"fuxi_avg_cpu\"] * (target[\"end_time_ms\"]-target[\"start_time_ms\"]) /1000\n"
   ]
  },
  {
   "cell_type": "code",
   "execution_count": null,
   "id": "54353c4c-caf8-4d56-92c4-ae6daf235107",
   "metadata": {},
   "outputs": [],
   "source": [
    "n, bins, patches = plt.hist(cpu_usage, 50, density=True, edgecolor=\"black\", facecolor=\"royalblue\")"
   ]
  },
  {
   "cell_type": "code",
   "execution_count": null,
   "id": "72a2748a-eb95-4c5b-8734-3a838ad3ed0c",
   "metadata": {},
   "outputs": [],
   "source": [
    "# lark_dw_instance.sort_values(\"fuxi_avg_cpu\", inplace=True)\n",
    "avg_cpu = lark_dw_instance[\"fuxi_avg_cpu\"].values\n",
    "np.percentile(avg_cpu, 85)"
   ]
  },
  {
   "cell_type": "code",
   "execution_count": null,
   "id": "3b922f57-705c-4a35-ac21-8bf655838c6f",
   "metadata": {},
   "outputs": [],
   "source": [
    "cpu_usage = (target[\"fuxi_avg_cpu\"] * (target[\"end_time_ms\"]-target[\"start_time_ms\"])).values / 1000\n",
    "task_name = target[\"fuxi_task_name\"].values\n",
    "mp = {}\n",
    "for i in range(task_name.shape[0]):\n",
    "    if task_name[i] not in mp:\n",
    "        mp[task_name[i]] = []\n",
    "    mp[task_name[i]].append(cpu_usage[i])"
   ]
  },
  {
   "cell_type": "code",
   "execution_count": null,
   "id": "01a72dc2-ef90-4fd3-9ea9-343e5872fe09",
   "metadata": {
    "tags": []
   },
   "outputs": [],
   "source": [
    "for key in mp:\n",
    "    print(key, len(mp[key]))\n",
    "    if(len(mp[key])<2):\n",
    "        continue\n",
    "    tmp = sorted(mp[key])\n",
    "    y = 100. * np.arange(len(tmp))/(len(tmp)-1)\n",
    "    plt.figure()\n",
    "    plt.plot(tmp, y)\n",
    "    plt.show()\n",
    "#     plt.xlim(0, 1)"
   ]
  },
  {
   "cell_type": "code",
   "execution_count": null,
   "id": "2592e34b-5950-412b-8d8e-2b6e06b96657",
   "metadata": {},
   "outputs": [],
   "source": []
  }
 ],
 "metadata": {
  "kernelspec": {
   "display_name": "Python 3 (ipykernel)",
   "language": "python",
   "name": "python3"
  },
  "language_info": {
   "codemirror_mode": {
    "name": "ipython",
    "version": 3
   },
   "file_extension": ".py",
   "mimetype": "text/x-python",
   "name": "python",
   "nbconvert_exporter": "python",
   "pygments_lexer": "ipython3",
   "version": "3.8.8"
  }
 },
 "nbformat": 4,
 "nbformat_minor": 5
}
