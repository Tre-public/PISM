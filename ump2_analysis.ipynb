{
 "cells": [
  {
   "cell_type": "code",
   "execution_count": null,
   "id": "9fa0a1ed-a42f-4aa7-89ae-d8d3804a688e",
   "metadata": {},
   "outputs": [],
   "source": [
    "import pandas as pd\n",
    "import time\n",
    "from sklearn.ensemble import RandomForestClassifier, RandomForestRegressor, GradientBoostingClassifier\n",
    "import numpy as np\n",
    "from sklearn.model_selection import train_test_split\n",
    "import matplotlib.pyplot as plt\n",
    "%matplotlib inline"
   ]
  },
  {
   "cell_type": "code",
   "execution_count": null,
   "id": "e5930a34-90da-4f39-a2c3-c11c39eb24bb",
   "metadata": {},
   "outputs": [],
   "source": [
    "ump2 = pd.read_csv(\"/data/zkp/ump2/detailhost/service.csv\")"
   ]
  },
  {
   "cell_type": "code",
   "execution_count": null,
   "id": "5afa214f-d23d-4b2a-992f-e7311d2b8a0f",
   "metadata": {
    "tags": []
   },
   "outputs": [],
   "source": [
    "machine = pd.read_csv(\"/data/zkp/ump2/detailhost/machine.csv\")\n",
    "print(machine.isnull().sum())"
   ]
  },
  {
   "cell_type": "code",
   "execution_count": null,
   "id": "92afd39f-9737-48b5-9fef-7e219f70153e",
   "metadata": {
    "tags": []
   },
   "outputs": [],
   "source": [
    "ump2"
   ]
  },
  {
   "cell_type": "code",
   "execution_count": null,
   "id": "fea36eb7-141d-4273-a088-81047a66157f",
   "metadata": {},
   "outputs": [],
   "source": [
    "pod_meta = pd.read_csv(\"./pod_meta.csv\")\n",
    "ay49c = pod_meta[pod_meta.container_app_name==\"ay49c\"]"
   ]
  },
  {
   "cell_type": "code",
   "execution_count": null,
   "id": "41472ab4-0a70-49cf-a2f0-19ec87491156",
   "metadata": {
    "tags": []
   },
   "outputs": [],
   "source": [
    "test_nc_sn = {}\n",
    "for ip in ump2.container_ip.unique().tolist():\n",
    "    for i in range(pod_meta.shape[0]):\n",
    "        if pod_meta.container_ip.values[i] == ip:\n",
    "            test_nc_sn[ip] = pod_meta.nc_sn.values[i]\n",
    "            break"
   ]
  },
  {
   "cell_type": "code",
   "execution_count": null,
   "id": "5a586662-fb1d-4fd7-80c4-f5205d373a52",
   "metadata": {},
   "outputs": [],
   "source": [
    "test_batch_ip = {}\n",
    "for key in test_nc_sn:\n",
    "    for i in range(ay49c.shape[0]):\n",
    "        if ay49c.nc_sn.values[i] == test_nc_sn[key]:\n",
    "            test_batch_ip[key] = ay49c.container_ip.values[i]\n",
    "            break"
   ]
  },
  {
   "cell_type": "code",
   "execution_count": null,
   "id": "b3dd143b-6cea-4bd2-84d7-a4c135ce2331",
   "metadata": {},
   "outputs": [],
   "source": [
    "onoffline = pd.read_csv(\"/data/zkp/ump2/detailhost/onoffline.csv\")\n",
    "online = onoffline[onoffline.Task_Type==\"Online\"]\n",
    "offline = onoffline[onoffline.Task_Type==\"Offline\"]"
   ]
  },
  {
   "cell_type": "code",
   "execution_count": null,
   "id": "4436c834-ff61-4953-8c4d-47b77aaa194f",
   "metadata": {
    "tags": []
   },
   "outputs": [],
   "source": [
    "# data = pd.merge(data, of, on=[\"sample_time\", \"nc_sn\"], how=\"inner\")\n",
    "# ump2.drop(columns=[\"Unnamed: 0\"], inplace=True)\n",
    "DATA.head(1)"
   ]
  },
  {
   "cell_type": "code",
   "execution_count": null,
   "id": "5a6957c1-d2e7-42bf-9c4c-07b9b8ced8c8",
   "metadata": {},
   "outputs": [],
   "source": [
    "# data = DATA[(DATA.qps__Q_s>=200) & (DATA.qps__Q_s<=230)]\n",
    "# data = DATA[offline_data[:, 23]!=0]\n",
    "data = DATA\n",
    "data[\"rue\"] = data.cpu_util__pct.values / data.qps__Q_s.values\n",
    "data.shape"
   ]
  },
  {
   "cell_type": "code",
   "execution_count": null,
   "id": "eab0a7bd-a9fc-4a07-92f9-e784e134af27",
   "metadata": {},
   "outputs": [],
   "source": [
    "# plt.plot(sorted(data.online_cpu_util__pct.values/96), np.arange(data.shape[0]) / (data.shape[0] - 1))\n",
    "# plt.plot(sorted(data.offline_cpu_util__pct.values/96), np.arange(data.shape[0]) / (data.shape[0] - 1))\n",
    "# plt.plot(sorted(data.machine_cpu_util__pct.values), np.arange(data.shape[0]) / (data.shape[0] - 1))\n",
    "np.savetxt(\"/data/zkp/figure/ob2.txt\", data[[\"machine_cpu_util__pct\", \"online_cpu_util__pct\", \"offline_cpu_util__pct\"]].values)"
   ]
  },
  {
   "cell_type": "code",
   "execution_count": null,
   "id": "2276723a-f5f9-47e1-9c45-9a2f625d0ae3",
   "metadata": {
    "tags": []
   },
   "outputs": [],
   "source": [
    "# _ = plt.hist(data.rue.values, bins=30, range=(0.02, 0.15))\n",
    "# _ = plt.hist(data.machine_cpu_util__pct.values, bins=30, range=(60, 70))\n",
    "_ = plt.hist(data.rt__ms_Q.values, bins=30, range=(0, 30))\n",
    "plt.show()\n",
    "# plt.scatter(data.rt__ms_Q.values, data.rue.values)\n",
    "# for i in DATA.container_ip.unique()[:3]:\n",
    "#     temp = DATA[DATA.container_ip==i]\n",
    "#     plt.figure(figsize=(20, 8))\n",
    "#     plt.plot(temp.sample_time, temp.rt__ms_Q)\n",
    "#     cpu = temp.machine_cpu_util__pct.values\n",
    "#     if np.mean(cpu)>20:\n",
    "#         cpu /= 10\n",
    "#     plt.plot(temp.sample_time, cpu)\n",
    "#     plt.ylim(0, 20)\n",
    "#     plt.show()\n",
    "# temp = DATA[(DATA.sample_time>=1644076800+86400*1) & (DATA.sample_time<1644076800+86400*2)]\n",
    "# rt = temp.rt__ms_Q.values\n",
    "# print(np.percentile(rt, 80), np.percentile(rt, 20), np.mean(rt), np.std(rt))\n",
    "# temp = DATA[(DATA.sample_time>=1644076800+86400*2) & (DATA.sample_time<1644076800+86400*3)]\n",
    "# rt = temp.rt__ms_Q.values\n",
    "# print(np.percentile(rt, 80), np.percentile(rt, 20), np.mean(rt), np.std(rt))\n",
    "# plt.ylim(0, 20)\n",
    "# plt.xlim(0, 20)\n",
    "plt.plot(sorted(data.rt__ms_Q.values), np.arange(data.shape[0]) / (data.shape[0] - 1))\n",
    "plt.plot([0, 1500], [0.50, 0.50])\n",
    "plt.plot([0, 1500], [0.95, 0.95])\n",
    "plt.plot([0, 1500], [0.05, 0.05])\n",
    "plt.xlim(0, 20)"
   ]
  },
  {
   "cell_type": "code",
   "execution_count": null,
   "id": "923eba5a-dc77-48fb-af0e-a33ccd64aa1c",
   "metadata": {},
   "outputs": [],
   "source": [
    "# data = data[(data.machine_cpu_util__pct>=62) & (data.machine_cpu_util__pct<=64)]\n",
    "# data = data[(data.machine_cpu_util__pct>=66) & (data.machine_cpu_util__pct<=70)]\n",
    "data = DATA[(DATA.sample_time>=1644076800+86400*2) & (DATA.sample_time<1644076800+86400*3)]\n",
    "# data = data[(data.qps__Q_s<150)]\n",
    "data.shape"
   ]
  },
  {
   "cell_type": "code",
   "execution_count": null,
   "id": "92ce78b9-3fb0-47c0-80a4-d68373810b22",
   "metadata": {},
   "outputs": [],
   "source": [
    "y = data[metric].values\n",
    "p = []\n",
    "for i in range(5, 101, 5):\n",
    "    p.append(np.percentile(y, i))"
   ]
  },
  {
   "cell_type": "code",
   "execution_count": null,
   "id": "f27a09ca-01eb-43cc-8fd3-e093b424a805",
   "metadata": {},
   "outputs": [],
   "source": [
    "y_new = []\n",
    "for i in y:\n",
    "    for j in range(1, 21):\n",
    "        if i <= p[j-1]:\n",
    "            y_new.append(j)\n",
    "            break"
   ]
  },
  {
   "cell_type": "code",
   "execution_count": null,
   "id": "13e151b3-e64d-463a-8bcd-18d49224fc68",
   "metadata": {},
   "outputs": [],
   "source": [
    "p"
   ]
  },
  {
   "cell_type": "code",
   "execution_count": null,
   "id": "b23414ad-9428-4a14-88e0-305cfe5df9e4",
   "metadata": {},
   "outputs": [],
   "source": [
    "model = RandomForestClassifier()\n",
    "X_train, X_test, y_train, y_test = train_test_split(X, y_new)\n",
    "model.fit(X_train, y_train)\n",
    "model.score(X_test, y_test)"
   ]
  },
  {
   "cell_type": "code",
   "execution_count": null,
   "id": "77e3cc54-b4ed-4b91-8cc9-a7ae6cec20d5",
   "metadata": {},
   "outputs": [],
   "source": [
    "# predict = model.predict(X_test)\n",
    "error = abs(predict - y_test)\n",
    "plt.plot(sorted(error), np.arange(predict.shape[0]) / (predict.shape[0] - 1))\n",
    "plt.xlim(0, 10)\n",
    "plt.hlines(0.8, xmin=0, xmax=10)"
   ]
  },
  {
   "cell_type": "code",
   "execution_count": null,
   "id": "cba083be-4f3d-4af7-9073-0252526a1995",
   "metadata": {
    "tags": []
   },
   "outputs": [],
   "source": [
    "plt.figure(figsize=(20, 8))\n",
    "plt.plot(range(0, predict.shape[0], 200), predict[::200])\n",
    "plt.plot(range(0, predict.shape[0], 200), y_test[::200])"
   ]
  },
  {
   "cell_type": "code",
   "execution_count": null,
   "id": "063ef993-d644-41e9-9065-6a7e489a9177",
   "metadata": {
    "tags": []
   },
   "outputs": [],
   "source": [
    "metric = \"rt__ms_Q\"\n",
    "p75 = np.percentile(data[metric].values, 95)\n",
    "p25 = np.percentile(data[metric].values, 5)\n",
    "# da = data[(data[metric] >= p75) | (data[metric] <= p25)]\n",
    "da = data\n",
    "da.shape, p75, p25"
   ]
  },
  {
   "cell_type": "code",
   "execution_count": null,
   "id": "2dcc9388-201e-49fd-a3d0-e35963d02c79",
   "metadata": {
    "tags": []
   },
   "outputs": [],
   "source": [
    "X = []\n",
    "for a in da.type.values:\n",
    "    X.append(a)\n",
    "X = np.asarray(X)\n",
    "X.shape"
   ]
  },
  {
   "cell_type": "code",
   "execution_count": null,
   "id": "f6db7e65-b45b-417c-9694-1f0d935708fc",
   "metadata": {
    "tags": []
   },
   "outputs": [],
   "source": [
    "label = (da[metric].values >= p75)\n",
    "label.shape\n",
    "# label = []\n",
    "# for i in da[metric].values:\n",
    "#     if i <= p25 or i >= p75:\n",
    "#         label.append(1)\n",
    "# #     elif i >= p75:\n",
    "# #         label.append(2)\n",
    "#     else:\n",
    "#         label.append(0)\n",
    "# label = np.asarray(label)"
   ]
  },
  {
   "cell_type": "code",
   "execution_count": null,
   "id": "5313ebca-6e74-48c2-a31f-2ed32da8d4c5",
   "metadata": {},
   "outputs": [],
   "source": [
    "x0 = X[label==0]\n",
    "y0 = label[label==0]\n",
    "x1 = X[label==1]\n",
    "y1 = label[label==1]\n",
    "step = int((X.shape[0] / (X.shape[0]*0.1)) / 1.1)\n",
    "x0 = x0[::step]\n",
    "y0 = y0[::step]\n",
    "X_ = np.vstack((x0, x1))\n",
    "label_ = np.hstack((y0, y1))\n",
    "X_.shape, label_.shape"
   ]
  },
  {
   "cell_type": "code",
   "execution_count": null,
   "id": "1e0d3c8a-488e-46a4-b7f9-af05115c4f8f",
   "metadata": {},
   "outputs": [],
   "source": [
    "np.bincount(label_)"
   ]
  },
  {
   "cell_type": "code",
   "execution_count": null,
   "id": "b3315d0e-03a4-4aab-8606-5ce5cc57f3f5",
   "metadata": {},
   "outputs": [],
   "source": [
    "model = RandomForestClassifier()\n",
    "X_train, X_test, y_train, y_test = train_test_split(X_, label_)\n",
    "model.fit(X_train, y_train)\n",
    "y_predict = model.predict(X_test)\n",
    "model.score(X_test, y_test)"
   ]
  },
  {
   "cell_type": "code",
   "execution_count": null,
   "id": "abdcfd43-e7a8-430a-a77e-4b89902d7935",
   "metadata": {},
   "outputs": [],
   "source": [
    "cnt = [[0, 0], [0, 0]]\n",
    "for i in range(y_predict.shape[0]):\n",
    "    cnt[int(y_test[i])][int(y_predict[i])] += 1\n",
    "print(cnt)\n",
    "score = [cnt[0][0] / sum(cnt[0]), cnt[1][1] / sum(cnt[1]), \n",
    "         cnt[0][0] / (cnt[0][0] + cnt[1][0]), cnt[1][1] / (cnt[1][1] + cnt[0][1])]\n",
    "print(score)\n",
    "print(2*score[0]*score[2] / (score[0] + score[2]), 2*score[1]*score[3] / (score[1]+score[3]))"
   ]
  },
  {
   "cell_type": "code",
   "execution_count": null,
   "id": "0f233882-c300-4c6b-8884-e01ba86624cc",
   "metadata": {},
   "outputs": [],
   "source": [
    "model.fit(X, label)\n",
    "joblib.dump(model, \"/data/zkp/ump2/detailhost/rt2.model\")"
   ]
  },
  {
   "cell_type": "code",
   "execution_count": null,
   "id": "4fcb003e-6ffc-46e6-a6e5-ccb9d78259d1",
   "metadata": {},
   "outputs": [],
   "source": [
    "threhold = [8.308080628557107, 6.030347481642425]\n",
    "label = []\n",
    "for i in da.rt__ms_Q.values:\n",
    "    if i <= threhold[1]:\n",
    "        label.append(0)\n",
    "    elif i >= threhold[0]:\n",
    "        label.append(1)\n",
    "    else:\n",
    "        label.append(2)"
   ]
  },
  {
   "cell_type": "code",
   "execution_count": null,
   "id": "616e6d78-6d06-4a5d-b7e1-790d7e1f8bec",
   "metadata": {},
   "outputs": [],
   "source": [
    "label.shape"
   ]
  },
  {
   "cell_type": "code",
   "execution_count": null,
   "id": "e3cb2d5d-cd52-470b-996e-52dfb6d2833a",
   "metadata": {},
   "outputs": [],
   "source": [
    "model = joblib.load(\"/data/zkp/ump2/detailhost/rt2.model\")\n",
    "y_predict = model.predict(X)"
   ]
  },
  {
   "cell_type": "code",
   "execution_count": null,
   "id": "4bc1a2fa-667b-4dd8-933a-e824a5d1ae71",
   "metadata": {},
   "outputs": [],
   "source": [
    "# X = X[y_predict==1]\n",
    "# rt = da.rt__ms_Q.values[y_predict==1]"
   ]
  },
  {
   "cell_type": "code",
   "execution_count": null,
   "id": "900fcb96-1146-49c5-a92c-434735161f6d",
   "metadata": {},
   "outputs": [],
   "source": [
    "cnt = [[0, 0], [0, 0], [0, 0]]\n",
    "for i in range(y_predict.shape[0]):\n",
    "    cnt[int(label[i])][int(y_predict[i])] += 1\n",
    "print(cnt)\n",
    "score = [cnt[0][0] / sum(cnt[0]), cnt[1][1] / sum(cnt[1]), \n",
    "         cnt[0][0] / (cnt[0][0] + cnt[1][0]), cnt[1][1] / (cnt[1][1] + cnt[0][1])]\n",
    "print(score)\n",
    "print(2*score[0]*score[2] / (score[0] + score[2]), 2*score[1]*score[3] / (score[1]+score[3]))"
   ]
  },
  {
   "cell_type": "code",
   "execution_count": null,
   "id": "38c2327f-f4fa-4fc0-8299-71e4195489c3",
   "metadata": {
    "tags": []
   },
   "outputs": [],
   "source": [
    "lr = LinearRegression()\n",
    "lr.fit(X, data[metric].values)\n",
    "lr.score(X, data[metric.values)\n",
    "predict = lr.predict(X)\n",
    "error = abs(predict - data[metric].values) / data[metric].values\n",
    "plt.plot(sorted(error), np.arange(predict.shape[0]) / (predict.shape[0] - 1))"
   ]
  },
  {
   "cell_type": "code",
   "execution_count": null,
   "id": "33c8487b-843d-4210-896c-48bce0ad9039",
   "metadata": {
    "tags": []
   },
   "outputs": [],
   "source": [
    "# plt.hist(data[metric].values, bins=30)\n",
    "plt.hist(data[data[metric]>=p75].qps__Q_s, bins=30)\n",
    "plt.show()\n",
    "plt.hist(data[data[metric]<=p25].qps__Q_s, bins=30)\n",
    "plt.show()\n",
    "plt.scatter(da[label==0].machine_cpu_util__pct, da[label==0].qps__Q_s)\n",
    "plt.scatter(da[label==1].machine_cpu_util__pct, da[label==1].qps__Q_s)\n",
    "plt.xlabel(\"Machine CPU\")\n",
    "plt.ylabel(\"QPS\")\n",
    "plt.legend([\"0\", \"1\"])"
   ]
  },
  {
   "cell_type": "code",
   "execution_count": null,
   "id": "30a61f73-40b7-4625-adc4-dc80b676f368",
   "metadata": {},
   "outputs": [],
   "source": [
    "heat0, heat1 = [], []\n",
    "for i in range(y_test.shape[0]):\n",
    "    if y_test[i] == y_predict[i]:\n",
    "        if y_test[i] == 0:\n",
    "            heat0.append(X_test[i])\n",
    "        else:\n",
    "            heat1.append(X_test[i])\n",
    "heat0 = np.asarray(heat0)\n",
    "heat1 = np.asarray(heat1)"
   ]
  },
  {
   "cell_type": "code",
   "execution_count": null,
   "id": "04388787-c000-4ea1-8d71-a3920fa83e73",
   "metadata": {
    "tags": []
   },
   "outputs": [],
   "source": [
    "import seaborn as sns\n",
    "vmin = 0\n",
    "vmax = 60\n",
    "cmap = \"viridis_r\"\n",
    "fig, axes = plt.subplots(1, 2, figsize=(18, 8))\n",
    "sns.heatmap(heat1.T, cmap=cmap, yticklabels=[], xticklabels=[], vmin=vmin, vmax=vmax, cbar=False, ax=axes[0])\n",
    "# axes[0].xlabel(\"P80 Machine\", fontsize=15)\n",
    "# axes[0].ylabel(\"Task Type\", fontsize=15)\n",
    "# plt.show()\n",
    "# plt.figure(figsize=(12, 8))\n",
    "sns.heatmap(heat0.T, cmap=cmap, yticklabels=[], xticklabels=[], vmin=vmin, vmax=vmax, ax=axes[1])\n",
    "# axes[1].xlabel(\"P20 Machine\", fontsize=15)\n",
    "# axes[1].ylabel(\"Task Type\", fontsize=15)\n",
    "plt.show()"
   ]
  },
  {
   "cell_type": "code",
   "execution_count": null,
   "id": "9f6c98f1-080c-48e3-b811-4912e8e7a1e9",
   "metadata": {
    "tags": []
   },
   "outputs": [],
   "source": [
    "for i in range(heat0.shape[1]):\n",
    "    print(i)\n",
    "    plt.plot(sorted(heat0[:, i]), np.arange(heat0.shape[0]) / (heat0.shape[0] - 1))\n",
    "    plt.plot(sorted(heat1[:, i]), np.arange(heat1.shape[0]) / (heat1.shape[0] - 1))\n",
    "    plt.show()"
   ]
  },
  {
   "cell_type": "code",
   "execution_count": null,
   "id": "22c27cfd-39a7-469c-8c6c-6e51162d9419",
   "metadata": {
    "tags": []
   },
   "outputs": [],
   "source": [
    "for i in range(60):\n",
    "    x = []\n",
    "    y = []\n",
    "    temp = np.bincount(X[:, i])\n",
    "    for j in range(temp.shape[0]):\n",
    "        if temp[j] >= 30:\n",
    "            cnt = np.bincount(label[X[:, i]==j])\n",
    "            x.append(j)\n",
    "            y.append(cnt[0] / temp[j])\n",
    "    print(i)\n",
    "    plt.plot(x, y)\n",
    "    plt.xlabel(\"instance count\")\n",
    "    plt.ylabel(\"negative rate\")\n",
    "    plt.show()\n"
   ]
  },
  {
   "cell_type": "code",
   "execution_count": null,
   "id": "179e00cb-baba-4cc8-973d-e7982337ff7c",
   "metadata": {
    "tags": []
   },
   "outputs": [],
   "source": [
    "temp = X[:, 23] \n",
    "cnt = [0 for i in range(50)]\n",
    "po = [0 for i in range(50)]\n",
    "for i in range(temp.shape[0]):\n",
    "    if temp[i] < 50:\n",
    "        cnt[temp[i]] += 1\n",
    "        if label[i]:\n",
    "            po[temp[i]] += 1\n",
    "for i in range(len(cnt)):\n",
    "    print(cnt[i], po[i], end=', ')\n"
   ]
  },
  {
   "cell_type": "code",
   "execution_count": null,
   "id": "b6a37434-daac-4279-9c4b-57ed4483d950",
   "metadata": {
    "tags": []
   },
   "outputs": [],
   "source": [
    "X59 = da[X[:, 27]==20]\n",
    "Y59 = label[X[:, 27]==20]\n",
    "plt.scatter(X59[Y59==0].machine_cpu_util__pct, X59[Y59==0].qps__Q_s)\n",
    "plt.scatter(X59[Y59==1].machine_cpu_util__pct, X59[Y59==1].qps__Q_s)\n",
    "plt.xlabel(\"Machine CPU\")\n",
    "plt.ylabel(\"QPS\")\n",
    "plt.legend([\"0\", \"1\"])"
   ]
  },
  {
   "cell_type": "code",
   "execution_count": null,
   "id": "a9cd571d-4a57-40cb-ac83-eaa559e07c61",
   "metadata": {},
   "outputs": [],
   "source": [
    "batch = pd.DataFrame()\n",
    "for i in range(7):\n",
    "    temp = pd.read_csv(\"/data/zkp/ump2/detailhost/d\" + str(i) + \".csv\")\n",
    "    temp.dropna(inplace=True)\n",
    "    batch = pd.concat([batch, temp])"
   ]
  },
  {
   "cell_type": "code",
   "execution_count": null,
   "id": "8c2652e4-a4ad-4931-b61d-d46cb70e8f51",
   "metadata": {},
   "outputs": [],
   "source": [
    "batch.head(1)"
   ]
  },
  {
   "cell_type": "code",
   "execution_count": null,
   "id": "dd409116-4fca-4750-9be8-7117394351e6",
   "metadata": {},
   "outputs": [],
   "source": [
    "G = batch[[\"job_task_name\", \"fuxi_avg_cpu\", \"fuxi_avg_mem\", \"total_time\"]].groupby([\"job_task_name\"]).mean()"
   ]
  },
  {
   "cell_type": "code",
   "execution_count": null,
   "id": "11b00e88-0d34-4cfe-96e7-0716f3bb9386",
   "metadata": {
    "tags": []
   },
   "outputs": [],
   "source": [
    "# G.head(1)\n",
    "G.shape"
   ]
  },
  {
   "cell_type": "code",
   "execution_count": null,
   "id": "fb03885b-8829-40b1-9466-285d943b492e",
   "metadata": {},
   "outputs": [],
   "source": [
    "Merge = G[G.index.str.contains(\"Merge\")]"
   ]
  },
  {
   "cell_type": "code",
   "execution_count": null,
   "id": "ee95063d-16e7-4a61-9808-0f3b3b4f5025",
   "metadata": {
    "tags": []
   },
   "outputs": [],
   "source": [
    "# len(Merge.index.unique()), Merge.shape\n",
    "Merge.head(1)"
   ]
  },
  {
   "cell_type": "code",
   "execution_count": null,
   "id": "43b8c193-1ad3-452b-adeb-fe7efd834ab8",
   "metadata": {
    "tags": []
   },
   "outputs": [],
   "source": [
    "cpu = Merge.fuxi_avg_cpu.values\n",
    "mem = Merge.fuxi_avg_mem.values\n",
    "t = Merge.total_time.values"
   ]
  },
  {
   "cell_type": "code",
   "execution_count": null,
   "id": "26858de1-1353-474b-a28d-470c467c9221",
   "metadata": {
    "tags": []
   },
   "outputs": [],
   "source": [
    "y = plt.hist(cpu, bins=50, range=(0, 200))[0]\n",
    "plt.show()\n",
    "# plt.scatter(np.arange(y.shape[0])/10, np.log(y))\n",
    "# plt.show()\n",
    "y = plt.hist(mem, bins=50, range=(0, 2000))[0]\n",
    "plt.show()\n",
    "y = plt.hist(r, bins=50, range=(0, 200))[0]\n",
    "plt.show()"
   ]
  },
  {
   "cell_type": "code",
   "execution_count": null,
   "id": "d3feef06-183f-471b-85a3-c9d7bb41277e",
   "metadata": {},
   "outputs": [],
   "source": [
    "task_type = {}\n",
    "type_cnt = [0 for i in range(60)]\n",
    "cpu = G.fuxi_avg_cpu.values\n",
    "mem = G.fuxi_avg_mem.values\n",
    "t = G.total_time.values\n",
    "key = G.index.values\n",
    "for i in range(G.shape[0]):\n",
    "    index = 0\n",
    "    if cpu[i] < 50:\n",
    "        idnex = 0\n",
    "    elif 50 <= cpu[i] < 150:\n",
    "        index = 1\n",
    "    else:\n",
    "        index = 2\n",
    "\n",
    "    if mem[i] < 512:\n",
    "        index = (index*5) + 0\n",
    "    elif 512 <= mem[i] < 1536:\n",
    "        index = (index*5) + 1\n",
    "    elif 1536 <= mem[i] < 3072:\n",
    "        index = (index*5) + 2\n",
    "    elif 3072 <= mem[i] < 6144:\n",
    "        index = (index*5) + 3\n",
    "    else:\n",
    "        index = (index*5) + 4\n",
    "\n",
    "    if t[i] < 20:\n",
    "        index = (index*4) + 0\n",
    "    elif 20 <= t[i] < 40:\n",
    "        index = (index*4) + 1\n",
    "    elif 40 <= t[i] < 100:\n",
    "        index = (index*4) + 2\n",
    "    else:\n",
    "        index = (index*4) + 3\n",
    "    task_type[key[i]] = index\n",
    "    type_cnt[index] += 1"
   ]
  },
  {
   "cell_type": "code",
   "execution_count": null,
   "id": "34c90e7d-6ef1-4ad9-a304-4787204092e3",
   "metadata": {
    "tags": []
   },
   "outputs": [],
   "source": [
    "temp = []\n",
    "for i in batch.job_task_name.values:\n",
    "    temp.append(task_type[i])\n",
    "batch[\"type\"] = temp"
   ]
  },
  {
   "cell_type": "code",
   "execution_count": null,
   "id": "3a798c42-da95-430b-bec5-859169975455",
   "metadata": {},
   "outputs": [],
   "source": [
    "batch"
   ]
  },
  {
   "cell_type": "code",
   "execution_count": null,
   "id": "3c071b02-0c47-445a-bffb-831a8c759034",
   "metadata": {
    "tags": []
   },
   "outputs": [],
   "source": [
    "DATA"
   ]
  },
  {
   "cell_type": "code",
   "execution_count": null,
   "id": "830758bd-6d02-406d-b00b-940deaee94f6",
   "metadata": {
    "tags": []
   },
   "outputs": [],
   "source": [
    "offline_data = []\n",
    "sample_time = DATA.sample_time.values\n",
    "container_ip = DATA.container_ip.values\n",
    "cur_ip = container_ip[0]\n",
    "df = batch[batch.worker_ip==test_batch_ip[cur_ip]]\n",
    "for i in range(DATA.shape[0]):\n",
    "#     print(i, end=',')\n",
    "#     start = time.time()\n",
    "    if cur_ip != container_ip[i]:\n",
    "        print(cur_ip, end=',')\n",
    "        cur_ip = container_ip[i]\n",
    "        df = batch[batch.worker_ip==test_batch_ip[cur_ip]]  \n",
    "    maxpd = df[df.start_time<sample_time[i]]\n",
    "    maxpd = maxpd[maxpd.end_time>sample_time[i]-60]\n",
    "#     print(time.time()-start)\n",
    "    offline_data.append(np.bincount(maxpd.type.values, minlength=60))\n"
   ]
  },
  {
   "cell_type": "code",
   "execution_count": null,
   "id": "c0c07d09-3aea-4969-b159-f6412c7b8559",
   "metadata": {},
   "outputs": [],
   "source": [
    "DATA[\"type\"] = offline_data"
   ]
  },
  {
   "cell_type": "code",
   "execution_count": null,
   "id": "964f6b41-e834-4b26-b857-0f79df74e4fc",
   "metadata": {},
   "outputs": [],
   "source": [
    "DATA.to_csv(\"/data/zkp/ump2/detailhost/DATA.csv\", index=False)"
   ]
  },
  {
   "cell_type": "code",
   "execution_count": null,
   "id": "399c1fa8-984b-49f9-acc4-bdebf101d37a",
   "metadata": {
    "tags": []
   },
   "outputs": [],
   "source": [
    "offline_data = []\n",
    "for tmax in data.index.values:\n",
    "    maxpd = batch[~((batch.start_time>=tmax) | (batch.end_time<=tmax-60))]\n",
    "    total_time = []\n",
    "    start = maxpd.start_time.values\n",
    "    end = maxpd.end_time.values\n",
    "    for i in range(maxpd.shape[0]):\n",
    "        if end[i] >= tmax and start[i] <= tmax-60:\n",
    "            total_time.append(60)\n",
    "        elif end[i] >= tmax and start[i] > tmax-60:\n",
    "            total_time.append(tmax-start[i])\n",
    "        elif end[i] < tmax and start[i] <= tmax-60:\n",
    "            total_time.append(end[i]-tmax+60)\n",
    "        else:\n",
    "            total_time.append(end[i]-start[i])\n",
    "    maxpd[\"total_time\"] = total_time\n",
    "    maxpd[\"cpu_weight\"] = maxpd[\"total_time\"] * maxpd[\"fuxi_avg_cpu\"] / np.sum(maxpd[\"total_time\"] * maxpd[\"fuxi_avg_cpu\"]) * 100\n",
    "    maxpd[\"mem_weight\"] = maxpd[\"total_time\"] * maxpd[\"fuxi_avg_mem\"] / np.sum(maxpd[\"total_time\"] * maxpd[\"fuxi_avg_mem\"]) * 100\n",
    "    maxpd[\"rate\"] = maxpd[\"mem_weight\"] / maxpd[\"cpu_weight\"]\n",
    "    if not maxpd.shape[0]:\n",
    "        offline_data.append([0 for i in range(9)])\n",
    "        continue\n",
    "    offline_temp = []\n",
    "    offline_temp.append(maxpd.shape[0]) # instance_num\n",
    "    offline_temp.append(len(maxpd.fuxi_job_name.unique())) # job_num\n",
    "    offline_temp.append(len((maxpd.fuxi_job_name+maxpd.fuxi_task_name).unique())) # task_num\n",
    "    offline_temp.append(np.sum(maxpd.total_time * maxpd.fuxi_avg_cpu) / (9600 * 60)) # offline_cpu_pct\n",
    "    offline_temp.append(np.sum(maxpd.total_time * maxpd.fuxi_avg_mem) / (512*1024*60)) # offline_mem_pct\n",
    "    offline_temp.append(np.sum(maxpd.fuxi_avg_mem/maxpd.fuxi_avg_cpu*maxpd.mem_weight)) # score1\n",
    "    offline_temp.append(np.sum(maxpd.rate*maxpd.mem_weight)) # score2\n",
    "    offline_temp.append(np.sum(maxpd[maxpd.rate>=2].rate * maxpd[maxpd.rate>=2].mem_weight)) # mem_score\n",
    "    offline_temp.append(np.sum(maxpd[maxpd.rate<=0.5].rate * maxpd[maxpd.rate<=0.5].cpu_weight)) # cpu_score\n",
    "    offline_data.append(offline_temp)\n",
    "offline_data = np.asarray(offline_data)"
   ]
  },
  {
   "cell_type": "code",
   "execution_count": null,
   "id": "eba11dcb-99c9-46d7-9d80-85034e76a381",
   "metadata": {
    "tags": []
   },
   "outputs": [],
   "source": [
    "# columns = [\"total_cpu\", \"total_mem\", \"total_cpu_rank\", \"total_mem_rank\"]\n",
    "# for i in range(len(columns)):\n",
    "#     data[columns[i]] = offline_data[:, i]"
   ]
  },
  {
   "cell_type": "code",
   "execution_count": null,
   "id": "9789d249-dd81-4fbd-b44a-8569b4e2cbc2",
   "metadata": {
    "tags": []
   },
   "outputs": [],
   "source": [
    "rate = [[], [], [], []]\n",
    "for tmax in data.index.values:\n",
    "    maxpd = batch[~((batch.start_time>=tmax) | (batch.end_time<=tmax-60))]\n",
    "    if not maxpd.shape[0]:\n",
    "        continue\n",
    "    total_time = []\n",
    "    start = maxpd.start_time.values\n",
    "    end = maxpd.end_time.values\n",
    "    for i in range(maxpd.shape[0]):\n",
    "        if end[i] >= tmax and start[i] <= tmax-60:\n",
    "            total_time.append(60)\n",
    "        elif end[i] >= tmax and start[i] > tmax-60:\n",
    "            total_time.append(tmax-start[i])\n",
    "        elif end[i] < tmax and start[i] <= tmax-60:\n",
    "            total_time.append(end[i]-tmax+60)\n",
    "        else:\n",
    "            total_time.append(end[i]-start[i])\n",
    "    maxpd[\"total_time\"] = total_time\n",
    "    maxpd[\"cpu_weight\"] = maxpd[\"total_time\"] * maxpd[\"fuxi_avg_cpu\"] / np.sum(maxpd[\"total_time\"] * maxpd[\"fuxi_avg_cpu\"]) * 100\n",
    "    maxpd[\"mem_weight\"] = maxpd[\"total_time\"] * maxpd[\"fuxi_avg_mem\"] / np.sum(maxpd[\"total_time\"] * maxpd[\"fuxi_avg_mem\"]) * 100\n",
    "    maxpd[\"rate\"] = maxpd[\"mem_weight\"] / maxpd[\"cpu_weight\"]\n",
    "    task_name = maxpd.fuxi_task_name.values\n",
    "    r = maxpd.rate.values\n",
    "    for i in range(maxpd.shape[0]):\n",
    "        if task_name[i][0] == 'M' and task_name[i][1].isdigit():\n",
    "            rate[0].append(r[i])\n",
    "        elif task_name[i][0] == 'R' and task_name[i][1].isdigit():\n",
    "            rate[1].append(r[i])\n",
    "        elif task_name[i][0] == 'J' and task_name[i][1].isdigit():\n",
    "            rate[2].append(r[i])\n",
    "        else:\n",
    "            rate[3].append(r[i])\n"
   ]
  },
  {
   "cell_type": "code",
   "execution_count": null,
   "id": "e18a3449-f9be-4675-9318-5c713bdeae88",
   "metadata": {
    "tags": []
   },
   "outputs": [],
   "source": [
    "for i in range(len(rate)):\n",
    "    if np.isnan(rate[i]):\n",
    "        rate[i] = 0\n",
    "    elif np.isinf(rate[i]):\n",
    "        rate[i] = 0"
   ]
  },
  {
   "cell_type": "code",
   "execution_count": null,
   "id": "abfe44fa-3dc7-41cd-9e16-0b01a26c0f14",
   "metadata": {},
   "outputs": [],
   "source": [
    "y = plt.hist(rate, bins=50, range=(0, 5))[0]"
   ]
  },
  {
   "cell_type": "code",
   "execution_count": null,
   "id": "637a3305-7211-4602-86f5-fdca5909b660",
   "metadata": {},
   "outputs": [],
   "source": [
    "plt.scatter(np.arange(y.shape[0])/10, np.log(y))"
   ]
  },
  {
   "cell_type": "code",
   "execution_count": null,
   "id": "5df1311f-0345-42bc-899f-b383ca5edd58",
   "metadata": {
    "tags": []
   },
   "outputs": [],
   "source": [
    "# y = [[], [], [], []]\n",
    "# for r in range(len(rate)):\n",
    "y = plt.hist(rate[0], bins=50, range=(0, 5))[0]\n",
    "plt.show()\n",
    "plt.scatter(np.arange(y.shape[0])/10, np.log(y))\n",
    "plt.show()\n",
    "y = plt.hist(rate[1], bins=50, range=(0, 5))[0]\n",
    "plt.show()\n",
    "plt.scatter(np.arange(y.shape[0])/10, np.log(y))\n",
    "plt.show()\n",
    "y = plt.hist(rate[2], bins=50, range=(0, 5))[0]\n",
    "plt.show()\n",
    "plt.scatter(np.arange(y.shape[0])/10, np.log(y))\n",
    "plt.show()\n",
    "y = plt.hist(rate[3], bins=50, range=(0, 5))[0]\n",
    "plt.show()\n",
    "plt.scatter(np.arange(y.shape[0])/10, np.log(y))\n",
    "plt.show()"
   ]
  },
  {
   "cell_type": "code",
   "execution_count": null,
   "id": "617dd5dc-c88e-4db3-9606-cd417d3f2bbd",
   "metadata": {},
   "outputs": [],
   "source": [
    "mu = np.mean(rate)\n",
    "sigma = np.std(rate)\n",
    "print(mu, sigma)\n",
    "mu + sigma, mu - sigma"
   ]
  },
  {
   "cell_type": "code",
   "execution_count": null,
   "id": "760ee51b-e9b3-48b5-b640-4a5d8068c63d",
   "metadata": {},
   "outputs": [],
   "source": [
    "columns = [\"instance_num\", \"job_num\", \"task_num\", \"offline_cpu_pct\", \"offline_mem_pct\", \"score1\", \"score2\", \"mem_score\", \"cpu_score\"]\n",
    "for i in range(len(columns)):\n",
    "    data[columns[i]] = offline_data[:, i]"
   ]
  },
  {
   "cell_type": "code",
   "execution_count": null,
   "id": "f8c22d53-3122-4570-9c2e-3652481f9285",
   "metadata": {},
   "outputs": [],
   "source": [
    "data.tail(10)"
   ]
  },
  {
   "cell_type": "code",
   "execution_count": null,
   "id": "afb7b497-9496-4e6c-9827-3e9c3eb9e8fe",
   "metadata": {},
   "outputs": [],
   "source": [
    "tmax=1644385800\n",
    "tmin=1644386220"
   ]
  },
  {
   "cell_type": "code",
   "execution_count": null,
   "id": "225cdc69-d702-4170-baac-822b9bacf6ca",
   "metadata": {
    "tags": []
   },
   "outputs": [],
   "source": [
    "minpd = batch[~((batch.start_time>tmin) | (batch.end_time<tmin-60))]\n",
    "total_time = []\n",
    "start = minpd.start_time.values\n",
    "end = minpd.end_time.values\n",
    "for i in range(minpd.shape[0]):\n",
    "    if end[i] >= tmin and start[i] <= tmin-60:\n",
    "        total_time.append(60)\n",
    "    elif end[i] >= tmin and start[i] > tmin-60:\n",
    "        total_time.append(tmin-start[i])\n",
    "    elif end[i] < tmin and start[i] <= tmin-60:\n",
    "        total_time.append(end[i]-tmin+60)\n",
    "    else:\n",
    "        total_time.append(end[i]-start[i])\n",
    "minpd[\"total_time\"] = total_time\n",
    "minpd[\"cpu_weight\"] = minpd[\"total_time\"] * minpd[\"fuxi_avg_cpu\"] / np.sum(minpd[\"total_time\"] * minpd[\"fuxi_avg_cpu\"]) * 100\n",
    "minpd[\"mem_weight\"] = minpd[\"total_time\"] * minpd[\"fuxi_avg_mem\"] / np.sum(minpd[\"total_time\"] * minpd[\"fuxi_avg_mem\"]) * 100\n",
    "minpd[\"rate\"] = minpd[\"mem_weight\"] / minpd[\"cpu_weight\"]"
   ]
  },
  {
   "cell_type": "code",
   "execution_count": null,
   "id": "6f1d70cb-7574-4bb7-a231-47ab394d65ed",
   "metadata": {
    "tags": []
   },
   "outputs": [],
   "source": [
    "print(minpd.shape[0], len(minpd.fuxi_job_name.unique()), len((minpd.fuxi_job_name+minpd.fuxi_task_name).unique()))\n",
    "print(np.sum(minpd[\"total_time\"] * minpd[\"fuxi_avg_mem\"]) / (512*1024*60), np.sum(minpd.total_time * minpd.fuxi_avg_cpu) / (9600*60))\n",
    "print(np.sum(minpd.fuxi_avg_mem/minpd.fuxi_avg_cpu*minpd.mem_weight), np.sum(minpd.rate*minpd.mem_weight))\n",
    "print(\"mem socre: \", np.sum(minpd[minpd.rate>=2].rate * minpd[minpd.rate>=2].mem_weight))\n",
    "print(\"cpu socre: \", np.sum(minpd[minpd.rate<=0.5].rate * minpd[minpd.rate<=0.5].cpu_weight))\n",
    "minpd.sort_values(by=[\"start_time\"], ascending=False).head(50)"
   ]
  },
  {
   "cell_type": "code",
   "execution_count": null,
   "id": "1a93af24-52c1-42f1-973f-44f7435565f4",
   "metadata": {},
   "outputs": [],
   "source": []
  },
  {
   "cell_type": "code",
   "execution_count": null,
   "id": "60ee12fe-2e2e-42cd-a01e-6b05916be6ec",
   "metadata": {
    "tags": []
   },
   "outputs": [],
   "source": [
    "maxpd = batch[~((batch.start_time>tmax) | (batch.end_time<tmax-60))]\n",
    "total_time = []\n",
    "start = maxpd.start_time.values\n",
    "end = maxpd.end_time.values\n",
    "for i in range(maxpd.shape[0]):\n",
    "    if end[i] >= tmax and start[i] <= tmax-60:\n",
    "        total_time.append(60)\n",
    "    elif end[i] >= tmax and start[i] > tmax-60:\n",
    "        total_time.append(tmax-start[i])\n",
    "    elif end[i] < tmax and start[i] <= tmax-60:\n",
    "        total_time.append(end[i]-tmax+60)\n",
    "    else:\n",
    "        total_time.append(end[i]-start[i])\n",
    "maxpd[\"total_time\"] = total_time\n",
    "maxpd[\"cpu_weight\"] = maxpd[\"total_time\"] * maxpd[\"fuxi_avg_cpu\"] / np.sum(maxpd[\"total_time\"] * maxpd[\"fuxi_avg_cpu\"]) * 100\n",
    "maxpd[\"mem_weight\"] = maxpd[\"total_time\"] * maxpd[\"fuxi_avg_mem\"] / np.sum(maxpd[\"total_time\"] * maxpd[\"fuxi_avg_mem\"]) * 100\n",
    "maxpd[\"rate\"] = maxpd[\"mem_weight\"] / maxpd[\"cpu_weight\"]"
   ]
  },
  {
   "cell_type": "code",
   "execution_count": null,
   "id": "f0468aea-8263-4ebc-ae45-d28067d7a0fb",
   "metadata": {},
   "outputs": [],
   "source": [
    "print(maxpd.shape[0], len(maxpd.fuxi_job_name.unique()), len((maxpd.fuxi_job_name+maxpd.fuxi_task_name).unique()))\n",
    "print(np.sum(maxpd[\"total_time\"] * maxpd[\"fuxi_avg_mem\"]) / (512*1024*60), np.sum(maxpd.total_time * maxpd.fuxi_avg_cpu) / (9600 * 60))\n",
    "print(np.sum(maxpd.fuxi_avg_mem/maxpd.fuxi_avg_cpu*maxpd.mem_weight), np.sum(maxpd.rate*maxpd.mem_weight))\n",
    "print(\"mem socre: \", np.sum(maxpd[maxpd.rate>=2].rate * maxpd[maxpd.rate>=2].mem_weight))\n",
    "print(\"cpu socre: \", np.sum(maxpd[maxpd.rate<=0.5].rate * maxpd[maxpd.rate<=0.5].cpu_weight))\n",
    "maxpd.sort_values(by=[\"mem_weight\"], ascending=False).head(50)"
   ]
  },
  {
   "cell_type": "code",
   "execution_count": null,
   "id": "433f7119-4b49-4ae5-a80d-cf9570a00ef6",
   "metadata": {},
   "outputs": [],
   "source": [
    "plt.figure(figsize=(10, 8))\n",
    "X, y = [[], [], [], []], [[], [], [], []]\n",
    "task_name = minpd.fuxi_task_name.values\n",
    "cpu_weight = minpd.cpu_weight.values\n",
    "mem_weight = minpd.mem_weight.values\n",
    "for i in range(minpd.shape[0]):\n",
    "    if task_name[i][0] == 'M' and task_name[i][1].isdigit():\n",
    "        X[0].append(cpu_weight[i])\n",
    "        y[0].append(mem_weight[i])\n",
    "    elif task_name[i][0] == 'R' and task_name[i][1].isdigit():\n",
    "        X[1].append(cpu_weight[i])\n",
    "        y[1].append(mem_weight[i])\n",
    "    elif task_name[i][0] == 'J' and task_name[i][1].isdigit():\n",
    "        X[2].append(cpu_weight[i])\n",
    "        y[2].append(mem_weight[i])\n",
    "    else:\n",
    "        X[3].append(cpu_weight[i])\n",
    "        y[3].append(mem_weight[i])\n",
    "for i, m in zip(range(4), ['*', '+', 'x', 'o']):\n",
    "    plt.scatter(X[i], y[i], marker=m, c=\"blue\")\n",
    "\n",
    "X, y = [[], [], [], []], [[], [], [], []]\n",
    "task_name = maxpd.fuxi_task_name.values\n",
    "cpu_weight = maxpd.cpu_weight.values\n",
    "mem_weight = maxpd.mem_weight.values\n",
    "for i in range(maxpd.shape[0]):\n",
    "    if task_name[i][0] == 'M' and task_name[i][1].isdigit():\n",
    "        X[0].append(cpu_weight[i])\n",
    "        y[0].append(mem_weight[i])\n",
    "    elif task_name[i][0] == 'R' and task_name[i][1].isdigit():\n",
    "        X[1].append(cpu_weight[i])\n",
    "        y[1].append(mem_weight[i])\n",
    "    elif task_name[i][0] == 'J' and task_name[i][1].isdigit():\n",
    "        X[2].append(cpu_weight[i])\n",
    "        y[2].append(mem_weight[i])\n",
    "    else:\n",
    "        X[3].append(cpu_weight[i])\n",
    "        y[3].append(mem_weight[i])\n",
    "for i, m in zip(range(4), ['*', '+', 'x', 'o']):\n",
    "    plt.scatter(X[i], y[i], marker=m, c=\"red\")\n",
    "    \n",
    "plt.xlabel(\"CPU%\", fontsize=12)\n",
    "plt.ylabel(\"MEM%\", fontsize=12)\n",
    "plt.xticks(fontsize=12)\n",
    "plt.yticks(fontsize=12)\n",
    "plt.legend([\"M\", \"R\", \"J\", \"Min\", \"M\", \"R\", \"J\", \"Max\"], ncol=8, fontsize=12, loc=\"upper left\")"
   ]
  }
 ],
 "metadata": {
  "kernelspec": {
   "display_name": "Python 3 (ipykernel)",
   "language": "python",
   "name": "python3"
  },
  "language_info": {
   "codemirror_mode": {
    "name": "ipython",
    "version": 3
   },
   "file_extension": ".py",
   "mimetype": "text/x-python",
   "name": "python",
   "nbconvert_exporter": "python",
   "pygments_lexer": "ipython3",
   "version": "3.8.8"
  }
 },
 "nbformat": 4,
 "nbformat_minor": 5
}
