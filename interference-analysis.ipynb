{
 "cells": [
  {
   "cell_type": "markdown",
   "id": "ee459a6f-cd61-4f0c-83b0-cfb62d9fa692",
   "metadata": {},
   "source": [
    "## 混部集群性能分析\n",
    "    混部：在线电商+离线ODPS作业\n",
    "    \n",
    "    在线电商：容器化/JAVA应用等，数量好几万\n",
    "    离线ODPS作业：每天几十万-几百万作业\n",
    "    \n",
    "    \n",
    "    本脚本为一个集群（AY49C）的混部性能数据"
   ]
  },
  {
   "cell_type": "code",
   "execution_count": null,
   "id": "25af3d87-3517-4728-a8e6-e2e670c7d184",
   "metadata": {},
   "outputs": [],
   "source": [
    "import pandas as pd\n",
    "import numpy as np\n",
    "import os\n",
    "import sys\n",
    "import time\n",
    "%matplotlib inline\n",
    "import matplotlib.pyplot as plt\n",
    "\n",
    "sys.path.append(\"../../../\")\n",
    "\n",
    "pd.options.display.max_rows = 999\n",
    "pd.options.display.max_columns = 999\n",
    "pd.set_option('max_colwidth',4000)\n",
    "pd.options.display.expand_frame_repr = False\n",
    "\n",
    "%load_ext autoreload\n",
    "%autoreload 2\n",
    "\n"
   ]
  },
  {
   "cell_type": "code",
   "execution_count": null,
   "id": "cad982ac-080b-4c92-b64e-af5c7c2a5a32",
   "metadata": {},
   "outputs": [],
   "source": [
    "from pets.core.data_loader.res_eff.data_source import get_vm_pdf, get_nc_pdf\n",
    "from pets.core.data_loader.walle.data_source import get_walle_odps_host_cpu_util, get_walle_online_offline_cpu_util, get_walle_odps_container_cpu_util\n",
    "import pets.core.data_loader.sunfire.data_source as sunfire\n",
    "import pets.core.data_loader.kmon.data_source as kmon\n",
    "import pets.core.data_loader.fuxi.data_source as fuxi"
   ]
  },
  {
   "cell_type": "code",
   "execution_count": null,
   "id": "e6faf83b-3d81-4603-8149-603f4b7a5b52",
   "metadata": {},
   "outputs": [],
   "source": [
    "def trans(data):\n",
    "#     print(np.std(data))\n",
    "    return (data - np.mean(data)) / np.std(data)"
   ]
  },
  {
   "cell_type": "code",
   "execution_count": null,
   "id": "fbf5e334-5e0c-4621-9856-86a784813a62",
   "metadata": {
    "tags": []
   },
   "outputs": [],
   "source": [
    "machine = pd.read_csv(\"/data/zkp/m2.csv\")"
   ]
  },
  {
   "cell_type": "code",
   "execution_count": null,
   "id": "9af41f96-13cf-42d0-aa54-c00c0387d1f2",
   "metadata": {},
   "outputs": [],
   "source": []
  },
  {
   "cell_type": "code",
   "execution_count": null,
   "id": "d1ac482d-0fdb-4dd4-8383-418b6793615a",
   "metadata": {},
   "outputs": [],
   "source": [
    "instance = pd.read_csv(\"/data/zkp/m2_instance.csv\")\n",
    "instance.fillna(100, inplace=True)"
   ]
  },
  {
   "cell_type": "code",
   "execution_count": null,
   "id": "df6d6ee9-a139-4e2b-b64e-97e399ef6860",
   "metadata": {},
   "outputs": [],
   "source": [
    "instance.shape"
   ]
  },
  {
   "cell_type": "code",
   "execution_count": null,
   "id": "441fdabe-631e-44ae-8928-3455b070fccd",
   "metadata": {},
   "outputs": [],
   "source": [
    "ins_start = instance.start_time.values\n",
    "ins_end = instance.end_time.values\n",
    "ins_usage = instance.fuxi_avg_cpu.values * instance.total_time_seconds.values\n",
    "ins_avg_usage = instance.fuxi_avg_cpu.values"
   ]
  },
  {
   "cell_type": "code",
   "execution_count": null,
   "id": "11c39053-0a92-4a46-a058-8be178419bcd",
   "metadata": {},
   "outputs": [],
   "source": [
    "ins_data = [0 for i in range(np.max(ins_end) - np.min(ins_start))]\n",
    "ins_data_degra = [0 for i in range(np.max(ins_end) - np.min(ins_start))]        \n",
    "ins_data_hour = [0 for i in range(4319)]\n",
    "\n",
    "for i in range(ins_start.shape[0]):\n",
    "    for k in range(ins_end[i] - ins_start[i]):\n",
    "        ins_data_degra[ins_start[i] - ins_start[0] + k] += ins_avg_usage[i]\n",
    "        ins_data[ins_start[i] - ins_start[0] + k] += (ins_usage[i])\n",
    "        \n",
    "        \n",
    "# for i in range(ins_start.shape[0]):\n",
    "#     for k in range(int((ins_end[i] - ins_start[i]) / 60)+1):\n",
    "#         index = int((ins_start[i] - 1645027200) / 60) + k\n",
    "#         if index >= 0 and index < 4319:\n",
    "#             ins_data_hour[index] += (ins_avg_usage[i])"
   ]
  },
  {
   "cell_type": "code",
   "execution_count": null,
   "id": "885c0e3e-c377-4687-bae8-a75c3305d0fc",
   "metadata": {},
   "outputs": [],
   "source": [
    "plt.plot(range(4319), ins_data_hour)"
   ]
  },
  {
   "cell_type": "code",
   "execution_count": null,
   "id": "51d784d9-f426-436d-91c0-fce2e3de234b",
   "metadata": {},
   "outputs": [],
   "source": [
    "service = pd.read_csv(\"/data/zkp/m2_service.csv\")\n",
    "ip = service.container_ip.unique()\n",
    "for i in ip:\n",
    "    temp = service[service.container_ip == i]\n",
    "    if not np.isnan(temp.rt__ms_Q.values[0]) and not np.isnan(temp.rt__ms_Q.values[2]):\n",
    "        print(\"\\\"\" + str(i) + \"\\\"\", end=', ')"
   ]
  },
  {
   "cell_type": "code",
   "execution_count": null,
   "id": "4e3862d3-5276-462f-9eaf-24de7208b392",
   "metadata": {},
   "outputs": [],
   "source": [
    "LSR_ip = [\"33.42.152.29\", \"33.43.231.95\", \"33.61.106.132\"]"
   ]
  },
  {
   "cell_type": "code",
   "execution_count": null,
   "id": "56b578f1-8a54-426e-8d38-c030bcac17e1",
   "metadata": {},
   "outputs": [],
   "source": [
    "service = pd.read_csv(\"/data/zkp/m2_service.csv\")\n",
    "service.fillna(0, inplace=True)\n",
    "target_ip = [\"33.4.61.113\", \"33.43.48.112\", \"33.43.51.85\", \"33.43.77.121\"]"
   ]
  },
  {
   "cell_type": "code",
   "execution_count": null,
   "id": "43c83af6-aed9-48a3-98ab-5d31d8ccd96d",
   "metadata": {
    "tags": []
   },
   "outputs": [],
   "source": [
    "for ip in target_ip:\n",
    "    temp = service[service.container_ip==ip]\n",
    "    http = temp[temp.throughput_type==\"HTTP\"].qps__Q_s.values\n",
    "    hsf = temp[temp.throughput_type==\"HSF\"].qps__Q_s.values\n",
    "#     print(np.bincount(np.isnan(hsf)))\n",
    "    hsf_c = temp[temp.throughput_type==\"HSF_Consumer\"].qps__Q_s.values\n",
    "    cpu = temp[temp.throughput_type==\"HTTP\"].cpu_util__pct.values\n",
    "    print(ip)\n",
    "    plt.figure(figsize=(20, 8))\n",
    "#     plt.plot(range(http.shape[0]), cpu)\n",
    "    plt.plot(range(http.shape[0]), http)\n",
    "#     plt.plot(range(hsf.shape[0]), hsf)\n",
    "#     plt.plot(range(hsf_c.shape[0]), hsf_c)\n",
    "    \n",
    "#     plt.yscale(\"log\")\n",
    "#     plt.plot(range(hsf.shape[0]), trans(temp[temp.throughput_type==\"HTTP\"].cpu_util__pct))\n",
    "    plt.show()"
   ]
  },
  {
   "cell_type": "code",
   "execution_count": null,
   "id": "61f1b6d0-7a21-40e8-800b-ef64b4c8e1b3",
   "metadata": {},
   "outputs": [],
   "source": [
    "plt.figure(figsize=(20, 8))\n",
    "for ip in [target_ip[1], target_ip[2], target_ip[13]]:\n",
    "    temp = service[service.container_ip==ip]\n",
    "    temp = temp[temp.throughput_type==\"HTTP\"]\n",
    "    y = temp.rt__ms_Q / temp.qps__Q_s\n",
    "    plt.plot(range(temp.shape[0]), (y - np.mean(y)) / np.std(y))"
   ]
  },
  {
   "cell_type": "code",
   "execution_count": null,
   "id": "10efe637-fbdf-415a-8947-51dd222a6d90",
   "metadata": {
    "tags": []
   },
   "outputs": [],
   "source": [
    "# plt.figure(figsize=(20, 15))\n",
    "# plt.plot(range(np.min(ins_start), np.max(ins_end), 10), trans(ins_data[::10]))\n",
    "# plt.plot(range(np.min(ins_start), np.max(ins_end), 500), trans(ins_data_degra[::500]))\n",
    "\n",
    "\n",
    "test_service = service[service.container_ip==LSR_ip[2]]\n",
    "test_http = test_service[test_service.throughput_type==\"HTTP\"]\n",
    "test_hsf = test_service[test_service.throughput_type==\"HSF\"]\n",
    "test_hsf_c = test_service[test_service.throughput_type==\"HSF_Consumer\"]\n",
    "test_timestamp = test_http.sample_time__m.apply(lambda x:time.mktime(time.strptime(x, \"%Y-%m-%d %H:%M:%S\"))).values\n",
    "print(test_timestamp[0], test_timestamp[-1])\n",
    "# test = test_http.qps__Q_s.values * test_http.rt__ms_Q.values + test_hsf.qps__Q_s.values * test_hsf.rt__ms_Q.values + test_hsf_c.qps__Q_s.values * test_hsf_c.rt__ms_Q.values\n",
    "# plt.plot(test_timestamp[::10], trans(test[::10]))\n",
    "# plt.plot(test_timestamp[::10], trans((test_hsf.rt__ms_Q)[::10]))\n",
    "# plt.plot(test_timestamp[::10], trans(test_http.cpu_util__pct[::10]))\n",
    "# test_rt = test_hsf.rt__ms_Q.values\n",
    "# test_qps = np.exp(test_hsf.qps__Q_s.values)\n",
    "# plt.plot(test_timestamp, trans(test_rt / test_qps))\n",
    "# plt.plot(test_timestamp[::10], trans(test_http.qps__Q_s.values[::10] / test_http.cpu_util__pct.values[::10]))\n",
    "# plt.plot(test_timestamp[::10], trans((test_http.qps__Q_s.values * test_http.rt__ms_Q.values)[::10] / test_hsf.cpu_util__pct[::10]))\n",
    "# plt.plot(test_timestamp[::1], trans(test_http.rt__ms_Q.values[::1]))\n",
    "# print(np.corrcoef(test, machine.cpu_util__pct.values))\n",
    "# plt.plot(machine.sample_time.values[::10], trans(machine.cpu_util__pct.values[::10]))\n",
    "print(machine.sample_time.values[0], machine.sample_time.values[-1])\n",
    "# plt.xlim(1.644e9+150000, 1.644e9+250000)\n",
    "# plt.ylim(0, 5)\n"
   ]
  },
  {
   "cell_type": "code",
   "execution_count": null,
   "id": "11749c28-2e83-4bb9-ad91-f601e4863519",
   "metadata": {},
   "outputs": [],
   "source": [
    "nc_cpu = machine.cpu_util__pct.values\n",
    "nc_time = machine.sample_time.values\n",
    "new_nc_cpu = []\n",
    "cur_time = 1645027200\n",
    "for i in range(len(nc_time)):\n",
    "    if nc_time[i] > cur_time:\n",
    "        new_nc_cpu.append(nc_cpu[i])\n",
    "        cur_time += 60\n",
    "    if nc_time[i] == cur_time:\n",
    "        new_nc_cpu.append(nc_cpu[i])\n",
    "        cur_time += 60\n",
    "plt.plot(range(len(new_nc_cpu)), new_nc_cpu)\n",
    "new_nc_cpu = np.asarray(new_nc_cpu[:-1])"
   ]
  },
  {
   "cell_type": "code",
   "execution_count": null,
   "id": "0b509249-0250-42c8-ab6f-83e3c66ccc3c",
   "metadata": {},
   "outputs": [],
   "source": [
    "qps1 = test_http.qps__Q_s.values\n",
    "qps2 = test_hsf.qps__Q_s.values\n",
    "qps3 = test_hsf_c.qps__Q_s.values\n",
    "ins = np.asarray(ins_data_hour)\n",
    "# rt1 = test_http.rt__ms_Q.values\n",
    "# rt2 = test_hsf.rt__ms_Q.values\n",
    "# rt3 = test_hsf_c.rt__ms_Q.values\n",
    "X_data = np.asarray([qps1, qps2, qps3, new_nc_cpu]).T\n",
    "print(X_data.shape)\n",
    "y_data = test_http.cpu_util__pct.values\n",
    "model = LinearRegression()\n",
    "model.fit(X_data, y_data)\n",
    "print(model.score(X_data, y_data))\n",
    "print(model.coef_, model.intercept_)"
   ]
  },
  {
   "cell_type": "code",
   "execution_count": null,
   "id": "6f53d808-1f1c-4af8-b745-f820326a8215",
   "metadata": {},
   "outputs": [],
   "source": [
    "predict = model.predict(X_data)\n",
    "I_B = []\n",
    "for i in range(ins.shape[0]):\n",
    "    I_B.append((y_data[i] - predict[i]) / ins[i] if ins[i] != 0 else 0)\n",
    "I_B = np.asarray(I_B)\n",
    "I_B"
   ]
  },
  {
   "cell_type": "code",
   "execution_count": null,
   "id": "51750123-4c05-415c-9ee9-892062a0f439",
   "metadata": {},
   "outputs": [],
   "source": [
    "# I_B = (I_B - np.min(I_B)) / (np.max(I_B) - np.min(I_B))"
   ]
  },
  {
   "cell_type": "code",
   "execution_count": null,
   "id": "c7739049-11bf-4913-9e42-486731b450fb",
   "metadata": {},
   "outputs": [],
   "source": [
    "rt1 = test_http.rt__ms_Q.values\n",
    "rt2 = test_hsf.rt__ms_Q.values\n",
    "rt3 = test_hsf_c.rt__ms_Q.values\n",
    "print(rt1.shape, rt1, rt2, rt3)"
   ]
  },
  {
   "cell_type": "code",
   "execution_count": null,
   "id": "af00c70d-027e-4fb5-bbc7-ee4d20a7bd7c",
   "metadata": {},
   "outputs": [],
   "source": [
    "def CDFy(data):\n",
    "    y = 100. * np.arange(len(data))/(len(data)-1)\n",
    "    return y"
   ]
  },
  {
   "cell_type": "code",
   "execution_count": null,
   "id": "3ee8ab39-34b9-46a4-8d5c-e0ca63c46231",
   "metadata": {},
   "outputs": [],
   "source": [
    "plt.figure(figsize=(20, 8))\n",
    "plt.plot(range(I_B.shape[0]), I_B)\n",
    "print(np.percentile(I_B, 95), np.percentile(I_B, 5))"
   ]
  },
  {
   "cell_type": "code",
   "execution_count": null,
   "id": "cd6e8e0c-c48e-4cce-b820-c96c4523e396",
   "metadata": {},
   "outputs": [],
   "source": [
    "low = []\n",
    "high = []\n",
    "for i in range(I_B.shape[0]):\n",
    "    if I_B[i] > np.percentile(I_B, 80):\n",
    "        high.append(rt2[i])\n",
    "    elif I_B[i] <= np.percentile(I_B, 20):\n",
    "        low.append(rt2[i])\n",
    "high = sorted(high)\n",
    "low = sorted(low)\n",
    "plt.figure(figsize=(10, 8))\n",
    "plt.plot(low, CDFy(low))\n",
    "plt.plot(high, CDFy(high))"
   ]
  },
  {
   "cell_type": "code",
   "execution_count": null,
   "id": "e5d4a104-27e8-4493-a39a-3ef56fde2b5c",
   "metadata": {},
   "outputs": [],
   "source": [
    "mp = {}\n",
    "for i in range(test_timestamp.shape[0]):\n",
    "    if test_timestamp[i] not in mp:\n",
    "        mp[test_timestamp[i]] = []\n",
    "    mp[test_timestamp[i]].append(test[i])\n",
    "    mp[test_timestamp[i]].append(test_http.cpu_util__pct.values[i])\n",
    "for i in range(machine.shape[0]):\n",
    "    if machine.sample_time.values[i] in mp:\n",
    "        mp[machine.sample_time.values[i]].append(machine.cpu_util__pct.values[i])"
   ]
  },
  {
   "cell_type": "code",
   "execution_count": null,
   "id": "7b746ace-a157-4774-b162-47a58ee7ea34",
   "metadata": {},
   "outputs": [],
   "source": [
    "data = []\n",
    "data_time = []\n",
    "for key in mp:\n",
    "    if len(mp[key]) == 3:\n",
    "        data.append(mp[key])\n",
    "        data_time.append(key)\n",
    "data = np.asarray(data)\n",
    "data_time = np.asarray(data_time)"
   ]
  },
  {
   "cell_type": "markdown",
   "id": "572522bc-a9af-4be7-ac1a-369677546559",
   "metadata": {},
   "source": [
    "LOAD, CU, MU"
   ]
  },
  {
   "cell_type": "code",
   "execution_count": null,
   "id": "757f8ef7-432a-4908-91c2-2061c9f611d4",
   "metadata": {},
   "outputs": [],
   "source": [
    "from sklearn.linear_model import LinearRegression\n",
    "from sklearn.model_selection import train_test_split\n",
    "model = LinearRegression()\n",
    "X_data = data[:, 1:3]\n",
    "y_data = data[:, 0]\n",
    "X_train, X_test, y_train, y_test = train_test_split(X_data, y_data, test_size=0.2)\n",
    "model.fit(X_train, y_train)\n",
    "y_predict = model.predict(X_test)\n",
    "plt.figure(figsize=(20, 8))\n",
    "print(model.score(X_train, y_train))\n",
    "print(model.score(X_test, y_test))\n",
    "plt.scatter(y_test, y_predict)\n",
    "print(model.coef_, model.intercept_)\n",
    "# plt.xlabel(\"{:.1f} * MU {:.1f} * CU {:.1f}\".format(model.coef_[0], model.coef_[1], model.intercept_), fontsize=15)\n",
    "# plt.ylabel(\"LOAD\", fontsize=15)"
   ]
  },
  {
   "cell_type": "code",
   "execution_count": null,
   "id": "c01730dc-af8e-4b2d-84ab-e82aa52598a2",
   "metadata": {},
   "outputs": [],
   "source": []
  },
  {
   "cell_type": "code",
   "execution_count": null,
   "id": "1b18fb79-18cb-4005-aa72-6d378c5dff91",
   "metadata": {},
   "outputs": [],
   "source": [
    "data_pre = model.predict(X_data)\n",
    "error = []\n",
    "for i in range(data_pre.shape[0]):\n",
    "    if y_data[i]:\n",
    "        error.append(abs(y_data[i] - data_pre[i]) / y_data[i])\n",
    "    else:\n",
    "        error.append(1)\n",
    "# error = sorted(error)\n",
    "# for i in range(len(error)):\n",
    "#     if error[i] > 0.2:\n",
    "#         print(i/len(error))\n",
    "#         break\n"
   ]
  },
  {
   "cell_type": "code",
   "execution_count": null,
   "id": "5aa792f6-b25e-4674-85c0-628cca065a01",
   "metadata": {},
   "outputs": [],
   "source": [
    "plt.figure(figsize=(20, 8))\n",
    "plt.plot(range(np.min(ins_start), np.max(ins_end)), np.asarray(ins_data)/1e5)\n",
    "# plt.plot(test_timestamp[::10], trans((test_http.cpu_util__pct)[::10]))\n",
    "plt.plot(machine.sample_time.values[::20], machine.cpu_util__pct.values[::20])\n",
    "# plt.plot(test_timestamp[::10], trans(test_hsf.qps__Q_s.values[::10]))\n",
    "plt.vlines(1645027200+86400*2, ymin=-10, ymax=90, colors=\"red\")\n",
    "plt.vlines(1645027200+86400, ymin=-10, ymax=90, colors=\"red\")\n",
    "# plt.plot(data_time, error)\n",
    "plt.ylim(-10, 90)\n",
    "plt.xlabel(\"time\", fontsize=15)\n",
    "plt.ylabel(\"CPU\", fontsize=15)\n",
    "plt.legend([\"batch usage(1e5)\", \"machine CPU\"], fontsize=15)"
   ]
  },
  {
   "cell_type": "code",
   "execution_count": null,
   "id": "7aaa06a1-9c48-4f1a-9be9-f54d18763073",
   "metadata": {},
   "outputs": [],
   "source": [
    "### 离线作业性能数据\n",
    "    ay49c_tubo_server 为离线分组"
   ]
  },
  {
   "cell_type": "code",
   "execution_count": null,
   "id": "c246af04-62a8-4ff8-b8ae-7a8f6a4dbbee",
   "metadata": {},
   "outputs": [],
   "source": [
    "plt.plot(range(np.min(ins_start), np.max(ins_end)), ins_data)\n",
    "# plt.plot(range(np.min(ins_start), np.max(ins_end)), ins_data_degra)\n",
    "print(np.corrcoef(ins_data, ins_data_degra))"
   ]
  },
  {
   "cell_type": "code",
   "execution_count": null,
   "id": "fc6e3237-f353-4e2c-a2c3-58c7d9ebd90c",
   "metadata": {},
   "outputs": [],
   "source": [
    "lsmachine = pd.read_csv(\"./lsmachine.csv\")\n",
    "lsmachine.fillna(0, inplace=True)\n",
    "lsservice = pd.read_csv(\"./lsservice.csv\")\n",
    "lsservice.fillna(0, inplace=True)\n",
    "target_machine = [\"i-8vbb15063hgwnnj72thh\", \"i-8vb9ul5xec4svv1bv1h0\", \"i-8vb4p5hyvakr5me0hij1\", \"i-8vb9qrifimm00x67wj12\", \"i-8vbcaknvxr6wbba8tlsu\", \"i-8vb2t1xpt6kzgz2brw9h\", \"i-8vb13matvy02bw36lch3\", \"i-8vb9bx27cup4tevcgur7\", \"i-8vbf565jz2vjsriw73ke\", \"i-8vb19vzmoywz7xqtuvdz\"]\n",
    "ma_meta = pd.read_csv(\"./pod_meta.csv\")"
   ]
  },
  {
   "cell_type": "code",
   "execution_count": null,
   "id": "df2ad9b5-c805-4308-b610-69092b25d1ca",
   "metadata": {},
   "outputs": [],
   "source": [
    "# ma_meta.groupby(by=ma_meta.nc_sn).agg(\"count\").sort_values(by=[\"container_ip\"])\n",
    "ma_meta[ma_meta.nc_sn.isin(target_machine)].groupby(by=ma_meta.nc_sn).cpu_set_mode.value_counts()"
   ]
  },
  {
   "cell_type": "code",
   "execution_count": null,
   "id": "9befe9e3-1b1c-4128-be70-cbcf79607c2c",
   "metadata": {},
   "outputs": [],
   "source": [
    "for sn in target_machine:\n",
    "    machine = lsmachine[lsmachine.nc_sn==sn]\n",
    "    nc_cpu = machine.cpu_util__pct.values\n",
    "    nc_time = machine.sample_time.values\n",
    "    new_nc_cpu = []\n",
    "    cur_time = 1644120000\n",
    "    for i in range(len(nc_time)):\n",
    "        if nc_time[i] > cur_time:\n",
    "            new_nc_cpu.append(nc_cpu[i])\n",
    "            cur_time += 60\n",
    "        if nc_time[i] == cur_time:\n",
    "            new_nc_cpu.append(nc_cpu[i])\n",
    "            cur_time += 60\n",
    "    if len(new_nc_cpu) != 61: \n",
    "        continue\n",
    "#     plt.plot(range(0, len(new_nc_cpu)*2, 2), new_nc_cpu)\n",
    "#     plt.plot(range(nc_cpu.shape[0]), nc_cpu)\n",
    "#     plt.show()\n",
    "    new_nc_cpu = np.asarray(new_nc_cpu)\n",
    "    temp = ma_meta[ma_meta.nc_sn==sn]\n",
    "    target_ip = temp[temp.qos_class==\"LS\"].container_ip.unique().tolist()\n",
    "#     print(target_ip)\n",
    "    for ip in target_ip:\n",
    "        test_service = lsservice[lsservice.container_ip==ip]\n",
    "        test_http = test_service[test_service.throughput_type==\"HTTP\"]\n",
    "        test_hsf = test_service[test_service.throughput_type==\"HSF\"]\n",
    "        test_hsf_c = test_service[test_service.throughput_type==\"HSF_Consumer\"]\n",
    "        test_timestamp = test_http.sample_time__m.apply(lambda x:time.mktime(time.strptime(x, \"%Y-%m-%d %H:%M:%S\"))).values\n",
    "        qps1 = test_http.qps__Q_s.values\n",
    "        qps2 = test_hsf.qps__Q_s.values\n",
    "        qps3 = test_hsf_c.qps__Q_s.values\n",
    "        rt1 = test_http.rt__ms_Q.values\n",
    "        rt2 = test_hsf.rt__ms_Q.values\n",
    "        rt3 = test_hsf_c.rt__ms_Q.values\n",
    "        test_cpu = test_http.cpu_util__pct.values\n",
    "        if ip == \"33.3.227.61\":\n",
    "            plt.plot(nc_time, trans(nc_cpu))\n",
    "            print(test_cpu)\n",
    "            plt.plot(test_timestamp, trans(test_cpu))\n",
    "            plt.show()\n",
    "#         plt.scatter(rt2, np.exp(test_cpu))\n",
    "#         plt.show()\n",
    "#         print(np.corrcoef(new_nc_cpu, qps2 / test_http.cpu_util__pct))\n",
    "#         plt.show()\n",
    "#         X_data = np.asarray([qps1*rt1, qps2*rt2, qps3*rt3]).T\n",
    "#         if X_data.shape[0] != 61:\n",
    "#             continue\n",
    "#         y_data = test_cpu\n",
    "#         model = LinearRegression()\n",
    "#         model.fit(X_data, y_data)\n",
    "#         print(model.score(X_data, y_data), end=',')\n",
    "#         print(model.coef_, end=',')\n",
    "#         print(np.mean(y_data))\n"
   ]
  }
 ],
 "metadata": {
  "kernelspec": {
   "display_name": "Python 3 (ipykernel)",
   "language": "python",
   "name": "python3"
  },
  "language_info": {
   "codemirror_mode": {
    "name": "ipython",
    "version": 3
   },
   "file_extension": ".py",
   "mimetype": "text/x-python",
   "name": "python",
   "nbconvert_exporter": "python",
   "pygments_lexer": "ipython3",
   "version": "3.8.8"
  }
 },
 "nbformat": 4,
 "nbformat_minor": 5
}
