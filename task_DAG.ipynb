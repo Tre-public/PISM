{
 "cells": [
  {
   "cell_type": "code",
   "execution_count": null,
   "id": "9462308e-71ca-4f0f-bf4f-49d5d571c14a",
   "metadata": {},
   "outputs": [],
   "source": [
    "import pandas as pd\n",
    "import numpy as np\n",
    "import matplotlib.pyplot as plt\n",
    "from sklearn.preprocessing import LabelEncoder\n",
    "from sklearn.ensemble import RandomForestClassifier\n",
    "from sklearn.model_selection import train_test_split"
   ]
  },
  {
   "cell_type": "code",
   "execution_count": null,
   "id": "338c3301-cfb4-4d03-b033-44a56d34753b",
   "metadata": {},
   "outputs": [],
   "source": [
    "from grakel.graph import Graph"
   ]
  },
  {
   "cell_type": "code",
   "execution_count": null,
   "id": "23116396-6f0a-43cc-904b-c9b7a63d4f84",
   "metadata": {},
   "outputs": [],
   "source": [
    "def job_to_graph(s, task_num):\n",
    "    temp = \"\"\n",
    "    for i in s:\n",
    "        if i != 'J' and i != 'M' and i != 'R':\n",
    "            temp += i\n",
    "        else:\n",
    "            temp += '#'+i\n",
    "    task = temp.split('#')[1:]\n",
    "    if len(task) != task_num:\n",
    "        return {}, {}\n",
    "    st = set(i for i in range(1, task_num+1))\n",
    "    task = sorted(task, key=lambda x:int(x[1:x.find('_') if x.find('_') != -1 else len(x)]))\n",
    "    edges = {}\n",
    "    node_labels = {}\n",
    "    try:\n",
    "        for t in task:\n",
    "            temp = t.split('_')\n",
    "            key = int(temp[0][1:])\n",
    "            value = list(map(int, temp[1:]))\n",
    "            for i in value:\n",
    "                if i not in st:\n",
    "                    return {}, {}\n",
    "                if i not in edges:\n",
    "                    edges[i] = []\n",
    "                edges[i].append(key)\n",
    "            if key not in st:\n",
    "                return {}, {}\n",
    "            node_labels[key] = temp[0][0]\n",
    "        if len(node_labels) != task_num:\n",
    "            return {}, {}\n",
    "    except:\n",
    "        return {}, {}\n",
    "        \n",
    "    return edges, node_labels\n",
    "        \n"
   ]
  },
  {
   "cell_type": "code",
   "execution_count": null,
   "id": "52a80945-b94b-4b21-bedb-cb2b32012e99",
   "metadata": {},
   "outputs": [],
   "source": [
    "file = pd.read_csv(\"/data/zkp/taskDAG/job0.csv\")\n",
    "file = file[file.odps_task_type.isin([\"SQL\"])]\n",
    "file.columns"
   ]
  },
  {
   "cell_type": "code",
   "execution_count": null,
   "id": "b0c7b0c7-5389-4284-95c5-313da3a7b1f0",
   "metadata": {},
   "outputs": [],
   "source": [
    "for i in range(1, 10):\n",
    "    read_file = pd.read_csv(\"/data/zkp/taskDAG/job\"+str(i)+\".csv\")\n",
    "    file = pd.concat([file, read_file[read_file.odps_task_type.isin([\"SQL\"])]])\n",
    "    "
   ]
  },
  {
   "cell_type": "code",
   "execution_count": null,
   "id": "809cfd84-0670-4a6f-a8c3-4812dbfb7da0",
   "metadata": {
    "tags": []
   },
   "outputs": [],
   "source": [
    "file[(file.fuxi_task_name==\"J8_2_7M1M3M6M7_5_6R10_9R11_10R2_1R4_3R5_4R9_8\")].T\n",
    "# file[file.fuxi_task_name.str.len()==45].fuxi_task_name.unique()"
   ]
  },
  {
   "cell_type": "code",
   "execution_count": null,
   "id": "1ef17858-4227-4e5b-b3be-d4153dec6795",
   "metadata": {
    "tags": []
   },
   "outputs": [],
   "source": [
    "# ins = pd.read_csv(\"/data/zkp/instance1hour.csv\")\n",
    "# ins.project_name.value_counts().head(10)\n",
    "# ins.project_name.value_counts().head(50)\n",
    "ins[ins.project_name==\"aliyun_searchlog\"].fuxi_job_name.unique().shape"
   ]
  },
  {
   "cell_type": "code",
   "execution_count": null,
   "id": "bc6d7fe1-fe7a-4fe3-8ece-f5312a322539",
   "metadata": {},
   "outputs": [],
   "source": [
    "# G = ins[[\"project_name\", \"fuxi_job_name\", \"fuxi_task_name\", \"fuxi_avg_cpu\", \"fuxi_avg_mem\", \"total_time_seconds\", \"DAG\"]].groupby([\"project_name\", \"DAG\", \"fuxi_job_name\", \"fuxi_task_name\"]).mean()\n",
    "\n",
    "G.query('project_name==\"admin_task_project\"')"
   ]
  },
  {
   "cell_type": "code",
   "execution_count": null,
   "id": "ab3cefc5-9497-4bcb-827d-03f98740d5ee",
   "metadata": {},
   "outputs": [],
   "source": [
    "global_attributes = file[[\"project_name\", \"start_time\", \"fuxi_job_sn\", \"fuxi_quota_id\", \"fuxi_quota_name\", \n",
    "                          \"fuxi_inst_num\", \"running_mode\", \"plan_cpu_cost\", \"plan_mem_cost\", \"fuxi_cpu_cost\"]]"
   ]
  },
  {
   "cell_type": "code",
   "execution_count": null,
   "id": "ecd0efaa-f0bb-4c35-aabc-8f1f1929ded7",
   "metadata": {},
   "outputs": [],
   "source": [
    "global_attributes = global_attributes.values\n",
    "global_attributes.shape"
   ]
  },
  {
   "cell_type": "code",
   "execution_count": null,
   "id": "86ac61d4-eec8-4ca2-9822-d2583770a1ab",
   "metadata": {},
   "outputs": [],
   "source": [
    "from sklearn.preprocessing import LabelEncoder\n",
    "le = LabelEncoder()\n",
    "for i in [0, 4, 6]:\n",
    "    global_attributes[:, i] = le.fit_transform(global_attributes[:, i])"
   ]
  },
  {
   "cell_type": "code",
   "execution_count": null,
   "id": "e7e2a950-65ea-4d7a-8b49-231539cf4c9f",
   "metadata": {},
   "outputs": [],
   "source": [
    "global_attributes = global_attributes.astype(np.float64)\n",
    "global_attributes[np.isnan(global_attributes)] = 0"
   ]
  },
  {
   "cell_type": "code",
   "execution_count": null,
   "id": "c3803689-cefe-4c4b-a401-b7850358863a",
   "metadata": {
    "tags": []
   },
   "outputs": [],
   "source": [
    "task = file[\"fuxi_task_name\"].values\n",
    "task_num = file[\"fuxi_task_num\"].values\n",
    "count = {}\n",
    "X_data, y_data = [], []\n",
    "edges_data = []\n",
    "node_data = []\n",
    "for i in range(task.shape[0]):\n",
    "    if task[i].find('_') != -1:\n",
    "        edges, node_labels = job_to_graph(task[i], task_num[i])\n",
    "        if len(edges):\n",
    "#             print(edges, node_labels)\n",
    "            X_data.append(Graph(edges, node_labels=node_labels))\n",
    "            y_data.append(global_attributes[i, :])\n",
    "            edges_data.append(edges)\n",
    "            node_data.append(node_labels)\n",
    "            if task_num[i] not in count:\n",
    "                count[task_num[i]] = 0\n",
    "            count[task_num[i]] += 1\n",
    "y_data = np.asarray(y_data)\n",
    "# print(count)"
   ]
  },
  {
   "cell_type": "code",
   "execution_count": null,
   "id": "681138db-958a-40a3-adb5-c6236e435450",
   "metadata": {
    "tags": []
   },
   "outputs": [],
   "source": [
    "print(len(X_data), y_data.shape)"
   ]
  },
  {
   "cell_type": "code",
   "execution_count": null,
   "id": "3e9f6b88-476b-4e52-8ff8-ac189dde6a8a",
   "metadata": {},
   "outputs": [],
   "source": [
    "from grakel.kernels import WeisfeilerLehman, VertexHistogram\n",
    "wl_kernel = WeisfeilerLehman(n_iter=5, normalize=False, base_graph_kernel=VertexHistogram)"
   ]
  },
  {
   "cell_type": "code",
   "execution_count": null,
   "id": "5d723ef3-cb46-4bb1-a5d3-4adc586f00e5",
   "metadata": {
    "tags": []
   },
   "outputs": [],
   "source": [
    "X_wl = wl_kernel.fit_transform(X_data)"
   ]
  },
  {
   "cell_type": "code",
   "execution_count": null,
   "id": "ac97332a-2420-4d55-8c5d-4807d783c782",
   "metadata": {
    "tags": []
   },
   "outputs": [],
   "source": [
    "s_test = [\"M1\", \"M1R2_1\", \"M2R1_2\", \"M1M2J3_1_2\", \"M2M1R3_1_2\", \"M1M2R3_1R4_2\", \"M1M2R3_2R4_1\"]\n",
    "num_test = [1, 2, 2, 3, 3, 4, 4]\n",
    "X_test = []\n",
    "for i in range(len(s_test)):\n",
    "    edges, node_labels = job_to_graph(s_test[i], num_test[i])\n",
    "    X_test.append(Graph(edges, node_labels=node_labels))\n",
    "wl_kernel = WeisfeilerLehman(n_iter=10, normalize=True, base_graph_kernel=VertexHistogram)\n",
    "wl_kernel.fit_transform(X_test)"
   ]
  },
  {
   "cell_type": "code",
   "execution_count": null,
   "id": "f7685917-ce6d-43ca-8c06-2c21a4b2e6c5",
   "metadata": {},
   "outputs": [],
   "source": [
    "X_wl.shape"
   ]
  },
  {
   "cell_type": "code",
   "execution_count": null,
   "id": "9474a76e-14db-4b3f-9803-4431dc183e4e",
   "metadata": {},
   "outputs": [],
   "source": [
    "class_id = {}\n",
    "class_wl_kernel = {}\n",
    "class_cnt = 0\n",
    "for i in range(X_wl.shape[0]):\n",
    "    is_new_class = 1\n",
    "    belong_class = -1\n",
    "    for key in class_wl_kernel:\n",
    "        if X_wl[i][i] != class_wl_kernel[key]:\n",
    "            continue\n",
    "        for index in range(len(class_id[key])):\n",
    "            if X_wl[i][class_id[key][index]] != class_wl_kernel[key]:\n",
    "                break\n",
    "            elif index == len(class_id[key])-1:\n",
    "                is_new_class = 0\n",
    "                belong_class = key\n",
    "        if belong_class != -1:\n",
    "            break\n",
    "    if is_new_class:\n",
    "        class_wl_kernel[class_cnt] = X_wl[i][i]\n",
    "        class_id[class_cnt] = []\n",
    "        belong_class = class_cnt\n",
    "        class_cnt += 1\n",
    "    class_id[belong_class].append(i)    \n",
    "    \n"
   ]
  },
  {
   "cell_type": "code",
   "execution_count": null,
   "id": "c9a065c9-f9fe-4d48-aa42-25a3d36a447e",
   "metadata": {},
   "outputs": [],
   "source": [
    "class_cnt"
   ]
  },
  {
   "cell_type": "code",
   "execution_count": null,
   "id": "23496da1-3a7f-4b29-91a2-729e5118838b",
   "metadata": {
    "tags": []
   },
   "outputs": [],
   "source": [
    "for key in class_id:\n",
    "    for i in range(min(100, len(class_id[key]))):\n",
    "        print(edges_data[class_id[key][i]], node_data[class_id[key][i]], end=',')\n",
    "    print('\\n')"
   ]
  },
  {
   "cell_type": "code",
   "execution_count": null,
   "id": "6f4220c8-7d08-436a-9eba-b05b1021e141",
   "metadata": {
    "tags": []
   },
   "outputs": [],
   "source": [
    "temp = []\n",
    "for key in class_id:\n",
    "    temp.append(len(class_id[key]))\n",
    "print(sorted(temp))\n",
    "print(sum(temp))\n"
   ]
  },
  {
   "cell_type": "code",
   "execution_count": null,
   "id": "70649b1f-39a8-4865-a3eb-e2756f8be623",
   "metadata": {},
   "outputs": [],
   "source": [
    "class_label = [0 for i in range(X_wl.shape[0])]\n",
    "for key in class_id:\n",
    "    for i in class_id[key]:\n",
    "        class_label[i] = key\n",
    "X_final = np.hstack((np.asarray(class_label).reshape(-1, 1), y_data[:, :-1]))\n",
    "X_final.shape"
   ]
  },
  {
   "cell_type": "code",
   "execution_count": null,
   "id": "f125b8c8-d2c8-48a4-aa7c-1f634f030574",
   "metadata": {},
   "outputs": [],
   "source": [
    "temp = file[file.fuxi_task_name==\"M1R2_1\"]\n",
    "cpu = temp.fuxi_cpu_cost.values\n",
    "mem = temp.fuxi_mem_cost.values\n",
    "_ = plt.hist(cpu, range=(0, 20000), bins=50)"
   ]
  },
  {
   "cell_type": "code",
   "execution_count": null,
   "id": "b030b44d-bd2b-4102-a078-6d5673512141",
   "metadata": {
    "tags": []
   },
   "outputs": [],
   "source": [
    "for i in range(100):\n",
    "    _ = plt.hist(y_data[X_final[:, 0]==i][:, 9]/ y_data[X_final[:, 0]==i][:, 5], range=(0, 20000), bins=50)\n",
    "    plt.show()"
   ]
  },
  {
   "cell_type": "code",
   "execution_count": null,
   "id": "f1b3e140-02c8-4ce1-b051-afb4f4c4b80d",
   "metadata": {},
   "outputs": [],
   "source": [
    "from sklearn.model_selection import train_test_split\n",
    "X_train, X_test, y_train, y_test = train_test_split(X_final, y_data, test_size=0.2, random_state=42)"
   ]
  },
  {
   "cell_type": "code",
   "execution_count": null,
   "id": "5716b528-15d0-4b49-8456-2ef83c4a1d4a",
   "metadata": {},
   "outputs": [],
   "source": [
    "y_train_target = y_train[:, -1]\n",
    "y_test_target = y_test[:, -1]"
   ]
  },
  {
   "cell_type": "code",
   "execution_count": null,
   "id": "cee5a113-4dd8-4f39-ac1c-0923ecb759b4",
   "metadata": {},
   "outputs": [],
   "source": [
    "from sklearn.ensemble import RandomForestRegressor\n",
    "# model = RandomForestRegressor()\n",
    "model = RandomForestRegressor()\n",
    "model.fit(X_train, y_train_target)\n",
    "# y_pred = model.predict(K_test)"
   ]
  },
  {
   "cell_type": "code",
   "execution_count": null,
   "id": "6fbb0ed0-ada6-4093-aaa3-9f053cac42d5",
   "metadata": {},
   "outputs": [],
   "source": [
    "print(model.score(X_train, y_train_target))\n",
    "print(model.score(X_test, y_test_target))"
   ]
  },
  {
   "cell_type": "code",
   "execution_count": null,
   "id": "f428fccd-e2ec-4c95-a1b0-c5261aadede6",
   "metadata": {},
   "outputs": [],
   "source": [
    "y_predict = model.predict(X_test)"
   ]
  },
  {
   "cell_type": "code",
   "execution_count": null,
   "id": "329d6e4d-c7fd-4cdb-bd14-802a257c701d",
   "metadata": {
    "tags": []
   },
   "outputs": [],
   "source": [
    "error = {}\n",
    "for i in range(y_test_target.shape[0]):\n",
    "#     print(len(class_id[X_test[i, 0]]))\n",
    "#     if len(class_id[X_test[i, 0]]) < 2:\n",
    "#         continue\n",
    "    key = int(X_test[i, 0])\n",
    "    if key not in error:\n",
    "        error[key] = []\n",
    "    if y_test_target[i] == 0:\n",
    "        error[key].append(0)\n",
    "    else:\n",
    "        error[key].append(abs(y_test_target[i]-y_predict[i]) / y_test_target[i])\n",
    "for key in error:\n",
    "    temp = np.mean(error[key])\n",
    "    if temp < 0.05 and len(class_id[key]) > 1:\n",
    "        print(len(class_id[key]), temp, edges_data[class_id[key][0]])\n",
    "    "
   ]
  },
  {
   "cell_type": "code",
   "execution_count": null,
   "id": "86ec62ad-4726-4093-91ac-eec4e21cd4a7",
   "metadata": {
    "tags": []
   },
   "outputs": [],
   "source": [
    "new_error = []\n",
    "for key in error:\n",
    "    new_error.append(np.mean(error[key]))\n",
    "error = sorted(new_error)\n",
    "error_y = 100 * np.arange(len(error)) / (len(error)-1)\n",
    "plt.figure(figsize=(15, 8))\n",
    "plt.plot(error, error_y)\n",
    "plt.hlines(80, 0, 1)\n",
    "plt.xlim(0, 1)"
   ]
  },
  {
   "cell_type": "code",
   "execution_count": null,
   "id": "d1839e56-4f84-4b1e-af2f-a1ffc428d830",
   "metadata": {
    "tags": []
   },
   "outputs": [],
   "source": []
  },
  {
   "cell_type": "code",
   "execution_count": null,
   "id": "3d1b5f95-9641-4b61-b364-66050c3fe0a3",
   "metadata": {
    "tags": []
   },
   "outputs": [],
   "source": [
    "import matplotlib.pyplot as plt\n",
    "plt.figure(figsize=(25, 8))\n",
    "plt.plot(range(200), y_predict[:200])\n",
    "plt.plot(range(200), y_test_target[:200])\n",
    "plt.yscale(\"log\")"
   ]
  },
  {
   "cell_type": "code",
   "execution_count": null,
   "id": "0d914163-cfee-463c-8f11-1da093d314d0",
   "metadata": {},
   "outputs": [],
   "source": [
    "error = []\n",
    "for i in range(y_test_target.shape[0]):\n",
    "    if y_test_target[i] == 0:\n",
    "        error.append(0)\n",
    "    else:\n",
    "        error.append(abs(y_test_target[i]-y_predict[i]) / y_test_target[i])\n",
    "error = sorted(error)\n",
    "error_y = 100 * np.arange(len(error)) / (len(error)-1)\n",
    "plt.figure(figsize=(15, 8))\n",
    "plt.plot(error, error_y)\n",
    "plt.xlim(0, 1)"
   ]
  },
  {
   "cell_type": "code",
   "execution_count": null,
   "id": "46713ef6-813d-4f02-9c14-e9f9b6a7105a",
   "metadata": {},
   "outputs": [],
   "source": [
    "error = []\n",
    "for i in range(y_test.shape[0]):\n",
    "    if y_test[i] == 0:\n",
    "        error.append(0)\n",
    "    else:\n",
    "        error.append(abs(y_test[i]-y_predict[i]) / y_test[i])\n",
    "error = sorted(error)\n",
    "error_y = 100 * np.arange(len(error)) / (len(error)-1)\n"
   ]
  },
  {
   "cell_type": "code",
   "execution_count": null,
   "id": "c08c0f52-c89a-4986-a39d-acf8c29dca8c",
   "metadata": {},
   "outputs": [],
   "source": []
  },
  {
   "cell_type": "code",
   "execution_count": null,
   "id": "d935cec1-36ce-4e5a-bf3c-3aef37fc7acf",
   "metadata": {},
   "outputs": [],
   "source": [
    "new_X_train.shape"
   ]
  },
  {
   "cell_type": "code",
   "execution_count": null,
   "id": "5f950966-0b7d-4a3e-a455-a948ba3c46f5",
   "metadata": {},
   "outputs": [],
   "source": [
    "new_model = RandomForestRegressor()\n",
    "new_model.fit(new_X_train, y_train)\n",
    "print(new_model.score(new_X_train, y_train))\n",
    "print(new_model.score(new_X_test, y_test))\n",
    "new_y_predict = new_model.predict(new_X_test)"
   ]
  },
  {
   "cell_type": "code",
   "execution_count": null,
   "id": "ebb5397f-4069-49d5-b201-7c433501cf0a",
   "metadata": {},
   "outputs": [],
   "source": [
    "plt.figure(figsize=(25, 8))\n",
    "plt.plot(range(200), new_y_predict[:200])\n",
    "plt.plot(range(200), y_test[:200])\n",
    "plt.yscale(\"log\")\n",
    "plt.show()\n",
    "new_error = []\n",
    "for i in range(y_test.shape[0]):\n",
    "    if y_test[i] == 0:\n",
    "        new_error.append(0)\n",
    "    else:\n",
    "        new_error.append(abs(y_test[i]-new_y_predict[i]) / y_test[i])\n",
    "new_error = sorted(new_error)\n",
    "new_error_y = 100 * np.arange(len(new_error)) / (len(new_error)-1)\n",
    "plt.figure(figsize=(15, 8))\n",
    "plt.plot(error, error_y)\n",
    "plt.plot(new_error, new_error_y)\n",
    "plt.xlim(0, 1)\n",
    "plt.legend([\"error\", \"new_error\"])"
   ]
  },
  {
   "cell_type": "code",
   "execution_count": null,
   "id": "79b6653d-6bdf-48bd-a245-11650c4b9c6e",
   "metadata": {},
   "outputs": [],
   "source": []
  },
  {
   "cell_type": "code",
   "execution_count": null,
   "id": "e5ee14bc-adb3-4be3-8014-ad9a9a4fe2c2",
   "metadata": {},
   "outputs": [],
   "source": [
    "X_train = K_train\n",
    "print(X_train.shape)\n",
    "X_test = K_test[:, [0, 2, 6, 8, 9]]\n",
    "print(X_test.shape)\n",
    "model = RandomForestRegressor()\n",
    "model.fit(X_train, y_train_target)\n",
    "print(model.score(X_train, y_train_target))\n",
    "print(model.score(X_test, y_test_target))\n",
    "y_predict = model.predict(X_test)\n",
    "error = {}\n",
    "for i in range(y_test_target.shape[0]):\n",
    "    if knn_label[i] not in error:\n",
    "        error[knn_label[i]] = []\n",
    "    if y_test_target[i] == 0:\n",
    "        error[knn_label[i]].append(0)\n",
    "    else:\n",
    "        error[knn_label[i]].append(abs(y_test_target[i]-y_predict[i]) / y_test_target[i])\n",
    "new_error = []\n",
    "for key in error:\n",
    "    new_error.append(np.mean(error[key]))\n",
    "    \n",
    "error = sorted(new_error)\n",
    "error_y = 100 * np.arange(len(error)) / (len(error)-1)\n",
    "plt.figure(figsize=(15, 8))\n",
    "plt.plot(error, error_y)\n",
    "plt.xlim(0, 1)"
   ]
  },
  {
   "cell_type": "code",
   "execution_count": null,
   "id": "29470349-7b93-475f-97e9-97119ff16148",
   "metadata": {},
   "outputs": [],
   "source": []
  },
  {
   "cell_type": "code",
   "execution_count": null,
   "id": "2095c00a-74c4-407d-83ed-7d2eb73c014d",
   "metadata": {},
   "outputs": [],
   "source": [
    "instance = pd.read_csv(\"/data/zkp/buy2/test/d0.csv\")"
   ]
  },
  {
   "cell_type": "code",
   "execution_count": null,
   "id": "ad9a14a7-d2d5-41b5-a3f3-3ff02458f0c4",
   "metadata": {},
   "outputs": [],
   "source": [
    "instance.columns"
   ]
  },
  {
   "cell_type": "code",
   "execution_count": null,
   "id": "12dca262-4d97-4100-ae29-a82326407927",
   "metadata": {
    "tags": []
   },
   "outputs": [],
   "source": [
    "Algo = instance[instance.odps_task_type==\"Algo\"]\n",
    "for i in Algo.odps_task_name.unique():\n",
    "    temp = Algo[Algo.odps_task_name==i]\n",
    "    for j in temp.fuxi_task_name.unique():\n",
    "        print(i, j)\n",
    "        t = temp[temp.fuxi_task_name==j]\n",
    "        fig, axes = plt.subplots(1, 2, figsize=(16, 6))\n",
    "        for p in t.project_name.unique():\n",
    "            axes[0].scatter(t[t.project_name==p].fuxi_avg_cpu.values, t[t.project_name==p].total_time_seconds.values, label=p)\n",
    "#         axes[0].set_xlabel(\"CPU\")\n",
    "#         axes[0].set_ylabel(\"time\")\n",
    "        axes[0].legend()\n",
    "#         for p in t.project_name.unique():\n",
    "#             axes[1].scatter(t[t.project_name==p].fuxi_avg_mem.values, t[t.project_name==p].total_time_seconds.values, label=p)\n",
    "#         axes[1].legend()\n",
    "#         axes[1].set_xlabel(\"MEM\")\n",
    "#         axes[1].set_ylabel(\"time\")\n",
    "        plt.show()"
   ]
  },
  {
   "cell_type": "code",
   "execution_count": null,
   "id": "2341a05f-e30a-4303-aca6-d710d7f12c92",
   "metadata": {
    "tags": []
   },
   "outputs": [],
   "source": [
    "for j in Algo.fuxi_task_name.unique():\n",
    "    print(j)\n",
    "    t = Algo[Algo.fuxi_task_name==j]\n",
    "    fig, axes = plt.subplots(1, 2, figsize=(16, 6))\n",
    "    for p in t.project_name.unique():\n",
    "        axes[0].scatter(t[t.project_name==p].fuxi_avg_cpu.values, t[t.project_name==p].total_time_seconds.values, label=p)\n",
    "    axes[0].legend()\n",
    "    for p in t.project_name.unique():\n",
    "        axes[1].scatter(t[t.project_name==p].fuxi_avg_mem.values, t[t.project_name==p].total_time_seconds.values, label=p)\n",
    "    axes[1].legend()\n",
    "    plt.show()"
   ]
  },
  {
   "cell_type": "code",
   "execution_count": null,
   "id": "df309881-9ed5-4b90-991a-60a798f35d8b",
   "metadata": {
    "tags": []
   },
   "outputs": [],
   "source": [
    "for j in Algo.fuxi_task_name.unique():\n",
    "    print(j)\n",
    "    t = Algo[Algo.fuxi_task_name==j]\n",
    "    fig, axes = plt.subplots(1, 2, figsize=(16, 6))\n",
    "    for p in t.project_name.unique():\n",
    "        axes[0].scatter(t[t.project_name==p].fuxi_max_cpu.values / t[t.project_name==p].fuxi_avg_cpu.values, t[t.project_name==p].fuxi_max_mem.values / t[t.project_name==p].fuxi_avg_mem.values, label=p)\n",
    "    axes[0].legend()\n",
    "    plt.show()"
   ]
  },
  {
   "cell_type": "code",
   "execution_count": null,
   "id": "b4a491fe-6fd0-46d5-9a33-911db646400e",
   "metadata": {
    "tags": []
   },
   "outputs": [],
   "source": [
    "for t in instance.odps_task_type.unique():\n",
    "    temp = instance[(instance.odps_task_type==t) & (~np.isnan(instance.fuxi_avg_cpu))]\n",
    "    v = temp.fuxi_avg_cpu.values\n",
    "    p99 = np.percentile(v, 99)\n",
    "    y = plt.hist(v, range(0, int(p99)))[0]\n",
    "    print(t, end=' ')\n",
    "    print(sum(y) / temp.shape[0])\n",
    "    plt.show()"
   ]
  },
  {
   "cell_type": "code",
   "execution_count": null,
   "id": "8110b15a-23b9-454e-a812-86a66ab2c0e6",
   "metadata": {
    "tags": []
   },
   "outputs": [],
   "source": [
    "for t in instance.odps_task_type.unique():\n",
    "    temp = instance[(instance.odps_task_type==t) & (~np.isnan(instance.total_time_seconds))]\n",
    "    v = temp.total_time_seconds.values\n",
    "    p99 = np.percentile(v, 99)\n",
    "    y = plt.hist(v, range(0, 200))[0]\n",
    "    print(t, end=' ')\n",
    "#     print(sum(y) / temp.shape[0])\n",
    "    plt.show()"
   ]
  },
  {
   "cell_type": "code",
   "execution_count": null,
   "id": "3d09c19a-b75f-4f56-b9a7-edb47d97f5ba",
   "metadata": {
    "tags": []
   },
   "outputs": [],
   "source": [
    "for t in instance.odps_task_type.unique():\n",
    "    temp = instance[(instance.odps_task_type==t) & (~np.isnan(instance.fuxi_avg_mem))]\n",
    "    v = temp.fuxi_avg_mem.values\n",
    "    p99 = np.percentile(v, 99)\n",
    "    y = plt.hist(v, range(0, int(p99)))[0]\n",
    "    print(t, end=' ')\n",
    "#     print(sum(y) / temp.shape[0])\n",
    "    plt.show()"
   ]
  },
  {
   "cell_type": "code",
   "execution_count": null,
   "id": "2efa48fb-7466-4891-93e4-5b8d653f8fa6",
   "metadata": {
    "tags": []
   },
   "outputs": [],
   "source": [
    "for t in instance.odps_task_type.unique():\n",
    "    temp = instance[(instance.odps_task_type==t) & (~np.isnan(instance.fuxi_avg_mem)) & (~np.isnan(instance.fuxi_max_mem)) & (instance.fuxi_avg_mem!=0)\n",
    "                   & (~np.isnan(instance.fuxi_avg_cpu)) & (~np.isnan(instance.fuxi_max_cpu)) & (instance.fuxi_avg_cpu!=0)]\n",
    "    mem = temp.fuxi_max_mem.values / temp.fuxi_avg_mem.values\n",
    "#     p99 = np.percentile(v, 99)\n",
    "#     y = plt.hist(v, range(1, 10))[0]\n",
    "    print(t, end=' ')\n",
    "#     print(sum(y) / temp.shape[0])\n",
    "\n",
    "    cpu = temp.fuxi_max_cpu.values / temp.fuxi_avg_cpu.values\n",
    "    plt.scatter(cpu, mem)\n",
    "#     y = plt.hist(mem, range=(1, 2))[0]\n",
    "\n",
    "    plt.xlabel(\"CPU Max/Avg\")\n",
    "    plt.ylabel(\"MEM Max/Avg\")\n",
    "    plt.show()\n",
    "#     y = plt.hist(cpu)[0]\n",
    "#     plt.show()"
   ]
  },
  {
   "cell_type": "code",
   "execution_count": null,
   "id": "ab99bda8-859d-4051-a61a-9a46c54ed5d2",
   "metadata": {},
   "outputs": [],
   "source": [
    "SQL = instance[instance.odps_task_type==\"SQL\"]"
   ]
  },
  {
   "cell_type": "code",
   "execution_count": null,
   "id": "b4751d3f-8a52-44d8-ad8e-001c8ec14856",
   "metadata": {},
   "outputs": [],
   "source": [
    "SQLRT = instance[instance.odps_task_type==\"SQLRT\"]"
   ]
  },
  {
   "cell_type": "code",
   "execution_count": null,
   "id": "c5acba91-1320-4e24-9638-98a614af1b13",
   "metadata": {
    "tags": []
   },
   "outputs": [],
   "source": [
    "Algo = SQLRT\n",
    "M, R, J = [], [], []\n",
    "MM, RR, JJ = [], [], []\n",
    "MT, RT, JT = [], [], []\n",
    "for j in Algo.fuxi_task_name.unique():\n",
    "    if j in [\"M1\", \"R2_1\", \"R3_2\"]:\n",
    "        continue\n",
    "    t = Algo[Algo.fuxi_task_name==j]\n",
    "    if j[0] == 'M':\n",
    "        M.append(np.mean(t.fuxi_avg_cpu))\n",
    "        MM.append(np.mean(t.fuxi_max_cpu))\n",
    "        MT.append(np.mean(t.total_time_seconds))\n",
    "    elif j[0] == 'R':\n",
    "        R.append(np.mean(t.fuxi_avg_cpu))\n",
    "        RR.append(np.mean(t.fuxi_max_cpu))\n",
    "        RT.append(np.mean(t.total_time_seconds))\n",
    "    elif j[0] == 'J':\n",
    "        J.append(np.mean(t.fuxi_avg_cpu))\n",
    "        JJ.append(np.mean(t.fuxi_max_cpu))\n",
    "        JT.append(np.mean(t.total_time_seconds))\n",
    "        \n"
   ]
  },
  {
   "cell_type": "code",
   "execution_count": null,
   "id": "11d3607e-3d38-410b-bfaa-88966bab38f0",
   "metadata": {
    "tags": []
   },
   "outputs": [],
   "source": [
    "plt.scatter(M, MM, label=\"M\")\n",
    "plt.scatter(J, JJ, label=\"J\")\n",
    "plt.scatter(R, RR, label=\"R\")\n",
    "plt.legend()\n",
    "plt.xlabel(\"Avg\")\n",
    "plt.ylabel(\"Max\")\n",
    "plt.show()"
   ]
  },
  {
   "cell_type": "code",
   "execution_count": null,
   "id": "0a5ec7f6-abe8-429e-a2da-5896843ca78a",
   "metadata": {
    "tags": []
   },
   "outputs": [],
   "source": [
    "LOT = instance[instance.odps_task_type==\"LOT\"]"
   ]
  },
  {
   "cell_type": "code",
   "execution_count": null,
   "id": "f01c3884-c890-4d40-8168-e8963d6ee8e8",
   "metadata": {
    "tags": []
   },
   "outputs": [],
   "source": [
    "for j in LOT.fuxi_task_name.unique():\n",
    "    print(j)\n",
    "    t = LOT[(LOT.fuxi_task_name==j)]\n",
    "    fig, axes = plt.subplots(1, 2, figsize=(16, 6))\n",
    "    for p in t.project_name.unique():\n",
    "        axes[0].scatter(t[t.project_name==p].fuxi_max_cpu.values / t[t.project_name==p].fuxi_avg_cpu.values, t[t.project_name==p].fuxi_max_mem.values / t[t.project_name==p].fuxi_avg_mem.values, label=p)\n",
    "    axes[0].legend()\n",
    "    axes[0].set_xlabel(\"CPU Max/Avg\")\n",
    "    axes[0].set_ylabel(\"MEM Max/Avg\")\n",
    "#     for p in t.project_name.unique():\n",
    "#         axes[1].scatter(t[t.project_name==p].fuxi_avg_mem.values, t[t.project_name==p].total_time_seconds.values, label=p)\n",
    "#     axes[1].legend()\n",
    "    plt.show()"
   ]
  },
  {
   "cell_type": "code",
   "execution_count": null,
   "id": "279288a8-0e8e-406b-8b84-7b766b256b87",
   "metadata": {
    "tags": []
   },
   "outputs": [],
   "source": [
    "importance = [0.03497309, 0.03801977, 0.02930458, 0.01084006, 0.02969077,\n",
    "       0.01236241, 0.0305444 , 0.02590316, 0.00272693, 0.00155067,\n",
    "       0.00561709, 0.01129502, 0.00589236, 0.        , 0.        ,\n",
    "       0.00291892, 0.00586741, 0.        , 0.00022326, 0.        ,\n",
    "       0.05389414, 0.02888373, 0.04488752, 0.04728596, 0.04904115,\n",
    "       0.02382207, 0.0377777 , 0.06192491, 0.04339618, 0.00538922,\n",
    "       0.01949288, 0.04005669, 0.01613647, 0.00306931, 0.00173181,\n",
    "       0.01232831, 0.02898802, 0.00559515, 0.00626779, 0.0349475 ,\n",
    "       0.00037615, 0.00012161, 0.        , 0.00761775, 0.00068263,\n",
    "       0.        , 0.        , 0.00551716, 0.00257583, 0.0031638 ,\n",
    "       0.        , 0.00103412, 0.00766935, 0.00299292, 0.00491839,\n",
    "       0.03316393, 0.0348981 , 0.01727366, 0.01821946, 0.04712876]\n",
    "for cpu in [0, 1, 2]:\n",
    "    for mem in [0, 1, 2, 3, 4]:\n",
    "        for time in [0, 1, 2, 3]:\n",
    "            index = 0\n",
    "            if cpu == 0:\n",
    "                idnex = 0\n",
    "            elif cpu == 1:\n",
    "                index = 1\n",
    "            else:\n",
    "                index = 2\n",
    "\n",
    "            if mem == 0:\n",
    "                index = (index*5) + 0\n",
    "            elif mem == 1:\n",
    "                index = (index*5) + 1\n",
    "            elif mem == 2:\n",
    "                index = (index*5) + 2\n",
    "            elif mem == 3:\n",
    "                index = (index*5) + 3\n",
    "            else:\n",
    "                index = (index*5) + 4\n",
    "\n",
    "            if time == 0:\n",
    "                index = (index*4) + 0\n",
    "            elif time == 1:\n",
    "                index = (index*4) + 1\n",
    "            elif time == 2:\n",
    "                index = (index*4) + 2\n",
    "            else:\n",
    "                index = (index*4) + 3\n",
    "            print(cpu, mem, time ,index, importance[index])"
   ]
  },
  {
   "cell_type": "code",
   "execution_count": null,
   "id": "bbe59ffa-16c9-458d-a722-1f365c6d619a",
   "metadata": {
    "tags": []
   },
   "outputs": [],
   "source": [
    "importance = [72468, 62357, 4, 253, 18991, 106108, 4, 16, 16483, 79888, 35, 7, 3702, 7133, 7, 1016, 2892, 28991, 21, 2255, 1680, 13002, 48, 172, 5580, 34147, 104, 172, 2297, 22334, 83, 2074, 710, 3647, 0, 69, 38, 230, 10, 10, 347, 1782, 20, 202, 15, 10508, 2, 607, 0, 919, 0, 1147, 0, 0, 0, 0, 0, 447, 0, 2, 0, 1527, 0, 37, 286, 2626, 0, 93, 5, 28, 0, 0, 0, 2, 0, 0, 0, 10, 0, 0, 248592, 920, 684, 0, 69490, 240, 507, 12, 85860, 1075, 431, 1, 186096, 0, 4484, 0, 104692, 933, 2621, 0, 33894, 300, 1387, 0, 82802, 4451, 2582, 3, 203757, 19273, 5649, 1246, 50170, 14922, 839, 3708, 2085, 63, 582, 16, 10628, 766, 469, 128, 86656, 16044, 2721, 3726, 22406, 3762, 806, 3853, 407, 14, 143, 74, 2098, 31, 94, 6, 8854, 3599, 270, 19, 45158, 9306, 1625, 2989, 2301, 520, 48, 47, 600, 839, 20, 5, 59742, 4746, 4480, 302, 6, 2212, 0, 0, 98, 300, 0, 0, 0, 654, 0, 0, 0, 3059, 0, 0, 879, 0, 2, 0, 0, 0, 0, 0, 0, 0, 0, 0, 1870, 98, 0, 0, 581, 2, 21, 1, 528, 0, 0, 0, 113, 96, 0, 0, 229, 0, 0, 0, 6268, 4069, 605, 157, 2996, 31, 13, 13, 3129, 19, 15, 0, 16845, 52, 97, 0, 67712, 17742, 2246, 994, 18411, 1073, 267, 64, 14692, 641, 338, 17, 145830, 5173, 7924, 523]\n",
    "for cpu in [0, 1, 2]:\n",
    "    for mem in [0, 1, 2, 3, 4]:\n",
    "        for time in [0, 1, 2, 3]:\n",
    "            for stable in [0, 1, 2, 3]:\n",
    "                index = 0\n",
    "                if cpu == 0:\n",
    "                    idnex = 0\n",
    "                elif cpu == 1:\n",
    "                    index = 1\n",
    "                else:\n",
    "                    index = 2\n",
    "\n",
    "                if mem == 0:\n",
    "                    index = (index*5) + 0\n",
    "                elif mem == 1:\n",
    "                    index = (index*5) + 1\n",
    "                elif mem == 2:\n",
    "                    index = (index*5) + 2\n",
    "                elif mem == 3:\n",
    "                    index = (index*5) + 3\n",
    "                else:\n",
    "                    index = (index*5) + 4\n",
    "\n",
    "                if time == 0:\n",
    "                    index = (index*4) + 0\n",
    "                elif time == 1:\n",
    "                    index = (index*4) + 1\n",
    "                elif time == 2:\n",
    "                    index = (index*4) + 2\n",
    "                else:\n",
    "                    index = (index*4) + 3\n",
    "                    \n",
    "                if stable == 0:\n",
    "                    index = (index*4) + 0\n",
    "                elif stable == 1:\n",
    "                    index = (index*4) + 1\n",
    "                elif stable == 2:\n",
    "                    index = (index*4) + 2\n",
    "                else:\n",
    "                    index = (index*4) + 3\n",
    "                print(cpu, mem, time, stable, index, importance[index])"
   ]
  },
  {
   "cell_type": "code",
   "execution_count": null,
   "id": "27102260-762f-4916-b1c9-a25488de840c",
   "metadata": {},
   "outputs": [],
   "source": [
    "batch = pd.DataFrame()\n",
    "for i in range(7):\n",
    "    temp = pd.read_csv(\"/data/zkp/ump2/detailhost/d\" + str(i) + \".csv\")\n",
    "    temp.dropna(inplace=True)\n",
    "    batch = pd.concat([batch, temp])"
   ]
  },
  {
   "cell_type": "code",
   "execution_count": null,
   "id": "f4b8a639-9197-4e82-b237-7c3004250e04",
   "metadata": {},
   "outputs": [],
   "source": [
    "# SQL = G[G.index.str.contains(\"SQL\")]\n",
    "# SQLRT = G[G.index.str.contains(\"SQLRT\")]\n",
    "# Dup = G[G.index.str.contains(\"Dup\")]\n",
    "# COPY = G[G.index.str.contains(\"COPY\")]\n",
    "# Algo = G[G.index.str.contains(\"Algo\")]\n",
    "# LOT = G[G.index.str.contains(\"LOT\")]\n",
    "CUPID = G[G.index.str.contains(\"CUPID\")]\n",
    "# Merge = G[G.index.str.contains(\"Merge\")]\n",
    "# PS = G[G.index.str.contains(\"PS\")]\n",
    "# XLib = G[G.index.str.contains(\"XLib\")]\n"
   ]
  },
  {
   "cell_type": "code",
   "execution_count": null,
   "id": "3e6eacd6-36f4-4f4b-80db-9cc6cb7955f0",
   "metadata": {
    "tags": []
   },
   "outputs": [],
   "source": [
    "plt.figure(figsize=(8, 7), dpi=120)\n",
    "for i, n in zip([PS, SQLRT, Dup, Algo], [\"SQL\", \"SQLRT\", \"Dup\", \"Algo\"]):\n",
    "    plt.plot(sorted(i.fuxi_avg_cpu.values), np.arange(i.shape[0]) / (i.shape[0] - 1), label=n, lw=3)\n",
    "plt.xlim(0, 200)\n",
    "plt.legend()"
   ]
  },
  {
   "cell_type": "code",
   "execution_count": null,
   "id": "fcab6d9d-834b-4033-962e-956d233142f4",
   "metadata": {
    "tags": []
   },
   "outputs": [],
   "source": [
    "plt.figure(figsize=(8, 7), dpi=120)\n",
    "for i, n in zip([PS, SQLRT, Dup, Algo], [\"SQL\", \"SQLRT\", \"Dup\", \"Algo\"]):\n",
    "    plt.plot(sorted(i.fuxi_avg_mem.values), np.arange(i.shape[0]) / (i.shape[0] - 1), label=n, lw=4)\n",
    "plt.xlim(0, 10000)\n",
    "plt.legend()"
   ]
  },
  {
   "cell_type": "code",
   "execution_count": null,
   "id": "b8f3754d-061b-4060-90ba-008d0600f466",
   "metadata": {
    "tags": []
   },
   "outputs": [],
   "source": [
    "plt.figure(figsize=(8, 7), dpi=120)\n",
    "for i, n in zip([PS, SQLRT, Dup, Algo], [\"SQL\", \"SQLRT\", \"Dup\", \"Algo\"]):\n",
    "    plt.plot(sorted(i.total_time.values), np.arange(i.shape[0]) / (i.shape[0] - 1), label=n, lw=3)\n",
    "plt.xlim(0, 200)\n",
    "plt.legend()"
   ]
  },
  {
   "cell_type": "code",
   "execution_count": null,
   "id": "9b0fa918-2a18-4304-85c6-502c7f42eded",
   "metadata": {},
   "outputs": [],
   "source": [
    "temp = Algo[Algo.index.str.contains(\"MWorker\")].total_time.values\n",
    "plt.plot(sorted(temp), np.arange(temp.shape[0]) / (temp.shape[0] - 1), lw=3)\n",
    "plt.xlim(0, 600)"
   ]
  },
  {
   "cell_type": "code",
   "execution_count": null,
   "id": "62fe598c-d07b-4333-8ff5-89619c2e7737",
   "metadata": {},
   "outputs": [],
   "source": [
    "job = pd.read_csv(\"/data/zkp/recurrent/job.csv\")"
   ]
  },
  {
   "cell_type": "code",
   "execution_count": null,
   "id": "51cb8201-5869-4d83-a33b-941351db8aa4",
   "metadata": {},
   "outputs": [],
   "source": [
    "job[(job.fuxi_task_num==1) & (job.odps_task_type==\"SQL\")]"
   ]
  },
  {
   "cell_type": "code",
   "execution_count": null,
   "id": "1bd6617e-5786-4fca-8c08-2fa82bce1f78",
   "metadata": {},
   "outputs": [],
   "source": [
    "data = pd.DataFrame()\n",
    "for i in range(1, 8):\n",
    "    file = pd.read_csv(\"/data/zkp/recurrent/d\" + str(i) + \".csv\")\n",
    "    data = pd.concat([data, file])"
   ]
  },
  {
   "cell_type": "code",
   "execution_count": null,
   "id": "7dd82a77-8e32-48af-9637-55a3d3d707f8",
   "metadata": {},
   "outputs": [],
   "source": [
    "temp = data[(data.fuxi_job_name=='aliyun_searchlog_20220208033020139g97v24ys_SQL_0_1_0_job_0') & (data.fuxi_task_name==\"M1\")]"
   ]
  },
  {
   "cell_type": "code",
   "execution_count": null,
   "id": "06cae200-22b5-48d1-8369-8bf064544434",
   "metadata": {
    "tags": []
   },
   "outputs": [],
   "source": [
    "for i in data.job_task_name.values[::1000]:\n",
    "    print(i)\n",
    "    temp = data[data.job_task_name==i]\n",
    "    plt.scatter(temp.fuxi_avg_cpu, temp.fuxi_avg_mem)\n",
    "    plt.show()"
   ]
  },
  {
   "cell_type": "code",
   "execution_count": null,
   "id": "72e872f8-df94-401c-bf72-e653ebb702a9",
   "metadata": {},
   "outputs": [],
   "source": [
    "data.sort_values(by=[\"fuxi_job_name\", \"fuxi_task_name\"], inplace=True)"
   ]
  },
  {
   "cell_type": "code",
   "execution_count": null,
   "id": "8ed46648-740c-44bd-96db-3927ad2e3af9",
   "metadata": {},
   "outputs": [],
   "source": [
    "task_inst_num = data[[\"fuxi_job_name\", \"fuxi_task_name\", \"fuxi_avg_cpu\"]].groupby([\"fuxi_job_name\", \"fuxi_task_name\"]).count()"
   ]
  },
  {
   "cell_type": "code",
   "execution_count": null,
   "id": "97b02e23-6efb-4a15-ad98-eb6ef9f09e5e",
   "metadata": {},
   "outputs": [],
   "source": [
    "task_inst_num.rename(columns={\"fuxi_avg_cpu\": \"task_inst_num\"}, inplace=True)"
   ]
  },
  {
   "cell_type": "code",
   "execution_count": null,
   "id": "59e9207b-b063-45c8-92d0-60c8d4cc47ab",
   "metadata": {},
   "outputs": [],
   "source": [
    "task_inst_num.reset_index(inplace=True)"
   ]
  },
  {
   "cell_type": "code",
   "execution_count": null,
   "id": "e4975e14-e84d-4b79-ac2e-088af02cc073",
   "metadata": {},
   "outputs": [],
   "source": [
    "index = task_inst_num.index\n",
    "mpp = {}\n",
    "for i in index:\n",
    "    j = i[0]\n",
    "    t = i[1]\n",
    "    if j not in mpp:\n",
    "        mpp[j] = \"\"\n",
    "    mpp[j] += t"
   ]
  },
  {
   "cell_type": "code",
   "execution_count": null,
   "id": "97eca813-5fed-472b-b9f1-62d3c6b8f6c6",
   "metadata": {
    "tags": []
   },
   "outputs": [],
   "source": [
    "mpp"
   ]
  },
  {
   "cell_type": "code",
   "execution_count": null,
   "id": "2fb4a969-a76e-46a7-8bf6-227e3ae24a04",
   "metadata": {},
   "outputs": [],
   "source": [
    "seq = []\n",
    "for i in data.fuxi_job_name.values:\n",
    "    seq.append(mpp[i])\n",
    "data[\"task_seq\"] = seq"
   ]
  },
  {
   "cell_type": "code",
   "execution_count": null,
   "id": "6ce981e9-a091-4b89-8d1c-dd639e70fd28",
   "metadata": {},
   "outputs": [],
   "source": [
    "data = data[~pd.isna(data.fuxi_avg_cpu) & (~pd.isna(data.fuxi_avg_mem)) & (data.total_time_seconds>=0)]"
   ]
  },
  {
   "cell_type": "code",
   "execution_count": null,
   "id": "894e2043-96aa-4ca0-bee3-01e9adc8f4a7",
   "metadata": {},
   "outputs": [],
   "source": [
    "data[\"start_time\"] = data.start_time % 86400\n",
    "data[\"end_time\"] = data.end_time % 86400"
   ]
  },
  {
   "cell_type": "code",
   "execution_count": null,
   "id": "abb00111-ccbb-4898-972d-b710dde1e1fc",
   "metadata": {},
   "outputs": [],
   "source": [
    "G = data.groupby([\"task_seq\", \"fuxi_job_name\", \"fuxi_task_name\"]).mean()\n"
   ]
  },
  {
   "cell_type": "code",
   "execution_count": null,
   "id": "5f3a72bb-7aa7-4a22-8660-078400b2bf49",
   "metadata": {},
   "outputs": [],
   "source": [
    "cnt = {}\n",
    "for i in tempG.index:\n",
    "    if i[0] not in cnt:\n",
    "        cnt[i[0]] = []\n",
    "    cnt[i[0]].append(i[1])"
   ]
  },
  {
   "cell_type": "code",
   "execution_count": null,
   "id": "1c4086f8-0d6f-42b4-b103-7335646d8d58",
   "metadata": {
    "tags": []
   },
   "outputs": [],
   "source": [
    "len(cnt)"
   ]
  },
  {
   "cell_type": "code",
   "execution_count": null,
   "id": "070d0b2c-1703-49ac-96cf-231f8659a9ed",
   "metadata": {
    "tags": []
   },
   "outputs": [],
   "source": [
    "temp = []\n",
    "for key in cnt:\n",
    "#     temp.append(len(cnt[key]))\n",
    "    if len(cnt[key]) == 1:\n",
    "        temp.append(cnt[key][0])\n",
    "temp"
   ]
  },
  {
   "cell_type": "code",
   "execution_count": null,
   "id": "7a5c27c7-991f-43a6-9aeb-755aca68d150",
   "metadata": {},
   "outputs": [],
   "source": [
    "# unique = data[data.fuxi_job_name.isin(temp)]\n",
    "unique = unique.groupby([\"fuxi_job_name\", \"fuxi_task_name\"]).count()\n",
    "unique_task = {}\n",
    "for i in unique.index:\n",
    "    if i[0] not in unique_task:\n",
    "        unique_task[i[0]] = []\n",
    "    unique_task[i[0]].append(i[1])"
   ]
  },
  {
   "cell_type": "code",
   "execution_count": null,
   "id": "e7b32e8a-c3a2-498a-9f91-bc10d45854db",
   "metadata": {},
   "outputs": [],
   "source": [
    "unique_cnt = {}\n",
    "for key in unique_task:\n",
    "    unique_cnt[key] = len(unique_task[key])\n",
    "df = pd.DataFrame.from_dict(unique_cnt, orient=\"index\")\n",
    "df[\"fuxi_job_name\"] = df.index"
   ]
  },
  {
   "cell_type": "code",
   "execution_count": null,
   "id": "7792b6ef-67e2-468d-9609-4f9ad88d89bf",
   "metadata": {},
   "outputs": [],
   "source": [
    "df = pd.merge(df, job[[\"fuxi_job_name\", \"fuxi_task_num\"]], how=\"left\", on=\"fuxi_job_name\")\n",
    "df.drop(columns=[\"fuxi_job_name\"], inplace=True)"
   ]
  },
  {
   "cell_type": "code",
   "execution_count": null,
   "id": "699f8eef-f0c3-4642-8e74-8a3aa686e20f",
   "metadata": {},
   "outputs": [],
   "source": [
    "bincount = np.bincount(abs(df.values[:, 0] - df.values[:, 1]))\n",
    "bincount[0], np.sum(bincount)"
   ]
  },
  {
   "cell_type": "code",
   "execution_count": null,
   "id": "6e9668cd-025b-4f4f-a0ce-4ab76594b6f2",
   "metadata": {},
   "outputs": [],
   "source": [
    "temp = []\n",
    "cpu = G.fuxi_avg_cpu.values\n",
    "for i in range(cpu.shape[0]):\n",
    "    index = 0\n",
    "    if cpu[i] < 50:\n",
    "        index = 0\n",
    "    elif 50 <= cpu[i] < 150:\n",
    "        index = 1\n",
    "    else:\n",
    "        index = 2\n",
    "    temp.append(index)\n",
    "G[\"fuxi_avg_cpu\"]  = temp"
   ]
  },
  {
   "cell_type": "code",
   "execution_count": null,
   "id": "d8946025-a6d1-40b9-a579-e725bbb9167f",
   "metadata": {},
   "outputs": [],
   "source": [
    "temp = []\n",
    "mem = G.fuxi_avg_mem.values\n",
    "for i in range(mem.shape[0]):\n",
    "    if mem[i] < 512:\n",
    "        index = 0\n",
    "    elif 512 <= mem[i] < 1536:\n",
    "        index = 1\n",
    "    elif 1536 <= mem[i] < 3072:\n",
    "        index = 2\n",
    "    elif 3072 <= mem[i] < 6144:\n",
    "        index = 3\n",
    "    else:\n",
    "        index = 4\n",
    "    temp.append(index)\n",
    "G[\"fuxi_avg_mem\"] = temp"
   ]
  },
  {
   "cell_type": "code",
   "execution_count": null,
   "id": "b6cf1bde-417c-423f-9f02-3f5916f941cc",
   "metadata": {},
   "outputs": [],
   "source": [
    "temp = []\n",
    "t = G.total_time_seconds.values\n",
    "for i in range(t.shape[0]):\n",
    "    if t[i] < 20:\n",
    "        index = 0\n",
    "    elif 20 <= t[i] < 40:\n",
    "        index = 1\n",
    "    elif 40 <= t[i] < 100:\n",
    "        index = 2\n",
    "    else:\n",
    "        index = 3\n",
    "    temp.append(index)\n",
    "G[\"total_time_seconds\"] = temp"
   ]
  },
  {
   "cell_type": "code",
   "execution_count": null,
   "id": "c1ecc503-e328-4b6e-805b-9233a884adf2",
   "metadata": {},
   "outputs": [],
   "source": [
    "G"
   ]
  },
  {
   "cell_type": "code",
   "execution_count": null,
   "id": "3b179f07-4302-425e-9a11-9627ba2be64d",
   "metadata": {},
   "outputs": [],
   "source": [
    "G.reset_index(inplace=True)"
   ]
  },
  {
   "cell_type": "code",
   "execution_count": null,
   "id": "da3e2f14-fd3d-408d-b831-ffa64c7e5957",
   "metadata": {},
   "outputs": [],
   "source": [
    "merge = pd.merge(G, job, how=\"left\", on=[\"fuxi_job_name\"])"
   ]
  },
  {
   "cell_type": "code",
   "execution_count": null,
   "id": "43b11997-c79b-4562-b149-f43e3559e2cf",
   "metadata": {},
   "outputs": [],
   "source": [
    "merge = pd.merge(merge, task_inst_num, how=\"left\", on=[\"fuxi_job_name\", \"fuxi_task_name\"])"
   ]
  },
  {
   "cell_type": "code",
   "execution_count": null,
   "id": "8dc829cb-a1cb-4427-84c7-9931d7f83188",
   "metadata": {
    "tags": []
   },
   "outputs": [],
   "source": [
    "merge.T"
   ]
  },
  {
   "cell_type": "code",
   "execution_count": null,
   "id": "fca32ddf-9304-4ff0-8474-f9e13ce275cd",
   "metadata": {},
   "outputs": [],
   "source": [
    "y = merge[[\"fuxi_avg_cpu\", \"fuxi_avg_mem\", \"total_time_seconds\"]].values"
   ]
  },
  {
   "cell_type": "code",
   "execution_count": null,
   "id": "ee1b1751-233b-4d09-adf3-d20d0570b1f5",
   "metadata": {},
   "outputs": [],
   "source": [
    "sy = (y[:, 0] * 5 + y[:, 1]) * 4  + y[:, 2]"
   ]
  },
  {
   "cell_type": "code",
   "execution_count": null,
   "id": "724d7f21-01b4-4bb9-b343-6b9fdcc2b705",
   "metadata": {},
   "outputs": [],
   "source": [
    "en = [\"odps_task_type\", \"running_cluster\", \"fuxi_quota_name\", \"running_mode\", \"fuxi_quota_id\"] #注意task_seq, fuxi_task_name\n",
    "for i in en:\n",
    "    merge[i] = LabelEncoder().fit_transform(merge[i])"
   ]
  },
  {
   "cell_type": "code",
   "execution_count": null,
   "id": "f4e7dcb9-1a50-4b8b-9cf6-073e77c223cf",
   "metadata": {
    "tags": []
   },
   "outputs": [],
   "source": [
    "merge.fuxi_avg_cpu.value_counts()"
   ]
  },
  {
   "cell_type": "code",
   "execution_count": null,
   "id": "38d0ffd7-5d2a-4b46-b35c-e077d613550f",
   "metadata": {},
   "outputs": [],
   "source": [
    "X = merge[[\"start_time_x\", \"odps_task_type\", \"fuxi_job_sn\", \"running_cluster\", \"fuxi_quota_id\", \"fuxi_quota_name\", \"fuxi_task_num\",\n",
    "          \"fuxi_inst_num\", \"running_mode\", \"start_time_y\", \"plan_cpu_cost\", \"plan_mem_cost\", \"task_inst_num\"]].values"
   ]
  },
  {
   "cell_type": "code",
   "execution_count": null,
   "id": "26f08710-fde6-4d55-ae96-aaf860991ff4",
   "metadata": {},
   "outputs": [],
   "source": [
    "X"
   ]
  },
  {
   "cell_type": "markdown",
   "id": "f24f97ba-6b04-423f-8bab-37b231b7c583",
   "metadata": {},
   "source": [
    "随机划分样本，CPU， MEM， Duration 0.82， 0.63，0.91\n",
    "前六天，后一天，CPU， MEM，Duration，0.76， 0.60， 0.92"
   ]
  },
  {
   "cell_type": "markdown",
   "id": "00831b40-19b1-4e57-8bd8-c4525743314d",
   "metadata": {},
   "source": [
    "task数目 586069\n",
    "占据数量前十的DAG结构，他们对应的预测精度\n",
    "任务数目最多的DAG结构，他们对应的预测精度"
   ]
  },
  {
   "cell_type": "code",
   "execution_count": null,
   "id": "6fafafcc-70af-43ee-9446-be4bf779cfbb",
   "metadata": {},
   "outputs": [],
   "source": [
    "model = RandomForestClassifier()\n",
    "X_train, X_test, y_train, y_test = X[merge.start_time_y<1644595200], X[merge.start_time_y>=1644595200], y[merge.start_time_y<1644595200, 2], y[merge.start_time_y>=1644595200, 2]\n",
    "model.fit(X_train, y_train)\n",
    "model.score(X_test, y_test)"
   ]
  },
  {
   "cell_type": "code",
   "execution_count": null,
   "id": "c9fa09f0-e4fd-4173-b315-4e244712077c",
   "metadata": {},
   "outputs": [],
   "source": [
    "DAG = merge.task_seq.unique()"
   ]
  },
  {
   "cell_type": "code",
   "execution_count": null,
   "id": "a3d4dfe8-193e-4e6b-86e9-3a06efb4cc16",
   "metadata": {
    "tags": []
   },
   "outputs": [],
   "source": [
    "df_DAG = []\n",
    "df_trainsize = []\n",
    "df_testsize = [] \n",
    "df_taskname = []\n",
    "df_tasknum = []\n",
    "df_result = []\n",
    "df_tasktype = []\n",
    "df_insnum = []\n",
    "df_taskinstnum = []\n",
    "\n",
    "df_predict = []\n",
    "df_true = []\n",
    "\n",
    "\n",
    "for dag, i in zip(DAG, range(DAG.shape[0])):\n",
    "    print(i, end=', ')\n",
    "    me = merge[merge.task_seq==dag]\n",
    "    for t in me.fuxi_task_name.unique():\n",
    "        temp = me[me.fuxi_task_name==t]\n",
    "        result = [-1, -1, -1]\n",
    "\n",
    "        predict_v = []\n",
    "        y = temp[[\"fuxi_avg_cpu\", \"fuxi_avg_mem\", \"total_time_seconds\"]].values\n",
    "        X = temp[[\"start_time_x\", \"odps_task_type\", \"fuxi_job_sn\", \"running_cluster\", \"fuxi_quota_id\", \"fuxi_quota_name\", \"fuxi_task_num\",\n",
    "              \"fuxi_inst_num\", \"running_mode\", \"start_time_y\", \"plan_cpu_cost\", \"plan_mem_cost\", \"task_inst_num\"]].values  \n",
    "        X_train, X_test, y_train, y_test = X[temp.start_time_y<1644595200], X[temp.start_time_y>=1644595200], y[temp.start_time_y<1644595200], y[temp.start_time_y>=1644595200]\n",
    "        \n",
    "        if X_train.shape[0]<6 or not X_test.shape[0]:\n",
    "            continue\n",
    "        \n",
    "        for i in range(3):\n",
    "            model = RandomForestClassifier()\n",
    "            model.fit(X_train, y_train[:, i])\n",
    "            result[i] = model.score(X_test, y_test[:, i])\n",
    "            predict_v.append(model.predict(X_test))\n",
    "        predict_value = np.asarray(predict_v).T\n",
    "        true_value = y_test\n",
    "        for s in range(true_value.shape[0]):\n",
    "            df_true.append(true_value[s])\n",
    "            df_predict.append(predict_value[s])   \n",
    "\n",
    "            \n",
    "        for s in X_test:\n",
    "            df_DAG.append(dag)\n",
    "            df_taskname.append(t)\n",
    "            df_tasknum.append(s[6])\n",
    "            df_insnum.append(s[7])\n",
    "            df_taskinstnum.append(s[12])\n",
    "            df_tasktype.append(s[1])\n",
    "            df_result.append(result)\n",
    "            df_totalresult.append(totalresult)\n",
    "            df_trainsize.append(X_train.shape[0])\n",
    "            df_testsize.append(X_test.shape[0])\n"
   ]
  },
  {
   "cell_type": "code",
   "execution_count": null,
   "id": "4e6e8abf-b3d5-40ce-8292-bfb75e77b403",
   "metadata": {},
   "outputs": [],
   "source": [
    "df = pd.DataFrame()\n",
    "for name, i in zip([\"DAG\", \"taskname\", \"tasknum\", \"insnum\", \"taskinstnum\", \"tasktype\", \"trainsize\", \"testsize\"], [df_DAG, df_taskname, df_tasknum, df_insnum, df_taskinstnum, df_tasktype, df_trainsize, df_testsize]):\n",
    "    df[name] = i\n",
    "for name, i in zip([\"cpu_result\", \"mem_result\", \"duration_result\"], range(3)):\n",
    "    df[name] = np.asarray(df_result)[:, i]"
   ]
  },
  {
   "cell_type": "code",
   "execution_count": null,
   "id": "87730b20-3ed3-41ed-b187-2d639e09de3d",
   "metadata": {},
   "outputs": [],
   "source": [
    "for name, i in zip([\"cpu_true\", \"mem_true\", \"duration_true\"], range(3)):\n",
    "    df[name] = np.asarray(df_true)[:, i]\n",
    "for name, i in zip([\"cpu_predict\", \"mem_predict\", \"duration_predict\"], range(3)):\n",
    "    df[name] = np.asarray(df_predict)[:, i]"
   ]
  },
  {
   "cell_type": "code",
   "execution_count": null,
   "id": "d665f112-6a37-4a1a-8797-fa67663440a0",
   "metadata": {},
   "outputs": [],
   "source": [
    "temp = []\n",
    "for i in range(df.shape[0]):\n",
    "    if df.cpu_true.values[i] == df.cpu_predict.values[i] and df.mem_true.values[i]==df.mem_predict.values[i] and df.duration_true.values[i]==df.duration_predict.values[i]:\n",
    "        temp.append(1)\n",
    "    else:\n",
    "        temp.append(0)\n",
    "df[\"totaltrue\"] = temp"
   ]
  },
  {
   "cell_type": "code",
   "execution_count": null,
   "id": "efc9cc1c-d691-4d0a-85f9-1b376a8dbaf5",
   "metadata": {},
   "outputs": [],
   "source": [
    "temp = df[df.mem_true!=df.mem_predict].cpu.values\n",
    "plt.plot(sorted(temp), np.arange(temp.shape[0]) / (temp.shape[0] - 1))\n",
    "plt.xlim(0, 200)"
   ]
  },
  {
   "cell_type": "code",
   "execution_count": null,
   "id": "06a26b48-6bbd-4a3e-87d6-560a17d3aa78",
   "metadata": {
    "tags": []
   },
   "outputs": [],
   "source": [
    "l = []\n",
    "for dag, i in zip(DAG, range(DAG.shape[0])):\n",
    "    print(i, end=', ')\n",
    "    me = merge[merge.task_seq==dag]\n",
    "    for t in me.fuxi_task_name.unique():\n",
    "        temp = me[me.fuxi_task_name==t]\n",
    "        X = temp[[\"fuxi_avg_cpu\", \"fuxi_avg_mem\", \"total_time_seconds\"]].values\n",
    "        X_train, X_test = X[temp.start_time_y<1644595200], X[temp.start_time_y>=1644595200]\n",
    "        \n",
    "        if X_train.shape[0]<6 or not X_test.shape[0]:\n",
    "            continue\n",
    "        for x in X_test:\n",
    "            l.append(x)"
   ]
  },
  {
   "cell_type": "code",
   "execution_count": null,
   "id": "11b0cad9-6b7e-43f2-9322-649f9f305a6f",
   "metadata": {},
   "outputs": [],
   "source": [
    "df.T"
   ]
  },
  {
   "cell_type": "code",
   "execution_count": null,
   "id": "20ef034d-05e9-48c6-9f02-c4aedddfe7fc",
   "metadata": {},
   "outputs": [],
   "source": [
    "job1 = df.groupby([\"DAG\", \"taskname\"]).count().sort_values(by=[\"tasknum\"], ascending=False)\n",
    "job1.reset_index(inplace=True)"
   ]
  },
  {
   "cell_type": "code",
   "execution_count": null,
   "id": "64723916-38d4-48b5-ac7c-7439cc34289d",
   "metadata": {
    "tags": []
   },
   "outputs": [],
   "source": [
    "acc = []\n",
    "for dag in job1.DAG.unique()[:10]:\n",
    "    temp = df[df.DAG==dag]\n",
    "    for task in temp.taskname.unique():\n",
    "        tep = temp[temp.taskname==task]\n",
    "        acc.append(np.sum(tep.totaltrue) / tep.shape[0])"
   ]
  },
  {
   "cell_type": "code",
   "execution_count": null,
   "id": "79648900-cfc4-467e-8808-7f1644322faa",
   "metadata": {},
   "outputs": [],
   "source": [
    "print(acc, sep=',')"
   ]
  },
  {
   "cell_type": "code",
   "execution_count": null,
   "id": "c8a3c089-7ec9-4dc3-92ed-484db93a2a3f",
   "metadata": {},
   "outputs": [],
   "source": [
    "job2 = df.sort_values(by=[\"tasknum\"], ascending=False)"
   ]
  },
  {
   "cell_type": "code",
   "execution_count": null,
   "id": "6d803a16-741a-4048-8d11-c00606982b8a",
   "metadata": {
    "tags": []
   },
   "outputs": [],
   "source": [
    "acc = []\n",
    "for dag in job2.DAG.unique()[:10]:\n",
    "    temp = df[df.DAG==dag]\n",
    "    for task in temp.taskname.unique():\n",
    "        tep = temp[temp.taskname==task]\n",
    "        print(task, tep.tasknum.values[0], tep.shape[0], np.sum(tep.taskinstnum), np.sum(tep.totaltrue))"
   ]
  },
  {
   "cell_type": "code",
   "execution_count": null,
   "id": "e0c01131-0459-44e0-ae85-14b050d06add",
   "metadata": {},
   "outputs": [],
   "source": [
    "job3 = df.sort_values(by=[\"taskinstnum\"], ascending=False)"
   ]
  },
  {
   "cell_type": "code",
   "execution_count": null,
   "id": "42b6b9b1-9524-4496-a660-ba22b3b702c2",
   "metadata": {},
   "outputs": [],
   "source": [
    "job3.head(1000)"
   ]
  },
  {
   "cell_type": "code",
   "execution_count": null,
   "id": "c784b20c-926f-4b20-875d-8f21ebe2c3fa",
   "metadata": {},
   "outputs": [],
   "source": [
    "job4 = df.groupby([\"DAG\", \"taskname\"]).mean().sort_values(by=[\"totaltrue\"], ascending=False)"
   ]
  },
  {
   "cell_type": "code",
   "execution_count": null,
   "id": "c6195582-0be6-40ec-b3a1-b2e8f916b6f2",
   "metadata": {},
   "outputs": [],
   "source": [
    "job4[(job4.totaltrue>0.9) & (job4.testsize>10)].sort_values(by=[\"testsize\"])"
   ]
  },
  {
   "cell_type": "markdown",
   "id": "4f96bcd2-7c0e-49be-a650-610f80dcb4da",
   "metadata": {},
   "source": [
    "0: Algo\n",
    "1: LOT\n",
    "2: Merge\n",
    "3: PS"
   ]
  },
  {
   "cell_type": "code",
   "execution_count": null,
   "id": "60d36ab6-6718-4dbd-ae4d-71a0afd9b2bd",
   "metadata": {},
   "outputs": [],
   "source": [
    "temp = df[(df.tasktype!=4) & (df.tasktype!=1)]\n",
    "(temp.totaltrue * temp.taskinstnum).sum() / temp.taskinstnum.sum()\n"
   ]
  },
  {
   "cell_type": "code",
   "execution_count": null,
   "id": "cc3ac8c8-32ab-4001-bea8-e411978ccecb",
   "metadata": {},
   "outputs": [],
   "source": [
    "df[df.tasktype==2]"
   ]
  },
  {
   "cell_type": "code",
   "execution_count": null,
   "id": "9afd79b3-552c-46cd-9a3c-59c275eaa787",
   "metadata": {},
   "outputs": [],
   "source": [
    "df[df.taskname==\"Predict\"].sort_values(by=[\"cpu_true\", \"mem_true\", \"duration_true\"])"
   ]
  },
  {
   "cell_type": "code",
   "execution_count": null,
   "id": "92e088d5-296a-4ec2-9100-243a9b887e03",
   "metadata": {
    "tags": []
   },
   "outputs": [],
   "source": [
    "merge[merge.fuxi_task_name==\"Predict\"].sort_values(by=[\"total_time_seconds\"]).tail(20)"
   ]
  },
  {
   "cell_type": "code",
   "execution_count": null,
   "id": "5fae4e72-2333-4531-bb34-b93f28d4d5f4",
   "metadata": {},
   "outputs": [],
   "source": [
    "for i in range(5):\n",
    "    temp = df[df.tasktype==i]\n",
    "    print(temp.totaltrue.sum() / temp.shape[0], end=', ')"
   ]
  },
  {
   "cell_type": "code",
   "execution_count": null,
   "id": "c24b1a4b-b69a-486e-8ce9-fdf0b9c9db0d",
   "metadata": {},
   "outputs": [],
   "source": [
    "temp = []\n",
    "cpu = data.fuxi_avg_cpu.values\n",
    "for i in range(cpu.shape[0]):\n",
    "    index = 0\n",
    "    if cpu[i] < 50:\n",
    "        index = 0\n",
    "    elif 50 <= cpu[i] < 150:\n",
    "        index = 1\n",
    "    else:\n",
    "        index = 2\n",
    "    temp.append(index)\n",
    "data[\"fuxi_avg_cpu_index\"]  = temp\n",
    "temp = []\n",
    "mem = data.fuxi_avg_mem.values\n",
    "for i in range(mem.shape[0]):\n",
    "    if mem[i] < 512:\n",
    "        index = 0\n",
    "    elif 512 <= mem[i] < 1536:\n",
    "        index = 1\n",
    "    elif 1536 <= mem[i] < 3072:\n",
    "        index = 2\n",
    "    elif 3072 <= mem[i] < 6144:\n",
    "        index = 3\n",
    "    else:\n",
    "        index = 4\n",
    "    temp.append(index)\n",
    "data[\"fuxi_avg_mem_index\"] = temp\n",
    "temp = []\n",
    "t = data.total_time_seconds.values\n",
    "for i in range(t.shape[0]):\n",
    "    if t[i] < 20:\n",
    "        index = 0\n",
    "    elif 20 <= t[i] < 40:\n",
    "        index = 1\n",
    "    elif 40 <= t[i] < 100:\n",
    "        index = 2\n",
    "    else:\n",
    "        index = 3\n",
    "    temp.append(index)\n",
    "data[\"total_time_seconds_index\"] = temp"
   ]
  },
  {
   "cell_type": "code",
   "execution_count": null,
   "id": "4c0cfe9c-49eb-48ac-9500-083057d7d9e6",
   "metadata": {},
   "outputs": [],
   "source": [
    "data[\"category\"] = data.fuxi_avg_cpu_index.astype(str) + data.fuxi_avg_mem_index.astype(str) + data.total_time_seconds_index.astype(str)\n"
   ]
  },
  {
   "cell_type": "code",
   "execution_count": null,
   "id": "0ffbb347-ae3d-4065-b070-68a9cbfac249",
   "metadata": {
    "tags": []
   },
   "outputs": [],
   "source": [
    "np.savetxt(\"/data/zkp/BEList/MEM.txt\", data.iloc[15000000:16000000].fuxi_avg_mem_index.values, fmt=\"%d\")\n"
   ]
  },
  {
   "cell_type": "code",
   "execution_count": null,
   "id": "c4259af1-e09d-4f63-b8c8-34b54b2153be",
   "metadata": {},
   "outputs": [],
   "source": [
    "data.iloc[15000000:16000000].category.value_counts().shape\n"
   ]
  },
  {
   "cell_type": "code",
   "execution_count": null,
   "id": "06bd8044-71bf-4e25-8afd-f3cf16a58c20",
   "metadata": {},
   "outputs": [],
   "source": [
    "import random\n",
    "import os\n",
    "import time\n",
    "\n",
    "\n",
    "pods = [\"spark-2dc6t\", \"spark-4dtmv\", \"spark-4mltm\", \"spark-5xwvb\", \"spark-6rl6h\", \"spark-72c2z\", \"spark-7whm8\", \"spark-bqtnn\", \"spark-d5vk8\", \"spark-g577r\", \"spark-lnzgq\", \"spark-zcw6h\", \"spark-zpvsw\"]\n",
    "\n",
    "# for pod in pods:\n",
    "#     os.system(\"nohup kubectl exec \" + pod + \" ./spark-bench_2.3.0_0.4.0-RELEASE/bin/spark-bench.sh ./spark-bench_2.3.0_0.4.0-RELEASE/examples/data_kmeans0.conf > /dev/null 2>&1 &\")\n",
    "#     os.system(\"nohup kubectl exec \" + pod + \" ./spark-bench_2.3.0_0.4.0-RELEASE/bin/spark-bench.sh ./spark-bench_2.3.0_0.4.0-RELEASE/examples/data_kmeans1.conf > /dev/null 2>&1 &\")\n",
    "#     os.system(\"nohup kubectl exec \" + pod + \" ./spark-bench_2.3.0_0.4.0-RELEASE/bin/spark-bench.sh ./spark-bench_2.3.0_0.4.0-RELEASE/examples/data_sql.conf > /dev/null 2>&1 &\")\n",
    "# time.sleep(180)\n",
    "# print(\"generate data finished\")\n",
    "\n",
    "cpu = np.loadtxt(\"./CPU.txt\", dtype=int)\n",
    "mem = np.loadtxt(\"./MEM.txt\", dtype=int)\n",
    "makespan = np.loadtxt(\"./Makespan.txt\", dtype=int)\n",
    "\n",
    "while True:\n",
    "    for i in range(len(cpu)):\n",
    "        job = \"BE_{}_{}_{}.conf\".format(cpu[i], mem[i], makespan[i])\n",
    "        try:\n",
    "            for pod in pods:\n",
    "                os.system(\"nohup kubectl exec \" + pod +  \" ./spark-bench_2.3.0_0.4.0-RELEASE/bin/spark-bench.sh ./spark-bench_2.3.0_0.4.0-RELEASE/examples/\" + job + \" > /dev/null 2>&1 &\")\n",
    "            print(\"{}_{}_{}\".format(cpu, mem, makespan))\n",
    "        except:\n",
    "            print(\"Error_{}_{}_{}\".format(cpu, mem, makespan))\n",
    "        time.sleep(5)\n"
   ]
  },
  {
   "cell_type": "code",
   "execution_count": null,
   "id": "392aead3-020f-4482-b711-25c0c4eda2df",
   "metadata": {},
   "outputs": [],
   "source": [
    "cpu = np.loadtxt(\"/data/zkp/BEList/CPU.txt\", dtype=int)\n",
    "mem = np.loadtxt(\"/data/zkp/BEList/MEM.txt\", dtype=int)\n",
    "makespan = np.loadtxt(\"/data/zkp/BEList/Makespan.txt\", dtype=int)"
   ]
  },
  {
   "cell_type": "code",
   "execution_count": null,
   "id": "377ef1e1-7ab8-41e5-a499-206df42109ac",
   "metadata": {},
   "outputs": [],
   "source": [
    "import subprocess"
   ]
  },
  {
   "cell_type": "code",
   "execution_count": null,
   "id": "c0f04100-3608-4a54-b052-812b8031a635",
   "metadata": {},
   "outputs": [],
   "source": [
    "ov = np.loadtxt(\"/data/zkp/BEList/overview_cpu.txt\")"
   ]
  },
  {
   "cell_type": "code",
   "execution_count": null,
   "id": "ab1239c1-f6bd-4919-a00a-afe30eec33f4",
   "metadata": {},
   "outputs": [],
   "source": [
    "temp = []\n",
    "for i in ov:\n",
    "    t = 0\n",
    "    if i < 40:\n",
    "        t = 5\n",
    "    elif i < 50:\n",
    "        t = 3\n",
    "    elif i < 60:\n",
    "        t = 2\n",
    "    else:\n",
    "        t = 1.5\n",
    "    temp.append(t)"
   ]
  },
  {
   "cell_type": "code",
   "execution_count": null,
   "id": "bc526bf4-3f6f-4968-8851-449044b2f4ed",
   "metadata": {},
   "outputs": [],
   "source": [
    "for i in temp:\n",
    "    print(i, end=',')"
   ]
  },
  {
   "cell_type": "code",
   "execution_count": null,
   "id": "38b6eda1-85ed-4945-8f67-c4483297847c",
   "metadata": {},
   "outputs": [],
   "source": [
    "temp[19+24*3]"
   ]
  }
 ],
 "metadata": {
  "kernelspec": {
   "display_name": "Python 3 (ipykernel)",
   "language": "python",
   "name": "python3"
  },
  "language_info": {
   "codemirror_mode": {
    "name": "ipython",
    "version": 3
   },
   "file_extension": ".py",
   "mimetype": "text/x-python",
   "name": "python",
   "nbconvert_exporter": "python",
   "pygments_lexer": "ipython3",
   "version": "3.8.8"
  }
 },
 "nbformat": 4,
 "nbformat_minor": 5
}
