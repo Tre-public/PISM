{
 "cells": [
  {
   "cell_type": "markdown",
   "id": "e9275556-51c1-4edf-9ce8-871f443298f5",
   "metadata": {},
   "source": [
    "### 微架构数据\n",
    "\n",
    "    select name, value, values, tags, source_data_time, etl_time\n",
    "    from sunfiredw_ods.ods_kmonitor_metric_asi_aprof_fb_20s \n",
    "    where dt='20220919' and  dh=='14' and dm == '00' \n",
    "    and name = 'node_aprof_cpi'\n",
    "    limit 1000;\n",
    "\n",
    "    https://yuque.antfin.com/xe1y9a/ghhdpq/ygpavc\n",
    "    \n",
    "    \n",
    "    \n",
    "    微架构数据：\n",
    "    分类/score/验证\n",
    "    调度能不能？\n",
    "    \n",
    "    node_cpu_cpi_per_cpu, node_uncore_imc_latency_ns"
   ]
  },
  {
   "cell_type": "code",
   "execution_count": null,
   "id": "9713e3b5-b695-4d15-85ef-51a43fe55e3e",
   "metadata": {},
   "outputs": [],
   "source": [
    "from pets.core.data_loader.odps_acl.general_acl_odps import get_odps_table as pets_get_odps_table,\\\n",
    "get_odps_table_without_ds as pets_get_odps_table_without_ds, write_odps_table as pets_write_odps_table\n",
    "import numpy as py\n",
    "import pandas as pd\n",
    "import matplotlib.pyplot as plt"
   ]
  },
  {
   "cell_type": "code",
   "execution_count": null,
   "id": "bd211b8e-4717-4f17-950a-50265198352e",
   "metadata": {},
   "outputs": [],
   "source": [
    "ods_kmonitor_metric_asi_aprof_fb_20s = pets_get_odps_table_without_ds(\n",
    "    table_name=\"pets.ods_kmonitor_metric_asi_aprof_fb_20s\")\n",
    "\n",
    "ods_kmonitor_metric_asi_aprof_fb_20s = ods_kmonitor_metric_asi_aprof_fb_20s[\n",
    "    ods_kmonitor_metric_asi_aprof_fb_20s.name==\"node_uncore_imc_bw_util\"\n",
    "]\n",
    "# ods_kmonitor_metric_asi_aprof_fb_20s = ods_kmonitor_metric_asi_aprof_fb_20s[\n",
    "#     ods_kmonitor_metric_asi_aprof_fb_20s.dh==\"20\"\n",
    "# ]\n",
    "# ods_kmonitor_metric_asi_aprof_fb_20s = ods_kmonitor_metric_asi_aprof_fb_20s[\n",
    "#     ods_kmonitor_metric_asi_aprof_fb_20s.dm==\"00\"\n",
    "# ]\n",
    "ods_kmonitor_metric_asi_aprof_fb_20s = ods_kmonitor_metric_asi_aprof_fb_20s[\n",
    "    ods_kmonitor_metric_asi_aprof_fb_20s.tags.contains(\"11.16.92.126\")\n",
    "]\n",
    "\n",
    "ods_kmonitor_metric_asi_aprof_fb_20s = ods_kmonitor_metric_asi_aprof_fb_20s.to_pandas()\n"
   ]
  },
  {
   "cell_type": "code",
   "execution_count": null,
   "id": "32b0cac3-3316-4d12-a026-29f0474d3895",
   "metadata": {},
   "outputs": [],
   "source": [
    "ods_kmonitor_metric_asi_aprof_fb_20s.sort_values(by=[\"tags\", \"source_data_time\"])"
   ]
  },
  {
   "cell_type": "code",
   "execution_count": null,
   "id": "61f3393d-573c-485a-bb6e-55ddcd557369",
   "metadata": {},
   "outputs": [],
   "source": [
    "t = ods_kmonitor_metric_asi_aprof_fb_20s.source_data_time.values\n",
    "t = sorted(t)\n",
    "st = {}\n",
    "for i in range(1, len(t)):\n",
    "    d = int(t[i])-int(t[i-1])\n",
    "    # if d not in st:\n",
    "    #     st[d] = 0\n",
    "    # st[d] += 1\n",
    "    if d == 673220000:\n",
    "        print(t[i], t[i-1])\n",
    "st"
   ]
  },
  {
   "cell_type": "code",
   "execution_count": null,
   "id": "c4cfa35f-2696-4281-8324-ce305dc0fe6a",
   "metadata": {},
   "outputs": [],
   "source": [
    "ods_kmonitor_metric_asi_aprof_fb_20s[(ods_kmonitor_metric_asi_aprof_fb_20s.name.str.find(\"node\")!=-1) & \n",
    "                                    (ods_kmonitor_metric_asi_aprof_fb_20s.tags == \"cluster\\x1fasi_zjk_core_a02\\x1dcolocation\\x1fodps\\x1dcore\\x1f0\\x1dcpu\\x1f0\\x1dcpu_model\\x1fCascadeLake\\x1delastic_node\\x1funknown\\x1dgpu_model\\x1funknown\\x1dhippo_cluster\\x1funknown\\x1dinstance\\x1f11.16.92.123\\x1dkernel\\x1f4.9.151-015.ali3000.alios7.x86_64\\x1dmachine_type\\x1fecs.ebmm6-1nvme.26xlarge\\x1dnode\\x1f0\\x1dnode_app_group\\x1fphyhost-ecs_na610_ay49c\\x1dnode_app_unit\\x1fCENTER_UNIT.center\\x1dnode_domain\\x1funknown\\x1dnode_sn\\x1fi-8vbc06xfwoxcgm6g9a5d\\x1dpartition\\x1fdefault\\x1dresource_pool\\x1fsigma_public\\x1dschedule_group\\x1funknown\\x1dscrape_endpoint\\x1f9199/metrics/aprof\\x1dsite\\x1fna610\\x1dsocket\\x1f0\")].sort_values(by=[\"source_data_time\"])"
   ]
  }
 ],
 "metadata": {
  "kernelspec": {
   "display_name": "Python 3 (ipykernel)",
   "language": "python",
   "name": "python3"
  },
  "language_info": {
   "codemirror_mode": {
    "name": "ipython",
    "version": 3
   },
   "file_extension": ".py",
   "mimetype": "text/x-python",
   "name": "python",
   "nbconvert_exporter": "python",
   "pygments_lexer": "ipython3",
   "version": "3.8.8"
  }
 },
 "nbformat": 4,
 "nbformat_minor": 5
}
