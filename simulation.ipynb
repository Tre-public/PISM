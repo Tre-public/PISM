{
 "cells": [
  {
   "cell_type": "code",
   "execution_count": null,
   "id": "e24a574e-0908-4190-9e72-d560e29104aa",
   "metadata": {},
   "outputs": [],
   "source": [
    "import pandas as pd\n",
    "from sklearn.ensemble import RandomForestClassifier, RandomForestRegressor\n",
    "import numpy as np\n",
    "from sklearn.model_selection import train_test_split\n",
    "import matplotlib.pyplot as plt\n",
    "from sklearn.ensemble import GradientBoostingClassifier\n",
    "from sklearn.linear_model import LinearRegression\n",
    "%matplotlib inline\n",
    "import time"
   ]
  },
  {
   "cell_type": "code",
   "execution_count": null,
   "id": "fd8a46f3-0611-4726-8f87-2ffd59940a24",
   "metadata": {},
   "outputs": [],
   "source": [
    "DATA = pd.read_csv(\"/data/zkp/buy2/service/DATA.csv\")\n",
    "DATA_X = np.load(\"/data/zkp/buy2/service/DATA.npy\")\n",
    "\n",
    "# DATA_X = DATA_X[(DATA.container_ip==\"33.61.250.148\")]\n",
    "# DATA = DATA[(DATA.container_ip==\"33.61.250.148\")]\n",
    "\n",
    "X = []"
   ]
  },
  {
   "cell_type": "code",
   "execution_count": null,
   "id": "babfa027-a820-405e-9a31-017caf71313c",
   "metadata": {},
   "outputs": [],
   "source": [
    "DATA"
   ]
  },
  {
   "cell_type": "code",
   "execution_count": null,
   "id": "db8dfa17-ebf3-4cd9-bbe3-ab2bf2d7c347",
   "metadata": {},
   "outputs": [],
   "source": [
    "mp = {}\n",
    "cpu = offline.cpu_util__pct.values\n",
    "t = offline.sample_time.values\n",
    "for i in range(offline.shape[0]):\n",
    "    mp[t[i]] = [cpu[i]]"
   ]
  },
  {
   "cell_type": "code",
   "execution_count": null,
   "id": "dcc9ed27-8be3-4b1f-bd01-42b0240cc82d",
   "metadata": {},
   "outputs": [],
   "source": [
    "for ip in svc.container_ip.unique():\n",
    "    temp = svc[svc.container_ip==ip]\n",
    "    t = temp.sample_time__m.apply(lambda x:int(time.mktime(time.strptime(x, \"%Y-%m-%d %H:%M:%S\")))).values\n",
    "    r = temp[\"rank\"].values\n",
    "    for i in range(t.shape[0]):\n",
    "        if t[i] in mp:\n",
    "            mp[t[i]].append(r[i])\n"
   ]
  },
  {
   "cell_type": "code",
   "execution_count": null,
   "id": "d825b6f2-1d51-43a2-9f5b-3ed04ad62a5a",
   "metadata": {},
   "outputs": [],
   "source": [
    "mpp = []\n",
    "for key in mp:\n",
    "    if len(mp[key]) == 6:\n",
    "        mpp.append(mp[key])\n",
    "#         X.append(DATA_X[DATA.sample_time==key])\n",
    "mpp = np.asarray(mpp)"
   ]
  },
  {
   "cell_type": "code",
   "execution_count": null,
   "id": "0f07e819-39cf-422a-868b-3cb2613f5c09",
   "metadata": {},
   "outputs": [],
   "source": [
    "# X = np.asarray(X).reshape(-1, 60)\n",
    "X.shape, mpp.shape"
   ]
  },
  {
   "cell_type": "code",
   "execution_count": null,
   "id": "d4093947-3445-4121-bafa-fbddbedec1ba",
   "metadata": {},
   "outputs": [],
   "source": [
    "for i in range(1, 6):\n",
    "    mpp[:, i] = (mpp[:, i] - np.mean(mpp[:, i])) / np.std(mpp[:, i])"
   ]
  },
  {
   "cell_type": "code",
   "execution_count": null,
   "id": "5c27e734-61a2-4064-a742-cbd3cb5d9fe9",
   "metadata": {},
   "outputs": [],
   "source": [
    "plt.plot(range(mpp[:, 1].shape[0]), mpp[:, 1])"
   ]
  },
  {
   "cell_type": "code",
   "execution_count": null,
   "id": "c2b70e1d-425d-4ac2-9d58-a44764d6f1d1",
   "metadata": {},
   "outputs": [],
   "source": [
    "mean = []\n",
    "for ip in svc.container_ip.unique():\n",
    "    temp = svc[svc.container_ip==ip]\n",
    "    mean.append(np.mean(temp.rt__ms_Q.values))\n"
   ]
  },
  {
   "cell_type": "code",
   "execution_count": null,
   "id": "11549421-1d37-4226-bbfe-12c3e04d64cc",
   "metadata": {},
   "outputs": [],
   "source": [
    "svc.container_ip.unique()"
   ]
  },
  {
   "cell_type": "code",
   "execution_count": null,
   "id": "2e64a743-d8e2-41c9-8d93-af9ac259e960",
   "metadata": {
    "tags": []
   },
   "outputs": [],
   "source": [
    "np.corrcoef(mpp.T)"
   ]
  },
  {
   "cell_type": "code",
   "execution_count": null,
   "id": "45db6703-2489-4681-a910-61494f6b60cb",
   "metadata": {
    "tags": []
   },
   "outputs": [],
   "source": [
    "y = []\n",
    "for i in range(mpp.shape[0]):\n",
    "    y.append(mpp[i, 1]*0.515*16 + mpp[i, 3]*0.256*4 + mpp[i, 4]*0.323*8)"
   ]
  },
  {
   "cell_type": "code",
   "execution_count": null,
   "id": "aea71281-a5c9-4f05-a3f7-240931f85811",
   "metadata": {},
   "outputs": [],
   "source": [
    "y = np.asarray(y)"
   ]
  },
  {
   "cell_type": "code",
   "execution_count": null,
   "id": "cf36ae5d-e35e-43bf-8a51-ff58c206aebc",
   "metadata": {
    "tags": []
   },
   "outputs": [],
   "source": [
    "y = (y - min(y)) / (max(y) - min(y))"
   ]
  },
  {
   "cell_type": "code",
   "execution_count": null,
   "id": "feb8e11a-c46d-45d3-88e5-311919772453",
   "metadata": {
    "tags": []
   },
   "outputs": [],
   "source": [
    "from sklearn.linear_model import LinearRegression\n",
    "model = LinearRegression()\n",
    "model.fit(X, y)\n",
    "model.score(X, y)"
   ]
  },
  {
   "cell_type": "code",
   "execution_count": null,
   "id": "4888159c-108e-49f0-b2a8-9057bac02033",
   "metadata": {},
   "outputs": [],
   "source": [
    "predict = model.predict(X)\n",
    "plt.scatter(predict, y)\n",
    "plt.xlabel(\"Predict score\")\n",
    "plt.ylabel(\"Machine level interference\")"
   ]
  },
  {
   "cell_type": "code",
   "execution_count": null,
   "id": "19dbdff3-18c1-4db1-a4b9-7b4d91440375",
   "metadata": {
    "tags": []
   },
   "outputs": [],
   "source": [
    "pod_meta  = pd.read_csv(\"/data/zkp/pod_meta.csv\")\n",
    "pod_meta"
   ]
  },
  {
   "cell_type": "code",
   "execution_count": null,
   "id": "fedebb7f-6ecb-48d1-9a97-c308fae3d3b9",
   "metadata": {},
   "outputs": [],
   "source": [
    "svc = pd.read_csv(\"/data/zkp/buy2/service/allservice2.csv\")\n",
    "svc = svc[(svc.throughput_type==\"HSF\") &(~pd.isna(svc.rt__ms_Q))]"
   ]
  },
  {
   "cell_type": "code",
   "execution_count": null,
   "id": "b61cf9e4-06ca-4393-927b-0a13663dcfea",
   "metadata": {},
   "outputs": [],
   "source": [
    "onoffline = pd.read_csv(\"/data/zkp/buy2/service/onoffline2.csv\")\n",
    "offline = onoffline[onoffline.Task_Type==\"Offline\"]"
   ]
  },
  {
   "cell_type": "code",
   "execution_count": null,
   "id": "8ef62158-ab87-4524-8924-f503ff449cdf",
   "metadata": {},
   "outputs": [],
   "source": [
    "# DATA = pd.merge(DATA, pod_meta[[\"container_ip\", \"container_app_group_name\"]], on=[\"container_ip\"], how=\"left\")\n",
    "DATA = pd.read_csv(\"/data/zkp/buy2/service/allservice3.csv\")"
   ]
  },
  {
   "cell_type": "code",
   "execution_count": null,
   "id": "a1ecf641-209a-4500-928f-34e308584e3a",
   "metadata": {},
   "outputs": [],
   "source": [
    "DATA = DATA.sort_values(by=[\"container_app_group_name\"])"
   ]
  },
  {
   "cell_type": "code",
   "execution_count": null,
   "id": "7c0e4c25-e4d1-4058-bc90-79cecd6d44f1",
   "metadata": {
    "tags": []
   },
   "outputs": [],
   "source": [
    "data = DATA[DATA.sample_time<1644422400]\n",
    "data = data[[\"container_app_group_name\", \"rt__ms_Q\", \"CPU_time__s\"]]\n",
    "data = data.sort_values(by=[\"container_app_group_name\"])\n",
    "data"
   ]
  },
  {
   "cell_type": "code",
   "execution_count": null,
   "id": "1278e9ab-cb68-41da-8059-619f60c64801",
   "metadata": {
    "tags": []
   },
   "outputs": [],
   "source": [
    "corr1 = {}\n",
    "for app in data.container_app_group_name.unique():\n",
    "    temp = data[(data.container_app_group_name==app) & (~pd.isna(data.CPU_time__s))]\n",
    "    if temp.shape[0] < 100:\n",
    "        corr1[app] = 0\n",
    "        continue\n",
    "    c1 = temp.rt__ms_Q.corr(temp.CPU_time__s)\n",
    "    if np.isnan(c1):\n",
    "        c1 = 0\n",
    "    corr1[app] = c1"
   ]
  },
  {
   "cell_type": "code",
   "execution_count": null,
   "id": "76f1ab40-5597-4e17-9b2a-1758909a40bb",
   "metadata": {},
   "outputs": [],
   "source": [
    "corr1[\"ump2_detailhost\"], corr2[\"ump2_detailhost\"]"
   ]
  },
  {
   "cell_type": "code",
   "execution_count": null,
   "id": "0f6a704c-0db2-49ca-83e5-626ac66a0ee0",
   "metadata": {
    "tags": []
   },
   "outputs": [],
   "source": [
    "rtP1 = {}\n",
    "for app in data.container_app_group_name.unique():\n",
    "    temp = data[data.container_app_group_name==app]\n",
    "    if temp.shape[0] < 100:\n",
    "        rtP1[app] = 0\n",
    "        continue\n",
    "#     rtP1[app] = np.std(temp.rt__ms_Q.values) / np.mean(temp.rt__ms_Q.values) if np.mean(temp.rt__ms_Q.values) else 0\n",
    "    rtP1[app] = np.percentile(temp.rt__ms_Q.values, 95) / np.percentile(temp.rt__ms_Q.values, 50) if np.percentile(temp.rt__ms_Q.values, 50) else 0"
   ]
  },
  {
   "cell_type": "code",
   "execution_count": null,
   "id": "a0151909-fca9-460e-82e2-81c7309516f3",
   "metadata": {},
   "outputs": [],
   "source": [
    "score = []\n",
    "for app in DATA.container_app_group_name.unique():\n",
    "    temp = data[data.container_app_group_name==app].rt__ms_Q.values\n",
    "    if temp.shape[0] < 10:\n",
    "        for i in range(DATA[DATA.container_app_group_name==app].shape[0]):\n",
    "            score.append(0)\n",
    "        continue\n",
    "    p = []\n",
    "    for i in range(10, 101, 10):\n",
    "        p.append(np.percentile(temp, i))\n",
    "    rt = DATA[DATA.container_app_group_name==app].rt__ms_Q.values\n",
    "    for i in rt:\n",
    "        for j in range(1, 11):\n",
    "            if i <= p[j-1] or j == 10:\n",
    "                score.append(j)\n",
    "                break\n",
    "DATA[\"score\"] = score    "
   ]
  },
  {
   "cell_type": "code",
   "execution_count": null,
   "id": "20537da9-f6ac-4165-8ad9-106edaa39333",
   "metadata": {},
   "outputs": [],
   "source": [
    "# co = []\n",
    "# rtP = []\n",
    "rtPP = []\n",
    "for app in DATA.container_app_group_name.values:\n",
    "    if app in rtP1:\n",
    "#         co.append(corr1[app])\n",
    "#         rtP.append(rtP1[app])\n",
    "        rtPP.append(rtP1[app])\n",
    "    else:\n",
    "#         co.append(0)\n",
    "#         rtP.append(0)\n",
    "        rtPP.append(0)\n",
    "# DATA[\"co\"] = co\n",
    "DATA[\"rtPP\"] = rtPP"
   ]
  },
  {
   "cell_type": "code",
   "execution_count": null,
   "id": "6b6a3bf1-259f-40a7-bec1-ac8d987a0018",
   "metadata": {},
   "outputs": [],
   "source": [
    "buy2 = pd.read_csv(\"/data/zkp/buy2/service/DATA.csv\")\n",
    "buy2_X = np.load(\"/data/zkp/buy2/service/DATA.npy\")"
   ]
  },
  {
   "cell_type": "code",
   "execution_count": null,
   "id": "7b5396c0-8fff-4026-b460-ba546fc25463",
   "metadata": {},
   "outputs": [],
   "source": [
    "temp = []\n",
    "for x in buy2_X:\n",
    "    temp.append(x)\n",
    "buy2[\"X\"] = temp"
   ]
  },
  {
   "cell_type": "code",
   "execution_count": null,
   "id": "55766d05-4453-43ef-bad0-d826d9525cae",
   "metadata": {
    "tags": []
   },
   "outputs": [],
   "source": [
    "buy2 = pd.merge(buy2, pod_meta[[\"nc_sn\", \"container_ip\"]], on=[\"container_ip\"], how=\"left\")\n",
    "DATA = buy2\n",
    "# DATA = pd.merge(DATA, buy2[[\"nc_sn\", \"sample_time\", \"X\"]], on=[\"nc_sn\", \"sample_time\"], how=\"left\")"
   ]
  },
  {
   "cell_type": "code",
   "execution_count": null,
   "id": "6a65a9e7-b5ef-4138-9e65-c8d10012ccfb",
   "metadata": {},
   "outputs": [],
   "source": [
    "DATA"
   ]
  },
  {
   "cell_type": "code",
   "execution_count": null,
   "id": "d63f1e31-895e-48c2-824e-07a39d6fe3ee",
   "metadata": {
    "jupyter": {
     "source_hidden": true
    },
    "tags": []
   },
   "outputs": [],
   "source": [
    "X = [[], [], [], []]\n",
    "y = [[], [], [], []]\n",
    "for nc in data.nc_sn.unique():\n",
    "    y_nc = []\n",
    "    X_nc = []\n",
    "    temp = data[data.nc_sn==nc]\n",
    "    for t in temp.sample_time.unique():\n",
    "        tep = temp[temp.sample_time==t]\n",
    "        y_nc.append([np.sum(tep[\"score\"].values),\n",
    "                     np.sum(tep[\"score\"].values*tep.request_cpu.values),\n",
    "                     np.sum(tep[\"score\"].values*tep.rt__ms_Q.values),\n",
    "                     np.sum(tep[\"rank\"].values*tep[\"corr\"].values),\n",
    "                    ])\n",
    "        X_nc.append(tep.X.values[0])\n",
    "    y_nc = np.asarray(y_nc)\n",
    "    X_nc = np.asarray(X_nc)\n",
    "    for i in range(5):\n",
    "        X_train, X_test, y_train, y_test = train_test_split(X_nc, y_nc[:, [i]])\n",
    "        scaler = MinMaxScaler().fit(y_train)\n",
    "        y_test = scaler.transform(y_test)\n",
    "        for j in y_test:\n",
    "            y[i].append(j[0])\n",
    "        for j in X_test:\n",
    "            X[i].append(j)"
   ]
  },
  {
   "cell_type": "code",
   "execution_count": null,
   "id": "3d4e487e-ed98-4323-baf0-e7bdef6a0d68",
   "metadata": {
    "jupyter": {
     "source_hidden": true
    },
    "tags": []
   },
   "outputs": [],
   "source": [
    "X = np.asarray(X).T\n",
    "y = np.asarray(y).T"
   ]
  },
  {
   "cell_type": "code",
   "execution_count": null,
   "id": "29c74171-1f13-4dd1-a468-5364074d1090",
   "metadata": {
    "jupyter": {
     "source_hidden": true
    },
    "tags": []
   },
   "outputs": [],
   "source": [
    "X.shape, y.shape"
   ]
  },
  {
   "cell_type": "code",
   "execution_count": null,
   "id": "ded82740-321a-4c6d-8ced-e97dc933d2c9",
   "metadata": {
    "jupyter": {
     "source_hidden": true
    },
    "tags": []
   },
   "outputs": [],
   "source": [
    "for i in range(5):\n",
    "    X_train, X_test, y_train, y_test = train_test_split(X, y[:, i])\n",
    "    model = RandomForestRegressor()\n",
    "    model.fit(X_train, y_train)\n",
    "    print(model.score(X_test, y_test))\n",
    "    \n",
    "    predict = model.predict(X_test)\n",
    "    plt.scatter(predict[::50], y_test[::50])\n",
    "    plt.xlabel(\"Predict score\")\n",
    "    plt.ylabel(\"Machine level interference\")\n",
    "    plt.show()\n",
    "\n",
    "    error = abs(predict - y_test)\n",
    "    plt.plot(sorted(error), np.arange(predict.shape[0]) / (predict.shape[0] - 1))\n",
    "    plt.xlim(0, 1)\n",
    "    plt.xlabel(\"error\", fontsize=30)\n",
    "    plt.ylabel(\"CDF\", fontsize=30)\n",
    "    plt.xticks(fontsize=30)\n",
    "    plt.yticks(fontsize=30)\n",
    "    plt.grid(\":\")\n",
    "    plt.show()"
   ]
  },
  {
   "cell_type": "code",
   "execution_count": null,
   "id": "7a5ff8e7-e3bf-4f87-a342-19cd58baf1b9",
   "metadata": {
    "jupyter": {
     "source_hidden": true
    },
    "tags": []
   },
   "outputs": [],
   "source": [
    "P = [[], [], [], []]\n",
    "T = [[], [], [], []]\n",
    "for nc in data.nc_sn.unique():\n",
    "#     if nc != \"i-8vb8e59yufyqspqng372\":\n",
    "#         continue\n",
    "    X = []\n",
    "    y = []\n",
    "    temp = data[data.nc_sn==nc]\n",
    "    for t in temp.sample_time.unique():\n",
    "        tep = temp[temp.sample_time==t]\n",
    "        y.append([np.sum(tep[\"score\"].values),\n",
    "                  np.sum(tep[\"score\"].values*tep.request_cpu.values),\n",
    "                  np.sum(tep[\"score\"].values*tep[\"co\"].values),\n",
    "                  np.sum(tep[\"score\"].values*tep[\"rtPP\"].values),\n",
    "                  ])\n",
    "        X.append(tep.X.values[0])\n",
    "    X = np.asarray(X)\n",
    "    if X.shape[0] < 1000:\n",
    "        continue\n",
    "    y = np.asarray(y)\n",
    "    for index in range(4):\n",
    "        p = []\n",
    "        for i in range(10, 101, 10):\n",
    "            p.append(np.percentile(y[:, index], i))\n",
    "        y_new = []\n",
    "        for i in y[:, index]:\n",
    "            for j in range(1, 11):\n",
    "                if i <= p[j-1]:\n",
    "                    y_new.append(j)\n",
    "                    break\n",
    "        y[:, index] = np.asarray(y_new)\n",
    "#         y[:, index] = (y[:, index] - np.percentile(y[:, index], 1)) / (np.percentile(y[:, index], 99) - np.percentile(y[:, index], 1))\n",
    "\n",
    "    print(nc, end=' ')\n",
    "    for index in range(4):\n",
    "        model = RandomForestClassifier()\n",
    "        X_train, X_test, y_train, y_test = train_test_split(X, y[:, index])\n",
    "#         scaler = MinMaxScaler().fit(y_train)\n",
    "#         y_train = scaler.transform(y_train)\n",
    "#         y_test = scaler.transform(y_test)\n",
    "        model.fit(X_train, y_train)\n",
    "        print(model.score(X_test, y_test), end='\\t')\n",
    "        predict = model.predict(X_test)\n",
    "    #     plt.scatter(predict, y)\n",
    "    #     plt.xlabel(\"Predict score\")\n",
    "    #     plt.ylabel(\"Machine level interference\")\n",
    "    #     plt.show()\n",
    "#         e = abs(predict - y_test)\n",
    "#         for i in e:\n",
    "        P[index].append(predict)\n",
    "        T[index].append(y_test)\n",
    "    print()\n",
    "#     plt.scatter(predict, scaler.transform(y[:, [index]]))\n",
    "#     plt.xlabel(\"predict\")\n",
    "#     plt.ylabel(\"interference score\")"
   ]
  },
  {
   "cell_type": "code",
   "execution_count": null,
   "id": "3b3f7c27-394f-4a2e-b18d-c1273dc8c20b",
   "metadata": {},
   "outputs": [],
   "source": [
    "MODEL = {}\n",
    "P = {}"
   ]
  },
  {
   "cell_type": "code",
   "execution_count": null,
   "id": "c294696c-97fc-42bb-837d-618b3911f7e2",
   "metadata": {
    "tags": []
   },
   "outputs": [],
   "source": [
    "for nc in data.nc_sn.unique():\n",
    "    X = []\n",
    "    y = []\n",
    "    temp = data[data.nc_sn==nc]\n",
    "    sample_time = temp.sample_time.unique()\n",
    "    for t in sample_time:\n",
    "        tep = temp[temp.sample_time==t]\n",
    "        y.append(np.sum(tep[\"score\"].values*tep[\"co\"].values))\n",
    "        X.append(tep.X.values[0])\n",
    "    X = np.asarray(X)\n",
    "    if X.shape[0] < 1000:\n",
    "        continue\n",
    "    y = np.asarray(y)\n",
    "    p = []\n",
    "    for i in range(10, 101, 10):\n",
    "        p.append(np.percentile(y, i))\n",
    "    for i in range(y.shape[0]):\n",
    "        for j in range(1, 11):\n",
    "            if y[i] <= p[j-1]:\n",
    "                y[i] = j\n",
    "                break\n",
    "\n",
    "    print(nc, end=' ')\n",
    "    model = RandomForestClassifier()\n",
    "    X_train, X_test, y_train, y_test = X[sample_time<1644505200], X[sample_time>=1644505200],  y[sample_time<1644505200], y[sample_time>=1644505200]\n",
    "    model.fit(X_train, y_train)\n",
    "    MODEL[nc] = model\n",
    "    P[nc] = model.predict(X_test)\n",
    "    print(model.score(X_test, y_test), end='\\t')"
   ]
  },
  {
   "cell_type": "markdown",
   "id": "e2a0ccea-b8f2-4ef8-8caa-4baf69e7d92c",
   "metadata": {},
   "source": [
    "1644465600: 0.1596676737160121\n",
    "+3600: 0.14778449144008057\n",
    "+3600: 0.2510255560934594\n",
    "+3600: 0.13641473759517606\n",
    "+3600: 0.051544288301155344\n",
    "-3600: 0.34655085599194363\n",
    "-3600: 0.2919436052366566\n",
    "-3600: 0.283031218529708\n",
    "-3600: 0.39798590130916417\n",
    "-3600: 0.4077794561933535\n",
    "-3600: 0.7136203423967774\n",
    "-3600: 0.7107754279959718\n",
    "-3600: 0.7244712990936556\n",
    "-3600: 0.7406847935548841"
   ]
  },
  {
   "cell_type": "code",
   "execution_count": null,
   "id": "22c74891-af77-419e-8378-0a82b80fea0e",
   "metadata": {},
   "outputs": [],
   "source": [
    "1644498000, 1644422400, 1644440400"
   ]
  },
  {
   "cell_type": "code",
   "execution_count": null,
   "id": "711ebcad-6d1f-4eb9-8df4-5b851ac439c4",
   "metadata": {},
   "outputs": [],
   "source": [
    "TIMESTAMP = 1644422400"
   ]
  },
  {
   "cell_type": "code",
   "execution_count": null,
   "id": "d1b4dc36-f30b-48d4-a8d4-9113cf19776e",
   "metadata": {
    "tags": []
   },
   "outputs": [],
   "source": [
    "for i in range(0, 3600*24, 3600):\n",
    "    TIMESTAMP = 1644422400 + i\n",
    "    print(TIMESTAMP, end=', ')\n",
    "    base = DATA[(DATA.sample_time>TIMESTAMP) & (DATA.sample_time<TIMESTAMP + 3600)]\n",
    "    print(base.machine_cpu.mean(), base.machine_cpu.std(), end=', ')\n",
    "    # temp = data\n",
    "    result = []\n",
    "    for i in e_score:\n",
    "        if i in MODEL:\n",
    "            X = []\n",
    "            for x in base[base.nc_sn==i].X.values:\n",
    "                 X.append(x)\n",
    "\n",
    "            for j in MODEL[i].predict(np.asarray(X)).tolist():\n",
    "                result.append(j)\n",
    "\n",
    "    base = np.bincount(result, minlength=11)\n",
    "    SUM = 0\n",
    "    for i in range(base.shape[0]):\n",
    "        SUM += base[i] * i\n",
    "    print(SUM / np.sum(base))"
   ]
  },
  {
   "cell_type": "code",
   "execution_count": null,
   "id": "1a169916-7aef-4e9f-a49c-20bc26d441bd",
   "metadata": {
    "tags": []
   },
   "outputs": [],
   "source": [
    "base = np.asarray(result).reshape(-1, 59)"
   ]
  },
  {
   "cell_type": "code",
   "execution_count": null,
   "id": "2c0f35ac-f4d8-40f5-a793-dae87f77cab3",
   "metadata": {},
   "outputs": [],
   "source": [
    "np.savetxt(\"/data/zkp/figure/simulation/base2_score.txt\", result)"
   ]
  },
  {
   "cell_type": "code",
   "execution_count": null,
   "id": "91f238a9-c961-4001-b413-5132cc645fb7",
   "metadata": {
    "tags": []
   },
   "outputs": [],
   "source": [
    "result.shape"
   ]
  },
  {
   "cell_type": "code",
   "execution_count": null,
   "id": "34ec5a1d-e4b6-4981-b456-3f73fdda012c",
   "metadata": {},
   "outputs": [],
   "source": [
    "batch = pd.read_csv(\"/data/zkp/buy2/instance.csv\")"
   ]
  },
  {
   "cell_type": "code",
   "execution_count": null,
   "id": "3ed597d9-33b5-40d1-a246-d8a3ab286ee8",
   "metadata": {},
   "outputs": [],
   "source": [
    "batch"
   ]
  },
  {
   "cell_type": "code",
   "execution_count": null,
   "id": "a5d93d39-98fa-42e2-9593-843cbe423efb",
   "metadata": {},
   "outputs": [],
   "source": [
    "batch[\"job_task_name\"] = batch.fuxi_job_name + batch.fuxi_task_name\n",
    "batch[\"total_time\"] = batch.end_time - batch.start_time\n",
    "G = batch[[\"job_task_name\", \"fuxi_avg_cpu\", \"fuxi_avg_mem\", \"total_time\"]].groupby([\"job_task_name\"]).mean()"
   ]
  },
  {
   "cell_type": "code",
   "execution_count": null,
   "id": "1b92b364-6ba4-4e72-a8da-0211826035a4",
   "metadata": {},
   "outputs": [],
   "source": [
    "task_type = {}\n",
    "type_cnt = [0 for i in range(60)]\n",
    "cpu = G.fuxi_avg_cpu.values\n",
    "mem = G.fuxi_avg_mem.values\n",
    "t = G.total_time.values\n",
    "key = G.index.values\n",
    "for i in range(G.shape[0]):\n",
    "    if np.isnan(cpu[i]) or np.isnan(mem[i]) or np.isnan(t[i]):\n",
    "        continue\n",
    "    index = 0\n",
    "    if cpu[i] < 50:\n",
    "        index = 0\n",
    "    elif 50 <= cpu[i] < 150:\n",
    "        index = 1\n",
    "    else:\n",
    "        index = 2\n",
    "\n",
    "    if mem[i] < 512:\n",
    "        index = (index*5) + 0\n",
    "    elif 512 <= mem[i] < 1536:\n",
    "        index = (index*5) + 1\n",
    "    elif 1536 <= mem[i] < 3072:\n",
    "        index = (index*5) + 2\n",
    "    elif 3072 <= mem[i] < 6144:\n",
    "        index = (index*5) + 3\n",
    "    else:\n",
    "        index = (index*5) + 4\n",
    "\n",
    "    if t[i] < 20:\n",
    "        index = (index*4) + 0\n",
    "    elif 20 <= t[i] < 40:\n",
    "        index = (index*4) + 1\n",
    "    elif 40 <= t[i] < 100:\n",
    "        index = (index*4) + 2\n",
    "    else:\n",
    "        index = (index*4) + 3\n",
    "    task_type[key[i]] = index\n",
    "    type_cnt[index] += 1"
   ]
  },
  {
   "cell_type": "code",
   "execution_count": null,
   "id": "1a53f301-e0f1-4ef4-8152-900eb8e58f12",
   "metadata": {},
   "outputs": [],
   "source": [
    "temp = []\n",
    "for i in batch.job_task_name.values:\n",
    "    if i in task_type:\n",
    "        temp.append(int(task_type[i]))\n",
    "    else:\n",
    "        temp.append(np.nan)\n",
    "batch[\"type\"] = temp"
   ]
  },
  {
   "cell_type": "code",
   "execution_count": null,
   "id": "c0968ac0-4d6d-48e3-9c74-c003701f2209",
   "metadata": {},
   "outputs": [],
   "source": [
    "batch = batch[~np.isnan(batch.type)]\n",
    "batch = batch[~((batch.start_time==0) | (batch.end_time==0))]\n",
    "batch = batch[~pd.isna(batch.worker_address)]\n",
    "batch.type = np.asarray(batch.type, dtype=\"int\")"
   ]
  },
  {
   "cell_type": "code",
   "execution_count": null,
   "id": "fc6ba6a5-164f-43ef-8e85-edd7487fe776",
   "metadata": {},
   "outputs": [],
   "source": [
    "queue = batch[(batch.start_time>=TIMESTAMP) & (batch.start_time<TIMESTAMP+3600)]"
   ]
  },
  {
   "cell_type": "code",
   "execution_count": null,
   "id": "350a9e7c-7ec5-4ee5-8a70-7637c90664af",
   "metadata": {},
   "outputs": [],
   "source": [
    "queue"
   ]
  },
  {
   "cell_type": "code",
   "execution_count": null,
   "id": "f4257a42-20a6-442e-94fd-6b0d939cc30e",
   "metadata": {},
   "outputs": [],
   "source": [
    "data = DATA[[\"nc_sn\", \"sample_time\", \"X\"]]\n",
    "data = data.dropna()\n",
    "data = data[(data.sample_time>=TIMESTAMP) & (data.sample_time<TIMESTAMP+3600)]"
   ]
  },
  {
   "cell_type": "code",
   "execution_count": null,
   "id": "75625580-631d-4d80-b19f-15968ce9dc23",
   "metadata": {},
   "outputs": [],
   "source": [
    "data"
   ]
  },
  {
   "cell_type": "code",
   "execution_count": null,
   "id": "101b3836-85e3-43f7-a3ee-95ffb6db01c7",
   "metadata": {},
   "outputs": [],
   "source": [
    "machine = pd.read_csv(\"/data/zkp/buy2/machine.csv\")"
   ]
  },
  {
   "cell_type": "code",
   "execution_count": null,
   "id": "43cb9d5d-2d1a-42f1-bd36-3e5af815ba6e",
   "metadata": {},
   "outputs": [],
   "source": [
    "machine"
   ]
  },
  {
   "cell_type": "code",
   "execution_count": null,
   "id": "27d6e1b0-c804-43a3-8e8a-7d883c8ec546",
   "metadata": {},
   "outputs": [],
   "source": [
    "data = pd.merge(data, machine[[\"nc_sn\", \"sample_time\", \"machine_cpu\"]], on=[\"nc_sn\", \"sample_time\"], how=\"left\")"
   ]
  },
  {
   "cell_type": "code",
   "execution_count": null,
   "id": "d715efc9-019c-46f6-b974-df999a9c6c25",
   "metadata": {},
   "outputs": [],
   "source": [
    "data = data[~pd.isna(data.machine_cpu)]"
   ]
  },
  {
   "cell_type": "code",
   "execution_count": null,
   "id": "54088d14-2f07-4379-8cfd-1c3119e198fc",
   "metadata": {},
   "outputs": [],
   "source": [
    "data = data[~((data.nc_sn==\"i-8vbfjjotg3mxpjcy0xyx\") | (data.nc_sn==\"i-8vb6iy0d1bzjh4ob84l5\") | (data.nc_sn==\"i-8vbbuc81w02wwl188bo6\"))]\n",
    "# data = data[~(data.nc_sn==\"i-8vbbuc81w02wwl188bo6\")]\n",
    "# data = data[~(data.nc_sn.isin([\"i-8vb6iy0d1bzjh4ob84l5\", \"i-8vbbuc81w02wwl188bo6\"]))]"
   ]
  },
  {
   "cell_type": "code",
   "execution_count": null,
   "id": "f0598c49-236c-4274-99c2-03af5d1d74a0",
   "metadata": {},
   "outputs": [],
   "source": [
    "nc_sn = data[data.sample_time==TIMESTAMP].nc_sn.unique()\n",
    "nc_sn.shape"
   ]
  },
  {
   "cell_type": "code",
   "execution_count": null,
   "id": "2ebac9b5-e772-403b-8b6f-106cece7745e",
   "metadata": {},
   "outputs": [],
   "source": [
    "pod_meta = pd.read_csv(\"/data/zkp/pod_meta.csv\")"
   ]
  },
  {
   "cell_type": "code",
   "execution_count": null,
   "id": "32f8cd5c-c0c9-4efe-9ed4-9df70708b5be",
   "metadata": {},
   "outputs": [],
   "source": [
    "ay49c = pod_meta[(pod_meta.container_app_name==\"ay49c\") & (pod_meta.nc_sn.isin(nc_sn))]"
   ]
  },
  {
   "cell_type": "code",
   "execution_count": null,
   "id": "9abe0940-fac9-4883-9975-356aaccccd22",
   "metadata": {},
   "outputs": [],
   "source": [
    "workermap = {}\n",
    "for ip, nc in zip(ay49c.container_ip.values, ay49c.nc_sn.values):\n",
    "    workermap[ip] = nc"
   ]
  },
  {
   "cell_type": "code",
   "execution_count": null,
   "id": "b4c57bab-1aa3-45f8-88b1-7de6cc3ddab7",
   "metadata": {
    "tags": []
   },
   "outputs": [],
   "source": [
    "len(workermap)"
   ]
  },
  {
   "cell_type": "code",
   "execution_count": null,
   "id": "50bb083a-0c50-43f3-8b7e-e94a3cdcbc10",
   "metadata": {},
   "outputs": [],
   "source": [
    "queue = queue[queue.worker_address.isin(ay49c.container_ip.values)]"
   ]
  },
  {
   "cell_type": "code",
   "execution_count": null,
   "id": "3aebc99b-6f31-414a-82ef-850dcf1350fe",
   "metadata": {},
   "outputs": [],
   "source": [
    "queue.worker_address.unique().shape"
   ]
  },
  {
   "cell_type": "code",
   "execution_count": null,
   "id": "53673918-066b-423a-b991-1c120073f9be",
   "metadata": {},
   "outputs": [],
   "source": [
    "temp = []\n",
    "for i in queue.worker_address.unique():\n",
    "    temp.append(workermap[i])\n",
    "for i in nc_sn:\n",
    "    if i not in temp:\n",
    "        print(i)"
   ]
  },
  {
   "cell_type": "code",
   "execution_count": null,
   "id": "c367856f-1ab3-4a12-8f29-ad12fff66578",
   "metadata": {},
   "outputs": [],
   "source": [
    "data = data[data.nc_sn.isin(nc_sn)]"
   ]
  },
  {
   "cell_type": "code",
   "execution_count": null,
   "id": "d08d5435-d210-4fbc-b58d-40daebbbdf58",
   "metadata": {},
   "outputs": [],
   "source": [
    "queue = queue[~pd.isna(queue.fuxi_avg_cpu)]"
   ]
  },
  {
   "cell_type": "code",
   "execution_count": null,
   "id": "1cb26aae-91c3-4326-89c6-5b8dc060c488",
   "metadata": {},
   "outputs": [],
   "source": [
    "data.sort_values(by=[\"sample_time\"], inplace=True)"
   ]
  },
  {
   "cell_type": "code",
   "execution_count": null,
   "id": "869aa802-d147-4aad-a830-bded05f40d7a",
   "metadata": {},
   "outputs": [],
   "source": [
    "queue.sort_values(by=[\"start_time\", \"end_time\"], inplace=True)"
   ]
  },
  {
   "cell_type": "code",
   "execution_count": null,
   "id": "e0f9183b-26f5-4e54-b6d0-6f6ba4b078de",
   "metadata": {},
   "outputs": [],
   "source": [
    "data"
   ]
  },
  {
   "cell_type": "code",
   "execution_count": null,
   "id": "6a95cb7d-08ea-4d74-afb3-a5b80923d6fd",
   "metadata": {},
   "outputs": [],
   "source": [
    "queue"
   ]
  },
  {
   "cell_type": "code",
   "execution_count": null,
   "id": "fc09db20-2263-4ebc-af0b-3acbc5a40a78",
   "metadata": {},
   "outputs": [],
   "source": [
    "temp = data[data.sample_time==TIMESTAMP]\n",
    "BED = {}\n",
    "for i in temp.nc_sn.unique():\n",
    "    BED[i] = temp[temp.nc_sn==i].X.values[0].tolist()"
   ]
  },
  {
   "cell_type": "code",
   "execution_count": null,
   "id": "62851e23-a5c5-4caf-84e4-c0fa4aaa588d",
   "metadata": {
    "tags": []
   },
   "outputs": [],
   "source": [
    "BED"
   ]
  },
  {
   "cell_type": "code",
   "execution_count": null,
   "id": "e8915954-ed22-4a44-a582-b7ad727348c4",
   "metadata": {},
   "outputs": [],
   "source": [
    "cur_machine = data[data.sample_time==TIMESTAMP].nc_sn.values\n",
    "machine_to_index = {}\n",
    "for i in range(cur_machine.shape[0]):\n",
    "    machine_to_index[cur_machine[i]] = i"
   ]
  },
  {
   "cell_type": "code",
   "execution_count": null,
   "id": "45d8bd3e-823f-4570-ba6f-1dee4e6fad18",
   "metadata": {},
   "outputs": [],
   "source": [
    "e_score = {}\n",
    "e_macpu = {}\n",
    "e_BED = {}\n",
    "for key in BED:\n",
    "    e_score[key] = []\n",
    "    e_macpu[key] = []\n",
    "    e_BED[key] = []"
   ]
  },
  {
   "cell_type": "code",
   "execution_count": null,
   "id": "e5044ec1-ce8a-4dcd-9af0-3699a4cec44c",
   "metadata": {
    "tags": []
   },
   "outputs": [],
   "source": [
    "end_list = {}\n",
    "before = batch[(batch.start_time<TIMESTAMP) & (batch.end_time>TIMESTAMP - 60)].sort_values(by=[\"start_time\", \"end_time\"])\n",
    "end_time = before.end_time.values\n",
    "ip = before.worker_address.values\n",
    "task_type = before.type.values\n",
    "\n",
    "for i in range(before.shape[0]):\n",
    "    if ip[i] not in workermap:\n",
    "        continue\n",
    "    if end_time[i] not in end_list:\n",
    "        end_list[end_time[i]] = {}\n",
    "    if workermap[ip[i]] not in end_list[end_time[i]]:\n",
    "        end_list[end_time[i]][workermap[ip[i]]] = []\n",
    "    end_list[end_time[i]][workermap[ip[i]]].append(task_type[i])\n",
    "    "
   ]
  },
  {
   "cell_type": "code",
   "execution_count": null,
   "id": "cf2f7b15-026d-4a5c-84f6-0b882f892878",
   "metadata": {
    "tags": []
   },
   "outputs": [],
   "source": [
    "cpu_delta = {}\n",
    "before = batch[(batch.start_time<TIMESTAMP) & (batch.end_time>TIMESTAMP)].sort_values(by=[\"start_time\", \"end_time\"])\n",
    "end_time = before.end_time.values\n",
    "ip = before.worker_address.values\n",
    "ins_cpu = before.fuxi_avg_cpu.values\n",
    "\n",
    "for i in range(before.shape[0]):\n",
    "    if np.isnan(ins_cpu[i]) or ip[i] not in workermap:\n",
    "        continue\n",
    "    if end_time[i] not in cpu_delta:\n",
    "        cpu_delta[end_time[i]] = np.zeros(cur_machine.shape[0])\n",
    "\n",
    "    cpu_delta[end_time[i]][machine_to_index[workermap[ip[i]]]] += ins_cpu[i]/100"
   ]
  },
  {
   "cell_type": "code",
   "execution_count": null,
   "id": "86849341-e62a-4835-bc1e-e10153eda389",
   "metadata": {},
   "outputs": [],
   "source": [
    "cur_score = []\n",
    "for key in cur_machine:\n",
    "    cur_score.append(MODEL[key].predict(np.asarray(BED[key]).reshape(1, -1))[0])"
   ]
  },
  {
   "cell_type": "code",
   "execution_count": null,
   "id": "542e205c-9e56-47b9-8c53-d59b01aec032",
   "metadata": {
    "tags": []
   },
   "outputs": [],
   "source": [
    "import time\n",
    "cur_min = TIMESTAMP\n",
    "start_time = queue.start_time.values\n",
    "ins_cpu = queue.fuxi_avg_cpu.values\n",
    "end_time = queue.end_time.values\n",
    "task_type = queue.type.values \n",
    "\n",
    "cur_time = TIMESTAMP\n",
    "\n",
    "cur_cpu = data[data.sample_time==cur_min].machine_cpu.values\n",
    "\n",
    "random_list = np.arange(cur_machine.shape[0])\n",
    "\n",
    "s = time.time()\n",
    "\n",
    "for i in range(queue.shape[0]):\n",
    "#     if i%10000 == 0:\n",
    "#         print(i, end=',')\n",
    "    if start_time[i] != cur_time:\n",
    "        while cur_time < start_time[i]:\n",
    "            if cur_time in end_list:\n",
    "                for key in end_list[cur_time]:\n",
    "                    for ins in end_list[cur_time][key]:\n",
    "                        BED[key][ins] -= 1\n",
    "            if cur_time in cpu_delta:\n",
    "                    cur_cpu -= cpu_delta[cur_time]\n",
    "            cur_time += 1\n",
    "#         for nc in range(cur_machine.shape[0]):\n",
    "#             cur_score[nc] = MODEL[cur_machine[nc]].predict(np.asarray(BED[cur_machine[nc]]).reshape(1, -1))[0]\n",
    "#         print(np.mean(cur_score))\n",
    "    if start_time[i] >= cur_min + 60:\n",
    "        cur_min += 60\n",
    "        print(cur_min, end=',')\n",
    "        \n",
    "        for nc in range(cur_machine.shape[0]):\n",
    "            e_score[cur_machine[nc]].append(MODEL[cur_machine[nc]].predict(np.asarray(BED[cur_machine[nc]]).reshape(1, -1))[0])\n",
    "#             e_BED[cur_machine[nc]].append(BED[cur_machine[nc]])\n",
    "            e_macpu[cur_machine[nc]].append(cur_cpu[nc])\n",
    "\n",
    "#     index = np.argmin(cur_cpu)\n",
    "    index = np.argsort(cur_cpu)[:10]\n",
    "    X = []\n",
    "    for key in index:\n",
    "        BED[cur_machine[key]][task_type[i]] += 1\n",
    "        a = MODEL[cur_machine[key]].predict(np.asarray(BED[cur_machine[key]]).reshape(1, -1))[0]\n",
    "        X.append(a)\n",
    "        BED[cur_machine[key]][task_type[i]] -= 1\n",
    "        if a == 1:\n",
    "            break\n",
    "    index = index[np.argmin(X)]\n",
    "    \n",
    "#     sortmax = np.argsort(-cur_cpu)\n",
    "#     index = sortmax.shape[0] - 1\n",
    "#     for l in range(sortmax.shape[0]):\n",
    "#         if cur_cpu[sortmax[l]] + ins_cpu[i]/100 <= 80:\n",
    "#             index = l\n",
    "#             break\n",
    "#     LIST = []\n",
    "#     if sortmax.shape[0] - index < 10:\n",
    "#         LIST = sortmax[sortmax.shape[0]-10:sortmax.shape[0]]\n",
    "#     else:\n",
    "#         LIST = sortmax[index:index+10]\n",
    "#     X = []\n",
    "#     for key in LIST:\n",
    "#         BED[cur_machine[key]][task_type[i]] += 1\n",
    "#         a = MODEL[cur_machine[key]].predict(np.asarray(BED[cur_machine[key]]).reshape(1, -1))[0]\n",
    "#         X.append(a)\n",
    "#         BED[cur_machine[key]][task_type[i]] -= 1\n",
    "#         if a == 1:\n",
    "#             break\n",
    "#     index = LIST[np.argmin(X)]\n",
    "\n",
    "#     min_score = 11\n",
    "# #     np.random.shuffle(random_list)\n",
    "#     random_list = np.argsort(cur_score)\n",
    "#     index = 0\n",
    "#     for key in random_list:\n",
    "# #         if cur_score[key] > cur_score[random_list[0]] and min_score != 11:\n",
    "# #             break\n",
    "#         if cur_cpu[key] + ins_cpu[i]/100 > 105:\n",
    "#             continue\n",
    "#         BED[cur_machine[key]][task_type[i]] += 1\n",
    "#         a = MODEL[cur_machine[key]].predict(np.asarray(BED[cur_machine[key]]).reshape(1, -1))[0]\n",
    "#         BED[cur_machine[key]][task_type[i]] -= 1\n",
    "#         if a < min_score:\n",
    "#             min_score = a\n",
    "#             index = key\n",
    "#             if a == 1:\n",
    "#                 break\n",
    "#     index = np.argmin(cur_score)\n",
    "\n",
    "\n",
    "    cur_cpu[index] += ins_cpu[i]/100\n",
    "    target = cur_machine[index]\n",
    "    BED[target][task_type[i]] += 1\n",
    "#     cur_score[index] = MODEL[target].predict(np.asarray(BED[target]).reshape(1, -1))[0]\n",
    "#     print(cur_score[index], end=',')\n",
    "\n",
    "    \n",
    "    if end_time[i] not in cpu_delta:\n",
    "        cpu_delta[end_time[i]] = np.zeros(cur_machine.shape[0])\n",
    "\n",
    "    cpu_delta[end_time[i]][index] += ins_cpu[i]/100\n",
    "       \n",
    "    if end_time[i] not in end_list:\n",
    "        end_list[end_time[i]] = {}\n",
    "    if target not in end_list[end_time[i]]:\n",
    "        end_list[end_time[i]][target] = []\n",
    "    end_list[end_time[i]][target].append(task_type[i])\n",
    "print(time.time()-s)    "
   ]
  },
  {
   "cell_type": "code",
   "execution_count": null,
   "id": "b7d9e5cf-7a04-4fe5-bb70-ad7a4f1c597f",
   "metadata": {
    "tags": []
   },
   "outputs": [],
   "source": [
    "temp = []\n",
    "for key in e_score:\n",
    "    temp.append(e_score[key])\n",
    "np.mean(temp)"
   ]
  },
  {
   "cell_type": "code",
   "execution_count": null,
   "id": "5ea726f7-416e-427f-9283-be15c7e157c1",
   "metadata": {},
   "outputs": [],
   "source": [
    "temp = []\n",
    "for key in e_macpu:\n",
    "    temp.append(e_macpu[key])\n",
    "np.mean(temp)"
   ]
  },
  {
   "cell_type": "code",
   "execution_count": null,
   "id": "c641c6ae-5d88-4c83-ad3b-8cbe948f5b23",
   "metadata": {},
   "outputs": [],
   "source": [
    "np.savetxt(\"/data/zkp/figure/simulation/spread_cpu.txt\", np.asarray(temp))\n",
    "# np.savetxt(\"/data/zkp/figure/simulation/spread_score.txt\", np.asarray(temp), fmt=\"%d\")"
   ]
  },
  {
   "cell_type": "code",
   "execution_count": null,
   "id": "3a8e5f45-3a43-4da9-863e-25ae5af2fc0b",
   "metadata": {
    "tags": []
   },
   "outputs": [],
   "source": [
    "temp = []\n",
    "for key in e_BED:\n",
    "    temp.append(e_BED[key])\n",
    "print(np.asarray(temp).shape)\n",
    "np.save(\"/data/zkp/figure/simulation/if2_BED\", np.asarray(temp))"
   ]
  },
  {
   "cell_type": "code",
   "execution_count": null,
   "id": "1a254a94-5e15-4741-9c5a-007d85473a4e",
   "metadata": {
    "tags": []
   },
   "outputs": [],
   "source": [
    "index = 1\n",
    "for key in e_score:\n",
    "    print(e_score[key][index], e_macpu[key][index])"
   ]
  },
  {
   "cell_type": "code",
   "execution_count": null,
   "id": "eb1ca034-d9e5-428b-b6b0-9bb920661c1b",
   "metadata": {
    "tags": []
   },
   "outputs": [],
   "source": [
    "temp = np.asarray(temp)"
   ]
  },
  {
   "cell_type": "code",
   "execution_count": null,
   "id": "fdb2dd21-e7e7-46fd-8b23-30a6d8c65c26",
   "metadata": {
    "tags": []
   },
   "outputs": [],
   "source": [
    "np.mean(temp[:,0])"
   ]
  },
  {
   "cell_type": "code",
   "execution_count": null,
   "id": "ddf5869d-788a-46e7-a3b4-9d62516e6330",
   "metadata": {
    "tags": []
   },
   "outputs": [],
   "source": [
    "for i in range(59):\n",
    "    print(np.mean(temp[:, i]), np.mean(base[:, i]))"
   ]
  },
  {
   "cell_type": "code",
   "execution_count": null,
   "id": "05373923-014c-475c-b953-c7df15f34ff1",
   "metadata": {
    "tags": []
   },
   "outputs": [],
   "source": [
    "new_P = [[], [], [], []]\n",
    "new_T = [[], [], [], []]\n",
    "for index in range(4):\n",
    "    for i in range(len(P[index])):\n",
    "        \n",
    "        new_P[index].append(P[index][i][:348].tolist())\n",
    "        new_T[index].append(T[index][i][:348].tolist())"
   ]
  },
  {
   "cell_type": "code",
   "execution_count": null,
   "id": "74af2968-b0a8-468b-9e44-8c56ca1e321f",
   "metadata": {},
   "outputs": [],
   "source": [
    "new_P = np.asarray(new_P)\n",
    "new_T = np.asarray(new_T)"
   ]
  },
  {
   "cell_type": "code",
   "execution_count": null,
   "id": "4a690f3a-a444-44b4-a4d0-62c7207abc52",
   "metadata": {
    "tags": []
   },
   "outputs": [],
   "source": [
    "predict = new_P\n",
    "y = new_T\n",
    "fontsize=20\n",
    "plt.figure(figsize=(8, 7), dpi=120)\n",
    "for i, n, ls in zip(range(y.shape[0]), [\"w=1\", \"w=CPU quota\", \"w=Corr\", \"w=COV\"], [\"-\", \"--\", \"-.\", \":\"]):\n",
    "    f1 = []\n",
    "    for j in range(y.shape[1]):\n",
    "        cnt = [[0, 0], [0, 0]]\n",
    "        for k in range(predict.shape[2]):\n",
    "            cnt[int(predict[i, j, k]<3)][int(y[i, j, k]>8)] += 1\n",
    "        f1.append(cnt[1][1] / predict.shape[2])\n",
    "    plt.plot(sorted(f1), np.arange(len(f1))*100 / (len(f1) - 1), label=n, lw=4, ls=ls)\n",
    "plt.xlim(0, 0.1)\n",
    "plt.xlabel(\"Proportion of severe prediction errors\", fontsize=fontsize)\n",
    "plt.xticks(fontsize=fontsize)\n",
    "plt.ylabel(\"CDF (%)\", fontsize=fontsize)\n",
    "plt.yticks(fontsize=fontsize)\n",
    "plt.ylim(0, 100)\n",
    "plt.legend(fontsize=fontsize, loc=\"lower right\")\n",
    "plt.grid(ls=\":\")\n",
    "# plt.savefig(\"./figure/ml-risk.png\", bbox_inches=\"tight\")\n",
    "plt.show()"
   ]
  },
  {
   "cell_type": "code",
   "execution_count": null,
   "id": "68f645d5-61f9-4647-9e98-d83505f9f156",
   "metadata": {},
   "outputs": [],
   "source": [
    "temp = [2.4869791666666665,\n",
    "2.4713541666666665,\n",
    "2.4713541666666665,\n",
    "2.4765625,\n",
    "2.4322916666666665,\n",
    "2.4270833333333335,\n",
    "2.4479166666666665,\n",
    "2.4140625,\n",
    "2.4635416666666665,\n",
    "2.4348958333333335,\n",
    "2.3984375,\n",
    "2.375,\n",
    "2.375,\n",
    "2.3541666666666665,\n",
    "2.375,\n",
    "2.3828125,\n",
    "2.3932291666666665,\n",
    "2.4140625,\n",
    "2.4348958333333335,\n",
    "2.4479166666666665,\n",
    "2.3958333333333335,\n",
    "2.4036458333333335,\n",
    "2.4296875,\n",
    "2.4036458333333335,\n",
    "2.4375,\n",
    "2.4348958333333335,\n",
    "2.3958333333333335,\n",
    "2.3854166666666665,\n",
    "2.3619791666666665,\n",
    "2.3645833333333335,\n",
    "2.3984375,\n",
    "2.3723958333333335,\n",
    "2.3776041666666665,\n",
    "2.4166666666666665,\n",
    "2.4322916666666665,\n",
    "2.4244791666666665,\n",
    "2.4166666666666665,\n",
    "2.4296875,\n",
    "2.421875,\n",
    "2.4375,\n",
    "2.4166666666666665,\n",
    "2.375,\n",
    "2.3671875,\n",
    "2.3645833333333335,\n",
    "2.34375,\n",
    "2.3515625,\n",
    "2.34375,\n",
    "2.3359375,\n",
    "2.3463541666666665,\n",
    "2.3359375,\n",
    "2.3567708333333335,\n",
    "2.3645833333333335,\n",
    "2.375,\n",
    "2.375,\n",
    "2.3541666666666665,\n",
    "2.3619791666666665,\n",
    "2.4296875,\n",
    "2.4401041666666665,\n",
    "2.4296875,\n",
    "2.4036458333333335]\n",
    "np.mean(temp)"
   ]
  },
  {
   "cell_type": "code",
   "execution_count": null,
   "id": "3cb86062-0850-4927-b6f5-01173bdaf13e",
   "metadata": {},
   "outputs": [],
   "source": [
    "df = data[(data.sample_time==1644501780)]\n",
    "X = df.X.values\n",
    "nc_sn = df.nc_sn.values\n",
    "temp = []\n",
    "for i in range(nc_sn.shape[0]):\n",
    "    temp.append(MODEL[nc_sn[i]].predict(X[i].reshape(1,-1)))"
   ]
  },
  {
   "cell_type": "code",
   "execution_count": null,
   "id": "ca0e8831-09c8-4aec-838f-12df43b63146",
   "metadata": {},
   "outputs": [],
   "source": [
    "np.mean(df.machine_cpu), np.std(df.machine_cpu)"
   ]
  }
 ],
 "metadata": {
  "kernelspec": {
   "display_name": "Python 3 (ipykernel)",
   "language": "python",
   "name": "python3"
  },
  "language_info": {
   "codemirror_mode": {
    "name": "ipython",
    "version": 3
   },
   "file_extension": ".py",
   "mimetype": "text/x-python",
   "name": "python",
   "nbconvert_exporter": "python",
   "pygments_lexer": "ipython3",
   "version": "3.8.8"
  }
 },
 "nbformat": 4,
 "nbformat_minor": 5
}
