{
 "cells": [
  {
   "cell_type": "markdown",
   "id": "ee459a6f-cd61-4f0c-83b0-cfb62d9fa692",
   "metadata": {},
   "source": [
    "## 混部集群性能分析\n",
    "    混部：在线电商+离线ODPS作业\n",
    "    \n",
    "    在线电商：容器化/JAVA应用等，数量好几万\n",
    "    离线ODPS作业：每天几十万-几百万作业\n",
    "    \n",
    "    \n",
    "    本脚本为一个集群（AY49C）的混部性能数据"
   ]
  },
  {
   "cell_type": "code",
   "execution_count": null,
   "id": "25af3d87-3517-4728-a8e6-e2e670c7d184",
   "metadata": {},
   "outputs": [],
   "source": [
    "import pandas as pd\n",
    "import numpy as np\n",
    "import os\n",
    "import sys\n",
    "%matplotlib inline\n",
    "import matplotlib.pyplot as plt\n",
    "\n",
    "sys.path.append(\"../../../\")\n",
    "\n",
    "pd.options.display.max_rows = 999\n",
    "pd.options.display.max_columns = 999\n",
    "pd.set_option('max_colwidth',4000)\n",
    "pd.options.display.expand_frame_repr = False\n",
    "\n",
    "%load_ext autoreload\n",
    "%autoreload 2\n",
    "\n"
   ]
  },
  {
   "cell_type": "code",
   "execution_count": null,
   "id": "cad982ac-080b-4c92-b64e-af5c7c2a5a32",
   "metadata": {},
   "outputs": [],
   "source": [
    "from pets.core.data_loader.res_eff.data_source import get_vm_pdf, get_nc_pdf\n",
    "from pets.core.data_loader.walle.data_source import get_walle_odps_host_cpu_util, get_walle_online_offline_cpu_util, get_walle_odps_container_cpu_util\n",
    "import pets.core.data_loader.sunfire.data_source as sunfire\n",
    "import pets.core.data_loader.kmon.data_source as kmon\n",
    "import pets.core.data_loader.fuxi.data_source as fuxi"
   ]
  },
  {
   "cell_type": "code",
   "execution_count": null,
   "id": "5e87512d-9f61-4379-bcf6-922dcd554e75",
   "metadata": {},
   "outputs": [],
   "source": []
  },
  {
   "cell_type": "code",
   "execution_count": null,
   "id": "22b1d115-a0a8-4663-96ed-439a7b5b6f2e",
   "metadata": {},
   "outputs": [],
   "source": [
    "cluster_group_name = [\"phyhost-ecs_na610_ay49c\"]"
   ]
  },
  {
   "cell_type": "code",
   "execution_count": null,
   "id": "a9a0f4d3-fc34-4071-bde5-f535486a3ea3",
   "metadata": {},
   "outputs": [],
   "source": []
  },
  {
   "cell_type": "code",
   "execution_count": null,
   "id": "4136c93d-a607-4809-87b0-4a158a32aedd",
   "metadata": {},
   "outputs": [],
   "source": [
    "dates = ['20220222']"
   ]
  },
  {
   "cell_type": "markdown",
   "id": "0e57aada-e397-492c-902c-7e1ca2898b7c",
   "metadata": {},
   "source": [
    "### Node Info"
   ]
  },
  {
   "cell_type": "code",
   "execution_count": null,
   "id": "f97d2286-a501-4d38-a5d4-2cc66962b406",
   "metadata": {
    "tags": []
   },
   "outputs": [],
   "source": [
    "nc_pdf = get_nc_pdf(ds=dates, \n",
    "                    app_group_names=cluster_group_name)"
   ]
  },
  {
   "cell_type": "code",
   "execution_count": null,
   "id": "468e7acd-2fc6-4a12-b1df-599fdef2891a",
   "metadata": {},
   "outputs": [],
   "source": [
    "nc_pdf.head(2)"
   ]
  },
  {
   "cell_type": "code",
   "execution_count": null,
   "id": "d2621b0e-76ca-4dff-8f73-35a179953c61",
   "metadata": {},
   "outputs": [],
   "source": [
    "nc_pdf.shape"
   ]
  },
  {
   "cell_type": "code",
   "execution_count": null,
   "id": "3ff8c19d-caf0-4682-a591-86b76e9ad48e",
   "metadata": {},
   "outputs": [],
   "source": []
  },
  {
   "cell_type": "markdown",
   "id": "1b17d991-646b-4b7c-ab9d-8066395a1932",
   "metadata": {},
   "source": [
    "### POD Info"
   ]
  },
  {
   "cell_type": "code",
   "execution_count": null,
   "id": "f56b5b71-c459-4f93-bc0e-609ba98b5bdb",
   "metadata": {},
   "outputs": [],
   "source": [
    "nc_ips = nc_pdf.nc_ip.unique().tolist()\n",
    "len(nc_ips)"
   ]
  },
  {
   "cell_type": "code",
   "execution_count": null,
   "id": "f24645f9-790b-416b-954b-7561ccafe7af",
   "metadata": {
    "tags": []
   },
   "outputs": [],
   "source": [
    "pod_pdf = get_vm_pdf(ds=dates, \n",
    "                     nc_ips=nc_ips)"
   ]
  },
  {
   "cell_type": "code",
   "execution_count": null,
   "id": "007ba1c8-9883-4bd3-8cfd-30217892c57c",
   "metadata": {
    "tags": []
   },
   "outputs": [],
   "source": [
    "pod_pdf[pod_pdf[\"nc_ip\"]==\"33.9.176.199\"]"
   ]
  },
  {
   "cell_type": "code",
   "execution_count": null,
   "id": "062ee2b3-eb5e-4942-a51e-55fee5178d41",
   "metadata": {
    "tags": []
   },
   "outputs": [],
   "source": [
    "pod_pdf.head(10)"
   ]
  },
  {
   "cell_type": "code",
   "execution_count": null,
   "id": "10bc1ebd-09ec-4f46-abed-b3e2a87d428a",
   "metadata": {},
   "outputs": [],
   "source": [
    "pod_pdf.container_app_group_name.nunique()"
   ]
  },
  {
   "cell_type": "code",
   "execution_count": null,
   "id": "9f4bc584-03ed-4c4c-864e-2e3521a2553b",
   "metadata": {},
   "outputs": [],
   "source": []
  },
  {
   "cell_type": "code",
   "execution_count": null,
   "id": "850ad69d-a023-4ed4-8768-e9a491767a6c",
   "metadata": {},
   "outputs": [],
   "source": []
  },
  {
   "cell_type": "code",
   "execution_count": null,
   "id": "bb5cdf42-029d-4245-b285-ea4a6fd84927",
   "metadata": {},
   "outputs": [],
   "source": []
  },
  {
   "cell_type": "markdown",
   "id": "aac5f583-a899-4138-92b4-7faf72424961",
   "metadata": {},
   "source": [
    "### 电商容器性能数据"
   ]
  },
  {
   "cell_type": "code",
   "execution_count": null,
   "id": "ef2f1b61-30ca-475c-871f-2900d07d0add",
   "metadata": {},
   "outputs": [],
   "source": [
    "start_time = '2022-02-22 00:00:00'\n",
    "end_time = '2022-02-23 00:00:00'"
   ]
  },
  {
   "cell_type": "code",
   "execution_count": null,
   "id": "7c1ceb74-ba31-410f-8448-f638bb7e1787",
   "metadata": {},
   "outputs": [],
   "source": [
    "buy2_ips = pod_pdf[pod_pdf[\"container_app_group_name\"]==\"ay49c_tubo_server\"\n",
    "                  ].container_ip.unique().tolist()\n",
    "len(buy2_ips)"
   ]
  },
  {
   "cell_type": "code",
   "execution_count": null,
   "id": "39246892-2f84-439b-9d43-1b9c6a5e5ff1",
   "metadata": {
    "tags": []
   },
   "outputs": [],
   "source": [
    "buy2_sunfire_metric_df = sunfire.get_sunfire_odps_df(ds=dates,\n",
    "                                                       ips=buy2_ips,\n",
    "                                                       start_time=start_time,\n",
    "                                                       end_time=end_time)"
   ]
  },
  {
   "cell_type": "code",
   "execution_count": null,
   "id": "c52e4060-d0fd-4ae9-be0e-3cf9c0a74908",
   "metadata": {
    "tags": []
   },
   "outputs": [],
   "source": [
    "target = pod_pdf[pod_pdf[\"nc_ip\"]==\"33.9.160.123\"]\n",
    "container_ip = list(target[\"container_ip\"].values)\n",
    "target_machine = sunfire.get_sunfire_odps_df(ds=dates, ips=container_ip, start_time=start_time, end_time=end_time)"
   ]
  },
  {
   "cell_type": "code",
   "execution_count": null,
   "id": "5bd969f8-1d46-4e5b-a511-b12a7274ae3e",
   "metadata": {},
   "outputs": [],
   "source": [
    "target_machine.head(20)\n",
    "target_machine.sort_values(by=[\"container_ip\", \"sample_time__m\", \"throughput_type\"], inplace=True)\n",
    "target_machine.to_csv(\"service_performance.csv\")"
   ]
  },
  {
   "cell_type": "code",
   "execution_count": null,
   "id": "65848720-f51e-4150-9f85-ac8fcc26c200",
   "metadata": {
    "tags": []
   },
   "outputs": [],
   "source": [
    "buy2_sunfire_metric_df.head(10)"
   ]
  },
  {
   "cell_type": "code",
   "execution_count": null,
   "id": "d353fa4e-a8b2-4a0d-a5d6-65ca5b46ddb3",
   "metadata": {},
   "outputs": [],
   "source": [
    "buy2_sunfire_metric_df.to_csv(\"./buy2host.csv\")"
   ]
  },
  {
   "cell_type": "code",
   "execution_count": null,
   "id": "3b77bdbd-33a5-44d1-a17b-1db3f8b7f093",
   "metadata": {},
   "outputs": [],
   "source": [
    "buy2_sunfire_metric_df.throughput_type.unique()"
   ]
  },
  {
   "cell_type": "code",
   "execution_count": null,
   "id": "028f30fa-810b-4873-b748-c0b91b12b795",
   "metadata": {},
   "outputs": [],
   "source": []
  },
  {
   "cell_type": "code",
   "execution_count": null,
   "id": "ef75faad-efdb-414a-a4e9-c45a97476823",
   "metadata": {},
   "outputs": [],
   "source": []
  },
  {
   "cell_type": "code",
   "execution_count": null,
   "id": "a572e5d1-1f72-4718-b352-a208ae777694",
   "metadata": {},
   "outputs": [],
   "source": []
  },
  {
   "cell_type": "markdown",
   "id": "fdc6220d-8e92-4adb-80ef-62fb488ec1b2",
   "metadata": {},
   "source": [
    "### 离线作业性能数据\n",
    "    ay49c_tubo_server 为离线分组"
   ]
  },
  {
   "cell_type": "code",
   "execution_count": null,
   "id": "632c92ea-0fbc-4a63-97be-1cc16fe34f21",
   "metadata": {
    "tags": []
   },
   "outputs": [],
   "source": [
    "odps_kata_ips = pod_pdf[pod_pdf[\"container_app_group_name\"]==\"ay49c_tubo_server\"].container_ip.unique().tolist()\n",
    "pod_pdf[pod_pdf[\"container_app_group_name\"]==\"ay49c_tubo_server\"]"
   ]
  },
  {
   "cell_type": "code",
   "execution_count": null,
   "id": "d13337bf-4ba2-43bc-8bb8-c3ac867aad71",
   "metadata": {
    "tags": []
   },
   "outputs": [],
   "source": [
    "# fuxi jobs\n",
    "eval_fuxi_job_pdf = fuxi.get_fuxi_job_df(ds=dates,\n",
    "                                        cluster_name=[\"ay49c\"],\n",
    "                                        start_time=start_time,\n",
    "                                        end_time=end_time).to_pandas()"
   ]
  },
  {
   "cell_type": "code",
   "execution_count": null,
   "id": "e3b2e09b-d15f-4f7e-a405-bd3e4fcd0ac1",
   "metadata": {
    "tags": []
   },
   "outputs": [],
   "source": [
    "eval_fuxi_job_pdf.head(10)"
   ]
  },
  {
   "cell_type": "code",
   "execution_count": null,
   "id": "69c21efa-b6d6-4994-8577-a452b995e26d",
   "metadata": {},
   "outputs": [],
   "source": [
    "eval_fuxi_job_pdf.shape"
   ]
  },
  {
   "cell_type": "code",
   "execution_count": null,
   "id": "dc1697a0-13f3-41f8-a0d4-bc7583364f4b",
   "metadata": {},
   "outputs": [],
   "source": [
    "fuxi_job_names = eval_fuxi_job_pdf.head(100).fuxi_job_name.unique().tolist()\n",
    "len(fuxi_job_names)"
   ]
  },
  {
   "cell_type": "code",
   "execution_count": null,
   "id": "f05d6b0e-d5d9-4d0b-92b5-43e9940d452e",
   "metadata": {
    "tags": []
   },
   "outputs": [],
   "source": [
    "# fuxi task/fuxi_instance_df\n",
    "eval_fuxi_instance_pdf = fuxi.get_fuxi_instance_df(ds=dates,\n",
    "                                                   fuxi_job_name=fuxi_job_names,\n",
    "                                                   start_time=start_time,\n",
    "                                                   end_time=end_time).to_pandas()"
   ]
  },
  {
   "cell_type": "code",
   "execution_count": null,
   "id": "8450c9f8-ad92-4e1f-8190-9d63a66bfd7d",
   "metadata": {},
   "outputs": [],
   "source": [
    "eval_fuxi_instance_pdf.drop(columns=[\"terminated_message\",\"profile_info\"], \n",
    "                            inplace=True)"
   ]
  },
  {
   "cell_type": "code",
   "execution_count": null,
   "id": "45eb02ed-5b01-4999-a5cf-55550ef325fc",
   "metadata": {
    "tags": []
   },
   "outputs": [],
   "source": [
    "eval_fuxi_instance_pdf.head(10)"
   ]
  },
  {
   "cell_type": "code",
   "execution_count": null,
   "id": "dfb067e6-9a43-4548-9dcc-9fe1fe29bb26",
   "metadata": {},
   "outputs": [],
   "source": [
    "eval_fuxi_instance_pdf.shape"
   ]
  },
  {
   "cell_type": "code",
   "execution_count": null,
   "id": "7bee8bc4-2c11-4318-b56f-9c8a1e97b2f5",
   "metadata": {},
   "outputs": [],
   "source": []
  },
  {
   "cell_type": "code",
   "execution_count": null,
   "id": "12e15b7a-d174-4508-901c-4c437eed9f14",
   "metadata": {},
   "outputs": [],
   "source": [
    "# fuxi sensor"
   ]
  },
  {
   "cell_type": "code",
   "execution_count": null,
   "id": "e6675032-2859-4e95-bb54-d8e682c296ff",
   "metadata": {},
   "outputs": [],
   "source": []
  },
  {
   "cell_type": "code",
   "execution_count": null,
   "id": "180ca0fa-42bb-4dbc-8e69-67784010b8f3",
   "metadata": {
    "tags": []
   },
   "outputs": [],
   "source": [
    "fuxi_sensor_df = fuxi.get_fuxi_sensor_df(ds=dates,\n",
    "                                              start_time=start_time,\n",
    "                                              end_time=end_time,\n",
    "                                              fuxi_job_name=fuxi_job_names,\n",
    "                                              cluster_name=['AY49C'])\n",
    "\n",
    "fuxi_sensor_df = fuxi_sensor_df.groupby([\"hostname\", \"jobname\", \"rolename\", \"name\"]) \\\n",
    "                                        .agg(\n",
    "                                        fuxi_sensor_df[\"time\"].max().rename(\"timestamp\"),\n",
    "                                        fuxi_sensor_df[\"system_cpu_cgroup_usage_nano\"].sum().rename(\"cpu_time__ns\"),\n",
    "                                        fuxi_sensor_df[\"system_mem_cgroup_cache\"].sum().rename(\"system_mem_cgroup_cache\"),\n",
    "                                        fuxi_sensor_df[\"system_mem_cgroup_rss\"].sum().rename(\n",
    "                                            \"system_mem_cgroup_rss\"),\n",
    "                                        fuxi_sensor_df[\"system_mem_cgroup_total\"].sum().rename(\n",
    "                                            \"system_mem_cgroup_total\"),\n",
    "                                    )\n",
    "fuxi_sensor_df[\"cpu_time__ms\"] = fuxi_sensor_df[\"cpu_time__ns\"] / 1e3\n",
    "\n",
    "fuxi_sensor_df = fuxi_sensor_df[\n",
    "    fuxi_sensor_df.hostname.rename(\"nc_hostname\"),\n",
    "    fuxi_sensor_df.jobname.rename(\"fuxi_job_name\"),\n",
    "    fuxi_sensor_df.rolename.rename(\"fuxi_task_name\"),\n",
    "    fuxi_sensor_df.name.rename(\"fuxi_worker_name\"),\n",
    "    \"timestamp\",\n",
    "    \"cpu_time__ms\",\n",
    "    \"system_mem_cgroup_cache\",\n",
    "    \"system_mem_cgroup_rss\",\n",
    "    \"system_mem_cgroup_total\"\n",
    "]\n",
    "\n",
    "fuxi_sensor_pdf = fuxi_sensor_df.to_pandas()"
   ]
  },
  {
   "cell_type": "code",
   "execution_count": null,
   "id": "d2b4f948-a455-40f1-8731-44605586919f",
   "metadata": {},
   "outputs": [],
   "source": [
    "fuxi_sensor_pdf"
   ]
  },
  {
   "cell_type": "code",
   "execution_count": null,
   "id": "2ff4cd12-c4e3-4c58-b7fe-5c3ec0555440",
   "metadata": {},
   "outputs": [],
   "source": []
  },
  {
   "cell_type": "markdown",
   "id": "47042751-08d3-4266-83d6-2e5603f0dcda",
   "metadata": {},
   "source": [
    "### Node的性能数据"
   ]
  },
  {
   "cell_type": "code",
   "execution_count": null,
   "id": "669583a2-ed3c-43d2-8db5-d09e50bff0ba",
   "metadata": {},
   "outputs": [],
   "source": [
    "nc_top_10_sns = nc_pdf.head(10).nc_sn.unique().tolist()\n",
    "len(nc_top_10_sns)"
   ]
  },
  {
   "cell_type": "code",
   "execution_count": null,
   "id": "40cc2d2f-502d-4beb-82a7-678858ea8df5",
   "metadata": {
    "tags": []
   },
   "outputs": [],
   "source": [
    "host_cpu_util_pdf = get_walle_odps_host_cpu_util(ds=dates, \n",
    "                                                 start_time=start_time, \n",
    "                                                 end_time=end_time, \n",
    "                                                 nc_sn=nc_top_10_sns).to_pandas()"
   ]
  },
  {
   "cell_type": "code",
   "execution_count": null,
   "id": "08421330-5c1b-4cda-a66b-8d0a5785292e",
   "metadata": {},
   "outputs": [],
   "source": []
  },
  {
   "cell_type": "code",
   "execution_count": null,
   "id": "c06ecfc2-c1d5-4306-8345-d1b55f1ae20f",
   "metadata": {},
   "outputs": [],
   "source": []
  },
  {
   "cell_type": "code",
   "execution_count": null,
   "id": "1d98d6e2-e38a-4558-ab47-139051b6e64b",
   "metadata": {},
   "outputs": [],
   "source": []
  },
  {
   "cell_type": "code",
   "execution_count": null,
   "id": "2c4526e5-d1a7-4b5f-9658-0d5798a96b30",
   "metadata": {},
   "outputs": [],
   "source": []
  }
 ],
 "metadata": {
  "kernelspec": {
   "display_name": "Python 3 (ipykernel)",
   "language": "python",
   "name": "python3"
  },
  "language_info": {
   "codemirror_mode": {
    "name": "ipython",
    "version": 3
   },
   "file_extension": ".py",
   "mimetype": "text/x-python",
   "name": "python",
   "nbconvert_exporter": "python",
   "pygments_lexer": "ipython3",
   "version": "3.8.8"
  }
 },
 "nbformat": 4,
 "nbformat_minor": 5
}
