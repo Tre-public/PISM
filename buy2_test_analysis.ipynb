{
 "cells": [
  {
   "cell_type": "code",
   "execution_count": null,
   "id": "9fa0a1ed-a42f-4aa7-89ae-d8d3804a688e",
   "metadata": {},
   "outputs": [],
   "source": [
    "import pandas as pd\n",
    "import time\n",
    "from sklearn.ensemble import RandomForestClassifier, RandomForestRegressor, GradientBoostingClassifier\n",
    "import numpy as np\n",
    "from sklearn.model_selection import train_test_split\n",
    "import matplotlib.pyplot as plt\n",
    "import joblib\n",
    "%matplotlib inline"
   ]
  },
  {
   "cell_type": "code",
   "execution_count": null,
   "id": "e5930a34-90da-4f39-a2c3-c11c39eb24bb",
   "metadata": {},
   "outputs": [],
   "source": [
    "service = pd.read_csv(\"/data/zkp/buy2/5.19/allservice.csv\")\n",
    "# buy2 = buy2[buy2.throughput_type==\"HSF\"]"
   ]
  },
  {
   "cell_type": "code",
   "execution_count": null,
   "id": "a7d1ef59-3809-433d-bea6-89d908cc6ead",
   "metadata": {},
   "outputs": [],
   "source": [
    "service.sample_time__m = service.sample_time__m.apply(lambda x:int(time.mktime(time.strptime(x, \"%Y-%m-%d %H:%M:%S\"))))\n",
    "service.rename(columns={\"sample_time__m\": \"sample_time\"}, inplace=True)\n",
    "service.drop(columns=[\"throughput_type\"], inplace=True)"
   ]
  },
  {
   "cell_type": "code",
   "execution_count": null,
   "id": "8c9b8f3f-4073-4e28-a197-5f9c473d50a9",
   "metadata": {},
   "outputs": [],
   "source": [
    "# buy2[(buy2.qps__Q_s>=16) & (buy2.qps__Q_s<=17)]\n",
    "service"
   ]
  },
  {
   "cell_type": "code",
   "execution_count": null,
   "id": "5afa214f-d23d-4b2a-992f-e7311d2b8a0f",
   "metadata": {
    "tags": []
   },
   "outputs": [],
   "source": [
    "machine = pd.read_csv(\"/data/zkp/buy2/5.19/machine.csv\")\n",
    "print(machine.isnull().sum())"
   ]
  },
  {
   "cell_type": "code",
   "execution_count": null,
   "id": "92afd39f-9737-48b5-9fef-7e219f70153e",
   "metadata": {
    "tags": []
   },
   "outputs": [],
   "source": [
    "# machine.head(1)"
   ]
  },
  {
   "cell_type": "code",
   "execution_count": null,
   "id": "fea36eb7-141d-4273-a088-81047a66157f",
   "metadata": {
    "tags": []
   },
   "outputs": [],
   "source": [
    "# pod_meta = pd.read_csv(\"/data/zkp/buy2/5.19/pod_meta.csv\")\n",
    "pod_meta.columns"
   ]
  },
  {
   "cell_type": "code",
   "execution_count": null,
   "id": "79b948fa-91c0-4be8-824f-b6da644b48a7",
   "metadata": {},
   "outputs": [],
   "source": [
    "service = pd.merge(service, pod_meta[[\"nc_sn\", \"container_ip\", \"container_app_group_name\"]], on=[\"container_ip\"], how=\"left\")"
   ]
  },
  {
   "cell_type": "code",
   "execution_count": null,
   "id": "c113bb71-f03a-4486-a1f5-d8e40841b042",
   "metadata": {},
   "outputs": [],
   "source": [
    "service = service[~pd.isna(service.rt__ms_Q)]"
   ]
  },
  {
   "cell_type": "code",
   "execution_count": null,
   "id": "44833dc5-a92c-4239-8ebc-020557c5e3b5",
   "metadata": {},
   "outputs": [],
   "source": [
    "service = service[service.sample_time<1652895000]"
   ]
  },
  {
   "cell_type": "code",
   "execution_count": null,
   "id": "75d6c7f2-0dd2-45b2-8a10-665db16528b6",
   "metadata": {},
   "outputs": [],
   "source": [
    "service = service[~((service.sample_time>=1652891400) & (service.sample_time<=1652891800))]"
   ]
  },
  {
   "cell_type": "code",
   "execution_count": null,
   "id": "9925af01-46ab-4865-9ed7-5060b298827c",
   "metadata": {},
   "outputs": [],
   "source": [
    "service"
   ]
  },
  {
   "cell_type": "code",
   "execution_count": null,
   "id": "41472ab4-0a70-49cf-a2f0-19ec87491156",
   "metadata": {
    "tags": []
   },
   "outputs": [],
   "source": [
    "test_nc_sn = {}\n",
    "temp = pod_meta[pod_meta.container_app_group_name==\"buy2host\"]\n",
    "container_ip =temp.container_ip.values\n",
    "nc_sn = temp.nc_sn.values\n",
    "for i in range(temp.shape[0]):\n",
    "    test_nc_sn[container_ip[i]] = nc_sn[i]"
   ]
  },
  {
   "cell_type": "code",
   "execution_count": null,
   "id": "5a586662-fb1d-4fd7-80c4-f5205d373a52",
   "metadata": {},
   "outputs": [],
   "source": [
    "ay49c = pod_meta[pod_meta.container_app_name==\"ay49c\"]\n",
    "test_batch_ip = {}\n",
    "for key in test_nc_sn:\n",
    "    for i in range(ay49c.shape[0]):\n",
    "        if ay49c.nc_sn.values[i] == test_nc_sn[key]:\n",
    "            test_batch_ip[key] = ay49c.container_ip.values[i]\n",
    "            break"
   ]
  },
  {
   "cell_type": "code",
   "execution_count": null,
   "id": "66380363-ccdc-4ee5-80ae-991b55c8ba6c",
   "metadata": {
    "tags": []
   },
   "outputs": [],
   "source": [
    "test_nc_ip = {}\n",
    "temp = pod_meta[pod_meta.container_app_group_name==\"buy2host\"]\n",
    "container_ip =temp.container_ip.values\n",
    "nc_ip = temp.nc_ip.values\n",
    "for i in range(temp.shape[0]):\n",
    "    test_nc_ip[container_ip[i]] = nc_ip[i]"
   ]
  },
  {
   "cell_type": "code",
   "execution_count": null,
   "id": "b3dd143b-6cea-4bd2-84d7-a4c135ce2331",
   "metadata": {},
   "outputs": [],
   "source": [
    "onoffline = pd.read_csv(\"/data/zkp/buy2/service/onoffline2.csv\")\n",
    "online = onoffline[onoffline.Task_Type==\"Online\"]\n",
    "offline = onoffline[onoffline.Task_Type==\"Offline\"]"
   ]
  },
  {
   "cell_type": "code",
   "execution_count": null,
   "id": "ea95582f-b2dd-4e1c-a1f1-b3634dbf69d3",
   "metadata": {},
   "outputs": [],
   "source": [
    "offline = offline[[\"sample_time\", \"nc_sn\", \"cpu_util__pct\"]]\n",
    "offline.rename(columns={\"cpu_util__pct\": \"offline_cpu_util__pct\"}, inplace=True)"
   ]
  },
  {
   "cell_type": "code",
   "execution_count": null,
   "id": "4436c834-ff61-4953-8c4d-47b77aaa194f",
   "metadata": {
    "jupyter": {
     "source_hidden": true
    },
    "tags": []
   },
   "outputs": [],
   "source": [
    "def readCSVtype():\n",
    "    file_path = \"/data/zkp/buy2/5.12/DATA.csv\"\n",
    "    data = []\n",
    "    with open(file_path, 'r') as f:\n",
    "        print(f.readline())\n",
    "\n",
    "        while True:\n",
    "            line = f.readline()\n",
    "            if not line:\n",
    "                break\n",
    "            temp = []\n",
    "            s = line.split(',')\n",
    "            ss = s[7][2:-1].split()\n",
    "            for i in ss:\n",
    "                temp.append(int(i))\n",
    "            while len(temp) < 60:\n",
    "                line = f.readline()\n",
    "                index = line.find(']')\n",
    "                if index != -1:\n",
    "                    line = line[:index]\n",
    "                ss = line.split()\n",
    "                for i in ss:\n",
    "                    temp.append(int(i))\n",
    "            while True:    \n",
    "                line = f.readline()\n",
    "                if line.find(']') != -1:\n",
    "                    break\n",
    "            data.append(temp)"
   ]
  },
  {
   "cell_type": "code",
   "execution_count": null,
   "id": "0759ad2b-2286-470a-863c-98b2fd3af819",
   "metadata": {},
   "outputs": [],
   "source": [
    "data = pd.merge(data, offline, on=[\"sample_time\", \"nc_sn\"], how=\"left\")"
   ]
  },
  {
   "cell_type": "code",
   "execution_count": null,
   "id": "94f39d5a-678a-42dc-a00c-76c4422c2762",
   "metadata": {},
   "outputs": [],
   "source": [
    "# DATA = pd.read_csv(\"/data/zkp/buy2/5.12/DATA.csv\")\n",
    "# DATA_X = np.load(\"/data/zkp/buy2/5.12/DATA.npy\")\n",
    "DATA = pd.read_csv(\"/data/zkp/buy2/5.19/DATA.csv\")\n",
    "DATA_X = np.load(\"/data/zkp/buy2/5.19/DATA.npy\")"
   ]
  },
  {
   "cell_type": "code",
   "execution_count": null,
   "id": "975fd33d-caff-4a02-a06c-2515de9a70b9",
   "metadata": {},
   "outputs": [],
   "source": [
    "DATA = pd.merge(DATA, pod_meta[[\"nc_sn\", \"container_ip\"]], on=[\"container_ip\"], how=\"left\")"
   ]
  },
  {
   "cell_type": "code",
   "execution_count": null,
   "id": "0567d7f3-ca3b-4d14-a8fc-cd4d9846066f",
   "metadata": {},
   "outputs": [],
   "source": [
    "DATA"
   ]
  },
  {
   "cell_type": "code",
   "execution_count": null,
   "id": "e2118314-5a53-4826-a1a5-7c2cacb65f6e",
   "metadata": {
    "tags": []
   },
   "outputs": [],
   "source": [
    "offline = offline[~pd.isna(offline.cpu_util__pct)]"
   ]
  },
  {
   "cell_type": "code",
   "execution_count": null,
   "id": "0a400911-2cad-4f01-976b-f541318fdffd",
   "metadata": {
    "tags": []
   },
   "outputs": [],
   "source": [
    "temp = pd.merge(service, offline[[\"sample_time\", \"nc_sn\", \"cpu_util__pct\"]], on=[\"sample_time\", \"nc_sn\"], how=\"left\")"
   ]
  },
  {
   "cell_type": "code",
   "execution_count": null,
   "id": "2026afa8-63bd-40f5-b39c-449a66188985",
   "metadata": {},
   "outputs": [],
   "source": [
    "temp = temp[~pd.isna(temp.cpu_util__pct_y)]"
   ]
  },
  {
   "cell_type": "code",
   "execution_count": null,
   "id": "6baba001-0a5a-4e35-86be-fb9e743ea1f3",
   "metadata": {},
   "outputs": [],
   "source": [
    "temp"
   ]
  },
  {
   "cell_type": "code",
   "execution_count": null,
   "id": "76712a44-f612-4c31-97a3-a1b2473931d5",
   "metadata": {
    "tags": []
   },
   "outputs": [],
   "source": [
    "result = []"
   ]
  },
  {
   "cell_type": "code",
   "execution_count": null,
   "id": "f665fc31-0306-4c88-a9af-2f7e7cce7a9a",
   "metadata": {
    "tags": []
   },
   "outputs": [],
   "source": [
    "for app in temp.container_app_group_name.unique():\n",
    "    df = temp[temp.container_app_group_name==app]\n",
    "    if df.container_ip.unique().shape[0] >= 10:\n",
    "        X = []\n",
    "        for i in df.cpu_util__pct_y.values:\n",
    "            X.append(i)\n",
    "        X = np.asarray(X).reshape(-1, 1)\n",
    "        y = df.rt__ms_Q.values\n",
    "        p = []\n",
    "        for i in range(10, 101, 10):\n",
    "            p.append(np.percentile(y, i))\n",
    "        y_new = []\n",
    "        for i in y:\n",
    "            for j in range(1, 11):\n",
    "                if i <= p[j-1]:\n",
    "                    y_new.append(j)\n",
    "                    break\n",
    "        y = np.asarray(y_new)\n",
    "        model = RandomForestClassifier(n_estimators=100)\n",
    "        X_train, X_test, y_train, y_test = train_test_split(X, y)\n",
    "        model.fit(X_train, y_train)\n",
    "        predict = model.predict(X_test)\n",
    "        error = abs(predict - y_test)\n",
    "        print(app, df.shape[0], error[error<3].shape[0] / error.shape[0])\n",
    "        result.append([df.container_ip.unique().shape[0], error[error<3].shape[0] / error.shape[0]])"
   ]
  },
  {
   "cell_type": "code",
   "execution_count": null,
   "id": "23bfc4a0-5ce8-42cb-8dac-2259680dc9e8",
   "metadata": {},
   "outputs": [],
   "source": [
    "result = np.asarray(result)"
   ]
  },
  {
   "cell_type": "code",
   "execution_count": null,
   "id": "86f3df93-baf2-4784-bf01-dd526f8ee594",
   "metadata": {},
   "outputs": [],
   "source": [
    "np.mean(result[:, 1]), result.shape"
   ]
  },
  {
   "cell_type": "code",
   "execution_count": null,
   "id": "bff8c1ef-d643-48f1-9b18-09b36ec23942",
   "metadata": {
    "tags": []
   },
   "outputs": [],
   "source": [
    "np.savetxt(\"/data/zkp/figure/sl_total_baseline.txt\", result)"
   ]
  },
  {
   "cell_type": "code",
   "execution_count": null,
   "id": "b6beab57-e5c4-4adf-be3c-32a7c7901be6",
   "metadata": {},
   "outputs": [],
   "source": [
    "onoffline = pd.read_csv(\"/data/zkp/buy2/service/onoffline.csv\")\n",
    "onoffline = onoffline[onoffline.Task_Type==\"Offline\"]\n",
    "onoffline = onoffline[~pd.isna(onoffline.CPU_time__s)]"
   ]
  },
  {
   "cell_type": "code",
   "execution_count": null,
   "id": "1bdba41c-98f0-4710-9f28-930ed09416f0",
   "metadata": {
    "tags": []
   },
   "outputs": [],
   "source": [
    "DATA.sample_time.min(), DATA.sample_time.max()"
   ]
  },
  {
   "cell_type": "code",
   "execution_count": null,
   "id": "49352461-5975-4539-bc10-cefae1d33c8f",
   "metadata": {
    "tags": []
   },
   "outputs": [],
   "source": [
    "data = pd.merge(data, pod_meta[[\"nc_sn\", \"container_ip\"]], on=[\"container_ip\"], how=\"left\")\n",
    "# temp = pd.merge(DATA[[\"sample_time\", \"nc_sn\"]],\n",
    "#          onoffline[[\"sample_time\", \"nc_sn\", \"CPU_time__s\"]], how=\"left\", on=[\"sample_time\", \"nc_sn\"])"
   ]
  },
  {
   "cell_type": "code",
   "execution_count": null,
   "id": "86641b5f-6219-4960-a9ae-f27801b70e3f",
   "metadata": {
    "tags": []
   },
   "outputs": [],
   "source": [
    "plt.plot(sorted(DATA.online_cpu_util__pct.values/96), np.arange(DATA.shape[0]) / (DATA.shape[0] - 1))\n",
    "plt.plot(sorted(DATA.offline_cpu_util__pct.values/96), np.arange(DATA.shape[0]) / (DATA.shape[0] - 1))\n",
    "plt.plot(sorted(DATA.machine_cpu_util__pct.values), np.arange(DATA.shape[0]) / (DATA.shape[0] - 1))\n",
    "DATA = DATA[\"online_cpu_util__pct\"]"
   ]
  },
  {
   "cell_type": "code",
   "execution_count": null,
   "id": "eda06ce1-47ca-429d-86ac-2f14d89ab972",
   "metadata": {
    "tags": []
   },
   "outputs": [],
   "source": [
    "data = pd.read_csv(\"/data/zkp/buy2/service/DATA.csv\")\n",
    "data_x = np.load(\"/data/zkp/buy2/service/DATA.npy\")"
   ]
  },
  {
   "cell_type": "code",
   "execution_count": null,
   "id": "f1f34d72-d4c1-47e9-99b4-9802e0a1376a",
   "metadata": {
    "tags": []
   },
   "outputs": [],
   "source": [
    "for ip in data.container_ip.unique():\n",
    "    temp = data[(data.container_ip==ip) & (data.sample_time>1644422400+3600*3) & (data.sample_time<1644422400+3600*6)]\n",
    "    plt.scatter(temp.offline_cpu_util__pct, temp.rt__ms_Q)\n",
    "    plt.ylim(100, 400)\n",
    "    plt.show()\n"
   ]
  },
  {
   "cell_type": "code",
   "execution_count": null,
   "id": "9264800a-924e-4ec6-890c-1faa1106d9c1",
   "metadata": {},
   "outputs": [],
   "source": [
    "plt.figure(figsize=(20, 8))\n",
    "for ip in buy2host.container_ip.unique():\n",
    "    qps = buy2host[buy2host.container_ip==ip].qps__Q_s.values\n",
    "    t = buy2host[buy2host.container_ip==ip].sample_time.values\n",
    "    plt.plot(t, qps)"
   ]
  },
  {
   "cell_type": "code",
   "execution_count": null,
   "id": "9ac85e5a-6185-4c19-968e-92fdc8a56c42",
   "metadata": {},
   "outputs": [],
   "source": [
    "buy2host = temp[temp.container_app_group_name==\"malldetailskiphost\"]\n",
    "plt.figure(figsize=(20, 8))\n",
    "for ip in buy2host.container_ip.unique():\n",
    "    qps = buy2host[buy2host.container_ip==ip].qps__Q_s.values\n",
    "    t = buy2host[buy2host.container_ip==ip].sample_time.values\n",
    "    plt.plot(t, qps)"
   ]
  },
  {
   "cell_type": "markdown",
   "id": "fbbede26-8014-435d-955b-894464d87e27",
   "metadata": {},
   "source": [
    "离线未压制时间点 （1652893200， 1652894880）"
   ]
  },
  {
   "cell_type": "code",
   "execution_count": null,
   "id": "5a6957c1-d2e7-42bf-9c4c-07b9b8ced8c8",
   "metadata": {},
   "outputs": [],
   "source": [
    "# data = DATA[(DATA.qps__Q_s>=7) & (DATA.qps__Q_s<=20)]\n",
    "# data_x = DATA_X[(DATA.qps__Q_s>=7) & (DATA.qps__Q_s<=20)]\n",
    "# data = DATA[type60[:, 59]!=0]\n",
    "# data = DATA[(DATA.sample_time>=1644422400) & (DATA.sample_time<1644508800)]\n",
    "# data_x = DATA_X[(DATA.sample_time>=1644422400) & (DATA.sample_time<1644508800)]\n",
    "# data[\"rue\"] = data.cpu_util__pct.values / data.qps__Q_s.values\n",
    "# data.shape\n",
    "data = DATA[~pd.isna(DATA.rt__ms_Q) & (DATA.qps__Q_s>7) & (DATA.sample_time>=1652889600+1200)]\n",
    "data_x = DATA_X[~pd.isna(DATA.rt__ms_Q) & (DATA.qps__Q_s>7) & (DATA.sample_time>=1652889600+1200)]"
   ]
  },
  {
   "cell_type": "code",
   "execution_count": null,
   "id": "2276723a-f5f9-47e1-9c45-9a2f625d0ae3",
   "metadata": {
    "tags": []
   },
   "outputs": [],
   "source": [
    "# _ = plt.hist(data.rue.values, bins=30, range=(0.02, 0.15))\n",
    "# _ = plt.hist(data.machine_cpu_util__pct.values, bins=30, range=(0, 100))\n",
    "_ = plt.hist(data.offline.values, bins=30, range=(2000, 2100))\n",
    "# plt.show()\n",
    "plt.figure(figsize=(20, 8))\n",
    "# plt.plot(sorted(data.rt__ms_Q.values), np.arange(data.shape[0]) / (data.shape[0] - 1))\n",
    "# plt.plot([0, 1500], [0.50, 0.50])\n",
    "# plt.plot([0, 1500], [0.95, 0.95])\n",
    "# plt.plot([0, 1500], [0.05, 0.05])\n",
    "# plt.plot([0, 1500], [0.80, 0.80])\n",
    "# plt.show()\n",
    "# plt.scatter(data.qps__Q_s.values, data.rt__ms_Q.values)\n",
    "# plt.xlim(15, 20)\n",
    "# plt.ylim(1, 10)\n",
    "# v = []\n",
    "# for i in data.container_ip.unique():\n",
    "    \n",
    "#     temp = data[data.container_ip==i]\n",
    "#     mean = np.mean(temp.rt__ms_Q.values)\n",
    "#     std = np.std(temp.rt__ms_Q.values)\n",
    "#     v.append(std/mean)\n",
    "# plt.xlim(1, 2)\n",
    "#     plt.plot(temp.sample_time, temp.rt__ms_Q)\n",
    "# #     plt.xlabel(\"time\")\n",
    "# #     plt.ylabel(\"QPS\")\n",
    "#     print(temp[(temp.qps__Q_s<5)&(temp.sample_time>1652893200)])\n",
    "#     break\n"
   ]
  },
  {
   "cell_type": "code",
   "execution_count": null,
   "id": "50231f63-a001-4b78-bc5a-2281209ae798",
   "metadata": {
    "tags": []
   },
   "outputs": [],
   "source": [
    "X_ = X[(data.offline>=1800) & (data.offline<=1900)]\n",
    "y_ = y[(data.offline>=1800) & (data.offline<=1900)]\n",
    "off = data[(data.offline>=1800) & (data.offline<=1900)].offline.values\n",
    "for j in [59]:\n",
    "    tempX = []\n",
    "    tempY = []\n",
    "    tempoff = []\n",
    "    for i in range(6):\n",
    "        if y_[X_[:, j]==i].shape[0] > 10:\n",
    "#             print(y_[X_[:, j]==i].shape[0])\n",
    "            tempX.append(i)\n",
    "            tempY.append(np.mean(y_[X_[:, j]==i]))\n",
    "            tempoff.append(np.mean(off[X_[:, j]==i]))\n",
    "    print(j)\n",
    "    print(tempY, tempoff)\n",
    "    plt.plot(tempX, tempY)\n",
    "    plt.show()"
   ]
  },
  {
   "cell_type": "code",
   "execution_count": null,
   "id": "78820611-9510-43e4-80ce-44b36f3234b2",
   "metadata": {},
   "outputs": [],
   "source": [
    "pod_meta = pd.read_csv(\"/data/zkp/buy2/5.19/pod_meta.csv\")"
   ]
  },
  {
   "cell_type": "code",
   "execution_count": null,
   "id": "a1b4652c-e16a-47d2-b61b-63f43f2e6d95",
   "metadata": {},
   "outputs": [],
   "source": [
    "data = pd.merge(data, pod_meta[[\"nc_sn\", \"container_ip\"]], how=\"left\", on=[\"container_ip\"])"
   ]
  },
  {
   "cell_type": "code",
   "execution_count": null,
   "id": "03a4e63d-db25-4a8e-aa3d-f31e5d3bbd69",
   "metadata": {},
   "outputs": [],
   "source": [
    "data = pd.merge(data, offline[[\"sample_time\", \"nc_sn\", \"cpu_util__pct\"]], how=\"left\", on=[\"sample_time\", \"nc_sn\"])"
   ]
  },
  {
   "cell_type": "code",
   "execution_count": null,
   "id": "0f80ce86-f385-42d6-a28c-849ef107d7d2",
   "metadata": {
    "tags": []
   },
   "outputs": [],
   "source": [
    "data = data.dropna()"
   ]
  },
  {
   "cell_type": "code",
   "execution_count": null,
   "id": "370705fa-1062-4374-802e-989665def8bb",
   "metadata": {},
   "outputs": [],
   "source": [
    "data"
   ]
  },
  {
   "cell_type": "code",
   "execution_count": null,
   "id": "ad2b5e9e-ffdc-4ee0-9b87-405c19d0c775",
   "metadata": {},
   "outputs": [],
   "source": [
    "offline"
   ]
  },
  {
   "cell_type": "code",
   "execution_count": null,
   "id": "bfc49118-310d-4f10-9353-bc5ffe93027c",
   "metadata": {},
   "outputs": [],
   "source": [
    "machine = pd.read_csv(\"/data/zkp/buy2/5.19/machine.csv\")"
   ]
  },
  {
   "cell_type": "code",
   "execution_count": null,
   "id": "8c5e6616-27b2-4565-acbb-f31e51240916",
   "metadata": {},
   "outputs": [],
   "source": [
    "onoffline = pd.read_csv(\"/data/zkp/buy2/5.19/onoffline.csv\")\n",
    "online = onoffline[onoffline.Task_Type==\"Online\"]\n",
    "offline = onoffline[onoffline.Task_Type==\"Offline\"]"
   ]
  },
  {
   "cell_type": "code",
   "execution_count": null,
   "id": "6c46afc8-7fee-4a9f-a8f5-90479bc53648",
   "metadata": {
    "tags": []
   },
   "outputs": [],
   "source": [
    "online"
   ]
  },
  {
   "cell_type": "code",
   "execution_count": null,
   "id": "0379f79f-58a4-4602-9d91-84a4a3e26a64",
   "metadata": {},
   "outputs": [],
   "source": [
    "data_x = data_x[(data.sample_time>=1644422400) & (data.sample_time<1644508800)]\n",
    "data = data[(data.sample_time>=1644422400) & (data.sample_time<1644508800)]"
   ]
  },
  {
   "cell_type": "code",
   "execution_count": null,
   "id": "7e4ef4b5-2e61-486c-8191-7b061d0c9bd2",
   "metadata": {
    "tags": []
   },
   "outputs": [],
   "source": [
    "# metric = \"rt__ms_Q\"\n",
    "# p75 = np.percentile(data[metric].values, 90)\n",
    "# p25 = np.percentile(data[metric].values, 5)\n",
    "# da = data[(data[metric] >= p75) | (data[metric] <= p25)]\n",
    "# X = data_x[(data[metric] >= p75) | (data[metric] <= p25)]\n",
    "# da = data\n",
    "# X = data_x\n",
    "X = np.asarray((data.values)[:, [-1]], dtype=float)\n",
    "y = data.rt__ms_Q.values\n",
    "# da.shape, p75, p25"
   ]
  },
  {
   "cell_type": "code",
   "execution_count": null,
   "id": "42da87f4-48a0-47c5-b4e1-baa2e68f20e7",
   "metadata": {},
   "outputs": [],
   "source": [
    "for i in range(9):\n",
    "    print(np.mean(y[(y<p[i+1]) & (y>p[i])]), end=', ')"
   ]
  },
  {
   "cell_type": "code",
   "execution_count": null,
   "id": "780deb0a-eb1b-4702-b20a-6e14d35fbd89",
   "metadata": {
    "tags": []
   },
   "outputs": [],
   "source": [
    "p = []\n",
    "for i in range(10, 101, 10):\n",
    "    p.append(np.percentile(y, i))\n",
    "y_new = []\n",
    "for i in y:\n",
    "    for j in range(1, 11):\n",
    "        if i <= p[j-1]:\n",
    "            y_new.append(j)\n",
    "            break"
   ]
  },
  {
   "cell_type": "code",
   "execution_count": null,
   "id": "c2053dc2-7bf3-4052-a79c-5b649a46d989",
   "metadata": {},
   "outputs": [],
   "source": [
    "# X = np.hstack((X, qps.reshape(-1, 1)))\n",
    "# X.shape\n",
    "y = np.asarray(y_new)\n",
    "y.shape"
   ]
  },
  {
   "cell_type": "code",
   "execution_count": null,
   "id": "2ac3c169-7ff7-4fef-a208-d6a61c335ec5",
   "metadata": {},
   "outputs": [],
   "source": [
    "model = RandomForestClassifier(n_estimators=100)\n",
    "X_train, X_test, y_train, y_test = train_test_split(X, y)\n",
    "\n",
    "model.fit(X_train, y_train)"
   ]
  },
  {
   "cell_type": "code",
   "execution_count": null,
   "id": "7ec11867-9453-4b1e-86ba-a872ecca5178",
   "metadata": {},
   "outputs": [],
   "source": [
    "model.score(X_test, y_test)"
   ]
  },
  {
   "cell_type": "code",
   "execution_count": null,
   "id": "c4bee66f-9ccc-47f7-b405-4ae676f5ee68",
   "metadata": {},
   "outputs": [],
   "source": [
    "predict = model.predict(X_test)"
   ]
  },
  {
   "cell_type": "code",
   "execution_count": null,
   "id": "326c5714-8c19-4ba5-b9fe-2595d0697b86",
   "metadata": {
    "tags": []
   },
   "outputs": [],
   "source": [
    "error = abs(predict - y_test)\n",
    "plt.plot(sorted(error), np.arange(predict.shape[0]) / (predict.shape[0] - 1))\n",
    "plt.xlim(0, 5)\n",
    "plt.xlabel(\"error\", fontsize=30)\n",
    "plt.ylabel(\"CDF\", fontsize=30)\n",
    "plt.xticks(fontsize=30)\n",
    "plt.yticks(fontsize=30)\n",
    "plt.grid(\":\")\n",
    "plt.show()"
   ]
  },
  {
   "cell_type": "code",
   "execution_count": null,
   "id": "4588a3f5-0c85-469a-9ae5-4296d5fa7cfe",
   "metadata": {},
   "outputs": [],
   "source": [
    "error[error<3].shape[0] / error.shape[0]"
   ]
  },
  {
   "cell_type": "code",
   "execution_count": null,
   "id": "3da4c36d-4188-43fb-92cc-5f7360d80a1c",
   "metadata": {},
   "outputs": [],
   "source": [
    "temp = np.load(\"/data/zkp/figure/simulation/if2_BED.npy\")\n",
    "np.bincount(model.predict(temp.reshape(-1, 60)))"
   ]
  },
  {
   "cell_type": "code",
   "execution_count": null,
   "id": "107b7760-362c-438a-b4b6-4b16624f76ec",
   "metadata": {},
   "outputs": [],
   "source": [
    "p"
   ]
  },
  {
   "cell_type": "code",
   "execution_count": null,
   "id": "866c1f11-da64-4227-8b02-6ce7e4503e78",
   "metadata": {},
   "outputs": [],
   "source": [
    "temp = np.load(\"/data/zkp/figure/simulation/base2_BED.npy\")\n",
    "np.bincount(model.predict(temp.reshape(-1, 60)))"
   ]
  },
  {
   "cell_type": "code",
   "execution_count": null,
   "id": "cf83c505-0ac5-4667-8016-550b1a52737a",
   "metadata": {},
   "outputs": [],
   "source": [
    "np.sum(base2)"
   ]
  },
  {
   "cell_type": "code",
   "execution_count": null,
   "id": "0229b5db-bded-49f2-b5b8-1a4c208237b3",
   "metadata": {},
   "outputs": [],
   "source": [
    "if2 = [   0, 2288, 2912, 1456, 1560, 1300, 1560, 2548, 2548, 1560,  156]\n",
    "base2 = [   0,  887, 1847, 1869, 1795, 1697, 1873, 2216, 2486, 2338,  679]\n",
    "p = [152.4086278578676, 180.53065741328675, 190.18831099665684, 197.62023979935213, 204.47526701760574, \n",
    "     211.55480364314505, 219.71990758889862, 230.76328394504978, 250.93011366088624, 329.14399794371144, ]"
   ]
  },
  {
   "cell_type": "code",
   "execution_count": null,
   "id": "6464ae3f-fcf9-4870-a130-aac2d7c6d15d",
   "metadata": {},
   "outputs": [],
   "source": [
    "sum = 0\n",
    "for i in range(10):\n",
    "    sum += p[i] * if2[i+1]\n",
    "sum/np.sum(if2)"
   ]
  },
  {
   "cell_type": "code",
   "execution_count": null,
   "id": "7bde7386-f07a-4cb0-afca-5896b76d1bf7",
   "metadata": {},
   "outputs": [],
   "source": [
    "sum = 0\n",
    "for i in range(10):\n",
    "    sum += p[i] * base2[i+1]\n",
    "sum/np.sum(base2)"
   ]
  },
  {
   "cell_type": "code",
   "execution_count": null,
   "id": "054f0547-b147-4995-8452-b05b580660d0",
   "metadata": {},
   "outputs": [],
   "source": [
    "sum = 0\n",
    "for i in range(10):\n",
    "    sum += (i+1) * if2[i+1]\n",
    "sum/np.sum(if2)"
   ]
  },
  {
   "cell_type": "code",
   "execution_count": null,
   "id": "a4977e54-aab6-43d2-b798-6c2af63b4b94",
   "metadata": {},
   "outputs": [],
   "source": [
    "sum = 0\n",
    "for i in range(10):\n",
    "    sum += (i+1) * base2[i+1]\n",
    "sum/np.sum(base2)"
   ]
  },
  {
   "cell_type": "code",
   "execution_count": null,
   "id": "d92cc435-8e2f-4155-9ade-8def65576b10",
   "metadata": {
    "tags": []
   },
   "outputs": [],
   "source": [
    "plt.figure(figsize=(20, 8))\n",
    "plt.plot(range(0, predict.shape[0], 50), predict[::50])\n",
    "plt.plot(range(0, y_test.shape[0], 50), y_test[::50])\n",
    "plt.ylim(0, 10)"
   ]
  },
  {
   "cell_type": "code",
   "execution_count": null,
   "id": "d475607a-01d0-49a2-81ec-6e44ed944f03",
   "metadata": {},
   "outputs": [],
   "source": [
    "X.shape"
   ]
  },
  {
   "cell_type": "code",
   "execution_count": null,
   "id": "0cbcddd5-89ec-43d0-94ee-09778a017607",
   "metadata": {
    "tags": []
   },
   "outputs": [],
   "source": [
    "for i in range(y.shape[0]):\n",
    "    print(y[i], predict[i])"
   ]
  },
  {
   "cell_type": "code",
   "execution_count": null,
   "id": "f6db7e65-b45b-417c-9694-1f0d935708fc",
   "metadata": {
    "tags": []
   },
   "outputs": [],
   "source": [
    "label = (da[metric].values >= p75)\n",
    "label.shape\n",
    "# label = []\n",
    "# for i in da[metric].values:\n",
    "#     if i <= p25 or i >= p75:\n",
    "#         label.append(1)\n",
    "#     else:\n",
    "#         label.append(0)\n",
    "# label = np.asarray(label)"
   ]
  },
  {
   "cell_type": "code",
   "execution_count": null,
   "id": "6e8c8dcc-032b-47e4-bd6f-e9e680c493fc",
   "metadata": {},
   "outputs": [],
   "source": [
    "x0 = X[label==0]\n",
    "y0 = label[label==0]\n",
    "x1 = X[label==1]\n",
    "y1 = label[label==1]\n",
    "x0 = x0[:int(X.shape[0]*0.1)]\n",
    "y0 = y0[:int(X.shape[0]*0.1)]\n",
    "X_ = np.vstack((x0, x1))\n",
    "label_ = np.hstack((y0, y1))\n",
    "X_.shape, label_.shape"
   ]
  },
  {
   "cell_type": "code",
   "execution_count": null,
   "id": "7ae0ab35-9679-4f15-a0d2-9c735618f2a2",
   "metadata": {},
   "outputs": [],
   "source": [
    "np.bincount(label_)"
   ]
  },
  {
   "cell_type": "code",
   "execution_count": null,
   "id": "b3315d0e-03a4-4aab-8606-5ce5cc57f3f5",
   "metadata": {
    "tags": []
   },
   "outputs": [],
   "source": [
    "model = RandomForestClassifier()\n",
    "X_train, X_test, y_train, y_test = train_test_split(X, label)\n",
    "model.fit(X_train, y_train)\n",
    "y_predict = model.predict(X_test)\n",
    "model.score(X_test, y_test)"
   ]
  },
  {
   "cell_type": "code",
   "execution_count": null,
   "id": "a81a7266-0a61-45d5-a85f-e5d7849025c8",
   "metadata": {},
   "outputs": [],
   "source": [
    "cnt = [[0, 0], [0, 0]]\n",
    "for i in range(y_predict.shape[0]):\n",
    "    cnt[int(y_test[i])][int(y_predict[i])] += 1\n",
    "print(cnt)"
   ]
  },
  {
   "cell_type": "code",
   "execution_count": null,
   "id": "0d535a1d-dda3-4747-a7fe-b0ff76892fd2",
   "metadata": {},
   "outputs": [],
   "source": [
    "model.fit(X, label)\n",
    "joblib.dump(model, \"/data/zkp/buy2/5.12/rt4.model\")"
   ]
  },
  {
   "cell_type": "code",
   "execution_count": null,
   "id": "f3ee9367-3628-4c28-ae98-64000af87853",
   "metadata": {},
   "outputs": [],
   "source": [
    "model_id = 1\n",
    "model_name = [\"rue\", \"rt__ms_Q\"]\n",
    "model_threhold = [[4.934319997902265, 3.9014909478170434], [519.8403993886907, 167.38771434255023]]\n",
    "X = data_x\n",
    "label = []\n",
    "# label = data[model_name[model_id]].values>=model_threhold[model_id][0]\n",
    "for i in data[model_name[model_id]].values:\n",
    "    if i >= model_threhold[model_id][0] or i <= model_threhold[model_id][1]:\n",
    "        label.append(1)\n",
    "#     elif i >= model_threhold[model_id][0]:\n",
    "#         label.append(1)\n",
    "    else:\n",
    "        label.append(0)"
   ]
  },
  {
   "cell_type": "code",
   "execution_count": null,
   "id": "5afcc88a-837b-498d-bff4-f314b947d6df",
   "metadata": {},
   "outputs": [],
   "source": [
    "label"
   ]
  },
  {
   "cell_type": "code",
   "execution_count": null,
   "id": "74f51af9-59be-4acd-a364-a4e898cbf822",
   "metadata": {},
   "outputs": [],
   "source": [
    "np.bincount(y_predict)"
   ]
  },
  {
   "cell_type": "code",
   "execution_count": null,
   "id": "6b7b7eab-7d88-4f4f-8b6c-66104773e53d",
   "metadata": {},
   "outputs": [],
   "source": [
    "model = joblib.load(\"/data/zkp/buy2/5.12/rt4.model\")\n",
    "y_predict = model.predict(X)"
   ]
  },
  {
   "cell_type": "code",
   "execution_count": null,
   "id": "d1e8578b-fb59-414b-9a57-8e26f4c1a059",
   "metadata": {},
   "outputs": [],
   "source": [
    "cnt = [[0, 0], [0, 0], [0, 0]]\n",
    "for i in range(y_predict.shape[0]):\n",
    "    cnt[int(label[i])][int(y_predict[i])] += 1\n",
    "print(cnt)\n",
    "score = [cnt[0][0] / sum(cnt[0]), cnt[1][1] / sum(cnt[1]), cnt[0][0] / (cnt[0][0] + cnt[1][0]), cnt[1][1] / (cnt[1][1] + cnt[0][1])]\n",
    "print(score)\n",
    "print(2*score[0]*score[2] / (score[0] + score[2]), 2*score[1]*score[3] / (score[1]+score[3]))"
   ]
  },
  {
   "cell_type": "code",
   "execution_count": null,
   "id": "2bbacea7-fffc-48c3-9ff4-d25e9fe97416",
   "metadata": {},
   "outputs": [],
   "source": [
    "plt.hist(data[(y_predict==1) & (np.asarray(label)==2)].rt__ms_Q)\n",
    "plt.xlabel(\"RT\")\n",
    "plt.ylabel(\"Frequency\")"
   ]
  },
  {
   "cell_type": "code",
   "execution_count": null,
   "id": "abdcfd43-e7a8-430a-a77e-4b89902d7935",
   "metadata": {
    "tags": []
   },
   "outputs": [],
   "source": [
    "# model.feature_importances_\n",
    "cnt = [0, 0, 0]\n",
    "for i in range(y_predict.shape[0]):\n",
    "    if y_test[i] == 1:\n",
    "        cnt[y_predict[i]] += 1\n",
    "cnt, cnt[0] / sum(cnt)"
   ]
  },
  {
   "cell_type": "code",
   "execution_count": null,
   "id": "38c2327f-f4fa-4fc0-8299-71e4195489c3",
   "metadata": {
    "tags": []
   },
   "outputs": [],
   "source": [
    "lr = LinearRegression()\n",
    "lr.fit(X, data[metric].values)\n",
    "lr.score(X, data[metric.values)\n",
    "predict = lr.predict(X)\n",
    "error = abs(predict - data[metric].values) / data[metric].values\n",
    "plt.plot(sorted(error), np.arange(predict.shape[0]) / (predict.shape[0] - 1))"
   ]
  },
  {
   "cell_type": "code",
   "execution_count": null,
   "id": "33c8487b-843d-4210-896c-48bce0ad9039",
   "metadata": {
    "tags": []
   },
   "outputs": [],
   "source": [
    "# plt.hist(data[metric].values, bins=30)\n",
    "plt.hist(data[data[metric]>=p75].qps__Q_s, bins=30)\n",
    "plt.show()\n",
    "plt.hist(data[data[metric]<=p25].qps__Q_s, bins=30)\n",
    "plt.show()\n",
    "plt.scatter(da[label==0].machine_cpu_util__pct, da[label==0].qps__Q_s)\n",
    "plt.scatter(da[label==1].machine_cpu_util__pct, da[label==1].qps__Q_s)\n",
    "plt.xlabel(\"Machine CPU\")\n",
    "plt.ylabel(\"QPS\")\n",
    "plt.legend([\"0\", \"1\"])"
   ]
  },
  {
   "cell_type": "code",
   "execution_count": null,
   "id": "30a61f73-40b7-4625-adc4-dc80b676f368",
   "metadata": {},
   "outputs": [],
   "source": [
    "heat0, heat1 = [], []\n",
    "for i in range(y_test.shape[0]):\n",
    "    if y_test[i] == y_predict[i]:\n",
    "        if y_test[i] == 0:\n",
    "            heat0.append(X_test[i])\n",
    "        else:\n",
    "            heat1.append(X_test[i])\n",
    "heat0 = np.asarray(heat0)\n",
    "heat1 = np.asarray(heat1)"
   ]
  },
  {
   "cell_type": "code",
   "execution_count": null,
   "id": "04388787-c000-4ea1-8d71-a3920fa83e73",
   "metadata": {
    "tags": []
   },
   "outputs": [],
   "source": [
    "import seaborn as sns\n",
    "vmin = 0\n",
    "vmax = 60\n",
    "cmap = \"viridis_r\"\n",
    "fig, axes = plt.subplots(1, 2, figsize=(18, 8))\n",
    "sns.heatmap(heat1.T, cmap=cmap, yticklabels=[], xticklabels=[], vmin=vmin, vmax=vmax, cbar=False, ax=axes[0])\n",
    "# axes[0].xlabel(\"P80 Machine\", fontsize=15)\n",
    "# axes[0].ylabel(\"Task Type\", fontsize=15)\n",
    "# plt.show()\n",
    "# plt.figure(figsize=(12, 8))\n",
    "sns.heatmap(heat0.T, cmap=cmap, yticklabels=[], xticklabels=[], vmin=vmin, vmax=vmax, ax=axes[1])\n",
    "# axes[1].xlabel(\"P20 Machine\", fontsize=15)\n",
    "# axes[1].ylabel(\"Task Type\", fontsize=15)\n",
    "plt.show()"
   ]
  },
  {
   "cell_type": "code",
   "execution_count": null,
   "id": "9f6c98f1-080c-48e3-b811-4912e8e7a1e9",
   "metadata": {
    "tags": []
   },
   "outputs": [],
   "source": [
    "for i in range(heat0.shape[1]):\n",
    "    print(i)\n",
    "    plt.plot(sorted(heat0[:, i]), np.arange(heat0.shape[0]) / (heat0.shape[0] - 1))\n",
    "    plt.plot(sorted(heat1[:, i]), np.arange(heat1.shape[0]) / (heat1.shape[0] - 1))\n",
    "    plt.show()"
   ]
  },
  {
   "cell_type": "code",
   "execution_count": null,
   "id": "22c27cfd-39a7-469c-8c6c-6e51162d9419",
   "metadata": {
    "tags": []
   },
   "outputs": [],
   "source": [
    "plt.scatter(X[:, 39], X[:, 59], c=label)\n",
    "plt.legend([\"0\"])"
   ]
  },
  {
   "cell_type": "code",
   "execution_count": null,
   "id": "b6a37434-daac-4279-9c4b-57ed4483d950",
   "metadata": {
    "tags": []
   },
   "outputs": [],
   "source": [
    "for i in range(60):\n",
    "    x = []\n",
    "    y = []\n",
    "    temp = np.bincount(X[:, i])\n",
    "    for j in range(temp.shape[0]):\n",
    "        if temp[j] >= 5:\n",
    "            cnt = np.bincount(label[X[:, i]==j])\n",
    "            x.append(j)\n",
    "            y.append(cnt[0] / temp[j])\n",
    "    print(i)\n",
    "    plt.plot(x, y)\n",
    "    plt.show()\n"
   ]
  },
  {
   "cell_type": "code",
   "execution_count": null,
   "id": "2b51398b-1781-4f4c-b2fe-140de35273ad",
   "metadata": {},
   "outputs": [],
   "source": [
    "temp = X[:, 59] \n",
    "cnt = [0 for i in range(9)]\n",
    "po = [0 for i in range(9)]\n",
    "for i in range(temp.shape[0]):\n",
    "    if temp[i] < 9:\n",
    "        cnt[temp[i]] += 1\n",
    "        if label[i]:\n",
    "            po[temp[i]] += 1\n",
    "cnt, po"
   ]
  },
  {
   "cell_type": "code",
   "execution_count": null,
   "id": "be9beef3-f7e9-469b-8b7b-3419cd6c0c8f",
   "metadata": {
    "tags": []
   },
   "outputs": [],
   "source": [
    "X59 = da[X[:, 59]==4]\n",
    "Y59 = label[X[:, 59]==4]\n",
    "plt.scatter(X59[Y59==0].machine_cpu_util__pct, X59[Y59==0].qps__Q_s)\n",
    "plt.scatter(X59[Y59==1].machine_cpu_util__pct, X59[Y59==1].qps__Q_s)\n",
    "plt.xlabel(\"Machine CPU\")\n",
    "plt.ylabel(\"QPS\")\n",
    "plt.legend([\"0\", \"1\"])"
   ]
  },
  {
   "cell_type": "code",
   "execution_count": null,
   "id": "a9cd571d-4a57-40cb-ac83-eaa559e07c61",
   "metadata": {},
   "outputs": [],
   "source": [
    "batch = pd.read_csv(\"/data/zkp/buy2/instance.csv\")\n",
    "batch.shape"
   ]
  },
  {
   "cell_type": "code",
   "execution_count": null,
   "id": "8c2652e4-a4ad-4931-b61d-d46cb70e8f51",
   "metadata": {
    "tags": []
   },
   "outputs": [],
   "source": [
    "batch\n",
    "# batch.type.value_counts()"
   ]
  },
  {
   "cell_type": "code",
   "execution_count": null,
   "id": "dd409116-4fca-4750-9be8-7117394351e6",
   "metadata": {},
   "outputs": [],
   "source": [
    "batch[\"job_task_name\"] = batch.fuxi_job_name + batch.fuxi_task_name\n",
    "batch[\"total_time\"] = batch.end_time - batch.start_time\n",
    "G = batch[[\"job_task_name\", \"fuxi_avg_cpu\", \"fuxi_avg_mem\", \"total_time\"]].groupby([\"job_task_name\"]).mean()"
   ]
  },
  {
   "cell_type": "code",
   "execution_count": null,
   "id": "11b00e88-0d34-4cfe-96e7-0716f3bb9386",
   "metadata": {
    "tags": []
   },
   "outputs": [],
   "source": [
    "G"
   ]
  },
  {
   "cell_type": "code",
   "execution_count": null,
   "id": "d3feef06-183f-471b-85a3-c9d7bb41277e",
   "metadata": {},
   "outputs": [],
   "source": [
    "task_type = {}\n",
    "type_cnt = [0 for i in range(60)]\n",
    "cpu = G.fuxi_avg_cpu.values\n",
    "mem = G.fuxi_avg_mem.values\n",
    "t = G.total_time.values\n",
    "key = G.index.values\n",
    "for i in range(G.shape[0]):\n",
    "    if np.isnan(cpu[i]) or np.isnan(mem[i]) or np.isnan(t[i]):\n",
    "        continue\n",
    "    index = 0\n",
    "    if cpu[i] < 50:\n",
    "        index = 0\n",
    "    elif 50 <= cpu[i] < 150:\n",
    "        index = 1\n",
    "    else:\n",
    "        index = 2\n",
    "\n",
    "    if mem[i] < 512:\n",
    "        index = (index*5) + 0\n",
    "    elif 512 <= mem[i] < 1536:\n",
    "        index = (index*5) + 1\n",
    "    elif 1536 <= mem[i] < 3072:\n",
    "        index = (index*5) + 2\n",
    "    elif 3072 <= mem[i] < 6144:\n",
    "        index = (index*5) + 3\n",
    "    else:\n",
    "        index = (index*5) + 4\n",
    "\n",
    "    if t[i] < 20:\n",
    "        index = (index*4) + 0\n",
    "    elif 20 <= t[i] < 40:\n",
    "        index = (index*4) + 1\n",
    "    elif 40 <= t[i] < 100:\n",
    "        index = (index*4) + 2\n",
    "    else:\n",
    "        index = (index*4) + 3\n",
    "    task_type[key[i]] = index\n",
    "    type_cnt[index] += 1"
   ]
  },
  {
   "cell_type": "code",
   "execution_count": null,
   "id": "8b978e97-a1a7-408d-abfc-d4976a0a9ac7",
   "metadata": {
    "tags": []
   },
   "outputs": [],
   "source": [
    "DATA"
   ]
  },
  {
   "cell_type": "code",
   "execution_count": null,
   "id": "34c90e7d-6ef1-4ad9-a304-4787204092e3",
   "metadata": {
    "tags": []
   },
   "outputs": [],
   "source": [
    "temp = []\n",
    "for i in batch.job_task_name.values:\n",
    "    if i in task_type:\n",
    "        temp.append(int(task_type[i]))\n",
    "    else:\n",
    "        temp.append(np.nan)\n",
    "batch[\"type\"] = temp"
   ]
  },
  {
   "cell_type": "code",
   "execution_count": null,
   "id": "24e04b3a-3012-4f34-a1e4-9736a16e371e",
   "metadata": {},
   "outputs": [],
   "source": [
    "batch[(batch.start_time>=1644505260) | (batch.end_time>1644505260)].to_csv(\"/data/zkp/buy2/simu_instance.csv\", index=False)"
   ]
  },
  {
   "cell_type": "code",
   "execution_count": null,
   "id": "3a798c42-da95-430b-bec5-859169975455",
   "metadata": {
    "tags": []
   },
   "outputs": [],
   "source": [
    "batch = batch[~np.isnan(batch.type)]\n",
    "batch = batch[~((batch.start_time==0) | (batch.end_time==0))]\n",
    "batch = batch[~pd.isna(batch.worker_address)]\n",
    "batch.type = np.asarray(batch.type, dtype=\"int\")\n",
    "batch.columns, DATA.columns"
   ]
  },
  {
   "cell_type": "code",
   "execution_count": null,
   "id": "830758bd-6d02-406d-b00b-940deaee94f6",
   "metadata": {
    "tags": []
   },
   "outputs": [],
   "source": [
    "offline_data = []\n",
    "sample_time = DATA.sample_time.values\n",
    "container_ip = DATA.container_ip.values\n",
    "cur_ip = container_ip[0]\n",
    "df = batch[batch.worker_address==test_batch_ip[cur_ip]]\n",
    "cnt = 0\n",
    "for i in range(DATA.shape[0]):\n",
    "#     print(i, end=',')\n",
    "#     start = time.time()\n",
    "    if cur_ip != container_ip[i]:\n",
    "        print(cnt, end=',')\n",
    "        cnt += 1\n",
    "        cur_ip = container_ip[i]\n",
    "        df = batch[batch.worker_address==test_batch_ip[cur_ip]]  \n",
    "    maxpd = df[df.start_time<sample_time[i]]\n",
    "    maxpd = maxpd[maxpd.end_time>sample_time[i]-60]\n",
    "#     print(time.time()-start)\n",
    "    offline_data.append(np.bincount(maxpd.type.values, minlength=60))\n"
   ]
  },
  {
   "cell_type": "code",
   "execution_count": null,
   "id": "8d8bda6b-ded1-4bd1-97f6-a737b1c14130",
   "metadata": {
    "tags": []
   },
   "outputs": [],
   "source": [
    "offline_data"
   ]
  },
  {
   "cell_type": "code",
   "execution_count": null,
   "id": "c0c07d09-3aea-4969-b159-f6412c7b8559",
   "metadata": {
    "tags": []
   },
   "outputs": [],
   "source": [
    "# DATA[\"type\"] = offline_data\n",
    "DATA.drop(columns=[\"type\"]).to_csv(\"/data/zkp/buy2/service/DATA.csv\", index=False)"
   ]
  },
  {
   "cell_type": "code",
   "execution_count": null,
   "id": "964f6b41-e834-4b26-b857-0f79df74e4fc",
   "metadata": {},
   "outputs": [],
   "source": [
    "np.save(\"/data/zkp/buy2/service/DATA.npy\", np.asarray(offline_data))"
   ]
  },
  {
   "cell_type": "code",
   "execution_count": null,
   "id": "1a93af24-52c1-42f1-973f-44f7435565f4",
   "metadata": {},
   "outputs": [],
   "source": [
    "task_type = {}\n",
    "type_cnt = [0 for i in range(240)]\n",
    "cpu = G.fuxi_avg_cpu.values\n",
    "mem = G.fuxi_avg_mem.values\n",
    "t = G.total_time.values\n",
    "cpu_max = G.fuxi_max_cpu.values\n",
    "mem_max = G.fuxi_max_mem.values\n",
    "key = G.index.values\n",
    "for i in range(G.shape[0]):\n",
    "    if np.isnan(cpu_max[i]) or np.isnan(mem_max[i]):\n",
    "        continue\n",
    "    index = 0\n",
    "    if cpu[i] < 50:\n",
    "        idnex = 0\n",
    "    elif 50 <= cpu[i] < 150:\n",
    "        index = 1\n",
    "    else:\n",
    "        index = 2\n",
    "\n",
    "    if mem[i] < 512:\n",
    "        index = (index*5) + 0\n",
    "    elif 512 <= mem[i] < 1536:\n",
    "        index = (index*5) + 1\n",
    "    elif 1536 <= mem[i] < 3072:\n",
    "        index = (index*5) + 2\n",
    "    elif 3072 <= mem[i] < 6144:\n",
    "        index = (index*5) + 3\n",
    "    else:\n",
    "        index = (index*5) + 4\n",
    "\n",
    "    if t[i] < 20:\n",
    "        index = (index*4) + 0\n",
    "    elif 20 <= t[i] < 40:\n",
    "        index = (index*4) + 1\n",
    "    elif 40 <= t[i] < 100:\n",
    "        index = (index*4) + 2\n",
    "    else:\n",
    "        index = (index*4) + 3\n",
    "        \n",
    "    if cpu[i] == 0 or mem[i] == 0:\n",
    "        index = (index*4) + 0\n",
    "    elif mem_max[i]/mem[i] < 1.5 and cpu_max[i]/cpu[i] < 2:\n",
    "        index = (index*4) + 0\n",
    "    elif mem_max[i]/mem[i] < 1.5 and cpu_max[i]/cpu[i] >= 2:\n",
    "        index = (index*4) + 1\n",
    "    elif mem_max[i]/mem[i] >= 1.5 and cpu_max[i]/cpu[i] < 2:\n",
    "        index = (index*4) + 2\n",
    "    else:\n",
    "        index = (index*4) + 3\n",
    "    \n",
    "    task_type[key[i]] = index\n",
    "    type_cnt[index] += 1"
   ]
  },
  {
   "cell_type": "code",
   "execution_count": null,
   "id": "b23bd83b-b76b-4d79-ab7d-2c807fead754",
   "metadata": {
    "tags": []
   },
   "outputs": [],
   "source": [
    "type60 = []\n",
    "for i in DATA.type60.values:\n",
    "    type60.append(i)\n",
    "type60 = np.asarray(type60)"
   ]
  },
  {
   "cell_type": "code",
   "execution_count": null,
   "id": "b36d7d6b-26bc-4ac6-9bc9-8a470d88f261",
   "metadata": {
    "tags": []
   },
   "outputs": [],
   "source": [
    "for i in range(60):\n",
    "    print(i, sum(type60[:, i]))"
   ]
  },
  {
   "cell_type": "code",
   "execution_count": null,
   "id": "f4d2ec9a-2116-4125-841b-4a79ed7cd984",
   "metadata": {},
   "outputs": [],
   "source": [
    "type240 = []\n",
    "for i in DATA.type240.values:\n",
    "    type240.append(i)\n",
    "type240 = np.asarray(type240)"
   ]
  },
  {
   "cell_type": "code",
   "execution_count": null,
   "id": "136230dd-d32e-4ddb-a3e3-63af0e8f029a",
   "metadata": {},
   "outputs": [],
   "source": [
    "for i in range(240):\n",
    "    print(sum(type240[:, i]), end=', ')"
   ]
  }
 ],
 "metadata": {
  "kernelspec": {
   "display_name": "Python 3 (ipykernel)",
   "language": "python",
   "name": "python3"
  },
  "language_info": {
   "codemirror_mode": {
    "name": "ipython",
    "version": 3
   },
   "file_extension": ".py",
   "mimetype": "text/x-python",
   "name": "python",
   "nbconvert_exporter": "python",
   "pygments_lexer": "ipython3",
   "version": "3.8.8"
  }
 },
 "nbformat": 4,
 "nbformat_minor": 5
}
