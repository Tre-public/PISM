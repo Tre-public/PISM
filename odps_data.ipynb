{
 "cells": [
  {
   "cell_type": "markdown",
   "id": "ee459a6f-cd61-4f0c-83b0-cfb62d9fa692",
   "metadata": {},
   "source": [
    "## 混部集群性能分析\n",
    "    混部：在线电商+离线ODPS作业\n",
    "    \n",
    "    在线电商：容器化/JAVA应用等，数量好几万\n",
    "    离线ODPS作业：每天几十万-几百万作业\n",
    "    \n",
    "    \n",
    "    本脚本为一个集群（AY49C）的混部性能数据\n",
    "    \n",
    "    \n",
    "    fuxi_job：https://dmc.dw.alibaba-inc.com/dm/odps-table/odps.ali_meta.odps_fuxijob/\n",
    "    fuxi_instance：https://dmc.dw.alibaba-inc.com/dm/odps-table/odps.meta.m_fuxi_instance/"
   ]
  },
  {
   "cell_type": "code",
   "execution_count": null,
   "id": "29bf5e04-485b-42fb-970a-d360bf4aaeea",
   "metadata": {},
   "outputs": [],
   "source": []
  },
  {
   "cell_type": "code",
   "execution_count": null,
   "id": "96817471-4fbc-460c-9327-8a371136d588",
   "metadata": {},
   "outputs": [],
   "source": []
  },
  {
   "cell_type": "code",
   "execution_count": null,
   "id": "25af3d87-3517-4728-a8e6-e2e670c7d184",
   "metadata": {},
   "outputs": [],
   "source": [
    "import pandas as pd\n",
    "import numpy as np\n",
    "import os\n",
    "import sys\n",
    "%matplotlib inline\n",
    "import matplotlib.pyplot as plt\n",
    "\n",
    "sys.path.append(\"../../../\")\n",
    "\n",
    "pd.options.display.max_rows = 999\n",
    "pd.options.display.max_columns = 999\n",
    "pd.set_option('max_colwidth',4000)\n",
    "pd.options.display.expand_frame_repr = False\n",
    "\n",
    "%load_ext autoreload\n",
    "%autoreload 2\n",
    "import time\n"
   ]
  },
  {
   "cell_type": "code",
   "execution_count": null,
   "id": "eb68634b-eb51-476f-b5e0-acc5ad48a3a3",
   "metadata": {},
   "outputs": [],
   "source": [
    "from pets.utils.logger import logger\n",
    "from pets.utils.common import df_shape\n",
    "from pets.core.data_loader.odps_acl.res_eff_acl_odps import odps, get_odps_table, \\\n",
    "get_odps_table_without_ds, write_odps_table\n",
    "from pets.core.data_loader.odps_acl.general_acl_odps import get_odps_table as pets_get_odps_table,\\\n",
    "get_odps_table_without_ds as pets_get_odps_table_without_ds, write_odps_table as pets_write_odps_table\n"
   ]
  },
  {
   "cell_type": "code",
   "execution_count": null,
   "id": "cad982ac-080b-4c92-b64e-af5c7c2a5a32",
   "metadata": {},
   "outputs": [],
   "source": [
    "from pets.core.data_loader.res_eff.data_source import get_vm_pdf, get_nc_pdf\n",
    "from pets.core.data_loader.walle.data_source import get_walle_odps_host_cpu_util, get_walle_online_offline_cpu_util, get_walle_odps_container_cpu_util\n",
    "import pets.core.data_loader.sunfire.data_source as sunfire\n",
    "import pets.core.data_loader.kmon.data_source as kmon\n",
    "import pets.core.data_loader.fuxi.data_source as fuxi"
   ]
  },
  {
   "cell_type": "code",
   "execution_count": null,
   "id": "22b1d115-a0a8-4663-96ed-439a7b5b6f2e",
   "metadata": {},
   "outputs": [],
   "source": [
    "cluster_group_name = [\"phyhost-ecs_na610_ay49c\"] # 主机分组\n",
    "# cluster_group_name = [\"ay49c_tubo_server\"] # kata 容器分组"
   ]
  },
  {
   "cell_type": "markdown",
   "id": "0e57aada-e397-492c-902c-7e1ca2898b7c",
   "metadata": {
    "tags": []
   },
   "source": [
    "### Node Info"
   ]
  },
  {
   "cell_type": "code",
   "execution_count": null,
   "id": "f97d2286-a501-4d38-a5d4-2cc66962b406",
   "metadata": {
    "tags": []
   },
   "outputs": [],
   "source": [
    "nc_pdf = get_nc_pdf(ds=dates, app_group_names=cluster_group_name)"
   ]
  },
  {
   "cell_type": "code",
   "execution_count": null,
   "id": "96c49ff6-abff-4b33-97a5-5a3f7c18b05c",
   "metadata": {},
   "outputs": [],
   "source": [
    "nc_sn = nc_pdf.nc_sn.unique()"
   ]
  },
  {
   "cell_type": "code",
   "execution_count": null,
   "id": "d243be21-68b9-4481-a871-df2831d0a1a7",
   "metadata": {
    "tags": []
   },
   "outputs": [],
   "source": [
    "nc_pdf.T"
   ]
  },
  {
   "cell_type": "code",
   "execution_count": null,
   "id": "f24645f9-790b-416b-954b-7561ccafe7af",
   "metadata": {
    "tags": []
   },
   "outputs": [],
   "source": [
    "nc_ips = nc_pdf.nc_ip.unique().tolist()\n",
    "pod_pdf = get_vm_pdf(ds=dates, nc_ips=nc_ips)"
   ]
  },
  {
   "cell_type": "code",
   "execution_count": null,
   "id": "0186a9fb-02eb-4b1f-ac0b-3aac33abf242",
   "metadata": {
    "tags": []
   },
   "outputs": [],
   "source": [
    "nc_ips"
   ]
  },
  {
   "cell_type": "code",
   "execution_count": null,
   "id": "ef2f1b61-30ca-475c-871f-2900d07d0add",
   "metadata": {},
   "outputs": [],
   "source": [
    "# dates = [\"20220209\", \"20220210\"]\n",
    "# start_time = '2022-02-09 00:00:00'\n",
    "# end_time = '2022-02-11 00:00:00'\n",
    "dates = [\"20220206\", \"20220207\", \"20220208\", \"20220209\", \"20220210\", \"20220211\", \"20220212\"]\n",
    "start_time = \"2022-02-06 00:00:00\"\n",
    "end_time = \"2022-02-13 00:00:00\""
   ]
  },
  {
   "cell_type": "markdown",
   "id": "7d42cd19-4870-440d-8c11-94d2f95cff0f",
   "metadata": {},
   "source": [
    "fuxi.get_fuxi_instance_df() 当指定了start_time时ds只能有一个日期，否则拉不到数据"
   ]
  },
  {
   "cell_type": "code",
   "execution_count": null,
   "id": "c7d942ef-c37c-4169-83f7-6e27eb026f1f",
   "metadata": {
    "tags": []
   },
   "outputs": [],
   "source": [
    "eval_fuxi_instance_pdf = fuxi.get_fuxi_instance_df(ds=dates, start_time=start_time, end_time=end_time)\n",
    "eval_fuxi_instance_pdf = eval_fuxi_instance_pdf[eval_fuxi_instance_pdf.worker_address.slice(6, -6).isin(target)]\n",
    "#     eval_fuxi_instance_pdf = eval_fuxi_instance_pdf[['fuxi_job_name', 'fuxi_task_name',\n",
    "#            'start_time', 'end_time','worker_address', \n",
    "#            'fuxi_avg_cpu', 'fuxi_avg_mem']]\n",
    "#     eval_fuxi_instance_pdf.head(1)\n",
    "# fuxi_job_name = eval_fuxi_instance_pdf.fuxi_job_name.to_pandas().tolist()\n",
    "# print(fuxi_job_name)\n",
    "\n",
    "# eval_fuxi_instance_pdf = fuxi.get_fuxi_instance_df(ds=[\"20220209\", \"20220210\"], fuxi_job_name=eval_fuxi_instance_pdf.fuxi_job_name)\n",
    "eval_fuxi_instance_pdf = eval_fuxi_instance_pdf[['fuxi_job_name', 'fuxi_task_name',\n",
    "       'start_time', 'end_time','worker_address', \n",
    "       'fuxi_avg_cpu', 'fuxi_max_cpu', 'fuxi_avg_mem', 'fuxi_max_mem']]\n",
    "eval_fuxi_instance_pdf.head(1)\n",
    "eval_fuxi_instance_pdf = eval_fuxi_instance_pdf.to_pandas()\n",
    "print(eval_fuxi_instance_pdf.shape)\n",
    "worker = eval_fuxi_instance_pdf.worker_address.values\n",
    "temp = []\n",
    "for j in worker:\n",
    "    temp.append(j[6:-6])\n",
    "eval_fuxi_instance_pdf[\"worker_address\"] = temp\n",
    "eval_fuxi_instance_pdf.sort_values(by=[\"worker_address\", \"start_time\"]).to_csv(\"/data/zkp/buy2/instance.csv\", index=0)"
   ]
  },
  {
   "cell_type": "code",
   "execution_count": null,
   "id": "bcb3ead4-0cea-462d-abf6-9b6501aa3fd0",
   "metadata": {
    "tags": []
   },
   "outputs": [],
   "source": [
    "pod_meta.request_cpu.value_counts()"
   ]
  },
  {
   "cell_type": "code",
   "execution_count": null,
   "id": "8cb51ef1-058f-473d-96af-e3dbaa66a844",
   "metadata": {
    "tags": []
   },
   "outputs": [],
   "source": [
    "for i in task_name:\n",
    "    if i[0] == 'R' and len(i)>4:\n",
    "        print(i)"
   ]
  },
  {
   "cell_type": "code",
   "execution_count": null,
   "id": "08bb1f93-85c5-4d99-9053-398645bf0404",
   "metadata": {
    "tags": []
   },
   "outputs": [],
   "source": [
    "# pod_pdf[pod_pdf[pod_pdf.nc_sn.isin(nc_sn)].container_app_group_name==\"ay49c_tubo_server\"]\n",
    "# target = pod_pdf[pod_pdf.nc_sn.isin(nc_sn)]\n",
    "# target = target[target.container_app_group_name==\"ay49c_tubo_server\"]\n",
    "target = pod_pdf[(pod_pdf.container_app_name==\"ay49c\") & (pod_pdf.nc_sn.isin(nc_sn))].container_ip.tolist()"
   ]
  },
  {
   "cell_type": "code",
   "execution_count": null,
   "id": "f41065a1-9e81-4338-b267-d9ede215bb74",
   "metadata": {
    "tags": []
   },
   "outputs": [],
   "source": [
    "eval_fuxi_instance_pdf = fuxi.get_fuxi_instance_df(ds=[\"20220206\"], project_name=[\"aliyun_searchlog\"])\n",
    "eval_fuxi_instance_pdf = eval_fuxi_instance_pdf[eval_fuxi_instance_pdf.status==\"Terminated\"]\n",
    "eval_fuxi_instance_pdf[\"job_task_name\"] = eval_fuxi_instance_pdf.fuxi_job_name + eval_fuxi_instance_pdf.fuxi_task_name\n",
    "eval_fuxi_instance_pdf = eval_fuxi_instance_pdf[[\"job_task_name\", \"fuxi_job_name\", \"fuxi_task_name\", \"odps_task_type\", \"start_time\", \"end_time\", \"fuxi_avg_cpu\",\n",
    "                                                \"fuxi_max_cpu\", \"fuxi_avg_mem\", \"fuxi_max_mem\", \"total_time_seconds\"]].to_pandas()"
   ]
  },
  {
   "cell_type": "code",
   "execution_count": null,
   "id": "65102b09-f2ee-4af6-9a86-300287d4cbfa",
   "metadata": {},
   "outputs": [],
   "source": [
    "eval_fuxi_instance_pdf.to_csv(\"/data/zkp/recurrent/d0.csv\", index=False)\n",
    "# eval_fuxi_instance_pdf"
   ]
  },
  {
   "cell_type": "code",
   "execution_count": null,
   "id": "28ebfb31-f6f5-4386-93e5-f46770b0a90e",
   "metadata": {},
   "outputs": [],
   "source": [
    "# pod_pdf = pd.read_csv(\"./pod_meta.csv\")\n",
    "pod_pdf[pod_pdf.nc_sn.isin(pod_pdf[pod_pdf.container_ip.isin(container_ip)].nc_sn)].to_csv(\"/data/zkp/buy2/5.19/pod_meta.csv\", index=False)"
   ]
  },
  {
   "cell_type": "code",
   "execution_count": null,
   "id": "bb9f8eaa-b177-4b86-982c-60ff711daaf3",
   "metadata": {
    "tags": []
   },
   "outputs": [],
   "source": [
    "pod_pdf[pod_pdf.nc_sn==pod_pdf[pod_pdf.container_ip==\"11.28.217.2\"].nc_sn.values[0]]"
   ]
  },
  {
   "cell_type": "code",
   "execution_count": null,
   "id": "d7d15870-bc55-409d-a426-b587eb17a0b6",
   "metadata": {
    "tags": []
   },
   "outputs": [],
   "source": [
    "nc_sn = pod_pdf[pod_pdf.container_app_group_name==\"buy2host\"].nc_sn.unique().tolist()\n",
    "len(nc_sn)"
   ]
  },
  {
   "cell_type": "code",
   "execution_count": null,
   "id": "ec84c1b6-955c-41ef-988f-5fb1fff03914",
   "metadata": {},
   "outputs": [],
   "source": [
    "ump2 = machine_meta[(machine_meta.container_app_group_name==\"ump2_koalaguidehost\") & machine_meta.nc_sn.isin(nc_sn)].nc_sn.unique().tolist()\n",
    "ump2"
   ]
  },
  {
   "cell_type": "code",
   "execution_count": null,
   "id": "ea052963-4b29-426f-bf94-fc96af0d20b8",
   "metadata": {
    "tags": []
   },
   "outputs": [],
   "source": [
    "pod_pdf[pod_pdf.nc_sn.isin(nc_sn)].groupby(\"nc_sn\").count().sort_values(by=[\"container_ip\"])"
   ]
  },
  {
   "cell_type": "code",
   "execution_count": null,
   "id": "18e7b6d3-8cfa-40a1-8d7f-a87866866862",
   "metadata": {
    "tags": []
   },
   "outputs": [],
   "source": [
    "pod_pdf[pod_pdf.nc_sn==\"i-8vb2cpnlzlyt7pi9fukj\"].T"
   ]
  },
  {
   "cell_type": "code",
   "execution_count": null,
   "id": "b94c107d-eed4-4b19-9d0c-318e649eb584",
   "metadata": {},
   "outputs": [],
   "source": [
    "container_ip = pod_pdf[pod_pdf.nc_sn==\"i-8vb2cpnlzlyt7pi9fukj\"].container_ip.unique().tolist()"
   ]
  },
  {
   "cell_type": "code",
   "execution_count": null,
   "id": "58c95acf-b625-4f42-93f4-b13ab4b28b0e",
   "metadata": {
    "tags": []
   },
   "outputs": [],
   "source": [
    "# container_ip = pod_pdf[(pod_pdf.container_app_group_name==\"ump2_detailhost\")].container_ip.unique().tolist()\n",
    "# container_ip = machine_meta[machine_meta.nc_sn.isin(nc_sn)].container_ip.unique().tolist()\n",
    "len(container_ip)"
   ]
  },
  {
   "cell_type": "code",
   "execution_count": null,
   "id": "e4f67e1a-d2f6-4bb6-a6a3-0d549dec7bf2",
   "metadata": {},
   "outputs": [],
   "source": [
    "pod_meta = pd.read_csv(\"/data/zkp/buy2/5.19/pod_meta.csv\")"
   ]
  },
  {
   "cell_type": "code",
   "execution_count": null,
   "id": "3bd464b7-e551-4858-bf9f-ecbf5200250d",
   "metadata": {
    "tags": []
   },
   "outputs": [],
   "source": [
    "container_ip = pod_meta.container_ip.unique().tolist()"
   ]
  },
  {
   "cell_type": "code",
   "execution_count": null,
   "id": "da85f4e5-1549-48d3-a92a-5680b0642d9f",
   "metadata": {
    "tags": []
   },
   "outputs": [],
   "source": [
    "service = sunfire.get_sunfire_odps_df(ds=[\"20220519\"], ips=container_ip, start_time=\"2022-05-19 00:20:00\", end_time=\"2022-05-19 02:00:00\")\n",
    "service = service[service.throughput_type==\"HSF\"]\n",
    "# service.sort_values(by=[\"container_ip\", \"sample_time__m\", \"throughput_type\"]).to_csv(\"/data/zkp/buy2/service/allservice2.csv\", index=False)"
   ]
  },
  {
   "cell_type": "code",
   "execution_count": null,
   "id": "41ef6457-1daa-4921-8d68-bce96b7b6d89",
   "metadata": {},
   "outputs": [],
   "source": [
    "service.sort_values(by=[\"container_ip\", \"sample_time__m\", \"throughput_type\"]).to_csv(\"/data/zkp/buy2/5.19/allservice.csv\", index=False)"
   ]
  },
  {
   "cell_type": "code",
   "execution_count": null,
   "id": "5f3d5848-5309-40b2-aaf8-a5830a576e45",
   "metadata": {},
   "outputs": [],
   "source": [
    "service"
   ]
  },
  {
   "cell_type": "code",
   "execution_count": null,
   "id": "feb01f03-b4f0-4e89-b4c6-4ba3ebb965f1",
   "metadata": {
    "tags": []
   },
   "outputs": [],
   "source": [
    "d = [\"20220217\", \"20220218\", \"20220219\"]\n",
    "target = pd.read_csv(\"./machine/metadata.csv\")\n",
    "target = target[target.nc_ip==\"33.9.158.218\"]\n",
    "container_ip = list(target[\"container_ip\"].values)\n",
    "#     container_ip\n",
    "d0 = sunfire.get_sunfire_odps_df(ds=[d[0]], ips=container_ip, start_time=start_time, end_time=end_time)\n",
    "d1 = sunfire.get_sunfire_odps_df(ds=[d[1]], ips=container_ip, start_time=start_time, end_time=end_time)\n",
    "d2 = sunfire.get_sunfire_odps_df(ds=[d[2]], ips=container_ip, start_time=start_time, end_time=end_time)\n",
    "\n",
    "# # target_machine.head(20)"
   ]
  },
  {
   "cell_type": "code",
   "execution_count": null,
   "id": "7c80a1a0-45a1-4b56-9635-0e6e785a0250",
   "metadata": {
    "tags": []
   },
   "outputs": [],
   "source": [
    "pd.concat([d0, d1, d2]).sort_values(by=[\"container_ip\", \"sample_time__m\", \"throughput_type\"]).to_csv(\"/data/zkp/m2_service.csv\")"
   ]
  },
  {
   "cell_type": "markdown",
   "id": "fdc6220d-8e92-4adb-80ef-62fb488ec1b2",
   "metadata": {},
   "source": [
    "### 离线作业性能数据\n",
    "    ay49c_tubo_server 为离线分组"
   ]
  },
  {
   "cell_type": "markdown",
   "id": "1620cfe7-2910-41e9-aba2-8932cf915ffc",
   "metadata": {},
   "source": [
    "### 离线作业性能数据\n",
    "    ay49c_tubo_server 为离线分组"
   ]
  },
  {
   "cell_type": "code",
   "execution_count": null,
   "id": "632c92ea-0fbc-4a63-97be-1cc16fe34f21",
   "metadata": {},
   "outputs": [],
   "source": [
    "odps_kata_ips = pod_pdf[pod_pdf[\"container_app_group_name\"]==\"ay49c_tubo_server\"].container_ip.unique().tolist()\n",
    "pod_pdf[pod_pdf.container_app_group_name==\"ay49c_tubo_server\"].to_csv(\"./machine/ay49c.csv\")"
   ]
  },
  {
   "cell_type": "code",
   "execution_count": null,
   "id": "d13337bf-4ba2-43bc-8bb8-c3ac867aad71",
   "metadata": {
    "tags": []
   },
   "outputs": [],
   "source": [
    "# fuxi jobs\n",
    "eval_fuxi_job_pdf = fuxi.get_fuxi_job_df(ds=[\"20220210\"], start_time=\"2022-02-10 00:00:00\", end_time=\"2022-02-11 00:00:00\")\n",
    "eval_fuxi_job_pdf = eval_fuxi_job_pdf[[\"plan_cpu_cost\", \"plan_mem_cost\"]]\n",
    "eval_fuxi_job_pdf = eval_fuxi_job_pdf.to_pandas()\n",
    "# eval_fuxi_job_pdf.to_csv(\"/data/zkp/buy2/5.12/job.csv\")\n",
    "# eval_fuxi_job_pdf.sum()"
   ]
  },
  {
   "cell_type": "code",
   "execution_count": null,
   "id": "e4fed79f-c2a1-4496-98b9-26ba1df77263",
   "metadata": {},
   "outputs": [],
   "source": [
    "eval_fuxi_job_pdf[\"cpu_mem\"] = eval_fuxi_job_pdf.plan_cpu_cost.astype(str) + '+' + eval_fuxi_job_pdf.plan_mem_cost.astype(str)"
   ]
  },
  {
   "cell_type": "code",
   "execution_count": null,
   "id": "01a7729c-df24-4482-abe6-a975986e0bad",
   "metadata": {},
   "outputs": [],
   "source": [
    "eval_fuxi_job_pdf.cpu_mem.value_counts().head(20) / eval_fuxi_job_pdf.cpu_mem.value_counts().sum()"
   ]
  },
  {
   "cell_type": "code",
   "execution_count": null,
   "id": "01c5649f-11b6-469b-92f6-7cdb1c24b8f4",
   "metadata": {},
   "outputs": [],
   "source": [
    "eval_fuxi_job_pdf.plan_cpu_cost.value_counts().head(20) / eval_fuxi_job_pdf.plan_cpu_cost.value_counts().sum()"
   ]
  },
  {
   "cell_type": "code",
   "execution_count": null,
   "id": "f99e63e8-f101-45e7-8cf9-bf1b9278b120",
   "metadata": {},
   "outputs": [],
   "source": [
    "eval_fuxi_job_pdf.plan_mem_cost.value_counts().head(20) / eval_fuxi_job_pdf.plan_mem_cost.value_counts().sum()"
   ]
  },
  {
   "cell_type": "code",
   "execution_count": null,
   "id": "e9dc3f6f-7307-4081-b685-dcc60131c24e",
   "metadata": {},
   "outputs": [],
   "source": [
    "fuxi_inst_num[fuxi_inst_num.fuxi_inst_num>1000].fuxi_inst_num.sum() / fuxi_inst_num.fuxi_inst_num.sum()"
   ]
  },
  {
   "cell_type": "code",
   "execution_count": null,
   "id": "16b5a002-34c8-4873-bc40-26c0f65396c1",
   "metadata": {},
   "outputs": [],
   "source": [
    "eval_fuxi_job_pdf = fuxi.get_fuxi_job_df(ds=[\"20220206\", \"20220207\", \"20220208\", \"20220209\", \"20220210\", \"20220211\", \"20220212\"], \n",
    "                                         project_name=[\"aliyun_searchlog\"]).to_pandas()"
   ]
  },
  {
   "cell_type": "code",
   "execution_count": null,
   "id": "8b18438b-8c7a-44f8-abdb-41c52b81c336",
   "metadata": {},
   "outputs": [],
   "source": [
    "eval_fuxi_job_pdf.to_csv(\"/data/zkp/recurrent/job.csv\", index=False)\n",
    "# eval_fuxi_job_pdf.drop(columns=[\"project_name\", \"odps_inst_id\", \"odps_task_name\", \"real_cpu_cost\", \"real_mem_cost\", \"end_time\", \"status\", \"fuxi_cpu_cost\", \"fuxi_mem_cost\", \"plan_gpu_cost\", \"nvm_used\"], inplace=True)"
   ]
  },
  {
   "cell_type": "code",
   "execution_count": null,
   "id": "608747df-de5e-4ce3-98d7-07066b7043db",
   "metadata": {
    "tags": []
   },
   "outputs": [],
   "source": [
    "# np.savetxt(\"/data/zkp/figure/overview_2.txt\" ,eval_fuxi_job_pdf.values.tolist())\n",
    "eval_fuxi_job_pdf[(eval_fuxi_job_pdf.fuxi_task_num==11) & (eval_fuxi_job_pdf.fuxi_inst_num>4000)].sort_values(by=[\"fuxi_inst_num\"]).fuxi_job_name.tolist()"
   ]
  },
  {
   "cell_type": "code",
   "execution_count": null,
   "id": "e3b2e09b-d15f-4f7e-a405-bd3e4fcd0ac1",
   "metadata": {
    "tags": []
   },
   "outputs": [],
   "source": [
    "for k in range(10, 15):\n",
    "    target_job = pd.read_csv(\"./taskDAG/task\"+str(int(k))+\".0.csv\")\n",
    "    mp = {}\n",
    "    for i in range(target_job.shape[0]):\n",
    "        if target_job[\"fuxi_job_name\"][i] not in mp:\n",
    "            mp[target_job[\"fuxi_job_name\"][i]] = \"\"\n",
    "        mp[target_job[\"fuxi_job_name\"][i]] += target_job[\"fuxi_task_name\"][i]\n",
    "    eval_fuxi_job_pdf = fuxi.get_fuxi_job_df(ds=dates,\n",
    "                                            cluster_name=[\"ay49c\"],\n",
    "                                            start_time=start_time,\n",
    "                                            end_time=end_time, \n",
    "                                            fuxi_job_name=target_job.fuxi_job_name.tolist()).to_pandas()\n",
    "    eval_fuxi_job_pdf.insert(7, \"fuxi_task_name\", \"0\")\n",
    "    for i in range(eval_fuxi_job_pdf.shape[0]):\n",
    "        if eval_fuxi_job_pdf[\"fuxi_job_name\"][i] in mp:\n",
    "            eval_fuxi_job_pdf.iloc[i, 7] = mp[eval_fuxi_job_pdf[\"fuxi_job_name\"][i]]\n",
    "    eval_fuxi_job_pdf.to_csv(\"./taskDAG/job\"+str(int(k))+\".csv\")"
   ]
  },
  {
   "cell_type": "code",
   "execution_count": null,
   "id": "f354b24a-0e58-41b8-826c-a9f6b047cadf",
   "metadata": {
    "tags": []
   },
   "outputs": [],
   "source": [
    "target_job = pd.read_csv(\"./taskDAG/task1.0.csv\")\n",
    "mp = {}\n",
    "for i in range(target_job.shape[0]):\n",
    "    if target_job[\"fuxi_job_name\"][i] not in mp:\n",
    "        mp[target_job[\"fuxi_job_name\"][i]] = \"\"\n",
    "    mp[target_job[\"fuxi_job_name\"][i]] += target_job[\"fuxi_task_name\"][i]\n",
    "mp"
   ]
  },
  {
   "cell_type": "code",
   "execution_count": null,
   "id": "96b1c141-5d08-4a7e-b012-a35dd7bf62a1",
   "metadata": {
    "tags": []
   },
   "outputs": [],
   "source": [
    "# eval_fuxi_job_pdf = pd.read_csv(\"./fuxi_job.csv\")\n",
    "# eval_fuxi_job_pdf.drop(columns=[\"project_name\",\"running_cluster\",\"real_cpu_cost\",\"real_mem_cost\",\"plan_gpu_cost\",\"ds\"], inplace=True)\n",
    "drop_index = eval_fuxi_job_pdf[eval_fuxi_job_pdf[\"status\"] != \"Terminated\"].index\n",
    "terminated_fuxi_job = eval_fuxi_job_pdf.drop(drop_index)"
   ]
  },
  {
   "cell_type": "code",
   "execution_count": null,
   "id": "754f93c0-b153-450d-a5a1-36e66c5caf3c",
   "metadata": {},
   "outputs": [],
   "source": [
    "failed_fuxi_job = eval_fuxi_job_pdf[eval_fuxi_job_pdf[\"status\"] != \"Terminated\"]"
   ]
  },
  {
   "cell_type": "code",
   "execution_count": null,
   "id": "28484306-7f42-4a8f-b91b-a9c41b83ed36",
   "metadata": {
    "tags": []
   },
   "outputs": [],
   "source": [
    "eval_fuxi_job_pdf[eval_fuxi_job_pdf[\"odps_inst_id\"] == \"20220205230330908gjwnh1\"].head(30)\n",
    "#eval_fuxi_job_pdf.fuxi_job_sn.value_counts()"
   ]
  },
  {
   "cell_type": "code",
   "execution_count": null,
   "id": "918f03cf-82ea-4b4f-b3b6-2a36582a2b91",
   "metadata": {
    "tags": []
   },
   "outputs": [],
   "source": [
    "eval_fuxi_job_pdf[\"start_time\"] = eval_fuxi_job_pdf[\"start_time\"] % 86400\n",
    "#eval_fuxi_job_pdf.head(30)"
   ]
  },
  {
   "cell_type": "code",
   "execution_count": null,
   "id": "00b26ca0-83da-468d-8331-19ccc69c5a72",
   "metadata": {},
   "outputs": [],
   "source": [
    "eval_fuxi_job_pdf[\"end_time\"] = eval_fuxi_job_pdf[\"end_time\"] % 172800"
   ]
  },
  {
   "cell_type": "code",
   "execution_count": null,
   "id": "1c122842-4a1c-4ff2-aa24-8f41f7ce5742",
   "metadata": {
    "tags": []
   },
   "outputs": [],
   "source": [
    "eval_fuxi_job_pdf.sort_values(\"fuxi_inst_num\", inplace=True, ascending=False)\n",
    "eval_fuxi_job_pdf.head(50)"
   ]
  },
  {
   "cell_type": "code",
   "execution_count": null,
   "id": "ad425ed1-34ee-4032-8363-afc85a639125",
   "metadata": {},
   "outputs": [],
   "source": [
    "fuxi_job_names = eval_fuxi_job_pdf.fuxi_job_name.tolist()"
   ]
  },
  {
   "cell_type": "code",
   "execution_count": null,
   "id": "8adb9205-426c-476e-a868-18b22c55e199",
   "metadata": {},
   "outputs": [],
   "source": [
    "fuxi_job_names = terminated_fuxi_job.head(150000).fuxi_job_name.unique().tolist()"
   ]
  },
  {
   "cell_type": "code",
   "execution_count": null,
   "id": "8466cff8-8ad8-481f-9ded-a34d61ef6a94",
   "metadata": {
    "tags": []
   },
   "outputs": [],
   "source": [
    "fuxi_job_names[:10]"
   ]
  },
  {
   "cell_type": "code",
   "execution_count": null,
   "id": "f05d6b0e-d5d9-4d0b-92b5-43e9940d452e",
   "metadata": {
    "tags": []
   },
   "outputs": [],
   "source": [
    "# fuxi task/fuxi_instance_df\n",
    "for i in range(0, 150000, 10000):\n",
    "    eval_fuxi_instance_pdf = fuxi.get_fuxi_instance_df(ds=dates,\n",
    "                                                       fuxi_job_name=fuxi_job_names[i:i+10000],\n",
    "                                                       start_time=start_time,\n",
    "                                                       end_time=end_time)\n",
    "    eval_fuxi_instance_pdf = eval_fuxi_instance_pdf[['fuxi_job_name', 'fuxi_task_name']].distinct()\n",
    "    eval_fuxi_instance_pdf = eval_fuxi_instance_pdf.to_pandas()\n",
    "    print(eval_fuxi_instance_pdf.shape)\n",
    "    eval_fuxi_instance_pdf.to_csv(\"./taskDAG/task\"+str(i/10000)+\".csv\")"
   ]
  },
  {
   "cell_type": "markdown",
   "id": "f34a2865-2621-4603-9688-db9f5e662908",
   "metadata": {},
   "source": [
    "33.39.230.200\n",
    "33.4.113.88\n",
    "33.4.140.198\n",
    "33.4.149.57\n",
    "33.4.153.135\n",
    "33.4.177.205\n",
    "33.4.202.236\n",
    "33.4.210.125\n",
    "33.4.85.113\n",
    "33.4.89.204\n",
    "33.4.93.71\n",
    "33.4.96.107\n",
    "33.4.96.71\n",
    "33.49.58.73\n",
    "33.61.106.159"
   ]
  },
  {
   "cell_type": "code",
   "execution_count": null,
   "id": "12e15b7a-d174-4508-901c-4c437eed9f14",
   "metadata": {},
   "outputs": [],
   "source": [
    "# fuxi sensor"
   ]
  },
  {
   "cell_type": "code",
   "execution_count": null,
   "id": "e6675032-2859-4e95-bb54-d8e682c296ff",
   "metadata": {
    "tags": []
   },
   "outputs": [],
   "source": [
    "eval_fuxi_instance_pdf"
   ]
  },
  {
   "cell_type": "code",
   "execution_count": null,
   "id": "180ca0fa-42bb-4dbc-8e69-67784010b8f3",
   "metadata": {
    "tags": []
   },
   "outputs": [],
   "source": [
    "fuxi_sensor_df = fuxi.get_fuxi_sensor_df(ds=dates,\n",
    "                                              start_time=start_time,\n",
    "                                              end_time=end_time,\n",
    "                                              fuxi_job_name=fuxi_job_names[:100],\n",
    "                                              cluster_name=['AY49C'])\n",
    "\n",
    "fuxi_sensor_df = fuxi_sensor_df.groupby([\"hostname\", \"jobname\", \"rolename\", \"name\"]) \\\n",
    "                                        .agg(\n",
    "                                        fuxi_sensor_df[\"time\"].max().rename(\"timestamp\"),\n",
    "                                        fuxi_sensor_df[\"system_cpu_cgroup_usage_nano\"].sum().rename(\"cpu_time__ns\"),\n",
    "                                        fuxi_sensor_df[\"system_mem_cgroup_cache\"].sum().rename(\"system_mem_cgroup_cache\"),\n",
    "                                        fuxi_sensor_df[\"system_mem_cgroup_rss\"].sum().rename(\n",
    "                                            \"system_mem_cgroup_rss\"),\n",
    "                                        fuxi_sensor_df[\"system_mem_cgroup_total\"].sum().rename(\n",
    "                                            \"system_mem_cgroup_total\"),\n",
    "                                    )\n",
    "fuxi_sensor_df[\"cpu_time__ms\"] = fuxi_sensor_df[\"cpu_time__ns\"] / 1e3\n",
    "\n",
    "fuxi_sensor_df = fuxi_sensor_df[\n",
    "    fuxi_sensor_df.hostname.rename(\"nc_hostname\"),\n",
    "    fuxi_sensor_df.jobname.rename(\"fuxi_job_name\"),\n",
    "    fuxi_sensor_df.rolename.rename(\"fuxi_task_name\"),\n",
    "    fuxi_sensor_df.name.rename(\"fuxi_worker_name\"),\n",
    "    \"timestamp\",\n",
    "    \"cpu_time__ms\",\n",
    "    \"system_mem_cgroup_cache\",\n",
    "    \"system_mem_cgroup_rss\",\n",
    "    \"system_mem_cgroup_total\"\n",
    "]\n",
    "\n",
    "fuxi_sensor_pdf = fuxi_sensor_df.to_pandas()"
   ]
  },
  {
   "cell_type": "code",
   "execution_count": null,
   "id": "989442f8-3f65-4470-a0bb-fe1c341c45f5",
   "metadata": {
    "tags": []
   },
   "outputs": [],
   "source": [
    "fuxi_sensor_pdf"
   ]
  },
  {
   "cell_type": "markdown",
   "id": "47042751-08d3-4266-83d6-2e5603f0dcda",
   "metadata": {},
   "source": [
    "### Node的性能数据"
   ]
  },
  {
   "cell_type": "code",
   "execution_count": null,
   "id": "883b747a-62ed-4db0-8171-f0098c40106e",
   "metadata": {
    "tags": []
   },
   "outputs": [],
   "source": [
    "host_cpu_util_pdf = get_walle_odps_host_cpu_util(ds=dates, start_time=start_time, end_time=end_time, nc_sn = nc_sn.tolist()).groupby([\"sample_time\"]).mean().to_pandas()"
   ]
  },
  {
   "cell_type": "code",
   "execution_count": null,
   "id": "0a289dc2-745d-47aa-a3b1-6eb5fd8f1650",
   "metadata": {
    "tags": []
   },
   "outputs": [],
   "source": [
    "host_cpu_util_pdf.sort_values(by=[\"nc_sn\", \"sample_time\"]).to_csv(\"/data/zkp/buy2/5.19/machine.csv\")"
   ]
  },
  {
   "cell_type": "code",
   "execution_count": null,
   "id": "3f75c4a7-c6ab-4b0a-9918-6c74da385f7e",
   "metadata": {},
   "outputs": [],
   "source": [
    "host_cpu_util_pdf = host_cpu_util_pdf.sort_values(by=[\"sample_time\"])"
   ]
  },
  {
   "cell_type": "code",
   "execution_count": null,
   "id": "20f3df61-7d47-42c6-ab5d-19a1813a9bd7",
   "metadata": {},
   "outputs": [],
   "source": [
    "plt.plot(range(host_cpu_util_pdf.shape[0]), host_cpu_util_pdf.cpu_util__pct_mean.values)"
   ]
  },
  {
   "cell_type": "code",
   "execution_count": null,
   "id": "f486e599-1938-4d51-ba61-9e2ec186eb7d",
   "metadata": {},
   "outputs": [],
   "source": [
    "temp = []\n",
    "for i in range(1644076800, 1644681570, 3600):\n",
    "    df = host_cpu_util_pdf[(host_cpu_util_pdf.sample_time>=i) & (host_cpu_util_pdf.sample_time<i+3600)]\n",
    "    temp.append(df.cpu_util__pct_mean.mean())"
   ]
  },
  {
   "cell_type": "code",
   "execution_count": null,
   "id": "392308a0-b4d9-41b1-99d7-fb181df69a5a",
   "metadata": {},
   "outputs": [],
   "source": [
    "np.savetxt(\"/data/zkp/figure/overview_cpu.txt\", temp)"
   ]
  },
  {
   "cell_type": "code",
   "execution_count": null,
   "id": "1d38dc7a-e26f-4a87-b48b-5dc6c2e0d134",
   "metadata": {
    "tags": []
   },
   "outputs": [],
   "source": [
    "from pets.core.data_loader.walle.data_source import get_walle_odps_host_cpu_util,get_walle_online_offline_cpu_util, get_walle_odps_container_cpu_util"
   ]
  },
  {
   "cell_type": "code",
   "execution_count": null,
   "id": "ab0a5d96-89d0-4900-ab27-51e5a9aa6ed4",
   "metadata": {
    "tags": []
   },
   "outputs": [],
   "source": [
    "walle_online_offline_cpu_util = get_walle_online_offline_cpu_util(ds=[\"20220519\"], \n",
    "                                                                  start_time=\"2022-05-19 00:00:00\", end_time=\"2022-05-19 02:00:00\", nc_sns=nc_sn).to_pandas()"
   ]
  },
  {
   "cell_type": "code",
   "execution_count": null,
   "id": "df13ae13-6678-41ca-925c-0451445b9b13",
   "metadata": {},
   "outputs": [],
   "source": [
    "walle_online_offline_cpu_util.sort_values(by=[\"Task_Type\", \"nc_sn\", \"sample_time\"]).to_csv(\"/data/zkp/buy2/5.19/onoffline.csv\")"
   ]
  },
  {
   "cell_type": "code",
   "execution_count": null,
   "id": "4fc9f1c2-adfe-41fc-9345-bf3840586369",
   "metadata": {
    "tags": []
   },
   "outputs": [],
   "source": [
    "# pod_meta = pd.read_csv(\"/data/zkp/pod_meta.csv\")\n",
    "# nc_sn = pod_meta.nc_sn.unique()\n",
    "nc_sn.shape"
   ]
  },
  {
   "cell_type": "code",
   "execution_count": null,
   "id": "9b43b3c3-7d44-4099-b9f1-cd6683e94fb3",
   "metadata": {},
   "outputs": [],
   "source": [
    "temp = pod_pdf[pod_pdf.nc_sn.isin([\"i-8vb9ul5xec4svv1bv1h0\", \"i-8vb4p5hyvakr5me0hij1\", \n",
    "\"i-8vb9qrifimm00x67wj12\",\n",
    "\"i-8vbcaknvxr6wbba8tlsu\",\n",
    "\"i-8vb2t1xpt6kzgz2brw9h\",\n",
    "\"i-8vb13matvy02bw36lch3\",\n",
    "\"i-8vb9bx27cup4tevcgur7\",\n",
    "\"i-8vbf565jz2vjsriw73ke\",\n",
    "\"i-8vb19vzmoywz7xqtuvdz\"])]"
   ]
  },
  {
   "cell_type": "code",
   "execution_count": null,
   "id": "da7204b5-59e3-4418-9a73-814edc522067",
   "metadata": {},
   "outputs": [],
   "source": [
    "nc_sn = pod_pdf[pod_pdf.container_app_group_name==\"buy2host\"].nc_sn.unique().tolist()\n",
    "ips = pod_pdf[pod_pdf.nc_sn.isin(nc_sn)].container_ip.unique().tolist()\n",
    "len(nc_sn), len(ips)"
   ]
  },
  {
   "cell_type": "code",
   "execution_count": null,
   "id": "99b62b8c-8729-4e7f-81ad-691e42a67983",
   "metadata": {},
   "outputs": [],
   "source": [
    "pod_meta = pd.read_csv(\"/data/zkp/buy2/5.19/pod_meta.csv\")"
   ]
  },
  {
   "cell_type": "code",
   "execution_count": null,
   "id": "a525dcbf-ca9a-40ed-92ed-b36b375f1bec",
   "metadata": {
    "tags": []
   },
   "outputs": [],
   "source": [
    "container_ip = pod_meta[pod_meta.container_app_group_name==\"buy2host\"].container_ip.values"
   ]
  },
  {
   "cell_type": "code",
   "execution_count": null,
   "id": "71f39b39-2b35-40de-8969-a0ecc6019022",
   "metadata": {},
   "outputs": [],
   "source": [
    "nc_sn = pod_meta[pod_meta.container_app_group_name==\"buy2host\"].nc_sn.values"
   ]
  },
  {
   "cell_type": "code",
   "execution_count": null,
   "id": "dbf2a0fb-9566-47dd-be09-a90b305341e1",
   "metadata": {},
   "outputs": [],
   "source": [
    "container_ip.shape, nc_sn.shape"
   ]
  },
  {
   "cell_type": "code",
   "execution_count": null,
   "id": "be5b1391-aca1-47b3-9b01-026ea5666cae",
   "metadata": {
    "tags": []
   },
   "outputs": [],
   "source": [
    "service = sunfire.get_sunfire_odps_df(ds=[\"20220609\"], ips=container_ip.tolist(), start_time=\"2022-06-09 20:00:00\", end_time=\"2022-06-09 21:30:00\")\n",
    "service = service[service.throughput_type==\"HSF\"]\n",
    "# service = service[[\"sample_time__m\", \"container_ip\", \"rt__ms_Q\"]]"
   ]
  },
  {
   "cell_type": "code",
   "execution_count": null,
   "id": "eaee28ef-e901-43a1-bfff-fc984cd073ea",
   "metadata": {
    "tags": []
   },
   "outputs": [],
   "source": [
    "service2 = sunfire.get_sunfire_odps_df(ds=[\"20220524\"], ips=container_ip.tolist(), start_time=\"2022-05-24 20:00:00\", end_time=\"2022-05-24 22:00:00\")\n",
    "service2 = service2[service2.throughput_type==\"HSF\"]"
   ]
  },
  {
   "cell_type": "code",
   "execution_count": null,
   "id": "a591efc4-7b1b-4a43-9044-8216a00b61ab",
   "metadata": {
    "tags": []
   },
   "outputs": [],
   "source": [
    "service3 = sunfire.get_sunfire_odps_df(ds=[\"20220519\"], ips=container_ip.tolist(), start_time=\"2022-05-19 00:00:00\", end_time=\"2022-05-19 01:30:00\")\n",
    "service3 = service3[service3.throughput_type==\"HSF\"]"
   ]
  },
  {
   "cell_type": "code",
   "execution_count": null,
   "id": "56bd7720-f0cd-4d16-a621-2155ebd1c369",
   "metadata": {
    "tags": []
   },
   "outputs": [],
   "source": [
    "offline1 = get_walle_online_offline_cpu_util(ds=[\"20220609\"], nc_sns=nc_sn.tolist(), start_time=\"2022-06-09 20:00:00\", end_time=\"2022-06-09 21:30:00\").to_pandas()\n",
    "offline1 = offline1[offline1.Task_Type==\"Offline\"]\n",
    "\n",
    "offline2 = get_walle_online_offline_cpu_util(ds=[\"20220524\"], nc_sns=nc_sn.tolist(), start_time=\"2022-05-24 20:00:00\", end_time=\"2022-05-24 22:00:00\").to_pandas()\n",
    "offline2 = offline2[offline2.Task_Type==\"Offline\"]\n",
    "\n",
    "offline3 = get_walle_online_offline_cpu_util(ds=[\"20220519\"], nc_sns=nc_sn.tolist(), start_time=\"2022-05-19 00:00:00\", end_time=\"2022-05-19 01:30:00\").to_pandas()\n",
    "offline3 = offline3[offline3.Task_Type==\"Offline\"]"
   ]
  },
  {
   "cell_type": "code",
   "execution_count": null,
   "id": "040e6607-edfe-4956-8747-0bddb1e774be",
   "metadata": {
    "tags": []
   },
   "outputs": [],
   "source": [
    "DATA = pd.concat([service, service2, service3])"
   ]
  },
  {
   "cell_type": "code",
   "execution_count": null,
   "id": "1ebda955-f0ca-4680-a2a1-0d7db37c168d",
   "metadata": {},
   "outputs": [],
   "source": [
    "offline = pd.concat([offline1, offline2, offline3])"
   ]
  },
  {
   "cell_type": "code",
   "execution_count": null,
   "id": "db082aff-bf01-4cd9-81a9-078283a3d588",
   "metadata": {},
   "outputs": [],
   "source": [
    "DATA.shape, service.shape, service2.shape, service3.shape"
   ]
  },
  {
   "cell_type": "code",
   "execution_count": null,
   "id": "8f6c1734-f88c-4d0d-8006-ff6ef70dbfd8",
   "metadata": {},
   "outputs": [],
   "source": [
    "offline.shape, offline1.shape, offline2.shape, offline3.shape"
   ]
  },
  {
   "cell_type": "code",
   "execution_count": null,
   "id": "8f0012d6-8eda-4e05-b49b-2e40ec21a9b7",
   "metadata": {
    "tags": []
   },
   "outputs": [],
   "source": [
    "DATA = DATA.astype({\"sample_time__m\": str})"
   ]
  },
  {
   "cell_type": "code",
   "execution_count": null,
   "id": "dcc209c1-5fa8-4740-b9b0-d06615874ebd",
   "metadata": {},
   "outputs": [],
   "source": [
    "DATA[\"sample_time\"] = DATA.sample_time__m.apply(lambda x:int(time.mktime(time.strptime(x, \"%Y-%m-%d %H:%M:%S\"))))"
   ]
  },
  {
   "cell_type": "code",
   "execution_count": null,
   "id": "1dda7169-5354-47fc-a044-ab450b67b0d5",
   "metadata": {},
   "outputs": [],
   "source": [
    "DATA = DATA.sort_values(by=[\"nc_sn\", \"sample_time\"])\n",
    "offline = offline.sort_values(by=[\"nc_sn\", \"sample_time\"])"
   ]
  },
  {
   "cell_type": "code",
   "execution_count": null,
   "id": "b4b3ede5-862b-467d-9e0d-916c33980cff",
   "metadata": {},
   "outputs": [],
   "source": [
    "DATA = pd.merge(DATA, pod_meta[[\"container_ip\", \"nc_sn\"]], on=[\"container_ip\"], how=\"left\")"
   ]
  },
  {
   "cell_type": "code",
   "execution_count": null,
   "id": "4086ef4e-63c3-4d3f-9424-f0c0df6cb932",
   "metadata": {},
   "outputs": [],
   "source": [
    "offline"
   ]
  },
  {
   "cell_type": "code",
   "execution_count": null,
   "id": "9df60ce1-15d1-48b5-ac3f-8800dedd25e4",
   "metadata": {},
   "outputs": [],
   "source": [
    "DATA"
   ]
  },
  {
   "cell_type": "code",
   "execution_count": null,
   "id": "86e4125b-7ecb-4971-b8af-a3d2d9f10f76",
   "metadata": {},
   "outputs": [],
   "source": [
    "data = pd.merge(DATA, offline, on=[\"nc_sn\", \"sample_time\"], how=\"left\")"
   ]
  },
  {
   "cell_type": "code",
   "execution_count": null,
   "id": "d445348b-fdd1-4aea-ad82-4af217d26b25",
   "metadata": {},
   "outputs": [],
   "source": [
    "data"
   ]
  },
  {
   "cell_type": "code",
   "execution_count": null,
   "id": "375d81c8-0fa6-4e4d-afb7-d3f4bc949c83",
   "metadata": {},
   "outputs": [],
   "source": [
    "data = data[~pd.isna(data.cpu_util__pct_y) & (data.cpu_util__pct_y>0)]"
   ]
  },
  {
   "cell_type": "code",
   "execution_count": null,
   "id": "776afe8b-600b-4f59-8b81-25310947f418",
   "metadata": {},
   "outputs": [],
   "source": [
    "data = data[data.qps__Q_s>5]"
   ]
  },
  {
   "cell_type": "code",
   "execution_count": null,
   "id": "d9b1515f-662e-401c-b33f-bebb4b3c483c",
   "metadata": {},
   "outputs": [],
   "source": [
    "data = data[data.container_ip.isin([\"33.38.56.97\", \"33.37.158.122\", \"33.38.49.195\", \"33.38.19.86\", \"33.38.15.217\"])]"
   ]
  },
  {
   "cell_type": "code",
   "execution_count": null,
   "id": "f67783eb-58a2-4fcb-bd45-6e9fcc580d81",
   "metadata": {},
   "outputs": [],
   "source": [
    "data.to_csv(\"/data/zkp/figure/ob3_new.csv\", index=None)"
   ]
  },
  {
   "cell_type": "code",
   "execution_count": null,
   "id": "ea8755c4-89c5-4fb5-a2b9-fe15893c0592",
   "metadata": {
    "tags": []
   },
   "outputs": [],
   "source": [
    "from sklearn.linear_model import LinearRegression\n",
    "for ip in [\"33.38.56.97\", \"33.37.158.122\", \"33.38.49.195\", \"33.38.19.86\", \"33.38.15.217\"]:\n",
    "    fontsize=20\n",
    "    ob3 = data[data.container_ip==ip]\n",
    "    plt.figure(figsize=(8, 7), dpi=120)\n",
    "    plt.scatter(ob3.cpu_util__pct_y/96, ob3.rt__ms_Q.values, marker=\"+\", s=150, c=\"blue\")\n",
    "    plt.xlabel(\"BE CPU utilization (%)\", fontsize=fontsize)\n",
    "    plt.xticks(fontsize=fontsize)\n",
    "    plt.ylabel(\"RT (ms)\", fontsize=fontsize)\n",
    "    plt.yticks(fontsize=fontsize)\n",
    "    plt.grid(ls=\":\")\n",
    "    plt.show()\n",
    "    model = LinearRegression()\n",
    "    model.fit(ob3.cpu_util__pct_y.values.reshape(-1, 1)/96, ob3.rt__ms_Q.values)\n",
    "    print(model.coef_, model.intercept_)"
   ]
  },
  {
   "cell_type": "code",
   "execution_count": null,
   "id": "21859225-3e03-47fa-b831-4c425937a571",
   "metadata": {},
   "outputs": [],
   "source": [
    "import time\n",
    "DATA[\"sample_time\"] = DATA.sample_time__m.astype(\"str\").apply(lambda x:int(time.mktime(time.strptime(x, \"%Y-%m-%d %H:%M:%S\"))))"
   ]
  },
  {
   "cell_type": "code",
   "execution_count": null,
   "id": "c304afe3-18c5-470a-ac46-f32fb9357429",
   "metadata": {
    "tags": []
   },
   "outputs": [],
   "source": [
    "DATA = pd.merge(DATA, walle_online_offline_cpu_util[[\"sample_time\", \"nc_sn\", \"CPU_time__s\"]], how=\"left\", on=[\"sample_time\", \"nc_sn\"])"
   ]
  },
  {
   "cell_type": "code",
   "execution_count": null,
   "id": "2e6a7e9f-d8f8-43ac-9597-ea2bc3aff791",
   "metadata": {},
   "outputs": [],
   "source": [
    "DATA = DATA[[\"sample_time\", \"container_ip\", \"rt__ms_Q\", \"container_app_group_name\", \"nc_sn\"]]"
   ]
  },
  {
   "cell_type": "code",
   "execution_count": null,
   "id": "60344275-9689-4acf-bb27-c86effbc5fcf",
   "metadata": {},
   "outputs": [],
   "source": [
    "DATA.nc_sn.unique().shape"
   ]
  },
  {
   "cell_type": "code",
   "execution_count": null,
   "id": "410f1ca3-5879-458e-9b98-3132cb03ce78",
   "metadata": {},
   "outputs": [],
   "source": [
    "# corr1 = []\n",
    "corr2 = []\n",
    "buy2 = DATA[(DATA.container_app_group_name==\"ump2_detailhost\") & (DATA.CPU_time__s>1000)]\n",
    "for ip in buy2.container_ip.unique():\n",
    "    temp = buy2[buy2.container_ip==ip]\n",
    "    if temp.shape[0] > 2000:\n",
    "        corr2.append(temp.rt__ms_Q.corr(temp.CPU_time__s))"
   ]
  },
  {
   "cell_type": "code",
   "execution_count": null,
   "id": "9de4097f-45ca-4e51-bd4b-384b73f1b7af",
   "metadata": {},
   "outputs": [],
   "source": [
    "plt.plot(sorted(corr1), np.arange(len(corr1))*100 / (len(corr1) - 1), lw=4, c=\"blue\")\n",
    "plt.plot(sorted(corr2), np.arange(len(corr2))*100 / (len(corr2) - 1), lw=4, c=\"orange\")"
   ]
  },
  {
   "cell_type": "code",
   "execution_count": null,
   "id": "bc6aa086-14bd-4e38-b0a9-c96c5e473767",
   "metadata": {},
   "outputs": [],
   "source": [
    "pod_meta.container_app_group_name.unique().shape"
   ]
  },
  {
   "cell_type": "code",
   "execution_count": null,
   "id": "e236377f-4f3c-47f7-b918-564121b66a39",
   "metadata": {
    "tags": []
   },
   "outputs": [],
   "source": [
    "app = ['accs-sal_newretailhost', 'busphost', 'buy2host', \"ump2_detailhost\",\n",
    "       'content-managerhost', 'lubanservicehost', 'mediaplatformhost',\n",
    "       'rhino-dcc-wssyshost', 'tblive-prodhost',\n",
    "       'ayfc-fc-zjk-internal-workers', 'cloudvideohost', 'lippi-atwhost',\n",
    "       'lippi-dingflowpmchost', 'lippi-dingpayhost',\n",
    "       'merchant-rating-portal_hz_host', 'sdphost',\n",
    "       'tianshu-vpc_center_host', 'verified_host',\n",
    "       'wdk-infrastructure_dumphost', 'buy2_damai_host', 'alsc-buy2host',\n",
    "       'alsc-promo-centerhost', 'alsc-svip-producthost',\n",
    "       'alsc-ump_guidehost', 'fc-usergrowth-fronthost', 'iliadhost',\n",
    "       'lippi-mixhost', 'livekithost', 'mclarenhost',\n",
    "       'mmc-scm-purchasehost', 'op-one-auth_serverlesshost', 'rdamhost',\n",
    "       'wdk-plugin-engine-301879host', 'op-datawar_serverless_host',\n",
    "       'ai-ssp-otahost', 'alsc-consumehost', 'alsc-contenthost',\n",
    "       'alsc-dish-queryhost', 'alsc-rights_prod', 'alsc-rights_prod_send',\n",
    "       'alsc-timeout-centerhost', 'ataphost', 'auctionsearchhost',\n",
    "       'birdsnestcenter_prehost', 'havanamloginhost',\n",
    "       'lippi-industry-businesshost', 'livex-righthost',\n",
    "       'na61-digitalstoreapi', 'skyway-sophost', 'tdsettlehost',\n",
    "       'timeoutcenterhost', 'trippchost', 'alihealth-crm-chainhost',\n",
    "       'traindpp_grap_prehost', 'alsc-ad-marketinghost',\n",
    "       'alsc-svip-orderhost', 'alscadpisceshost', 'aselfcaptainhost',\n",
    "       'goc-mineralhost', 'jst-trade-guardhost', 'keludeweb_greyhost',\n",
    "       'mmc-cartshost', 'mozi-conf-apphost', 'oculus-beiruthost',\n",
    "       'union-topapihost', 'industry-platform-adminhost',\n",
    "       'intl-planning_host_zb', 'fbt-online_prehost',\n",
    "       'alihouse-new-homehost', 'cogmanhost',\n",
    "       'global-uic-s_center_ae-hz_host',\n",
    "       'nbf-online-opt_default_projecthost', 'rateplatformhost',\n",
    "       'saber_kgb', 'sharepasswordhost', 'travelitemsmanagerhost',\n",
    "       'alsc-upp-corehost', 'bbqhost', 'inventory_xiaoerhost',\n",
    "       'kbt-wordrphost', 'lippi-industry-homeworkhost',\n",
    "       'settle-centerhost', 'ts-spatial-engine_4.0.0',\n",
    "       'union-biz-model-ophost', 'nbf-online-c2m_default_projecthost',\n",
    "       'atorhost', 'buyer-work-product_hz_host', 'copperhost',\n",
    "       'cpc-tracehost', 'hicchost', 'hpsshost', 'htdshost',\n",
    "       'hz.atmtaskserver', 'iedatahost', 'lippi-open-financehost',\n",
    "       'navhost', 'nbpickuphost', 'tmallxsearch', 'tomort-saashost',\n",
    "       'wireless-content-service-od_host', 'ad-feedhost',\n",
    "       'aicloud-gateway-bizservicehost', 'alsc-buyhost', 'asure_hz_host',\n",
    "       'atickethost', 'cngfchost', 'ele-biz-anteaterhost',\n",
    "       'ele-newretail-open-gatewayhost', 'livex-showhost',\n",
    "       'mmc-fulfill-promisehost', 'mmc-ofchost', 'orighthost',\n",
    "       'profilesynchost', 'ump2_wudaokou_host', 'vcphost', 'waimai-carts',\n",
    "       'settle-schedulehost', 'tmsx-decision_dpathprehost',\n",
    "       'health-bot-17host', 'alidataservice_hz_host',\n",
    "       'cf-payment-core_rthost', 'cnbp_sidehost',\n",
    "       'ele-newretail-trade-service-prehost', 'hjbillingserver_prehost',\n",
    "       'lark-itemprodhost', 'lippi-doc-cloud-notehost',\n",
    "       'lippi-security-xtee-client_asynchost', 'mec-imkthost',\n",
    "       'minishophost', 'tddispatchhost', 'tdpowerhost',\n",
    "       'quark-report-alibaba_hz_prehost',\n",
    "       'alihealth-b2c-patient-icc_prehost', 'amdchost', 'cmploomhost',\n",
    "       'cnskuhost', 'cnwirelesshost', 'ele-waimai-tmhost', 'peanuthost',\n",
    "       'ele-newretail-bops_prehost', 'ai-agency-adminhost',\n",
    "       'amp-relationhost', 'gearfactoryhost', 'linkstreamhost',\n",
    "       'livex-growinghost', 'matrixexchangehost', 'mbis_guide_host',\n",
    "       'tmsx-practicehost', 'tripcrowdhost', 'xspace-insighthost',\n",
    "       'nbf-online-data_application_defaulthost',\n",
    "       'alsc-consume-centerhost', 'banama_tp_host', 'coin-dm_gray4_host',\n",
    "       'equidaehost', 'jym-layouthost', 'mec-searchhost', 'tmc-dumphost',\n",
    "       'mec-tradesynchost', 'chongzhimobile_prehost', 'ali-commenthost',\n",
    "       'alsc-item-queryhost', 'amp-sync2host',\n",
    "       'aplatform-taobaolife-publish', 'general-ticketshost',\n",
    "       'jstqa-centerhost', 'nbf-online-dchain-industry-fresh-invoicehost',\n",
    "       'os-smartdq_os_cbu_auto_cbu_auto_ol_ol', 'ump2_retail_otherhost',\n",
    "       'vt-orderprocesshost', 'wukong-relationhost',\n",
    "       'ai-operation-centerhost', 'alibee-shophost', 'alsc-dmphost',\n",
    "       'dosahost', 'dwaplushost', 'etao-rebate-servicehost',\n",
    "       'kbt-channel-prodhost', 'ma-settlementhost',\n",
    "       'wdk-walle-publisherhost', 'alsc-tmhost', 'gcbs_compliancehost',\n",
    "       'lippi-checkinhost', 'lippi-event-centerhost',\n",
    "       'nbf-online-309418host', 'powermsg-proxyhost',\n",
    "       'sellerservice-basehost', 'tccp-mininghost', 'yuntaihost',\n",
    "       'atpcx_prehost', 'alsc-upphost', 'amp2-im-receiverhost',\n",
    "       'buc-acl-hsf_prehost', 'ic2_L1_host', 'imagebankhost',\n",
    "       'lippi-livehost', 'tlenshost', 'towerhost',\n",
    "       'union-payment-reporthost', 'ascp-goodshost',\n",
    "       'capacitymanagerhost', 'dephost', 'ele-newretail-order-core_host',\n",
    "       'hzunit-luna', 'kbtcdphost', 'lippi-thaleshost',\n",
    "       'wukong-contactshost', 'wukong-registerhost', 'alsc-gccs-aoihost',\n",
    "       'ai-dsphost', 'capacitymanager_centerhost', 'cngcphost',\n",
    "       'inventoryschedulerhost', 'lippi-orghost',\n",
    "       'lippi-template-centerhost', 'mmc-right-centerhost',\n",
    "       'seller-libraryhost', 'upp-hubhost', 'lippi-classroomhost',\n",
    "       'guangguang-producerhost', 'ic2_L0c_host', 'idlefunhost',\n",
    "       'inventory_trade_writehost', 'live-controlhost',\n",
    "       'live-interactive-centerhost', 'member-benefit-writehost',\n",
    "       'mmc-markethost', 'mmc-target-externalhost', 'shidc-publish',\n",
    "       'stationplatformhost', 'tmallsearchservicehost',\n",
    "       'cncourier_betahost', 'einvoice-prodhost', 'fr-orderhost',\n",
    "       'lightspeedhost', 'lst-umphost',\n",
    "       'os-smartdq_os_wenyu_auto_wenyu_auto_ol_ol', 'tk-detailhost',\n",
    "       'wiehost', 'wukong-notifyhost', 'welkinbhost', 'bombonerahost',\n",
    "       'guangguang-seller-managerhost', 'mec-guide-whost',\n",
    "       'topnotifyhost', 'tbdx-sc-trade_prehost', 'alilang-agentserver',\n",
    "       'htmhost', 'hz.bwservice', 'trademanager_sellerhost', 'upphost',\n",
    "       'vipshophost', 'ai-dsp-base_gray4_host', 'alsc-budget-centerhost',\n",
    "       'banliang-acctranshost', 'nbf-online-dingtalk-recommend-userhost',\n",
    "       'op-flowhost', 'ratemanagerhost', 'shellcenterhost', 'temaihost',\n",
    "       'trip-mainhost', 'mev-datastat_prehost', 'asr-dataservice_host',\n",
    "       'coin-dmhost', 'gaia-hd-ltao-publish', 'helpcenterhost',\n",
    "       'iefthost', 'macenterhost', 'wukong-settinghost', 'datamindhost',\n",
    "       'nbf-budgethost', 'nbf-online-perm-industryhost',\n",
    "       'ogs-ticklet_prehost', 'accs-masshost',\n",
    "       'aicloud-device-centerhost', 'alsc-order-queryhost',\n",
    "       'beehive-detailhost', 'ic2_L2_host', 'lippi-dingflowbpmshost',\n",
    "       'mp-strategyhost', 'paymentplatform3_cn_host',\n",
    "       'quark-report__gray6_host', 'regerahost', 'xchathost', 'atpcmhost',\n",
    "       'alsc-upp-eventhost', 'xt-biz-wishhost',\n",
    "       'ai-ssp-device-centerhost', 'ald-lamphost', 'cnbp_onlinehost',\n",
    "       'content-log-servicehost', 'hxs_corehost',\n",
    "       'inventory_query_koala_host', 'refundplatform3host', 'tp3g0host',\n",
    "       'fliggy-buy2_prehost', 'cngcp_aewh_dev', 'alsc-trade-centerhost',\n",
    "       'ic2_cbu_host', 'lippi-safehost', 'tmap-data-statisticshost',\n",
    "       'wprchost', 'alsc-mp-consult_guide', 'content-detailhost',\n",
    "       'fether-bridgehost', 'idlelabelhost', 'settleplatform_g2host',\n",
    "       'tc-gp-centerhost', 'tmc-apply_taskhost', 'upp-ugchost',\n",
    "       'zsynchost', 'traingrap_yy_host', 'rex-itnet-bridgehost',\n",
    "       'aecp-view-designer-vpc_center_host', 'cloudsailhost',\n",
    "       'kbtcdp_prehost', 'tmall-camphost', 'gaia-pmapp-index-prepub',\n",
    "       'ai-iot-platformhost', 'ak-testservicehost', 'auctionpolarishost',\n",
    "       'goc-authhost', 'inventory_sell_writehost',\n",
    "       'linkedmall-platformhost', 'lippi-microapphost', 'ltpphost',\n",
    "       'tdalbatrosshost', 'os-scm-microservices_prehost', 'adp2host',\n",
    "       'alisite-cbu-mobilehost', 'alsc-magiclamphost',\n",
    "       'caigou-centerhost', 'cartscachehost', 'coingamehost',\n",
    "       'etao-myhost', 'lippi-interactive-cardhost', 'wsmhost', 'aposhost',\n",
    "       'rtee_prehost', 'agooservicehost', 'cuntaosettlehost',\n",
    "       'dd-databushost', 'idlerealtimepushhost',\n",
    "       'kbt-servindustry-store-detailhost', 'mallitemcenterhost',\n",
    "       'pur-rcvhost', 'tfservicehost', 'uicfinalhost', 'umcchost',\n",
    "       'epaas-acschost', 'cpsloginhost', 'creditonehost',\n",
    "       'insa-benefit_host', 'lippi-fingerhost',\n",
    "       'os-smartdq_os_ae_biz_auto_ae_biz_auto_ol_ol',\n",
    "       'xspace-ivr_smartcallhost', 'alihealth-nr-tradehost',\n",
    "       'alsc-marketing-calculate-centerhost', 'idle-localhost',\n",
    "       'lsttrade-taskhost', 'ngalipmc_gray6_host',\n",
    "       'tg-rpc_consign-platform_host', 'track_hzhost', 'xfile-commonhost',\n",
    "       'iotx-linkcard-user-centerhost', 'alsc-item-detailhost',\n",
    "       'alsc-rights_prod_consult', 'divide-media-centerhost',\n",
    "       'hic_corehost', 'lippi-orgviphost', 'makerhost',\n",
    "       'miniapp-metadatahost', 'rodimushost', 'rubickhost',\n",
    "       'alsc-tag-servicehost', 'eticket2host', 'fliggytmhost',\n",
    "       'idle-homehost', 'matrixexchange_notifyhost',\n",
    "       'sellerservice-workbenchhost', 'xengine-automation_dispute_host',\n",
    "       'xiaofancenterhost', 'xt-biz-quanhost',\n",
    "       'cfo-df-data-asset_pre_grey', 'smart-oneprofile_gray6_host',\n",
    "       'alidns-core-service-aliyun-comhost', 'lippi-industry-centerhost',\n",
    "       'marketing-centerhost', 'wdk-scm-returnhost',\n",
    "       'ahas-sentinel_inner_host', 'btxshost', 'idle-searchhost',\n",
    "       'kbt-recsyshost', 'risk-disposal-centerhost', 'asc-nrshost',\n",
    "       'knowledgecloud-olympic_prehost', 'alsc-cs-reversehost',\n",
    "       'oneringhost', 'os-smartdq_os_ylxb_zb_auto_ylxb_zb_auto_ol_ol',\n",
    "       'poihost', 'pricinghost', 'wdetailhost', 'alscdmptaskhost',\n",
    "       'aicloud-content-bizhost', 'ic2_other_host', 'idledetailhost',\n",
    "       'mp-ttshost', 'sdp_recommend_host',\n",
    "       'ele-newretail-order-management_betahost', 'eticketasynchost',\n",
    "       'imagebank-synchost', 'nbf-online-rex-login-post_defaulthost',\n",
    "       'pumpkinhost', 'aliveplatformhost', 'alsc-live-showhost',\n",
    "       'alsc-pos-organizationhost', 'ayfc-fc-hsf-gateway-prod-pouch',\n",
    "       'catapulthost', 'godivahost', 'hse1host', 'idle-promotionshost',\n",
    "       'trippoihost', 'wmpspacehost', 'aliad-stl-archimedeshost',\n",
    "       'coveragedoctorhost', 'aboxhost', 'alime-base-olympichost',\n",
    "       'auctionboxhost', 'ele-newretail-groot-merchanthost',\n",
    "       'micdarwinhost', 'mudphost',\n",
    "       'nbf-online-permission_tdi_resourcehost',\n",
    "       'wenxue-aggregate-datahost', 'xspace-mcu_smartcallhost',\n",
    "       'center-customercenter.interface', 'giuliahost', 'livex-vcorehost',\n",
    "       'tripadslhost', 'alsc-svip-memberhost', 'bakkhoshost',\n",
    "       'cco-data-servicehost_lindorm', 'favorite-server_hz-intl_host',\n",
    "       'jubuithost', 'lark-marketinghost', 'lippi-payhost',\n",
    "       'retail-cloud-corehost', 'tfgatewayhost', 'tmg-user-matrixhost',\n",
    "       'message-platformhost', 'accountlinkhost', 'alime-nluhost',\n",
    "       'alsc-aladdinhost', 'lippi-at-powerxhost',\n",
    "       'mmc-logisticsdetailhost', 'odin-data-mininghost',\n",
    "       'tmall-farmhost', 'wallethost', 'c2m-cost_prehost',\n",
    "       'alisite-taobao-serverhost', 'alsc-merchant-queryhost', 'atichost',\n",
    "       'ctcorehost', 'lippi-wfcollectorhost', 'tdtradeplatformhost',\n",
    "       'tfinteractionhost', 'tforderhost', 'ultramanhost',\n",
    "       'shield-kgbhost', 'alsc-rec-data-centerhost',\n",
    "       'idleapi-messagehost', 'motormasterhost', 'lippi-planethost',\n",
    "       'adplus-site-subway', 'cargohost', 'crowdhost', 'grapplehost',\n",
    "       'lippi-conversation-toolbarhost', 'mcmsadminservice_hz_host',\n",
    "       'wdk-fulfill-time-expressionhost', 'xt-biz-zhibohost',\n",
    "       'ad-feed-fliggy', 'agooackhost', 'alsc-fulfillment-platform2host',\n",
    "       'idleitem_host', 'nbf-online-scitem_abilityhost',\n",
    "       'pos-customerhost', 'rhone-adminhost', 'alicom-dsfhost',\n",
    "       'alphaerhost', 'triptphost', 'refundplatform3_pre13host',\n",
    "       'lippi-transcribehost', 'alime-shop-gatewayhost', 'alsc-passhost',\n",
    "       'apos_g1host', 'charming2host', 'et2-janusweb-pub',\n",
    "       'gaia-tjb-growth-synstate-publish', 'lippi-genie-accesshost',\n",
    "       'o2o-ad-exposure-serverhost', 'auctionbarrierhost',\n",
    "       'beehive-dataapihost', 'csp-commonhost', 'livex-funhost',\n",
    "       'tradeapihost', 'ump2_retail_normalhost',\n",
    "       'iot-ide-execute_2_prehost', 'aeye-juno-connector-innerhost',\n",
    "       'alilang-uem-dpchost', 'alsc-langrisser-dump_prehost',\n",
    "       'bpbsev_kgb', 'gaea-applicationhost', 'lippi-circlehost',\n",
    "       'performhost', 'taobao-rpghost', 'wegame-xxl-bizhost',\n",
    "       'risk-strategy-managementhost', 'qnproviderhost',\n",
    "       'campus-workbench_prehost', 'ele-newretail-drug_prehost',\n",
    "       'sdp_platform_prehost', 'itemcenterschedule2host',\n",
    "       'malldetailskiphost', 'topdatapush-cloudhost', 'trippshost',\n",
    "       'scmbporder-lst_prehost', 'alifocushost', 'bentleyhost_bc',\n",
    "       'offerqueryhost', 'wdk-plugin-engine-201949host',\n",
    "       'cloudwifi-collectorhost',\n",
    "       'ascp-procurement_international_prehost',\n",
    "       'fliggy-service-platformhost', 'grandethost', 'lippi-todohost',\n",
    "       'alsc-refund-platformhost', 'porschehost', 'x4vhost',\n",
    "       'mz-market_yyh_prehost', 'ihome-itemcenter-store_prehost',\n",
    "       'ald-lamphost_biz-20200110', 'gpf-item_api_host', 'idlecenterhost',\n",
    "       'lippi-at-calculatorhost', 'lippi-bihost', 'lippi-doc-memohost',\n",
    "       'userportalhost', 'alsc-user-centerhost', 'buc-acl-hsfhost',\n",
    "       'data-riderhost', 'idle-luxuryhost', 'lippi-doc-bizhost',\n",
    "       'mkt-turbohost', 'tg-rpc_tianchi_host', 'uicplusdatasynchost',\n",
    "       'vilyahost', 'waterfallhost', 'xspace-record_smartcall',\n",
    "       'nbf-pre-alihealth-brand-toufang_prehost', 'gpf4-retailhost',\n",
    "       'paganihost', 'tmc-rulehost', 'gaia-aplatform-ddz-publish',\n",
    "       'agoo-server-apihost', 'alsc-consumer-queryhost',\n",
    "       'beehive-scenes_mphost', 'cco-data-servicehost', 'gameapihost',\n",
    "       'hz.arcadia', 'idle-mtop-searchhost', 'wmpoperate-check_betahost',\n",
    "       'xspace-intl-as-service_beta', 'ald-lamphost-dacu',\n",
    "       'membercenterhost', 'nbf-online-hr-gwhost', 'pointcenterhost',\n",
    "       'taesitehost', 'xcloud-pfmhost', 'service-product-centerhost',\n",
    "       'wdk-scm-schedulehost', 'alsc-sales-batchhost', 'alphaer_prehost',\n",
    "       'alsc-item-centerhost', 'einvoice-uahost',\n",
    "       'hz.magellan_openservice', 'inventoryplatformhost',\n",
    "       'nbcolumbahost', 'xspace-record_smartcall_prehost',\n",
    "       'ai-iot-device-centerhost', 'ald-sensorhost',\n",
    "       'amp-relation-imhost', 'cornucopiahost', 'ic2_fliggy_host',\n",
    "       'lippi-org-centerhost', 'lippi-tdphost',\n",
    "       'nbf-online-ticket-attributehost', 'union-mrchost',\n",
    "       'hjsettle-ability_cn_taskhost', 'lippi-doc-corehost',\n",
    "       'nextrpc-decouplerhost', 'qualitydatacenterhost',\n",
    "       'trip-order-center-dumphost', 'ump2_guidehost', 'hr-cbbp_uat',\n",
    "       'flycphost', 'intl-infinity-servicehost', 'logisticsdetailhost',\n",
    "       'topnotify_apihost', 'ump2_detailhost', 'waimai-item-basichost',\n",
    "       'tradeplatform3_pre_order', 'tfkapalai_prehost',\n",
    "       'alicom-dsf_edenhost', 'coding-biz-notifyhost', 'mmc-plutushost',\n",
    "       'mp-trackerhost', 'bi-businesshost_sycm', 'pentaprismhost',\n",
    "       'placebusinesshost', 'xengine-knowledge-olympichost',\n",
    "       'ai-model-enginehost', 'copper_prehost', 'mmc-user-centerhost',\n",
    "       'recommend-pro-maxhost', 'site_service_centerhost',\n",
    "       'xsop_tbfirst_host', 'op-datawarhost', 'punirserver_hz_prehost',\n",
    "       'alsc-cs-autumnhost', 'alsc-rec-data-center_prod1',\n",
    "       'baoxianriskhost', 'fr-platformhost', 'jupushcenterhost',\n",
    "       'lippi-workspacehost', 'wdk-riskhost', 'mozi-conf-app_opshost',\n",
    "       'brigehost', 'cn-account_customer_host', 'einvoice-corehost',\n",
    "       'ele-lpd-infra-tsd-grid-zbprod-zb1', 'lippi-eam_betahost',\n",
    "       'mmc-logistics-basichost', 'mos-asset-platformhost',\n",
    "       'remuscenter-taobao-host', 'sicshost', 'ricky_prehost',\n",
    "       'mafiahost', 'alsc-cartshost', 'cngdf_b2b_host',\n",
    "       'havanaservicehsfhost', 'hmqhost', 'message-platformhost_ucp',\n",
    "       'one-scn-supply-network_prehost', 'pcs-order-searchhost',\n",
    "       'ump2_ump3_retail_otherhost', 'huangjincehost', 'nbaquilahost',\n",
    "       'tripwmchost', 'iotx-linkcard-consolehost',\n",
    "       'tjb-seller-service-centerhost', 'alihealth-vaccinhost', 'cushost',\n",
    "       'lippi-search_viphost', 'tfitemcenterhost', 'topapi_itemhost',\n",
    "       'aecp-view-designer-vpc_center_prehost',\n",
    "       'uplus-corehost_dataset_grp_run', 'etao-message-taskhost',\n",
    "       'kbtservindustryhost', 'lst-poshost', 'one-scn_prehost',\n",
    "       'wdk-plugin-engine-302136host', 'wwhongbaohost', 'nbehost',\n",
    "       'umplus-trustid-serverhost', 'mobius-qa_pre2host',\n",
    "       'ald-gatewayhost', 'c2m-inventory_hz_host',\n",
    "       'nbf-pre-rex-login-role_prehost',\n",
    "       'alisite-taobao-server_storehost', 'aplatformhost',\n",
    "       'ele-newretail-haseehost', 'falcon9r-data-factoryhost',\n",
    "       'gpf4-sell_upload_host', 'usc-taskhost',\n",
    "       'wdk-plugin-engine-303465host', 'ae-ut-crab-s_center_na610_host',\n",
    "       'chongzhimobilehost', 'etao-message-centerhost', 'wheelie_host',\n",
    "       'xt-biz-etaohost', 'tmsx-dispatch_betahost', 'itfp-loan_prehost',\n",
    "       'cne-orderhost', 'cnt-finance-billhost', 'coincorehost',\n",
    "       'creditpayhost', 'crmcenterhost',\n",
    "       'ele-newretail-shop-query_stablehost', 'forge_innerhost',\n",
    "       'global-tracking-service_host', 'mkt-mission_spehost',\n",
    "       'mmc-recommendhost', 'xspace-ehomehost', 'traingraphost',\n",
    "       'acc-oeden_prehost', 'hpchost', 'shopcenterhost',\n",
    "       'privacy-write-service_hz_prehost', 'union-common-docshost',\n",
    "       'alsc-pos-orderhost', 'ascm-saas-merchandisehost',\n",
    "       'ele-biz-growth-task-core-zbprod-zb1', 'idleapihost',\n",
    "       'ump2_normalhost', 'uplus-adminhost', 'lippi-omphost',\n",
    "       'wdk-plugin-engine-301911host', 'ascp-cost-gundamhost',\n",
    "       'alsc-marketing-platformhost', 'alsc-user-growth-enginehost',\n",
    "       'center-rights.center', 'wdk-dms-metricshost',\n",
    "       'xengine-knowledgehost', 'lippi-collab-needlehost', 'ispyhost',\n",
    "       'alsc-marketing-dynamic-promotion', 'fwsite_youku_host',\n",
    "       'hic_tophost', 'kbt-industry-operation_prehost', 'live-socialhost',\n",
    "       'trippehost', 'dutyfree-goods_prehost', 'ald-gateway_tmcshphost',\n",
    "       'c2m-costhost', 'lippi-contentcenterhost', 'trademanagerhost',\n",
    "       'volvohost', 'wmpitemctr_gw_host',\n",
    "       'linkedmall-itemadminservicehost', 'ald-lamphost-diantao',\n",
    "       'alsc-ump_normalhost', 'amdc_openhost', 'm-self-servicehost',\n",
    "       'mec-markethost', 'tripcrm-catchhost', 'union-cps-relationhost',\n",
    "       'miniapp-cloudhost', 'topapihost', 'tmg-customer-ophost',\n",
    "       'alscadscorpiohost', 'ccormshost', 'mc-throneshost', 'osphost',\n",
    "       'wdk-plugin-engine-302036_prehost', 'alsc-data-scannerhost',\n",
    "       'ascp-risk-managementhost', 'lark-umprodhost', 'rteehost',\n",
    "       'settleplatform_g1host', 'tblive-itemhost',\n",
    "       'union-collaborationhost', 'scn-distribution-line-command_prehost',\n",
    "       'ald-lamp_prehost-rmc1', 'cngcp_ae_host', 'hz.ensearchweb',\n",
    "       'mmc-item-facadehost', 'musehost', 'panama-oceanhost',\n",
    "       'promotiontaghost', 'idms_prehost',\n",
    "       'ops-ipoll-server_serverless_host', 'wdk-scm-return_prehost',\n",
    "       'ieu-scene-buildhost', 'alsc-activityhost',\n",
    "       'alsc-marketing-calculate-center_guide', 'cngdf_ae_host',\n",
    "       'cngtouchhost', 'ecardmisccenterhost',\n",
    "       'gaia-zebra-handler-index-publish', 'mbishost',\n",
    "       'nbf-online-ascp-purchasing-anti_host', 'alsc-umpprodhost',\n",
    "       'ic2_L0c_gray4_host', 'ecology-org_prehost',\n",
    "       'alsc-delivery-servicehost', 'etao-halo-fehost', 'lippi-dinghost',\n",
    "       'op-sycm-aehost', 'paymentplatform3_pre25_host', 'powermsghost',\n",
    "       'shopactcenterhost', 'solar-crowd-engine_publish',\n",
    "       'mmc-network-pps_prehost', 'mec-ugshost',\n",
    "       'productcenterservice_hz_cloud', 'smartui-gatewayhost',\n",
    "       'tariffcodehost', 'thor-materialhost', 'wdkmarkethost',\n",
    "       'mmc-interact-centerhost', 'tp3g2host', 'quickbi-sycmhost',\n",
    "       'finance-reporthost', 'alsc-cs-summerhost', 'alsc-rule-centerhost',\n",
    "       'ascp-charge-rulehost', 'cf-acquirerhost', 'ffatouchhost',\n",
    "       'kbrouteprodhost', 'mmc-crm-crowdhost', 'panama-strategyhost',\n",
    "       'ump2_koalahost', 'coin-lunyu_pre2', 'bbq-dumphost',\n",
    "       'clouddisk_hz_host', 'dwd-basedata-service_prehost',\n",
    "       'mkt-shellhost', 'protectorhost', 'trade-receipthost',\n",
    "       'xt-biz-wkhost', 'tfitemfacadehost',\n",
    "       'aicloud-share-center_1_prehost', 'goc-cosophost']"
   ]
  }
 ],
 "metadata": {
  "kernelspec": {
   "display_name": "Python 3 (ipykernel)",
   "language": "python",
   "name": "python3"
  },
  "language_info": {
   "codemirror_mode": {
    "name": "ipython",
    "version": 3
   },
   "file_extension": ".py",
   "mimetype": "text/x-python",
   "name": "python",
   "nbconvert_exporter": "python",
   "pygments_lexer": "ipython3",
   "version": "3.8.8"
  },
  "toc-autonumbering": false
 },
 "nbformat": 4,
 "nbformat_minor": 5
}
