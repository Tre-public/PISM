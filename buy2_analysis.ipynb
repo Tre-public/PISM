{
 "cells": [
  {
   "cell_type": "code",
   "execution_count": null,
   "id": "9fa0a1ed-a42f-4aa7-89ae-d8d3804a688e",
   "metadata": {},
   "outputs": [],
   "source": [
    "import pandas as pd\n",
    "from sklearn.ensemble import RandomForestClassifier, RandomForestRegressor\n",
    "import numpy as np\n",
    "from sklearn.model_selection import train_test_split\n",
    "import matplotlib.pyplot as plt\n",
    "from sklearn.ensemble import GradientBoostingClassifier\n",
    "from sklearn.linear_model import LinearRegression\n",
    "%matplotlib inline"
   ]
  },
  {
   "cell_type": "code",
   "execution_count": null,
   "id": "814e0259-f857-44c8-ba04-71d977d5b5e7",
   "metadata": {
    "tags": []
   },
   "outputs": [],
   "source": [
    "service = pd.read_csv(\"./service_performance.csv\")"
   ]
  },
  {
   "cell_type": "code",
   "execution_count": null,
   "id": "09d0c81d-ca5a-4d2a-a720-e17076effad9",
   "metadata": {
    "tags": []
   },
   "outputs": [],
   "source": [
    "service.fillna(0, inplace=True)"
   ]
  },
  {
   "cell_type": "code",
   "execution_count": null,
   "id": "c5278612-0aff-4db1-835d-fd205ee17775",
   "metadata": {},
   "outputs": [],
   "source": [
    "service"
   ]
  },
  {
   "cell_type": "code",
   "execution_count": null,
   "id": "671aac27-a446-4712-899f-e4975e33bded",
   "metadata": {},
   "outputs": [],
   "source": [
    "service_http = service.loc[service[\"throughput_type\"] == \"HTTP\"]\n",
    "service_hsf = service.loc[service[\"throughput_type\"] == \"HSF\"]\n",
    "service_hsfc = service.loc[service[\"throughput_type\"] == \"HSF_Consumer\"]"
   ]
  },
  {
   "cell_type": "code",
   "execution_count": null,
   "id": "504f7c20-2643-45f5-b572-3be9dd32146e",
   "metadata": {
    "tags": []
   },
   "outputs": [],
   "source": [
    "for ip in service.container_ip.unique().tolist():\n",
    "    print(ip, end=',')\n",
    "    temp = service[service.container_ip==ip]\n",
    "    test_http = temp[temp.throughput_type==\"HTTP\"]\n",
    "    test_hsf = temp[temp.throughput_type==\"HSF\"]\n",
    "    test_hsf_c = temp[temp.throughput_type==\"HSF_Consumer\"]\n",
    "    qps1 = test_http.qps__Q_s.values\n",
    "    qps2 = test_hsf.qps__Q_s.values\n",
    "    qps3 = test_hsf_c.qps__Q_s.values\n",
    "    X_data = np.asarray([qps1, qps2, qps3]).T\n",
    "    y_data = test_http.cpu_util__pct\n",
    "    model = LinearRegression()\n",
    "    model.fit(X_data[:, 0:3], y_data)\n",
    "    print(model.score(X_data[:, 0:3], y_data))\n",
    "#     print(model.coef_, model.intercept_)\n",
    "#     print(np.corrcoef(X_data, y_data))\n",
    "    "
   ]
  },
  {
   "cell_type": "code",
   "execution_count": null,
   "id": "f2593fce-75eb-49ac-ac65-c85433ac0963",
   "metadata": {
    "tags": []
   },
   "outputs": [],
   "source": [
    "cpu = {}\n",
    "cpu_pct = []\n",
    "ip = service[\"container_ip\"].values\n",
    "temp = service[\"cpu_util__pct\"].values\n",
    "for i in range(service.shape[0]):\n",
    "    if ip[i] not in cpu:\n",
    "        cpu[ip[i]] = []\n",
    "    if not np.isnan(temp[i]):\n",
    "        cpu[ip[i]].append(temp[i])\n",
    "for key in cpu:\n",
    "    if len(cpu[key]):\n",
    "        cpu_pct = cpu[key]\n",
    "        break"
   ]
  },
  {
   "cell_type": "code",
   "execution_count": null,
   "id": "09aea09a-54f7-43fa-8255-e68714098cfa",
   "metadata": {},
   "outputs": [],
   "source": [
    "mem = {}\n",
    "mem_pct = []\n",
    "temp = service[\"mem_util__pct\"].values\n",
    "for i in range(service.shape[0]):\n",
    "    if ip[i] not in mem:\n",
    "        mem[ip[i]] = []\n",
    "    if not np.isnan(temp[i]):\n",
    "        mem[ip[i]].append(temp[i])\n",
    "for key in mem:\n",
    "    if len(mem[key]):\n",
    "        mem_pct = mem[key]\n",
    "        break"
   ]
  },
  {
   "cell_type": "code",
   "execution_count": null,
   "id": "ed45fb9c-6e46-408c-9895-90ab1e916e5d",
   "metadata": {},
   "outputs": [],
   "source": [
    "qps = {}\n",
    "temp = service[\"qps__Q_s\"].values\n",
    "for i in range(service.shape[0]):\n",
    "    if ip[i] not in qps:\n",
    "        qps[ip[i]] = []\n",
    "    if not np.isnan(temp[i]):\n",
    "        qps[ip[i]].append(temp[i])"
   ]
  },
  {
   "cell_type": "code",
   "execution_count": null,
   "id": "1072b6f3-cb03-4158-9a7f-3c968fd0c9e6",
   "metadata": {},
   "outputs": [],
   "source": [
    "rt = {}\n",
    "temp = service[\"rt__ms_Q\"].values\n",
    "for i in range(service.shape[0]):\n",
    "    if ip[i] not in rt:\n",
    "        rt[ip[i]] = []\n",
    "    if not np.isnan(temp[i]):\n",
    "        rt[ip[i]].append(temp[i])"
   ]
  },
  {
   "cell_type": "code",
   "execution_count": null,
   "id": "8dfedc88-2af1-4f27-a06c-21f9af747fd4",
   "metadata": {},
   "outputs": [],
   "source": [
    "for key in rt:\n",
    "    rt[key] = np.asarray(rt[key])\n",
    "    if len(rt[key]):\n",
    "        mean = np.mean(rt[key])\n",
    "        std = np.std(rt[key])\n",
    "        rt[key] = (rt[key] - mean) / std"
   ]
  },
  {
   "cell_type": "code",
   "execution_count": null,
   "id": "02c43b09-a3bb-472a-b53c-92135913c7a1",
   "metadata": {},
   "outputs": [],
   "source": [
    "for key in cpu:\n",
    "    cpu[key] = np.asarray(cpu[key])\n",
    "    if len(cpu[key]):\n",
    "        mean = np.mean(cpu[key])\n",
    "        std = np.std(cpu[key])\n",
    "        cpu[key] = (cpu[key] - mean) / std"
   ]
  },
  {
   "cell_type": "code",
   "execution_count": null,
   "id": "f81c1bf2-1b5a-4d51-a7a9-eb386c4570d5",
   "metadata": {},
   "outputs": [],
   "source": [
    "i = 0\n",
    "for key in cpu:\n",
    "    if len(rt[key]) and i < 10:\n",
    "        plt.plot(range(len(rt[key])), rt[key])\n",
    "        i += 1\n",
    "plt.plot(range(len(cpu[key])), cpu[key])\n",
    "plt.show()"
   ]
  },
  {
   "cell_type": "code",
   "execution_count": null,
   "id": "f745a17d-69a5-421c-b2f5-b60fb3066078",
   "metadata": {},
   "outputs": [],
   "source": []
  },
  {
   "cell_type": "code",
   "execution_count": null,
   "id": "07151821-e965-434a-9bd8-dd5646fc010a",
   "metadata": {
    "tags": []
   },
   "outputs": [],
   "source": [
    "X = []\n",
    "for key in cpu:\n",
    "    if len(qps[key]):\n",
    "        X.append(qps[key])\n",
    "X = np.asarray(X).T\n",
    "model = RandomForestRegressor()\n",
    "X_train,X_test,y_train,y_test = train_test_split(X, cpu_pct, test_size=0.2, random_state=0)\n",
    "model.fit(X_train, y_train)\n",
    "print(model.score(X_train, y_train))\n",
    "print(model.score(X_test, y_test))"
   ]
  },
  {
   "cell_type": "code",
   "execution_count": null,
   "id": "e5930a34-90da-4f39-a2c3-c11c39eb24bb",
   "metadata": {},
   "outputs": [],
   "source": [
    "buy2host = pd.read_csv(\"/data/zkp/buy2/service.csv\")\n",
    "# buy2host1hour = pd.read_csv(\"./buy2host.csv\")\n",
    "# buy2host = pd.read_csv(\"/data/zkp/buy2/test/service.csv\")"
   ]
  },
  {
   "cell_type": "code",
   "execution_count": null,
   "id": "398af300-7840-4047-87ee-4ec75d808327",
   "metadata": {
    "tags": []
   },
   "outputs": [],
   "source": [
    "# buy2host[(~np.isnan(buy2host.qps__Q_s)) & (buy2host.throughput_type==\"HSF\")].sort_values(by=[\"qps__Q_s\"]).head(5)\n",
    "temp = buy2host[(buy2host.throughput_type==\"HSF\") ]"
   ]
  },
  {
   "cell_type": "code",
   "execution_count": null,
   "id": "9057f61c-33a0-4a3f-9e25-4c37b433bd6a",
   "metadata": {
    "tags": []
   },
   "outputs": [],
   "source": [
    "day = [\"2022-02-09 00:00:00\", \"2022-02-10 00:00:00\", \"2022-02-11 00:00:00\"]\n",
    "plt.figure(figsize=(20, 10))\n",
    "for st in range(1, len(day)):\n",
    "    d0 = temp[~pd.isna(temp.rt__ms_Q) & (temp.sample_time__m<day[st]) & (temp.sample_time__m>=day[st-1])]\n",
    "    p = []\n",
    "    for i in range(10, 100, 10):\n",
    "        p.append(np.percentile(d0.rt__ms_Q.values, i))\n",
    "    print(p)\n",
    "    plt.plot(range(len(p)), p, label=day[st-1])\n",
    "plt.legend()"
   ]
  },
  {
   "cell_type": "code",
   "execution_count": null,
   "id": "d9437d71-bd7d-4c5e-b0c6-faff3d1b8035",
   "metadata": {},
   "outputs": [],
   "source": [
    "buy2host = buy2host[buy2host.throughput_type==\"HSF\"]\n",
    "buy2host = buy2host[buy2host.container_ip.isin(test_con_ip)]"
   ]
  },
  {
   "cell_type": "code",
   "execution_count": null,
   "id": "f4be3328-e1fd-4c9d-a2cd-69dcf2a8b9bd",
   "metadata": {
    "tags": []
   },
   "outputs": [],
   "source": [
    "# plt.figure(figsize=(15, 8))\n",
    "for i in test_con_ip:\n",
    "    temp = buy2host[buy2host.container_ip == i]\n",
    "    temp = temp[temp.throughput_type==\"HSF\"]\n",
    "    plt.plot(range(temp.shape[0]), temp.qps__Q_s.values)\n",
    "#     plt.show()\n",
    "plt.show()\n",
    "for i in test_con_ip:\n",
    "    temp = buy2host[buy2host.container_ip == i]\n",
    "    temp = temp[temp.throughput_type==\"HSF\"]\n",
    "    plt.plot(range(temp.shape[0]), temp.cpu_util__pct.values)"
   ]
  },
  {
   "cell_type": "code",
   "execution_count": null,
   "id": "a56c402a-f6f7-48d7-98dd-440e4f7bb9d6",
   "metadata": {},
   "outputs": [],
   "source": [
    "plt.figure(figsize=(15, 8))\n",
    "plt.plot(sorted(temp.rt__ms_Q.values), np.arange(temp.shape[0]) / (temp.shape[0] - 1))\n",
    "plt.xlim(0, 500)"
   ]
  },
  {
   "cell_type": "code",
   "execution_count": null,
   "id": "8786ed0c-2e49-481d-95a3-910111ddc35a",
   "metadata": {},
   "outputs": [],
   "source": [
    "print(buy2host.isnull().sum())\n",
    "buy2host.fillna(0, inplace=True)"
   ]
  },
  {
   "cell_type": "code",
   "execution_count": null,
   "id": "49fe7613-42b5-4352-8cb3-fcc52cf979e7",
   "metadata": {},
   "outputs": [],
   "source": [
    "buy2host1hour.fillna(0, inplace=True)\n",
    "buy2host1hour = buy2host1hour[buy2host1hour.throughput_type == \"HSF\"]"
   ]
  },
  {
   "cell_type": "code",
   "execution_count": null,
   "id": "0747d598-10ee-4e0f-ab9d-cfa837d08ad0",
   "metadata": {},
   "outputs": [],
   "source": [
    "buy2host_http = buy2host.loc[buy2host[\"throughput_type\"] == \"HTTP\"]\n",
    "buy2host_hsf = buy2host.loc[buy2host[\"throughput_type\"] == \"HSF\"]\n",
    "buy2host_hsfc = buy2host.loc[buy2host[\"throughput_type\"] == \"HSF_Consumer\"]"
   ]
  },
  {
   "cell_type": "code",
   "execution_count": null,
   "id": "06997e31-e3b3-479c-90b0-7c32c1ec725d",
   "metadata": {
    "tags": []
   },
   "outputs": [],
   "source": [
    "target = [\"rt__ms_Q\", \"qps__Q_s\", \"cpu_util__pct\", \"mem_util__pct\"]\n",
    "test = np.random.normal(0, 1, size=(664, 61))\n",
    "plt.figure()\n",
    "for i in target:\n",
    "    metric = buy2host_http[i].values\n",
    "    metric = metric.reshape(-1, 61)\n",
    "    coef = np.corrcoef(metric)\n",
    "#     print(coef)\n",
    "    X = sorted(list(coef.reshape(-1, )))\n",
    "    y = 100. * np.arange(len(X))/(len(X)-1)\n",
    "    plt.plot(X, y)\n",
    "    \n",
    "coef = np.corrcoef(test)\n",
    "X = sorted(list(coef.reshape(-1, )))\n",
    "y = 100. * np.arange(len(X))/(len(X)-1)\n",
    "plt.plot(X, y)\n",
    "plt.legend([\"rt__ms_Q\", \"qps__Q_s\", \"cpu_util__pct\", \"mem_util__pct\", \"test\"])\n",
    "plt.show()\n",
    "# plt.xlim(0, 1)"
   ]
  },
  {
   "cell_type": "code",
   "execution_count": null,
   "id": "98874499-26e5-4de7-bbf3-5c5f4a5fcc39",
   "metadata": {
    "tags": []
   },
   "outputs": [],
   "source": [
    "for i in target:\n",
    "    print(i)\n",
    "    plt.figure()\n",
    "    metric = buy2host_http[i].values\n",
    "    metric = metric.reshape(-1, 61)\n",
    "    mean = np.mean(metric, axis=1)\n",
    "#     print(mean)\n",
    "    std = np.std(metric, axis=1)\n",
    "    X = sorted(list(mean.reshape(-1, )))\n",
    "    y = 100. * np.arange(len(X))/(len(X)-1)\n",
    "    plt.plot(X, y)\n",
    "    plt.show()\n",
    "    X = sorted(list(std.reshape(-1, )))\n",
    "    y = 100. * np.arange(len(X))/(len(X)-1)\n",
    "    plt.figure()\n",
    "    plt.plot(X, y)\n",
    "    plt.show()"
   ]
  },
  {
   "cell_type": "code",
   "execution_count": null,
   "id": "eae28423-cb09-4ea7-91bc-fb6a4f0ed29c",
   "metadata": {},
   "outputs": [],
   "source": [
    "metric = buy2host_http[\"qps__Q_s\"].values\n",
    "metric = metric.reshape(-1, 61)\n",
    "coef = np.corrcoef(metric)\n",
    "X = sorted(list(coef.reshape(-1, )))\n",
    "y = 100. * np.arange(len(X))/(len(X)-1)\n",
    "plt.figure()\n",
    "plt.plot(X, y)\n",
    "# plt.xlim(0, 1)"
   ]
  },
  {
   "cell_type": "code",
   "execution_count": null,
   "id": "3d5f4ad1-ca8a-467b-b1cc-5e2222acf71a",
   "metadata": {
    "tags": []
   },
   "outputs": [],
   "source": [
    "mean_all = []\n",
    "std_all = []"
   ]
  },
  {
   "cell_type": "code",
   "execution_count": null,
   "id": "b21ead6e-8b18-4b6d-83e5-8c0b3014ba55",
   "metadata": {
    "tags": []
   },
   "outputs": [],
   "source": [
    "for i in target:\n",
    "    metric = buy2host_http[i].values\n",
    "    mean_all.append(np.mean(metric))\n",
    "    std_all.append(np.std(metric))\n"
   ]
  },
  {
   "cell_type": "code",
   "execution_count": null,
   "id": "8ed2d794-7a3b-4622-a27a-0f036467c670",
   "metadata": {},
   "outputs": [],
   "source": [
    "container_ip = buy2host_http.container_ip.unique()"
   ]
  },
  {
   "cell_type": "code",
   "execution_count": null,
   "id": "2c90b92d-f145-4d0c-86ea-a102f40e03d6",
   "metadata": {
    "tags": []
   },
   "outputs": [],
   "source": [
    "if_level = {}\n",
    "for i in range(1):\n",
    "    metric = buy2host_http[target[i]].values\n",
    "    metric = metric.reshape(-1, 61)\n",
    "    label = []\n",
    "#     print(metric)\n",
    "    for j in range(metric.shape[0]):\n",
    "        label.append([])\n",
    "        for k in range(4, metric.shape[1]):\n",
    "            cnt = 0\n",
    "            for step in range(5):\n",
    "                if metric[j][k-step] >= mean_all[i] + std_all[i]:\n",
    "                    cnt += 1\n",
    "            if cnt >= 3:\n",
    "                label[j].append(1)\n",
    "            else: label[j].append(0)\n",
    "        if len(np.bincount(label[j])) > 1:\n",
    "            print(\"\\\"\" + str(container_ip[j]) + \"\\\"\", end=',')\n",
    "            if_level[container_ip[j]] = np.bincount(label[j])[1] / len(label[j])\n",
    "    "
   ]
  },
  {
   "cell_type": "markdown",
   "id": "5f554e4b-9bc4-4c79-a1d9-ea3256342f09",
   "metadata": {},
   "source": []
  },
  {
   "cell_type": "code",
   "execution_count": null,
   "id": "7f9b8fe1-9863-4cc6-8e13-f0078d81d6e5",
   "metadata": {},
   "outputs": [],
   "source": [
    "import time"
   ]
  },
  {
   "cell_type": "code",
   "execution_count": null,
   "id": "5afa214f-d23d-4b2a-992f-e7311d2b8a0f",
   "metadata": {},
   "outputs": [],
   "source": [
    "machine = pd.read_csv(\"/data/zkp/buy2/test/machine.csv\")\n",
    "print(machine.isnull().sum())\n",
    "machine.fillna(0, inplace=True)"
   ]
  },
  {
   "cell_type": "code",
   "execution_count": null,
   "id": "91a03148-7a77-4338-9a40-d883da75b105",
   "metadata": {},
   "outputs": [],
   "source": [
    "buy2host.sample_time__m"
   ]
  },
  {
   "cell_type": "code",
   "execution_count": null,
   "id": "e03d9bcd-ff50-4fe7-9f96-6aec3b949cbc",
   "metadata": {},
   "outputs": [],
   "source": [
    "machine1hour = pd.read_csv(\"./buy2machine.csv\")\n",
    "machine1hour.fillna(0, inplace=True)"
   ]
  },
  {
   "cell_type": "code",
   "execution_count": null,
   "id": "709bbf4b-e02a-4e46-b53b-26be12c5f33c",
   "metadata": {
    "tags": []
   },
   "outputs": [],
   "source": [
    "pod_meta = pd.read_csv(\"./pod_meta.csv\")\n",
    "test_nc_sn = {}\n",
    "for ip in svc.container_ip.unique():\n",
    "    for i in range(pod_meta.shape[0]):\n",
    "        if pod_meta.container_ip.values[i] == ip:\n",
    "            test_nc_sn[ip] = pod_meta.nc_sn.values[i]\n"
   ]
  },
  {
   "cell_type": "code",
   "execution_count": null,
   "id": "d9539ed6-9654-48a4-9dfc-22433c9512ba",
   "metadata": {
    "tags": []
   },
   "outputs": [],
   "source": [
    "print(len(test_con_ip), len(test_nc_sn))\n",
    "# print(test_nc_sn)"
   ]
  },
  {
   "cell_type": "code",
   "execution_count": null,
   "id": "5a586662-fb1d-4fd7-80c4-f5205d373a52",
   "metadata": {},
   "outputs": [],
   "source": [
    "ay49c = pod_meta[pod_meta.container_app_name==\"ay49c\"]\n",
    "test_batch_ip = {}\n",
    "for key in test_nc_sn:\n",
    "    for i in range(ay49c.shape[0]):\n",
    "        if ay49c.nc_sn.values[i] == test_nc_sn[key]:\n",
    "            test_batch_ip[key] = ay49c.container_ip.values[i]\n",
    "            break\n"
   ]
  },
  {
   "cell_type": "code",
   "execution_count": null,
   "id": "09036d24-8e8b-4d67-9b8e-4903dbd53381",
   "metadata": {
    "tags": []
   },
   "outputs": [],
   "source": [
    "for key in test_batch_ip:\n",
    "    print(\"eval_fuxi_instance_pdf.worker_address.startswith(\\\"tcp://\" + test_batch_ip[key] + \":\\\") | \", end=\"\")"
   ]
  },
  {
   "cell_type": "code",
   "execution_count": null,
   "id": "b72ccf36-e15e-452d-8a52-1419b72184bb",
   "metadata": {},
   "outputs": [],
   "source": [
    "\n"
   ]
  },
  {
   "cell_type": "code",
   "execution_count": null,
   "id": "a9cd571d-4a57-40cb-ac83-eaa559e07c61",
   "metadata": {},
   "outputs": [],
   "source": [
    "# test_batch = pd.read_csv(\"/data/zkp/instancehour.csv\")\n",
    "test_batch = pd.read_csv(\"/data/zkp/buy2/test/d0.csv\")\n",
    "test_batch.fillna(0, inplace=True)\n",
    "test_batch.shape"
   ]
  },
  {
   "cell_type": "code",
   "execution_count": null,
   "id": "192e6638-4418-4851-9f92-85ce149b6e8c",
   "metadata": {},
   "outputs": [],
   "source": [
    "test_batch.odps_task_type.value_counts()"
   ]
  },
  {
   "cell_type": "code",
   "execution_count": null,
   "id": "3ea52c94-1211-44ec-9b38-60b932f3f8cb",
   "metadata": {},
   "outputs": [],
   "source": [
    "R, M, J = [], [], []\n",
    "temp = test_batch[test_batch.odps_task_type==\"SQL\"]\n",
    "cpu = temp.fuxi_avg_cpu.values\n",
    "mem = temp.fuxi_avg_mem.values\n",
    "task = temp.fuxi_task_name.values\n",
    "for i in range(task.shape[0]):\n",
    "    n = (cpu[i]) / (mem[i]) if mem[i] else 0\n",
    "    if task[i][0] == 'M':\n",
    "        M.append(n)\n",
    "    elif task[i][0] == 'R':\n",
    "        R.append(n)\n",
    "    else:\n",
    "        J.append(n)\n",
    "# temp.fuxi_avg_cpu / temp.fuxi_avg_mem"
   ]
  },
  {
   "cell_type": "code",
   "execution_count": null,
   "id": "89c58d44-c9ba-4b42-931b-6ba5dc71a306",
   "metadata": {},
   "outputs": [],
   "source": [
    "plt.plot(sorted(M), np.arange(len(M)) / (len(M) - 1))\n",
    "plt.plot(sorted(R), np.arange(len(R)) / (len(R) - 1))\n",
    "plt.plot(sorted(J), np.arange(len(J)) / (len(J) - 1))\n",
    "# plt.xlim(0, )"
   ]
  },
  {
   "cell_type": "code",
   "execution_count": null,
   "id": "7b6dd61c-fe15-42ba-bbc1-448198e7eba6",
   "metadata": {},
   "outputs": [],
   "source": [
    "main_resource = np.sort(main_resource)\n",
    "plt.plot(main_resource, np.arange(main_resource.shape[0]) / (main_resource.shape[0] - 1))\n",
    "print(main_resource.shape)"
   ]
  },
  {
   "cell_type": "code",
   "execution_count": null,
   "id": "b802f7eb-ae00-49f1-9f0d-afc570aced4f",
   "metadata": {},
   "outputs": [],
   "source": [
    "onoffline = pd.read_csv(\"/data/zkp/buy2/test/onoffline.csv\")"
   ]
  },
  {
   "cell_type": "code",
   "execution_count": null,
   "id": "0e37388c-6a37-4150-b7ad-8bda6fd4682a",
   "metadata": {},
   "outputs": [],
   "source": [
    "online = onoffline[onoffline.Task_Type==\"Online\"]\n",
    "offline = onoffline[onoffline.Task_Type==\"Offline\"]"
   ]
  },
  {
   "cell_type": "code",
   "execution_count": null,
   "id": "3852749a-2f6d-4629-ba3f-ac6ffc2538c2",
   "metadata": {},
   "outputs": [],
   "source": [
    "onoffline1hour = pd.read_csv(\"/data/zkp/buy2/on-offline.csv\")\n",
    "online1hour = onoffline1hour[onoffline1hour.Task_Type==\"Online\"]\n",
    "offline1hour = onoffline1hour[onoffline1hour.Task_Type==\"Offline\"]"
   ]
  },
  {
   "cell_type": "code",
   "execution_count": null,
   "id": "aab7e8fc-9fc8-46d8-84e0-c6fb97cb622a",
   "metadata": {},
   "outputs": [],
   "source": [
    "onoffline.columns"
   ]
  },
  {
   "cell_type": "code",
   "execution_count": null,
   "id": "a49b57c1-e18c-4074-9f27-52d76ab9c676",
   "metadata": {
    "tags": []
   },
   "outputs": [],
   "source": [
    "target_batch = test_batch.worker_ip.unique().tolist()\n",
    "target_machine = machine.nc_sn.unique().tolist()\n",
    "# print(target_batch)\n",
    "data = []\n",
    "for key in test_batch_ip:\n",
    "    if test_batch_ip[key] in target_batch:\n",
    "#         print(test_batch_ip[key], end=',')\n",
    "\n",
    "#         temp = test_batch[test_batch.worker_ip==test_batch_ip[key]]\n",
    "#         ins_start = temp.start_time.values\n",
    "#         ins_end = temp.end_time.values\n",
    "#         ins_usage = temp.fuxi_avg_cpu.values * temp.total_time_seconds.values\n",
    "#         ins_avg_usage = temp.fuxi_avg_cpu.values\n",
    "#         ins_task_name = temp.fuxi_job_name.values\n",
    "        \n",
    "# #         max_time = np.argmax(ins_usage)\n",
    "#         ins_data = [0 for i in range(np.max(ins_end) - np.min(ins_start))]\n",
    "#         ins_data_avg = [0 for i in range(np.max(ins_end) - np.min(ins_start))]\n",
    "#         ins_cnt = [0 for i in range(np.max(ins_end) - np.min(ins_start))]\n",
    "#         ins_unique_cnt = [set() for i in range(np.max(ins_end) - np.min(ins_start))]\n",
    "#         max_job = {}\n",
    "# #         ins_data_degra = [0 for i in range(np.max(ins_end) - np.min(ins_start))]\n",
    "#         for i in range(ins_start.shape[0]):\n",
    "#             if ins_task_name[i] not in max_job:\n",
    "#                 max_job[ins_task_name[i]] = [0, 0, 0]\n",
    "#                 max_job[ins_task_name[i]][0] = ins_start[i]\n",
    "#             max_job[ins_task_name[i]][1] = max(ins_end[i], max_job[ins_task_name[i]][1])\n",
    "#             max_job[ins_task_name[i]][2] += ins_usage[i]\n",
    "#             for k in range(ins_end[i] - ins_start[i]):\n",
    "#                 ins_data_avg[ins_start[i] - ins_start[0] + k] += (ins_avg_usage[i])\n",
    "#                 ins_data[ins_start[i] - ins_start[0] + k] += (ins_usage[i])\n",
    "#                 ins_cnt[ins_start[i] - ins_start[0] + k] += 1\n",
    "#                 ins_unique_cnt[ins_start[i] - ins_start[0] + k].add(ins_task_name[i])\n",
    "#         ins_unique = []\n",
    "#         for i in ins_unique_cnt:\n",
    "#             ins_unique.append(len(i))\n",
    "#         max_j = ins_task_name[0]\n",
    "#         for k in max_job:\n",
    "#             if max_job[k][2] > max_job[max_j][2]:\n",
    "#                 max_j = k\n",
    "#         ins_data_hour = [0 for i in range(61)]\n",
    "#         for i in range(ins_start.shape[0]):\n",
    "#             for k in range(int((ins_end[i] - ins_start[i]) / 60)+1):\n",
    "#                 index = int((ins_start[i] - 1644120000) / 60) + k\n",
    "#                 if index >= 0 and index < 60:\n",
    "#                     ins_data_hour[index+1] += (ins_usage[i])\n",
    "        off_cpu = offline[offline.nc_sn==test_nc_sn[key]].cpu_util__pct.values\n",
    "        off_time = offline[offline.nc_sn==test_nc_sn[key]].sample_time.values\n",
    "        \n",
    "        on_cpu = online[online.nc_sn==test_nc_sn[key]].cpu_util__pct.values\n",
    "        on_time = online[online.nc_sn==test_nc_sn[key]].sample_time.values\n",
    "        \n",
    "        nc_cpu = machine[machine.nc_sn==test_nc_sn[key]].cpu_util__pct.values\n",
    "        nc_time = machine[machine.nc_sn==test_nc_sn[key]].sample_time.values\n",
    "        new_nc_cpu = []\n",
    "        cur_time = 1644120000\n",
    "        for i in range(len(nc_time)):\n",
    "            if nc_time[i] == cur_time:\n",
    "                new_nc_cpu.append(nc_cpu[i])\n",
    "                cur_time += 60\n",
    "        if len(new_nc_cpu) != 61:\n",
    "            continue\n",
    "            \n",
    "        con_time = buy2host_http[buy2host_http.container_ip==key].sample_time__m.apply(\n",
    "        lambda x:time.mktime(time.strptime(x, \"%Y-%m-%d %H:%M:%S\"))).values\n",
    "        con_rt = buy2host_hsf[buy2host_hsf.container_ip==key].rt__ms_Q.values\n",
    "        con_qps = buy2host_hsf[buy2host_hsf.container_ip==key].qps__Q_s.values\n",
    "        con_cpu = buy2host_hsf[buy2host_hsf.container_ip==key].cpu_util__pct.values\n",
    "        \n",
    "#         temp = buy2host[buy2host.container_ip==key]\n",
    "#         test_http = temp[temp.throughput_type==\"HTTP\"]\n",
    "#         test_hsf = temp[temp.throughput_type==\"HSF\"]\n",
    "#         test_hsf_c = temp[temp.throughput_type==\"HSF_Consumer\"]\n",
    "#         qps1 = test_http.qps__Q_s.values\n",
    "# #         rt1 = test_http.rt__ms_Q.values\n",
    "#         qps2 = test_hsf.qps__Q_s.values\n",
    "# #         rt2 = test_hsf.rt__ms_Q.values\n",
    "#         qps3 = test_hsf_c.qps__Q_s.values\n",
    "# #         rt3 = test_hsf_c.rt__ms_Q.values\n",
    "#         X_data = np.asarray([qps1, qps2, qps3, new_nc_cpu]).T\n",
    "#         y_data = test_http.cpu_util__pct\n",
    "#         model = LinearRegression()\n",
    "#         model.fit(X_data, y_data)\n",
    "# #         print(model.score(X_data, y_data), np.mean(nc_cpu))\n",
    "#         data.append([model.score(X_data, y_data), np.mean(new_nc_cpu)])\n",
    "\n",
    "        plt.figure(figsize=(15, 8))\n",
    "#         plt.plot(range(np.min(ins_start), np.max(ins_end), 1), trans(ins_data[::1]))\n",
    "#         plt.plot(range(np.min(ins_start), np.max(ins_end), 1), trans(ins_cnt[::1]))\n",
    "#         plt.plot(range(np.min(ins_start), np.max(ins_end), 1), trans(ins_data_avg))\n",
    "#         plt.plot(range(np.min(ins_start), np.max(ins_end), 1), trans(ins_data_avg))\n",
    "#         ins_set = set()\n",
    "#         for index in range(max_job[max_j][0] - ins_start[0], max_job[max_j][1] - ins_start[0]+1):\n",
    "#             ins_set.add(ins_unique[index])\n",
    "#         print(ins_set)\n",
    "\n",
    "#         plt.plot(range(1644120060, 1644123720, 60), trans(ins_data_hour))\n",
    "#         plt.vlines(max_job[max_j][0], ymin=-2, ymax=2, colors=\"red\")\n",
    "#         plt.vlines(max_job[max_j][1], ymin=-2, ymax=2, colors=\"red\")\n",
    "#         plt.plot(range(61), trans(ins_data_hour))\n",
    "        plt.plot(off_time, off_cpu/96)\n",
    "#         plt.plot(on_time, on_cpu/96)\n",
    "#         plt.plot(con_time, con_cpu)\n",
    "        plt.plot(con_time, con_cpu/con_qps*4)\n",
    "#         plt.plot(con_time, con_rt/2)\n",
    "        plt.plot(nc_time, nc_cpu)\n",
    "#         plt.legend([\"batch usage\", \"cpu/qps\", \"machine CPU\"], fontsize=15)\n",
    "        plt.xlabel(\"time\", fontsize=15)\n",
    "        plt.show()\n",
    "\n",
    "#         data.append(np.corrcoef(ifl, ins_data_hour)[0][1])\n",
    "#         plt.plot(range(np.min(ins_start), np.max(ins_end), 1), trans(ins_data_degra[::1]))\n",
    "#         plt.show()\n",
    "\n",
    "# data = np.asarray(data).reshape(-1, 4)\n",
    "# plt.scatter(data[:, 0], data[:, 1])"
   ]
  },
  {
   "cell_type": "code",
   "execution_count": null,
   "id": "5b9384a7-dfbb-4c87-9b98-28d7982b860e",
   "metadata": {
    "tags": []
   },
   "outputs": [],
   "source": [
    "same_cpu_nc = [\"i-8vbhqotpulk0mv1nvr07\",\"i-8vb8niv4ebw6klfe3hw2\",\"i-8vbhauzyak77zg9z0tlw\",\"i-8vb7sfz249uryzrgl86d\",\"i-8vbfp9s69ya5wwe3b23o\",\"i-8vb4znug003nginj1s9q\",\"i-8vbgv8uybhcizlxzw91a\",\"i-8vbhauzyak781r59rp8j\",\"i-8vb67pimwpwn5v3b37wx\",\"i-8vb4znug003nititsmb6\",\"i-8vbc4j19pswur5r2gfp3\",\"i-8vb7bjp667o1pfzozx8b\",\"i-8vbin45sf71fyisw5x5y\",\"i-8vbg77qkm0es1asnicor\",\"i-8vbcmgzqo6jqb55g8doh\",\"i-8vbelhwolm0wegg1pem9\",\"i-8vbhauzyak781r59rp97\",\"i-8vb4npz5elw3xvq6i47z\",\"i-8vb4xb97s2boiok5hacz\",\"i-8vb91epq85oip4to79fa\",\"i-8vbam4edy4tle4cvysg6\",\"i-8vb6vgn76924o3rwp1j8\",\"i-8vb39itzz0os29pbgb7a\",\"i-8vb8niv4ebw6klfe3hx5\",\"i-8vb98v3eo55vrurda2j0\",\"i-8vb2f4jtd0ioe50mpji9\",\"i-8vbep5emxamlhkdcr3ae\",\"i-8vbb58nh9e5z08sny9s7\",\"i-8vb4832m1txx3x6a9678\",\"i-8vb2t1xpt6kzeo7111is\",\"i-8vb4znug003nginj1s9s\",\"i-8vb2t1xpt6kzgz2brwce\",\"i-8vb7bhe4b8nggjugxr3b\",\"i-8vb48ylkuwkq7hr74inx\",\"i-8vbin45sf71fyisw5x5z\",\"i-8vbelhwolm0wc5kqyicd\",\"i-8vb61k1oanf6zi5x2dzg\",\"i-8vb7cw598sk5y2yf6yqy\",\"i-8vb98v3eo55vu5mo0xak\",\"i-8vbep5emxamlhkdcr3ar\",\"i-8vb98v3eo55vu5mo0xar\",\"i-8vbfa0psr7wypjba0tr6\",\"i-8vb4npz5elw3vkuvr8rz\",\"i-8vbelhwolm0wc5kqyibc\",\"i-8vb98v3eo55vu5mo0xaw\",\"i-8vbhauzyak77zg9z0tlf\",\"i-8vb4znug003nititsmbm\",\"i-8vb0rjtfo0q5w75xcdij\",\"i-8vb4alt8m1wxvidsnvrs\",\"i-8vb1tqsb9k7tjbnbnxnj\",\"i-8vb7d7ofu6jdeq0ldzm6\",\"i-8vbhauzyak77zg9z0tm0\",\"i-8vb8niv4ebw6klfe3hwj\",\"i-8vbin45sf71fyisw5x6o\",\"i-8vb8g40vwhxndrlor13n\",\"i-8vb6unf4zj3yr6jspern\",\"i-8vb2blnz148po0w88pqj\",\"i-8vb4832m1txx3x6a967t\",\"i-8vb1een7cq1zu34ijo2v\",\"i-8vb4832m1txx3x6a9673\",\"i-8vb4832m1txx3x6a967n\",\"i-8vb2t1xpt6kzeo7111iv\",\"i-8vb8niv4ebw6klfe3hxc\",\"i-8vb4znug003nginj1s9k\",\"i-8vbef1o5ayowlpr11an5\",\"i-8vb8a8jtcnzn7tf58kxu\",\"i-8vb2u9rrs3s6ties3a2s\",\"i-8vb4u5g02x75lfcwster\",\"i-8vbelhwolm0wegg1pemc\",\"i-8vb6unf4zj3yrcgw1mpl\",\"i-8vb4832m1txx3x6a967i\",\"i-8vbfjfue99nj4bmpajc7\",\"i-8vbep5emxamljv8nhypr\",\"i-8vbh2umf0kekz3cpqt9z\",\"i-8vb3znbh2t63ztqwwuh9\",\"i-8vb6lulg39p9o71dc5jv\",\"i-8vbfk1dmbxfsqtxi6ycu\",\"i-8vb2t1xpt6kzeo7111jf\",\"i-8vb6l6r5zwo8b5i1ivev\",\"i-8vbb15063hgwsl3z7tf3\",\"i-8vb4832m1txx3x6a9677\",\"i-8vb6unf4zj3yrcgw1mpf\",\"i-8vb98v3eo55vu5mo0xbe\",\"i-8vb1cgnytsy2on1g4mb7\",\"i-8vb8niv4ebw6klfe3hw8\",\"i-8vbep5emxamljv8nhynp\",\"i-8vbb5jf1xz1fv6uqjfnf\",\"i-8vb4znug003nititsmbh\",\"i-8vbep5emxamlhkdcr3af\",\"i-8vbhauzyak77zg9z0tm1\",\"i-8vbatpe69tcwarxxapag\",\"i-8vb22e8afuqudc9wx8p7\",\"i-8vb108ss2yxhog8ffca9\",\"i-8vbi43r4pevnahyrcpr7\",\"i-8vb4oel104z966q3uuei\",\"i-8vbdao9lfgbowx7uby36\",\"i-8vbin45sf71fyisw5x5v\",\"i-8vb4znug003nititsmbi\",\"i-8vb4npz5elw3vkuvr8r1\",\"i-8vb2n1ujje3p1yqrdsvu\",\"i-8vba3xzebw6t8zoz8ph2\",\"i-8vb4npz5elw3xvq6i47q\",\"i-8vbg2opl4rir1e0n3cbw\",\"i-8vb8e59yufyqspqng372\",\"i-8vb4npz5elw3vkuvr8r6\",\"i-8vbekxwwqxx1rqiotsy6\",\"i-8vb1rwnf7yqplkhlgb28\",\"i-8vbbuc81w02wwl188bod\",\"i-8vbhauzyak781r59rpa4\",\"i-8vb8niv4ebw6klfe3hw7\",\"i-8vb5kyjabnsnxftcliwq\",\"i-8vb7dbixnbvyf0qh5h68\",\"i-8vbhqotpulk0mv1nvr09\",\"i-8vb4p5hyvakr5me0hij4\",\"i-8vba2t85gky0hlmp48p5\",\"i-8vb2f4jtd0ioe50mpjid\",\"i-8vbep5emxamljv8nhyni\",\"i-8vb5tztndc23b016jrzx\",\"i-8vbg2opl4rir1e0n3cbx\",\"i-8vb2t1xpt6kzgz2brwcy\",\"i-8vb2t1xpt6kzeo7111ii\",\"i-8vb4832m1txx681l017a\",\"i-8vbin45sf71fyisw5x5w\",\"i-8vbfp9s69ya5xk2gnq5g\",\"i-8vb98v3eo55vu5mo0xbj\",\"i-8vbgt9ccn3ds25aaj78i\",\"i-8vb8niv4ebw6klfe3hwa\",\"i-8vb1tqsb9k7t2bzqo2z4\",\"i-8vb2t1xpt6kzeo7111j7\",\"i-8vb8qk2b67qo2anoawn8\",\"i-8vbgyk1yg3s6qk2spnrp\",\"i-8vb98v3eo55vrurda2il\",\"i-8vb4znug003nititsmb5\",\"i-8vbfjfue99nj4bmpajc4\",\"i-8vb7f7yq82v1hvv885kv\",\"i-8vbbuc81w02wwl188bov\",\"i-8vbekxwwqxx1phmf7j4m\",\"i-8vb1rwnf7yqplkhlgb24\",\"i-8vb9ul5xec4suhpk1n8d\",\"i-8vbajzi06e4au8p5cx45\",\"i-8vbg1kq0sktac6xu8d47\",\"i-8vb7f7yq82v1hvv885kt\",\"i-8vb1cgnytsy3jrr0k4qs\",\"i-8vb2su8vlwrqg5z5mj8e\",\"i-8vb3tim73231mr8nxw1y\",\"i-8vba5y9ogv6h1x5t10qw\",\"i-8vb2t1xpt6kzeo7111ie\",\"i-8vbelhwolm0wegg1pelm\",\"i-8vbf38y08vcptvj2ulgr\",\"i-8vb4alt8m1wxwxolllf7\",\"i-8vb8niv4ebw6klfe3hvy\",\"i-8vbhauzyak77zg9z0tm5\",\"i-8vbd3whsqpuije3cc6os\",\"i-8vb5xged4qrehk6gpvdi\",\"i-8vbf565jz2vlawxfj9pt\",\"i-8vbep5emxamljv8nhynq\",\"i-8vbhauzyak77zg9z0tl1\",\"i-8vbg2opl4rirggm531i8\",\"i-8vb2u9rrs3s6tchor3co\",\"i-8vb4znug003nginj1s9c\",\"i-8vb8i5ugtjfp5o03smog\",\"i-8vbbuc81w02wyvwiz7bo\",\"i-8vb6lulg39p9mrqkeewf\",\"i-8vb5kap36q5z2ulu03a8\"]"
   ]
  },
  {
   "cell_type": "code",
   "execution_count": null,
   "id": "df78881d-2371-47a8-9d00-55b03395a350",
   "metadata": {
    "tags": []
   },
   "outputs": [],
   "source": [
    "batch_job = test_batch.fuxi_job_name.values\n",
    "batch_task = test_batch.fuxi_task_name.values\n",
    "\n",
    "batch_cpu = test_batch.fuxi_avg_cpu.values\n",
    "batch_mem = test_batch.fuxi_avg_mem.values\n",
    "start_time = test_batch.master_start_time_ms.values\n",
    "end_time = test_batch.master_end_time_ms.values\n",
    "\n",
    "cpu_cost, mem_cost = {}, {}\n",
    "\n",
    "for i in range(batch_job.shape[0]):\n",
    "    if batch_job[i] not in cpu_cost:\n",
    "        cpu_cost[batch_job[i]] = {}\n",
    "        mem_cost[batch_job[i]] = {}\n",
    "    if batch_task[i] not in cpu_cost[batch_job[i]]:\n",
    "        cpu_cost[batch_job[i]][batch_task[i]] = []\n",
    "        mem_cost[batch_job[i]][batch_task[i]] = []\n",
    "    \n",
    "    cpu_cost[batch_job[i]][batch_task[i]].append(batch_cpu[i] / batch_mem[i])\n",
    "    mem_cost[batch_job[i]][batch_task[i]].append(batch_mem[i])\n",
    "\n",
    "job_cpu, job_mem = [], []    \n",
    "for key in cpu_cost:\n",
    "    cpu_temp, mem_temp = [], []\n",
    "    if len(cpu_cost[key].keys()) > 5:\n",
    "        print(cpu_cost[key])\n",
    "    for k in cpu_cost[key]:\n",
    "        \n",
    "        cpu_temp.append(np.mean(cpu_cost[key][k]))\n",
    "        mem_temp.append(np.mean(mem_cost[key][k]))\n",
    "    job_cpu.append(np.std(cpu_temp) / np.mean(cpu_temp) if np.mean(cpu_temp) else 1)\n",
    "    job_mem.append(np.std(mem_temp) / np.mean(mem_temp) if np.mean(mem_temp) else 1)\n",
    "# plt.plot(sorted(job_cpu), np.arange(len(job_cpu)) / (len(job_cpu) - 1))\n",
    "# plt.xlabel(\"Job CPU std/mean\")\n",
    "# plt.ylabel(\"CDF\")\n",
    "# plt.xlim(0, 5)\n",
    "# plt.show()\n",
    "# plt.plot(sorted(job_mem), np.arange(len(job_mem)) / (len(job_mem) - 1))\n",
    "# plt.xlabel(\"Job MEM std/mean\")\n",
    "# plt.ylabel(\"CDF\")\n",
    "# plt.xlim(0, 5)\n",
    "# plt.show()\n"
   ]
  },
  {
   "cell_type": "code",
   "execution_count": null,
   "id": "fbc41bf2-abf4-4b4b-b792-78e79e64302d",
   "metadata": {},
   "outputs": [],
   "source": [
    "batch_job = test_batch.fuxi_job_name.values\n",
    "batch_task = test_batch.fuxi_task_name.values\n",
    "key = batch_job + batch_task\n",
    "\n",
    "batch_cpu = test_batch.fuxi_avg_cpu.values\n",
    "batch_mem = test_batch.fuxi_avg_mem.values\n",
    "start_time = test_batch.master_start_time_ms.values\n",
    "end_time = test_batch.master_end_time_ms.values\n",
    "\n",
    "task_cpu_cost, task_mem_cost = {}, {}\n",
    "for i in range(key.shape[0]):\n",
    "    if not key[i] in task_cpu_cost:\n",
    "        task_cpu_cost[key[i]] = []\n",
    "        task_mem_cost[key[i]] = []\n",
    "        \n",
    "    task_cpu_cost[key[i]].append(batch_cpu[i])\n",
    "    task_mem_cost[key[i]].append(batch_mem[i] * (end_time[i] - start_time[i])) # * time 0.73, not * time 0.73, sum 0.68\n",
    "\n",
    "task_score = {}\n",
    "# task_temp = []\n",
    "for key in task_cpu_cost:\n",
    "#     task_score[key] = [np.mean(task_cpu_cost[key]), np.mean(task_mem_cost[key])]  # 0.70 0.57 0.60\n",
    "#     task_score[key] = [np.mean(task_mem_cost[key]) / np.mean(task_cpu_cost[key]) if np.mean(task_cpu_cost[key]) else 0]  # 0.67\n",
    "    task_score[key] = np.mean(task_mem_cost[key])\n",
    "#     \n",
    "#     task_temp.append(np.std(task_mem_cost[key]) / np.mean(task_mem_cost[key]) if np.mean(task_mem_cost[key]) else 1)"
   ]
  },
  {
   "cell_type": "code",
   "execution_count": null,
   "id": "8f02dbc7-100d-4be0-a556-61361cd411df",
   "metadata": {},
   "outputs": [],
   "source": [
    "test_batch.columns"
   ]
  },
  {
   "cell_type": "code",
   "execution_count": null,
   "id": "00326978-b829-418f-81b8-85629f2afdee",
   "metadata": {
    "tags": []
   },
   "outputs": [],
   "source": [
    "# print(sorted(task_score))\n",
    "plt.plot(sorted(task_temp), np.arange(len(task_temp)) / (len(task_temp) - 1))\n",
    "plt.xlabel(\"std/mean\", fontsize=15)\n",
    "plt.ylabel(\"CDF\", fontsize=15)\n",
    "plt.xlim(0, 1)"
   ]
  },
  {
   "cell_type": "code",
   "execution_count": null,
   "id": "ab2fea1e-0e4a-4588-adfb-96c17418203a",
   "metadata": {
    "tags": []
   },
   "outputs": [],
   "source": [
    "batch_job = pd.read_csv(\"/data/zkp/buy2/job.csv\")\n",
    "# print(batch_job.isnull().sum())\n",
    "batch_job.fillna(1, inplace=True)"
   ]
  },
  {
   "cell_type": "code",
   "execution_count": null,
   "id": "79370959-7394-45a7-9b77-c4d8734cbc66",
   "metadata": {
    "tags": []
   },
   "outputs": [],
   "source": [
    "job_score = {}\n",
    "job_name = batch_job.fuxi_job_name.values\n",
    "job_cpu = batch_job.fuxi_cpu_cost.values\n",
    "job_mem = batch_job.fuxi_mem_cost.values\n",
    "plan_cpu = batch_job.plan_cpu_cost\n",
    "plan_mem = batch_job.plan_mem_cost\n",
    "\n",
    "for i in range(job_name.shape[0]):\n",
    "#     job_score[job_name[i]] = job_cpu[i] / job_mem[i] if job_mem[i] else 1  # 0.70\n",
    "#     job_score[job_name[i]] = [job_cpu[i], job_mem[i]] # 0.66 0.64 0.68\n",
    "#     job_score[job_name[i]] = [plan_cpu[i], plan_mem[i]]  # 0.64 0.64 0.63\n",
    "    job_score[job_name[i]] = plan_cpu[i] / plan_mem[i] if plan_mem[i] else 1  # 0.73\n",
    "\n",
    "    \n",
    "    "
   ]
  },
  {
   "cell_type": "code",
   "execution_count": null,
   "id": "f800cfb4-5dd6-4d8a-90bc-91c316c5ba78",
   "metadata": {
    "tags": []
   },
   "outputs": [],
   "source": [
    "data1hour = []\n",
    "for key in test_batch_ip:\n",
    "    if True:   \n",
    "#         print(\"\\\"\" + test_nc_sn[key] + \"\\\"\", end=', ')\n",
    "                    \n",
    "        off_cpu = offline1hour[offline1hour.nc_sn==test_nc_sn[key]].cpu_util__pct.values\n",
    "        off_time = offline1hour[offline1hour.nc_sn==test_nc_sn[key]].sample_time.values\n",
    "        on_cpu = online1hour[online1hour.nc_sn==test_nc_sn[key]].cpu_util__pct.values\n",
    "        on_time = online1hour[online1hour.nc_sn==test_nc_sn[key]].sample_time.values\n",
    "        nc_cpu = machine1hour[machine1hour.nc_sn==test_nc_sn[key]].cpu_util__pct.values\n",
    "        nc_time = machine1hour[machine1hour.nc_sn==test_nc_sn[key]].sample_time.values  \n",
    "        con_time = buy2host1hour[buy2host1hour.container_ip==key].sample_time__m.apply(\n",
    "        lambda x:time.mktime(time.strptime(x, \"%Y-%m-%d %H:%M:%S\"))).values\n",
    "        con_rt = buy2host1hour[buy2host1hour.container_ip==key].rt__ms_Q.values\n",
    "        con_qps = buy2host1hour[buy2host1hour.container_ip==key].qps__Q_s.values\n",
    "        con_cpu = buy2host1hour[buy2host1hour.container_ip==key].cpu_util__pct.values\n",
    "        \n",
    "        mp = {}\n",
    "        \n",
    "        for t in range(nc_time.shape[0]):\n",
    "            mp[nc_time[t]] = []\n",
    "            mp[nc_time[t]].append(nc_cpu[t])\n",
    "                \n",
    "        for t in range(con_time.shape[0]):\n",
    "            if con_time[t] in mp:\n",
    "                mp[con_time[t]].append(con_rt[t])\n",
    "                mp[con_time[t]].append(con_qps[t])\n",
    "                mp[con_time[t]].append(con_cpu[t])\n",
    "            \n",
    "        for t in range(off_time.shape[0]):\n",
    "            if off_time[t] in mp:\n",
    "                mp[off_time[t]].append(off_cpu[t])\n",
    "                \n",
    "        for t in range(on_time.shape[0]):\n",
    "            if on_time[t] in mp:\n",
    "                mp[on_time[t]].append(on_cpu[t]) \n",
    "                \n",
    "\n",
    "                \n",
    "                \n",
    "        temp = test_batch[test_batch.worker_address==test_batch_ip[key]]\n",
    "        task_key = temp.fuxi_job_name.values + temp.fuxi_task_name.values\n",
    "#         code_key = temp.fuxi_task_name.values\n",
    "#         task_code = {'R': 1, 'M': 0, 'J': 2}\n",
    "#         job_key = temp.fuxi_job_name.values\n",
    "        for t in mp:\n",
    "            maxpd = temp[~((temp.start_time>=t) | (temp.end_time<=t-60))]\n",
    "            if not maxpd.shape[0]:\n",
    "                mp[t].append([])\n",
    "                continue\n",
    "            mp[t].append(list(maxpd.fuxi_avg_mem.values * (maxpd.end_time.values - maxpd.start_time.values)))\n",
    "            mp[t].append(list(maxpd.fuxi_avg_cpu.values) * (maxpd.end_time.values - maxpd.start_time.values))\n",
    "            mp[t].append(list(maxpd.fuxi_avg_mem.values / maxpd.fuxi_avg_cpu.values))\n",
    "            mp[t].append(list(maxpd.fuxi_avg_mem.values * (maxpd.end_time.values - maxpd.start_time.values) / np.sum(maxpd.fuxi_avg_mem.values * (maxpd.end_time.values - maxpd.start_time.values))\n",
    "                             / (maxpd.fuxi_avg_cpu.values * (maxpd.end_time.values - maxpd.start_time.values) / np.sum(maxpd.fuxi_avg_cpu.values * (maxpd.end_time.values - maxpd.start_time.values)))\n",
    "                             ))\n",
    "        \n",
    "        d = []\n",
    "        if 1651233600 in mp and len(mp[1651233600]) == 10:\n",
    "            data1hour.append(mp[1651233600])\n",
    "#         for k in sorted(mp.keys()):\n",
    "#             if len(mp[k]) == 7:\n",
    "#                 d.append(mp[k])\n",
    "# #         print(len(d))\n",
    "#         if len(d) == 121:\n",
    "#             data1hour.append(d)\n"
   ]
  },
  {
   "cell_type": "code",
   "execution_count": null,
   "id": "fc635274-665e-4791-9a7a-8faa83955dbd",
   "metadata": {
    "tags": []
   },
   "outputs": [],
   "source": [
    "data1hour = np.asarray(data1hour)\n",
    "savedata = data1hour\n",
    "data1hour.shape"
   ]
  },
  {
   "cell_type": "code",
   "execution_count": null,
   "id": "c4c3051a-b926-41c0-af1e-075e1f085654",
   "metadata": {},
   "outputs": [],
   "source": [
    "data1hour = data1hour[:, 30:, :]\n",
    "data1hour.shape"
   ]
  },
  {
   "cell_type": "code",
   "execution_count": null,
   "id": "8c70c0c1-6376-4d19-a340-fdcc7c0c3766",
   "metadata": {},
   "outputs": [],
   "source": [
    "task_length = []\n",
    "for i in range(data1hour.shape[0]):\n",
    "    for j in range(data1hour.shape[1]):\n",
    "        task_length.append(len(data1hour[i, j, 6]))\n",
    "plt.plot(sorted(task_length), np.arange(len(task_length)) / (len(task_length) - 1))"
   ]
  },
  {
   "cell_type": "code",
   "execution_count": null,
   "id": "8fc6be90-88f0-4240-9fcf-3dacf95b0520",
   "metadata": {},
   "outputs": [],
   "source": [
    "task_length = 50\n",
    "for i in range(data1hour.shape[0]):\n",
    "    for j in range(data1hour.shape[1]):\n",
    "#         data1hour[i, j, 6] = [len(data1hour[i, j, 6]), np.sum(data1hour[i, j, 6])]\n",
    "        if len(data1hour[i, j, 6]) < task_length:\n",
    "            for k in range(task_length - len(data1hour[i, j, 6])):\n",
    "                data1hour[i, j, 6].append(0)\n",
    "        temp = sorted(data1hour[i, j, 6], reverse=True)\n",
    "        data1hour[i, j, 6] = temp[:task_length]"
   ]
  },
  {
   "cell_type": "code",
   "execution_count": null,
   "id": "2a6eae0a-2867-463b-8d39-d227deebf17e",
   "metadata": {
    "tags": []
   },
   "outputs": [],
   "source": [
    "plt.plot(sorted(list(data1hour[:, :, 1].reshape(-1))), np.arange(data1hour.shape[0]*data1hour.shape[1]) / (data1hour.shape[0]*data1hour.shape[1]-1))\n"
   ]
  },
  {
   "cell_type": "code",
   "execution_count": null,
   "id": "7676fcfb-173b-454a-bf32-98510b6ee622",
   "metadata": {
    "tags": []
   },
   "outputs": [],
   "source": [
    "print(data1hour[0, 0, :])\n",
    "# plt.scatter(data1hour[:, 0, 0], data1hour[:, 0, 3] / data1hour[:, 0, 2])"
   ]
  },
  {
   "cell_type": "code",
   "execution_count": null,
   "id": "223aecb8-98dc-49f4-b19b-6a6754040dc6",
   "metadata": {},
   "outputs": [],
   "source": [
    "df[\"RUE\"] = df[3] / df[2]\n",
    "total_mem = []\n",
    "for i in df[6].values:\n",
    "    total_mem.append(np.sum(i))\n",
    "df[\"total_mem\"] = total_mem"
   ]
  },
  {
   "cell_type": "code",
   "execution_count": null,
   "id": "01b5a1ab-c843-4c4d-808b-427b026ec9fa",
   "metadata": {},
   "outputs": [],
   "source": [
    "pd.set_option(\"display.float_format\", lambda x:\"%.2f\" %x)\n",
    "pd.set_option(\"display.max_colwidth\", 1000)\n",
    "dff = df[\n",
    "    (df[2] > 0.9) & (df[2] < 1.0)\n",
    "     & (df[4] > 5000) & (df[4] < 6000)\n",
    "    ]\n",
    "plt.scatter(dff.RUE, dff.total_mem)"
   ]
  },
  {
   "cell_type": "code",
   "execution_count": null,
   "id": "adca74ad-0e3d-41ba-90e4-a077fd6144fe",
   "metadata": {},
   "outputs": [],
   "source": [
    "bucket = [[] for i in range(20, 81, 2)]\n",
    "for i in range(data1hour.shape[0]):\n",
    "    index = int((data1hour[i, 0, 0] - 20) / 2) + 1\n",
    "    if data1hour[i, 0, 0] < 20:\n",
    "        index = 0\n",
    "    elif data1hour[i, 0, 0] > 80:\n",
    "        index = len(bucket) - 1\n",
    "    bucket[index].append(list(data1hour[i, 0, :]))"
   ]
  },
  {
   "cell_type": "code",
   "execution_count": null,
   "id": "e5d50e58-dfb6-4304-8aef-7d9608ce6f8c",
   "metadata": {
    "tags": []
   },
   "outputs": [],
   "source": [
    "index = 17\n",
    "for i in range(len(bucket[index])):\n",
    "    print(bucket[index][i][:6])\n",
    "    XJ = np.asarray(bucket[index][i][6])\n",
    "    print(XJ)\n",
    "#     plt.show()"
   ]
  },
  {
   "cell_type": "code",
   "execution_count": null,
   "id": "58c6254d-e95c-4640-bfc0-58179c86d02c",
   "metadata": {
    "tags": []
   },
   "outputs": [],
   "source": [
    "for i in range(len(label)):\n",
    "    print(label[i], len(X[i][3]), len(X[i][4]), len(X[i][5]))\n",
    "    XM = np.asarray(X[i][3])\n",
    "    XR = np.asarray(X[i][4])\n",
    "    XJ = np.asarray(X[i][5])\n",
    "    if XM.shape[0]:\n",
    "        plt.scatter(XM[:, 0], XM[:, 1], marker='o')\n",
    "    if XR.shape[0]:\n",
    "        plt.scatter(XR[:, 0], XR[:, 1], marker='*')\n",
    "    if XJ.shape[0]:\n",
    "        plt.scatter(XJ[:, 0], XJ[:, 1], marker='+')\n",
    "    plt.show()"
   ]
  },
  {
   "cell_type": "code",
   "execution_count": null,
   "id": "46e32f0b-e5c4-4460-8e95-dfa65e8e5e79",
   "metadata": {
    "tags": []
   },
   "outputs": [],
   "source": [
    "data1hour[:, 6].shape"
   ]
  },
  {
   "cell_type": "code",
   "execution_count": null,
   "id": "288e2719-e24d-4b2e-bbd2-173fed1df4aa",
   "metadata": {
    "tags": []
   },
   "outputs": [],
   "source": [
    "# df = pd.DataFrame()\n",
    "# columns = [\"machine\", \"rt\", \"qps\", \"cpu\", \"offline\",\"online\"]\n",
    "# for i in range(len(columns)):\n",
    "#     df[columns[i]] = list(data1hour[:, i])\n",
    "# df[\"rue\"] = df.cpu.values / df.qps.values\n",
    "temp = []\n",
    "for i in data1hour[:, 9]:\n",
    "    temp.append(np.sum(i))\n",
    "df[\"score2\"] = temp"
   ]
  },
  {
   "cell_type": "code",
   "execution_count": null,
   "id": "e6011fd2-6da9-4ed3-b8f1-9df969c18702",
   "metadata": {
    "tags": []
   },
   "outputs": [],
   "source": [
    "df.sort_values(by=[\"machine\"]).head(20)"
   ]
  },
  {
   "cell_type": "code",
   "execution_count": null,
   "id": "118a72b3-f50c-4f7e-afac-058751866bce",
   "metadata": {},
   "outputs": [],
   "source": [
    "df.sort_values(by=[\"rue\"]).tail(10)"
   ]
  },
  {
   "cell_type": "code",
   "execution_count": null,
   "id": "d8464e75-a5a8-4ba2-898d-8fba9f3b1f4b",
   "metadata": {},
   "outputs": [],
   "source": [
    "plt.scatter(df.score.values, df.rt.values)"
   ]
  },
  {
   "cell_type": "code",
   "execution_count": null,
   "id": "12e01354-70f3-4eb0-9c08-2d7ce162a680",
   "metadata": {},
   "outputs": [],
   "source": [
    "bucket = [[] for i in range(20, 81, 2)]\n",
    "for i in range(data1hour.shape[0]):\n",
    "    for j in range(data1hour.shape[1]):\n",
    "        index = int((data1hour[i, j, 0] - 20) / 2) + 1\n",
    "        if data1hour[i, j, 0] < 20:\n",
    "            index = 0\n",
    "        elif data1hour[i, j, 0] > 80:\n",
    "            index = len(bucket) - 1\n",
    "        bucket[index].append(list(data1hour[i, j, :]))"
   ]
  },
  {
   "cell_type": "code",
   "execution_count": null,
   "id": "ae6fb98c-95bc-4ae7-a2d4-3f8dd99b2a53",
   "metadata": {
    "tags": []
   },
   "outputs": [],
   "source": [
    "X, label = [], []\n",
    "for b in bucket[25:]:\n",
    "    if not len(b):\n",
    "        continue\n",
    "    bb = np.asarray(b)\n",
    "    bb = bb[(bb[:, 2] >= 1.1)]\n",
    "    bb = bb[(bb[:, 2] <= 1.3)]\n",
    "    rue = bb[:, 3] / bb[:, 2]\n",
    "    if not rue.shape[0]:\n",
    "        continue\n",
    "    p80 = np.percentile(rue, 75)\n",
    "    p20 = np.percentile(rue, 25)\n",
    "#     high, low = [], []\n",
    "    for k in range(bb.shape[0]):\n",
    "        if rue[k] >= p80:\n",
    "#             high.append([bb[k, 3], bb[k, 4]])\n",
    "            X.append(np.hstack(([bb[k, 0], bb[k, 4], bb[k, 5]], bb[k, 6])))\n",
    "            label.append(0)\n",
    "        elif rue[k] <= p20:\n",
    "#             low.append([bb[k, 3], bb[k, 4]])\n",
    "            X.append(np.hstack(([bb[k, 0], bb[k, 4], bb[k, 5]], bb[k, 6])))\n",
    "            label.append(1)\n",
    "#     if len(high) and len(low):\n",
    "#         plt.scatter(np.asarray(high)[:, 1], np.asarray(high)[:, 0], color=\"blue\")\n",
    "#         plt.scatter(np.asarray(low)[:, 1], np.asarray(low)[:, 0], color=\"red\")\n",
    "#     plt.legend([\"RUE-p80\", \"RUE-p20\"])\n",
    "#     plt.xlabel(\"Machine CPU\")\n",
    "#     plt.ylabel(\"Offline CPU\")\n",
    "#     plt.show()"
   ]
  },
  {
   "cell_type": "code",
   "execution_count": null,
   "id": "83543ff1-2e39-48cd-9c6a-b9623f69c2c7",
   "metadata": {
    "tags": []
   },
   "outputs": [],
   "source": [
    "X[0]"
   ]
  },
  {
   "cell_type": "code",
   "execution_count": null,
   "id": "0feab4fe-6c30-48bb-85cf-0c1959fb5438",
   "metadata": {
    "tags": []
   },
   "outputs": [],
   "source": [
    "X = np.asarray(X)\n",
    "X.shape"
   ]
  },
  {
   "cell_type": "code",
   "execution_count": null,
   "id": "af40a2b1-bc5a-41c5-8f54-c63dd8a98fc7",
   "metadata": {},
   "outputs": [],
   "source": [
    "X_train, X_test, y_train, y_test = train_test_split(X[:, :], label, random_state=0, test_size=.25)\n",
    "print(X_train.shape, X_test.shape)\n",
    "model = GradientBoostingClassifier()\n",
    "model.fit(X_train, y_train)\n",
    "print(model.score(X_test, y_test))\n",
    "predict = model.predict(X_test)"
   ]
  },
  {
   "cell_type": "markdown",
   "id": "7f334603-5d0d-40b4-81c5-7652871ca137",
   "metadata": {},
   "source": [
    "base，只包括离在线、整机CPU，精度0.6"
   ]
  },
  {
   "cell_type": "code",
   "execution_count": null,
   "id": "a735b706-c96b-4200-aa52-1b6544afe987",
   "metadata": {
    "tags": []
   },
   "outputs": [],
   "source": [
    "heatX = []\n",
    "heatY = []\n",
    "for i in range(len(y_test)):\n",
    "    if y_test[i] == 0 and predict[i] == 0:\n",
    "        heatX.append(X_test[i, 3:])\n",
    "#         heatX.append([X_test[i, 0], X_test[i, 1]])\n",
    "#         heatY.append(0)\n",
    "    elif y_test[i] == 1 and predict[i] == 1:\n",
    "        heatY.append(X_test[i, 3:])\n",
    "#         heatY.append([X_test[i, 0], X_test[i, 1]])\n",
    "#         heatY.append(1)\n",
    "#         for j in range(3, X.shape[1], 1):\n",
    "# #             for k in range(0, int(X[i, j+2]), 10):\n",
    "#             heatX[-1].append(X[i, j])\n",
    "# heatY = []\n",
    "# for i in range(len(heatX)):\n",
    "#     if len(heatX[i]) == 101:\n",
    "#         heatY.append(heatX[i])\n"
   ]
  },
  {
   "cell_type": "code",
   "execution_count": null,
   "id": "586661de-1d3f-4dc9-bbb1-ee6b7d11c6c3",
   "metadata": {
    "tags": []
   },
   "outputs": [],
   "source": [
    "heatY"
   ]
  },
  {
   "cell_type": "code",
   "execution_count": null,
   "id": "7daec3db-ea03-4edb-921e-c36a221758cc",
   "metadata": {
    "tags": []
   },
   "outputs": [],
   "source": [
    "for i in heatX:\n",
    "    print(i[2] / sum(i))\n",
    "print()\n",
    "for i in heatY:\n",
    "    print(i[2] / sum(i))"
   ]
  },
  {
   "cell_type": "code",
   "execution_count": null,
   "id": "7a8b0f7b-747c-4ec2-bbb2-46c58db73101",
   "metadata": {},
   "outputs": [],
   "source": [
    "heatX = np.asarray(heatX)\n",
    "heatY = np.asarray(heatY)\n",
    "plt.scatter(heatX[:, 0], heatX[:, 1], marker='*')\n",
    "plt.scatter(heatY[:, 0], heatY[:, 1])\n",
    "plt.xlabel(\"Machine CPU\")\n",
    "plt.ylabel(\"Online CPU\")\n",
    "plt.legend([\"P80\", \"P20\"])"
   ]
  },
  {
   "cell_type": "code",
   "execution_count": null,
   "id": "69046b67-77cb-484a-8044-6722c364279b",
   "metadata": {},
   "outputs": [],
   "source": [
    "# import seaborn as sns\n",
    "# vmax = 3\n",
    "# plt.figure(figsize=(12, 8))\n",
    "# sns.heatmap(heatX, cmap=\"YlGnBu\", yticklabels=[], xticklabels=[], vmin=0, vmax=vmax)\n",
    "# plt.ylabel(\"P80 Machine\", fontsize=15)\n",
    "# plt.xlabel(\"Task Type\", fontsize=15)\n",
    "# plt.show()\n",
    "# plt.figure(figsize=(12, 8))\n",
    "# sns.heatmap(heatY, cmap=\"YlGnBu\", yticklabels=[], xticklabels=[], vmin=0, vmax=vmax)\n",
    "# plt.ylabel(\"P20 Machine\", fontsize=15)\n",
    "# plt.xlabel(\"Task Type\", fontsize=15)\n",
    "# plt.show()"
   ]
  },
  {
   "cell_type": "code",
   "execution_count": null,
   "id": "451f604d-60d0-4e18-aa3b-c2bf2a06da54",
   "metadata": {
    "tags": []
   },
   "outputs": [],
   "source": [
    "target_batch = test_batch.worker_ip.unique().tolist()\n",
    "target_machine = machine.nc_sn.unique().tolist()\n",
    "# print(target_batch)\n",
    "data = []\n",
    "corr, fre = [], []\n",
    "for key in test_batch_ip:\n",
    "    if test_batch_ip[key] in target_batch:\n",
    "#         print(test_batch_ip[key], end=',')\n",
    "#         temp = test_batch[test_batch.worker_ip==test_batch_ip[key]]\n",
    "        \n",
    "#         ins_start = temp.start_time.values\n",
    "#         ins_end = temp.end_time.values\n",
    "#         ins_usage = temp.fuxi_avg_cpu.values * temp.total_time_seconds.values\n",
    "#         ins_avg_usage = temp.fuxi_avg_cpu.values\n",
    "        \n",
    "#         ins_data = [0 for i in range(np.max(ins_end) - np.min(ins_start))]\n",
    "# #         ins_data_degra = [0 for i in range(np.max(ins_end) - np.min(ins_start))]\n",
    "#         for i in range(ins_start.shape[0]):\n",
    "#             for k in range(ins_end[i] - ins_start[i]):\n",
    "# #                 ins_data_degra[ins_start[i] - ins_start[0] + k] += (ins_avg_usage[i])\n",
    "# #                 ins_data[ins_start[i] - ins_start[0] + k] += (ins_usage[i])\n",
    "             \n",
    "#         ins_data_hour = [0 for i in range(61)]\n",
    "#         for i in range(ins_start.shape[0]):\n",
    "#             for k in range(int((ins_end[i] - ins_start[i]) / 60)+1):\n",
    "#                 index = int((ins_start[i] - 1644120000) / 60) + k\n",
    "#                 if index >= 0 and index < 60:\n",
    "#                     ins_data_hour[index+1] += (ins_usage[i])\n",
    "                \n",
    "        off_cpu = offline[offline.nc_sn==test_nc_sn[key]].cpu_util__pct.values\n",
    "        off_time = offline[offline.nc_sn==test_nc_sn[key]].sample_time.values\n",
    "        \n",
    "        on_cpu = online[online.nc_sn==test_nc_sn[key]].cpu_util__pct.values\n",
    "        on_time = online[online.nc_sn==test_nc_sn[key]].sample_time.values\n",
    "        \n",
    "        nc_cpu = machine[machine.nc_sn==test_nc_sn[key]].cpu_util__pct.values\n",
    "        nc_time = machine[machine.nc_sn==test_nc_sn[key]].sample_time.values\n",
    "        \n",
    "        \n",
    "            \n",
    "        con_time = buy2host_http[buy2host_http.container_ip==key].sample_time__m.apply(\n",
    "        lambda x:time.mktime(time.strptime(x, \"%Y-%m-%d %H:%M:%S\"))).values\n",
    "        con_rt = buy2host_hsf[buy2host_hsf.container_ip==key].rt__ms_Q.values\n",
    "        con_qps = buy2host_hsf[buy2host_hsf.container_ip==key].qps__Q_s.values\n",
    "        con_cpu = buy2host_hsf[buy2host_hsf.container_ip==key].cpu_util__pct.values\n",
    "        \n",
    "#         temp = buy2host[buy2host.container_ip==key]\n",
    "#         test_http = temp[temp.throughput_type==\"HTTP\"]\n",
    "#         test_hsf = temp[temp.throughput_type==\"HSF\"]\n",
    "#         test_hsf_c = temp[temp.throughput_type==\"HSF_Consumer\"]\n",
    "#         qps1 = test_http.qps__Q_s.values\n",
    "# #         rt1 = test_http.rt__ms_Q.values\n",
    "#         qps2 = test_hsf.qps__Q_s.values\n",
    "# #         rt2 = test_hsf.rt__ms_Q.values\n",
    "#         qps3 = test_hsf_c.qps__Q_s.values\n",
    "# #         rt3 = test_hsf_c.rt__ms_Q.values\n",
    "#         X_data = np.asarray([qps1, qps2, qps3, new_nc_cpu]).T\n",
    "#         y_data = test_http.cpu_util__pct\n",
    "#         model = LinearRegression()\n",
    "#         model.fit(X_data, y_data)\n",
    "# #         print(model.score(X_data, y_data), np.mean(nc_cpu))\n",
    "#         data.append([model.score(X_data, y_data), np.mean(new_nc_cpu)])\n",
    "\n",
    "#         ifl_e = con_rt / np.exp(con_qps)\n",
    "#         ifl = con_cpu / con_qps\n",
    "#         plt.figure(figsize=(15, 8))\n",
    "#         plt.plot(range(np.min(ins_start), np.max(ins_end), 1), trans(ins_data[::1]))\n",
    "#         plt.plot(range(1644120060, 1644123720, 60), trans(ins_data_hour))\n",
    "#         plt.plot(nc_time, trans(nc_cpu))\n",
    "#         plt.plot(con_time, trans(ifl))\n",
    "        mp = {}\n",
    "        for t in range(con_time.shape[0]):\n",
    "            mp[con_time[t]] = []\n",
    "            mp[con_time[t]].append(con_rt[t])\n",
    "            mp[con_time[t]].append(con_qps[t])\n",
    "            mp[con_time[t]].append(con_cpu[t])\n",
    "            \n",
    "        for t in range(off_time.shape[0]):\n",
    "            if off_time[t] in mp:\n",
    "                mp[off_time[t]].append(off_cpu[t])\n",
    "                \n",
    "        for t in range(on_time.shape[0]):\n",
    "            if on_time[t] in mp:\n",
    "                mp[on_time[t]].append(on_cpu[t]) \n",
    "                \n",
    "        for t in range(nc_time.shape[0]):\n",
    "            if nc_time[t] in mp:\n",
    "                mp[nc_time[t]].append(nc_cpu[t])\n",
    "        d = []\n",
    "#         if not np.isnan(np.mean(ins_data_hour)):\n",
    "#             d.append(ins_data_hour)\n",
    "        for k in sorted(mp.keys()):\n",
    "            if len(mp[k]) == 6:\n",
    "                d.append(mp[k])\n",
    "        cnt = 0\n",
    "        print(len(d))\n",
    "#         if len(d) == 61:\n",
    "#             for j in range(1, 61):\n",
    "#                 if d[j][1] > d[j-1][1] and d[j][3] > d[j-1][3]:\n",
    "#                     cnt += 1\n",
    "#                 elif d[j][1] < d[j-1][1] and d[j][3] < d[j-1][3]:\n",
    "#                     cnt += 1\n",
    "#             fre.append(cnt/60)\n",
    "#             corr.append(np.corrcoef(np.asarray(d).T)[1, 3])\n",
    "        data.append(d)\n",
    "#         data.append(np.corrcoef(ifl, ins_data_hour)[0][1])\n",
    "#         plt.plot(range(np.min(ins_start), np.max(ins_end), 1), trans(ins_data_degra[::1]))\n",
    "#         plt.show()\n",
    "\n",
    "# data = np.asarray(data).reshape(-1, 4)\n",
    "# plt.scatter(data[:, 0], data[:, 1])"
   ]
  },
  {
   "cell_type": "code",
   "execution_count": null,
   "id": "04254057-fbea-45cf-8b65-ada8547382e7",
   "metadata": {},
   "outputs": [],
   "source": [
    "data = np.asarray(data)\n",
    "data.shape"
   ]
  },
  {
   "cell_type": "code",
   "execution_count": null,
   "id": "96e0ea37-121e-4ca7-ad1f-434334ea1684",
   "metadata": {},
   "outputs": [],
   "source": [
    "len(data), len(data[0]), len(data[0][0])"
   ]
  },
  {
   "cell_type": "code",
   "execution_count": null,
   "id": "d0d966f9-458f-4e58-b16d-169be84af1a0",
   "metadata": {},
   "outputs": [],
   "source": [
    "plt.plot(sorted(corr), np.arange(len(corr)) / (len(corr) - 1))\n",
    "plt.ylabel(\"CDF\")\n",
    "plt.xlabel(\"Frequency\")"
   ]
  },
  {
   "cell_type": "code",
   "execution_count": null,
   "id": "e3a2648d-2f24-415e-9281-4686bcb6fe6b",
   "metadata": {
    "tags": []
   },
   "outputs": [],
   "source": [
    "data[0, :, 1]"
   ]
  },
  {
   "cell_type": "code",
   "execution_count": null,
   "id": "78de9dad-f0ed-4976-82fd-6cc4948ecd2f",
   "metadata": {
    "tags": []
   },
   "outputs": [],
   "source": [
    "X, y = [], []\n",
    "D = []\n",
    "# plt.figure(figsize=(20, 12))\n",
    "step = 5\n",
    "for i in range(0, 61, step):\n",
    "    tempX = np.mean(data[:, i:i+step, 5], axis=1) #/ np.mean(data[:, 1, i:i+step], axis=1)\n",
    "    tempy = np.mean(data[:, i:i+step, 0], axis=1) / 10\n",
    "    X.append(tempX)\n",
    "    y.append(tempy)\n",
    "    plt.figure(figsize=(20, 12))\n",
    "    plt.scatter(tempX, tempy)\n",
    "#     for i in range(len(tempX)):\n",
    "#         plt.annotate(i, xy = (tempX[i], tempy[i]), xytext = (tempX[i], tempy[i]))\n",
    "    tempX = np.asarray(tempX).reshape(-1, 1)\n",
    "    tempy = np.asarray(tempy).reshape(-1, 1)\n",
    "    model = LinearRegression()\n",
    "    model.fit(tempX, tempy)\n",
    "    k = model.coef_\n",
    "    b = model.intercept_\n",
    "    plt.plot([20, 80], [20*k[0]+b, 80*k[0]+b])\n",
    "#     distance = (k*tempX - tempy + b) / np.sqrt(k*k+1)\n",
    "#     D.append(distance)\n",
    "#     print(distance.shape)\n",
    "    for j in range(tempX.shape[0]):\n",
    "        if corr[j] > 0.5:\n",
    "            plt.annotate(\"{:.1f}\".format(corr[j]), xy = (tempX[j], tempy[j]), xytext = (tempX[j], tempy[j]))\n",
    "        \n",
    "#     tempX = np.mean(data[:, i:i+step, 4], axis=1)\n",
    "    tempy = np.mean(data[:, i:i+step, 3], axis=1) / 400\n",
    "    plt.scatter(tempX, tempy, marker=\"^\")\n",
    "    for j in range(tempX.shape[0]):\n",
    "        if corr[j] > 0.5:\n",
    "            plt.annotate(\"{:.1f}\".format(corr[j]), xy = (tempX[j], tempy[j]), xytext = (tempX[j], tempy[j]))\n",
    "    tempy = np.asarray(tempy).reshape(-1, 1)\n",
    "    model = LinearRegression()\n",
    "    model.fit(tempX, tempy)\n",
    "    k = model.coef_\n",
    "    b = model.intercept_\n",
    "    plt.plot([20, 80], [20*k[0]+b, 80*k[0]+b])\n",
    "    \n",
    "    tempy = np.mean(data[:, i:i+step, 4], axis=1) / 400\n",
    "    plt.scatter(tempX, tempy, marker=\"*\")\n",
    "    for j in range(tempX.shape[0]):\n",
    "        if corr[j] > 0.5:\n",
    "            plt.annotate(\"{:.1f}\".format(corr[j]), xy = (tempX[j], tempy[j]), xytext = (tempX[j], tempy[j]))  \n",
    "    tempy = np.asarray(tempy).reshape(-1, 1)\n",
    "    model = LinearRegression()\n",
    "    model.fit(tempX, tempy)\n",
    "    k = model.coef_\n",
    "    b = model.intercept_\n",
    "    plt.plot([20, 80], [20*k[0]+b, 80*k[0]+b])\n",
    "    plt.legend([\"rue\", \"offline\", \"online\"])"
   ]
  },
  {
   "cell_type": "code",
   "execution_count": null,
   "id": "0172498f-5a79-4bfc-ab66-d8ae1b928684",
   "metadata": {
    "tags": []
   },
   "outputs": [],
   "source": [
    "X = np.asarray(X).reshape(-1, 1)\n",
    "y = np.asarray(y).reshape(-1)\n",
    "# print(X.shape)\n",
    "plt.figure(figsize=(15, 8))\n",
    "plt.scatter(X, y)\n",
    "\n",
    "# #     print(np.corrcoef(np.mean(data[:, 1, 16:21], axis=1), np.mean(data[:, 3, 16:21], axis=1)))\n",
    "model = LinearRegression()\n",
    "model.fit(X, y)\n",
    "print(model.score(X, y))\n",
    "# plt.plot(range(20, 90, 20), model.coef_*np.arange(20, 90, 20)+model.intercept_, c=\"red\")\n",
    "# plt.ylabel(\"contaier CPU/HSF QPS\")\n",
    "# plt.xlabel(\"machine CPU utilization\")\n",
    "# np.mean(data[:, [1, 2], 1:6], axis=2)"
   ]
  },
  {
   "cell_type": "code",
   "execution_count": null,
   "id": "1e4387a7-3c0a-4a61-a5ac-88dcea724923",
   "metadata": {
    "tags": []
   },
   "outputs": [],
   "source": [
    "for d in data:\n",
    "    dd = np.asarray(d)\n",
    "    plt.figure(figsize=(15, 8))\n",
    "    plt.plot(range(0, dd.shape[0], 10), dd[::10, 5])\n",
    "#     plt.plot(range(0, dd.shape[0], 10), dd[::10, 2] / dd[::10, 1])\n",
    "\n",
    "    plt.show()"
   ]
  },
  {
   "cell_type": "code",
   "execution_count": null,
   "id": "84f6fc58-f907-4781-abf0-0b7fd5ec13db",
   "metadata": {
    "tags": []
   },
   "outputs": [],
   "source": [
    "for d in data:\n",
    "    bucket = [[] for i in range(20, 83, 2)]\n",
    "    for i in range(len(d)):\n",
    "        index = int((d[i][5] - 20) / 2) + 1\n",
    "        if d[i][5] < 20:\n",
    "            index = 0\n",
    "        elif d[i][5] > 80:\n",
    "            index = len(bucket) - 1\n",
    "        bucket[index].append(d[i])\n",
    "        \n",
    "    y = []\n",
    "    X = []\n",
    "    for b in range(len(bucket)):\n",
    "        if len(bucket[b]):\n",
    "            bb = np.asarray(bucket[b])\n",
    "            bb = bb[bb[:, 1] >= 1.5]\n",
    "            bb = bb[bb[:, 1] <= 2.0]\n",
    "            if not bb.shape[0]:\n",
    "                continue\n",
    "#             y.append(np.mean(bb[:, 0])) \n",
    "#             X.append(np.mean(bb[:, 3]))\n",
    "#             if len(bucket[b]) > 10:\n",
    "#                 model = RandomForestRegressor()\n",
    "#                 train_X, test_X, train_y, test_y = train_test_split(bb[:, 1:], bb[:, 0])\n",
    "#                 model.fit(train_X, train_y)\n",
    "#                 print(len(bucket[b]), model.score(test_X, test_y))\n",
    "#             plt.scatter(bb[:, 0], bb[:, 1])\n",
    "#             plt.show()\n",
    "            rue = bb[:, 2] / bb[:, 1] \n",
    "\n",
    "            p80 = np.percentile(rue, 80)\n",
    "            p20 = np.percentile(rue, 20)\n",
    "            high, low = [], []\n",
    "            for k in range(bb.shape[0]):\n",
    "                if rue[k] >= p80:\n",
    "                    high.append([bb[k, 3], bb[k, 4]])\n",
    "                    X.append(bb[k])\n",
    "                    y.append(0)\n",
    "                elif rue[k] <= p20:\n",
    "                    low.append([bb[k, 3], bb[k, 4]])\n",
    "                    X.append(bb[k])\n",
    "                    y.append(1)\n",
    "            if len(high) and len(low):\n",
    "                plt.scatter(np.asarray(high)[:, 1], np.asarray(high)[:, 0], color=\"blue\")\n",
    "                plt.scatter(np.asarray(low)[:, 1], np.asarray(low)[:, 0], color=\"red\")\n",
    "    plt.legend([\"RUE-p80\", \"RUE-p20\"])\n",
    "    plt.xlabel(\"Machine CPU\")\n",
    "    plt.ylabel(\"Offline CPU\")\n",
    "    plt.show()\n",
    "    model = RandomForestClassifier()\n",
    "    X_train, X_test, y_train, y_test = train_test_split(np.asarray(X)[:, [0, 3, 4, 5]], y)\n",
    "    model.fit(X_train, y_train)\n",
    "    print(model.score(X_test, y_test))\n",
    "#     plt.scatter(X, y)\n",
    "#     plt.show()\n",
    "#     plt.xlabel(\"CPU interval\")\n",
    "#     plt.ylabel(\"offline\")\n",
    "#     plt.show()\n",
    "#     plt.scatter(corrX, corr)\n",
    "#     plt.show()\n",
    "  \n",
    "#     for b in bucket:\n",
    "#         if len(b) > 4:\n",
    "#             bb = np.asarray(b)\n",
    "# #             corr.append(np.corrcoef(bb.T)[0][3])\n",
    "#             bb[:, 1] = 1/bb[:, 1] *bb[:, 2]\n",
    "            \n",
    "#             temp = bb[bb[:, 1].argsort()]\n",
    "#             for t in temp:\n",
    "#                 for tt in t:\n",
    "#                     print(\"{:.2f}\".format(tt), end='\\t')\n",
    "#                 print()\n",
    "\n",
    "#             plt.show()\n",
    "#     plt.scatter(range(len(corr)), corr)\n",
    "#     plt.show()\n"
   ]
  },
  {
   "cell_type": "code",
   "execution_count": null,
   "id": "b03daf6b-e9f1-4fd0-81c8-75a9cf24a2c3",
   "metadata": {
    "tags": []
   },
   "outputs": [],
   "source": [
    "bucket = [[] for i in range(20, 83, 2)]\n",
    "for i in range(data.shape[0]):\n",
    "    for j in range(data.shape[1]):\n",
    "        index = int((data[i, j, 5] - 20) / 2) + 1\n",
    "        if data[i, j, 5] < 20:\n",
    "            index = 0\n",
    "        elif data[i, j, 5] > 80:\n",
    "            index = len(bucket) - 1\n",
    "        bucket[index].append(list(data[i, j, :]))"
   ]
  },
  {
   "cell_type": "code",
   "execution_count": null,
   "id": "db067bc7-1139-49c7-8c0b-cb2f333a595c",
   "metadata": {
    "tags": []
   },
   "outputs": [],
   "source": [
    "y = []\n",
    "for b in bucket:\n",
    "    y.append(np.mean(np.asarray(b)[:, 3]))\n",
    "plt.scatter(range(len(y)), y)\n",
    "plt.xlabel(\"CPU interval\")\n",
    "plt.ylabel(\"RT\")\n",
    "y = []\n",
    "for b in bucket:\n",
    "    y.append(np.mean(np.asarray(b)[:, 3] + np.asarray(b)[:, 4]))\n",
    "plt.scatter(range(len(y)), y)"
   ]
  },
  {
   "cell_type": "code",
   "execution_count": null,
   "id": "493c4030-5446-45af-80b3-6ee2e4f91568",
   "metadata": {},
   "outputs": [],
   "source": [
    "for i in range(len(bucket)):\n",
    "    b = np.asarray(bucket[i])\n",
    "    model = RandomForestRegressor()\n",
    "    X = b[:, 2:]\n",
    "    y = b[:, 1]\n",
    "    train_X, test_X, train_y, test_y = train_test_split(X, y)\n",
    "    model.fit(train_X, train_y)\n",
    "    print(model.score(test_X, test_y))\n"
   ]
  },
  {
   "cell_type": "code",
   "execution_count": null,
   "id": "68afb412-13d2-4ed5-8f3e-79daaa0a72cd",
   "metadata": {
    "tags": []
   },
   "outputs": [],
   "source": [
    "low20, high80, low50, high50 = [], [], [], []\n",
    "low_ins, low_ifl, high_ins, high_ifl = [], [], [], []\n",
    "f7t8_ins, f7t8_ifl, f8t9_ins, f8t9_ifl = [], [], [], []\n",
    "target_ifl, target_score = [], []\n",
    "step = 5\n",
    "for i in range(1, 52, step):\n",
    "    model = LinearRegression()\n",
    "    X = np.mean(data[:, [0], i:i+step], axis=2)\n",
    "    y = np.mean(data[:, 1, i:i+step], axis=1)\n",
    "    model.fit(X, y)\n",
    "    print(model.score(X, y), np.corrcoef(X.reshape(-1), y)[0][1], end=',')\n",
    "    predict = model.predict(X)\n",
    "    score1 = (y - predict) / y\n",
    "    \n",
    "    X = np.mean(data[:, [0, 1], i:i+step], axis=2)\n",
    "    y = np.mean(data[:, 3, i:i+step], axis=1)\n",
    "    model.fit(X, y)\n",
    "    print(model.score(X, y), np.corrcoef(X[:, 0], y)[0][1])\n",
    "    predict = model.predict(X)\n",
    "    score2 = (y - predict) / y\n",
    "    \n",
    "#     score = (score1 - np.min(score1)) / (np.max(score1) - np.min(score1)) + (score2 - np.min(score2)) / (np.max(score2) - np.min(score2))\n",
    "#     score = (score2 - np.min(score2)) / (np.max(score2) - np.min(score2))\n",
    "    score = score1 + score2\n",
    "#     plt.scatter(score, np.mean(data[:, 1, i:i+step], axis=1))\n",
    "#     plt.show()\n",
    "    ma_cpu = np.mean(data[:, 1, i:i+step], axis=1)\n",
    "    for j in range(123):\n",
    "        if ma_cpu[j] > 70:\n",
    "            target_ifl.append(np.mean(data[j, 3, i+step:i+step*2]))\n",
    "            target_score.append(score[j])\n",
    "            \n",
    "        \n",
    "        if score[j] < np.percentile(score, 50):\n",
    "            low50.append(np.mean(data[j, 3, i+step:i+step*2]))\n",
    "        if score[j] > np.percentile(score, 50):\n",
    "            high50.append(np.mean(data[j, 3, i+step:i+step*2]))\n",
    "        if score[j] < np.percentile(score, 20):\n",
    "            low20.append(np.mean(data[j, 3, i+step:i+step*2]))\n",
    "        if score[j] > np.percentile(score, 80):\n",
    "            high80.append(np.mean(data[j, 3, i+step:i+step*2]))\n",
    "            \n",
    "        if score[j] < np.percentile(score, 20):\n",
    "            low_ins.append(np.mean(data[j, 0, i+step:i+step*2]))\n",
    "            low_ifl.append(np.mean(data[j, 3, i+step:i+step*2]))\n",
    "        if score[j] > np.percentile(score, 80):\n",
    "            high_ins.append(np.mean(data[j, 0, i+step:i+step*2]))\n",
    "            high_ifl.append(np.mean(data[j, 3, i+step:i+step*2]))\n",
    "            \n",
    "        if score[j] >= np.percentile(score, 80) and score[j] < np.percentile(score, 90):\n",
    "            f7t8_ins.append(np.mean(data[j, 0, i+step:i+step*2]) )\n",
    "            f7t8_ifl.append(np.mean(data[j, 3, i+step:i+step*2]))\n",
    "        if score[j] >= np.percentile(score, 90) and score[j] < np.percentile(score, 100):\n",
    "            f8t9_ins.append(np.mean(data[j, 0, i+step:i+step*2]) )\n",
    "            f8t9_ifl.append(np.mean(data[j, 3, i+step:i+step*2]))"
   ]
  },
  {
   "cell_type": "code",
   "execution_count": null,
   "id": "cd657db1-a380-4399-9cbc-380015cfbc4c",
   "metadata": {},
   "outputs": [],
   "source": [
    "plt.scatter(target_ifl, target_score)\n",
    "plt.xlabel(\"CPU/QPS\")\n",
    "plt.ylabel(\"score\")"
   ]
  },
  {
   "cell_type": "code",
   "execution_count": null,
   "id": "8eac5bec-5ff2-4e31-846e-57b45c0f9720",
   "metadata": {},
   "outputs": [],
   "source": [
    "plt.figure(figsize=(10, 8))\n",
    "plt.scatter(f7t8_ins, f7t8_ifl)\n",
    "plt.scatter(f8t9_ins, f8t9_ifl)\n",
    "plt.ylabel(\"CPU/QPS\", fontsize=15)\n",
    "plt.xlabel(\"batch CPU usage\", fontsize=15)\n",
    "plt.legend([\"80p-90p\", \"90p-100p\"], fontsize=15)\n",
    "model = LinearRegression()\n",
    "model.fit(np.asarray(f7t8_ins).reshape(-1, 1), f7t8_ifl)\n",
    "print(model.coef_, model.intercept_)\n",
    "model.fit(np.asarray(f8t9_ins).reshape(-1, 1), f8t9_ifl)\n",
    "print(model.coef_, model.intercept_)"
   ]
  },
  {
   "cell_type": "code",
   "execution_count": null,
   "id": "a065d0a6-7fdc-4d2c-81d3-cd95600e0d95",
   "metadata": {
    "tags": []
   },
   "outputs": [],
   "source": [
    "plt.figure(figsize=(10, 8))\n",
    "\n",
    "y = 100. * np.arange(len(low20))/(len(low20)-1)\n",
    "plt.plot(sorted(low20), y)\n",
    "\n",
    "y = 100. * np.arange(len(low50))/(len(low50)-1)\n",
    "plt.plot(sorted(low50), y)\n",
    "\n",
    "y = 100. * np.arange(len(high50))/(len(high50)-1)\n",
    "plt.plot(sorted(high50), y)\n",
    "\n",
    "y = 100. * np.arange(len(high80))/(len(high80)-1)\n",
    "plt.plot(sorted(high80), y)\n",
    "plt.ylabel(\"CDF\", fontsize=15)\n",
    "plt.xlabel(\"container_CPU/HSF_QPS\", fontsize=15)\n",
    "plt.legend([\"<20p\", \"<50p\", \">50p\", \">80p\"], fontsize=15)"
   ]
  },
  {
   "cell_type": "code",
   "execution_count": null,
   "id": "f5f7be93-91ab-4121-8f8a-d0577c0d0769",
   "metadata": {
    "tags": []
   },
   "outputs": [],
   "source": [
    "plt.figure(figsize=(10, 8))\n",
    "plt.scatter(low_ins, low_ifl)\n",
    "plt.scatter(high_ins, high_ifl)\n",
    "plt.xlim(0, 2e6)\n",
    "plt.ylabel(\"CPU/QPS\", fontsize=15)\n",
    "plt.xlabel(\"batch CPU usage\", fontsize=15)\n",
    "plt.legend([\"<20p\", \">80p\"], fontsize=15)"
   ]
  },
  {
   "cell_type": "code",
   "execution_count": null,
   "id": "a6bd7082-5493-48b5-b8d9-c750e34972ef",
   "metadata": {},
   "outputs": [],
   "source": [
    "temp1 = [[] for i in range(10)]\n",
    "temp2 = [[] for i in range(10)]\n",
    "for i in range(len(f7t8_ins)):\n",
    "    for k in range(0, 20, 2):\n",
    "        if f7t8_ins[i]>=k*1e5 and f7t8_ins[i]<(k+2)*1e5:\n",
    "            temp1[int(k/2)].append(f7t8_ifl[i])\n",
    "            break\n",
    "for i in range(len(f8t9_ins)):\n",
    "    for k in range(0, 20, 2):\n",
    "        if f8t9_ins[i]>=k*1e5 and f8t9_ins[i]<(k+2)*1e5:\n",
    "            temp2[int(k/2)].append(f8t9_ifl[i])\n",
    "            break\n",
    "for i in range(5):\n",
    "    print(len(temp1[i]), len(temp2[i]))\n",
    "    print(np.mean(temp1[i]) - np.mean(temp2[i]))"
   ]
  },
  {
   "cell_type": "code",
   "execution_count": null,
   "id": "6685781d-d7fc-467d-82a0-52b719861e7e",
   "metadata": {
    "tags": []
   },
   "outputs": [],
   "source": [
    "predict = model.predict(data[:, [0]])\n",
    "score1 = data[:, 1] - predict\n",
    "score1.shape"
   ]
  },
  {
   "cell_type": "code",
   "execution_count": null,
   "id": "7a2dadc7-dceb-4d8a-b80e-fb2947b7293f",
   "metadata": {},
   "outputs": [],
   "source": [
    "model = LinearRegression()\n",
    "model.fit(data[:, [1, 2]], data[:, 3])\n",
    "print(model.score(data[:, [1, 2]], data[:, 3]))\n",
    "print(model.coef_, model.intercept_)"
   ]
  },
  {
   "cell_type": "code",
   "execution_count": null,
   "id": "06a2f70b-41a5-424f-98ac-a92076435061",
   "metadata": {
    "tags": []
   },
   "outputs": [],
   "source": [
    "predict = model.predict(data[:, [1, 2]])\n",
    "score2 = data[:, 3] - predict\n",
    "score2.shape"
   ]
  },
  {
   "cell_type": "code",
   "execution_count": null,
   "id": "d250b18e-c732-4706-9549-939f46cc176e",
   "metadata": {
    "tags": []
   },
   "outputs": [],
   "source": [
    "score = (score1 - np.min(score1)) / (np.max(score1) - np.min(score1)) + (score2 - np.min(score2)) / (np.max(score2) - np.min(score2))\n",
    "sorted(score)"
   ]
  },
  {
   "cell_type": "code",
   "execution_count": null,
   "id": "2bb3886c-0697-4168-a674-eb648163fd3e",
   "metadata": {},
   "outputs": [],
   "source": [
    "plt.scatter(score, data[:, 3])"
   ]
  },
  {
   "cell_type": "code",
   "execution_count": null,
   "id": "b230f1d1-dfb6-4df9-bfe2-16c6da5d910a",
   "metadata": {},
   "outputs": [],
   "source": [
    "X_score, y_score = [], []\n",
    "for i in range(123):\n",
    "    if score[i] < np.percentile(score, 20):\n",
    "        X_score.append(end_ins[i] / front_ins[i])\n",
    "        y_score.append(end_ifl[i] / front_ifl[i])\n",
    "plt.scatter(X_score, y_score)"
   ]
  },
  {
   "cell_type": "code",
   "execution_count": null,
   "id": "90dfb693-9a9b-4c8a-9924-3c3615dba36d",
   "metadata": {},
   "outputs": [],
   "source": [
    "data = sorted(data)\n",
    "y = 100. * np.arange(len(data))/(len(data)-1)\n",
    "plt.plot(data, y)\n",
    "print(np.percentile(data, 20), np.percentile(data, 80))"
   ]
  },
  {
   "cell_type": "code",
   "execution_count": null,
   "id": "af979175-055c-4ab3-b9d0-88dbf93284aa",
   "metadata": {},
   "outputs": [],
   "source": []
  },
  {
   "cell_type": "code",
   "execution_count": null,
   "id": "0237e5b8-f6b2-48db-9b83-2237b9954805",
   "metadata": {},
   "outputs": [],
   "source": [
    "data = np.asarray(data)\n",
    "print(data.shape)\n",
    "from sklearn.linear_model import LinearRegression\n",
    "model = LinearRegression()\n",
    "model.fit(data[:, 0:2], data[:, 2:])\n",
    "print(model.score(data[:, 0:2], data[:, 2:]))\n",
    "print(model.coef_, model.intercept_)\n",
    "plt.scatter(model.coef_[0][0]*data[:, 0]+model.coef_[0][1]*data[:, 1], data[:, 2])"
   ]
  },
  {
   "cell_type": "code",
   "execution_count": null,
   "id": "f97852bc-6240-4a77-a4bf-2a406d06b9c3",
   "metadata": {},
   "outputs": [],
   "source": [
    "X_data, y_data = [], []\n",
    "for ip in test_con_ip:\n",
    "    if ip in test_nc_sn and ip in if_level:\n",
    "        con_rue = buy2host_http[buy2host_http.container_ip==ip].qps__Q_s.values / buy2host_http[buy2host_http.container_ip==ip].cpu_util__pct.values\n",
    "        con_rt = buy2host_http[buy2host_http.container_ip==ip].rt__ms_Q.values\n",
    "        con_cpu = buy2host_http[buy2host_http.container_ip==ip].cpu_util__pct.values\n",
    "        nc_cpu = machine[machine.nc_sn==test_nc_sn[ip]].cpu_util__pct.values\n",
    "        con_time = buy2host_http[buy2host_http.container_ip==ip].sample_time__m.apply(\n",
    "        lambda x:time.mktime(time.strptime(x, \"%Y-%m-%d %H:%M:%S\"))).values\n",
    "        nc_time = machine[machine.nc_sn==test_nc_sn[ip]].sample_time.values\n",
    "\n",
    "        if nc_cpu.shape[0]:\n",
    "            X_data.append(np.mean(nc_cpu))\n",
    "            X_data.append(np.mean(con_cpu))\n",
    "            y_data.append(if_level[ip])\n",
    "#             mp = {}\n",
    "#             for j in range(con_time.shape[0]):\n",
    "#                 if con_time[j] not in mp:\n",
    "#                     mp[con_time[j]] = []\n",
    "# #                 mp[con_time[j]].append(con_rt[j])\n",
    "# #                 mp[con_time[j]].append(con_cpu[j])\n",
    "#         #         mp[con_time[j]].append(con_qps[j])\n",
    "#                 mp[con_time[j]].append(con_rue[j])\n",
    "#             for j in range(nc_time.shape[0]):\n",
    "#                 if nc_time[j] in mp:\n",
    "#                     mp[nc_time[j]].append(nc_cpu[j])\n",
    "#             temp = []\n",
    "#             for key in mp:\n",
    "#                 if len(mp[key]) == 2:\n",
    "#                     temp.append(mp[key])\n",
    "#             X_data.append(np.corrcoef(np.asarray(temp).T)[1, 0])\n",
    "X_data = np.asarray(X_data).reshape(-1, 2)\n",
    "plt.scatter(X_data[:, 1], X_data[:, 0])\n",
    "# from sklearn.linear_model import LinearRegression\n",
    "# model = LinearRegression()\n",
    "# X_data = np.asarray(X_data).reshape(-1, 2)\n",
    "# # print(X_data)\n",
    "# model.fit(X_data, y_data)\n",
    "# model.score(X_data, y_data)\n",
    "# print(X_data, y_data)"
   ]
  },
  {
   "cell_type": "code",
   "execution_count": null,
   "id": "a24ea596-14b1-4012-ad08-242ddf231bf6",
   "metadata": {},
   "outputs": [],
   "source": [
    "def trans(data):\n",
    "    print(np.mean(data))\n",
    "    return (data - np.mean(data)) / np.std(data)"
   ]
  },
  {
   "cell_type": "code",
   "execution_count": null,
   "id": "3e6b8507-b160-4bed-953a-c2a2c48dba8b",
   "metadata": {},
   "outputs": [],
   "source": [
    "for i in range(4):\n",
    "    plt.figure(figsize=(15, 8))\n",
    "    con_rue = buy2host_http[buy2host_http.container_ip==test_con_ip[i]].qps__Q_s.values / buy2host_http[buy2host_http.container_ip==test_con_ip[i]].cpu_util__pct.values * 40\n",
    "    con_rt = buy2host_http[buy2host_http.container_ip==test_con_ip[i]].rt__ms_Q.values\n",
    "    con_cpu = buy2host_http[buy2host_http.container_ip==test_con_ip[i]].cpu_util__pct.values\n",
    "    con_qps = buy2host_http[buy2host_http.container_ip==test_con_ip[i]].qps__Q_s.values\n",
    "    con_time = buy2host_http[buy2host_http.container_ip==test_con_ip[i]].sample_time__m.apply(\n",
    "        lambda x:time.mktime(time.strptime(x, \"%Y-%m-%d %H:%M:%S\"))).values\n",
    "    nc_cpu = machine[machine.nc_sn==test_nc_sn[i]].cpu_util__pct.values\n",
    "    nc_time = machine[machine.nc_sn==test_nc_sn[i]].sample_time.values\n",
    "    plt.plot(con_time, trans(con_rt))\n",
    "    plt.plot(con_time, trans(con_cpu))\n",
    "    plt.plot(nc_time, trans(nc_cpu))\n",
    "#     plt.hlines(mean_all[0], xmin=0+1.64412e9, xmax=3600+1.64412e9)\n",
    "#     plt.hlines(mean_all[0]+std_all[0], xmin=0+1.64412e9, xmax=3600+1.64412e9)\n",
    "#     plt.hlines(mean_all[0]-std_all[0], xmin=0+1.64412e9, xmax=3600+1.64412e9)\n",
    "\n",
    "    plt.show()\n",
    "    mp = {}\n",
    "    for j in range(con_time.shape[0]):\n",
    "        if con_time[j] not in mp:\n",
    "            mp[con_time[j]] = []\n",
    "        mp[con_time[j]].append(con_rt[j])\n",
    "#         mp[con_time[j]].append(con_cpu[j])\n",
    "#         mp[con_time[j]].append(con_qps[j])\n",
    "#         mp[con_time[j]].append(con_rue[j])\n",
    "    for j in range(nc_time.shape[0]):\n",
    "        if nc_time[j] in mp:\n",
    "            mp[nc_time[j]].append(nc_cpu[j])\n",
    "    temp = []\n",
    "    for key in mp:\n",
    "        if len(mp[key]) == 2:\n",
    "            temp.append(mp[key])\n",
    "    print(np.corrcoef(np.asarray(temp).T))"
   ]
  },
  {
   "cell_type": "code",
   "execution_count": null,
   "id": "ca37da0b-097f-4e5e-b7b6-f52f0a4b64ea",
   "metadata": {},
   "outputs": [],
   "source": [
    "file = pd.read_csv(\"./pod_meta.csv\")\n",
    "\n",
    "# cnt = 0\n",
    "# for ip in test_con_ip:\n",
    "#     for i in range(file.shape[0]):\n",
    "#         if file.container_ip.values[i] == ip:\n",
    "#             print(\"\\\"\" + str(file.nc_sn.values[i]) + \"\\\"\", end=',')\n",
    "#             cnt += 1\n",
    "# print(cnt)"
   ]
  },
  {
   "cell_type": "code",
   "execution_count": null,
   "id": "642703fa-e5de-4e26-ba1a-b7870f5c32da",
   "metadata": {},
   "outputs": [],
   "source": [
    "ay49c = file[file.container_app_name == \"ay49c\"]\n",
    "ay49c_ma = ay49c.nc_sn.unique().tolist()\n",
    "total_ma = file.nc_sn.unique().tolist()\n",
    "for i in total_ma:\n",
    "    if i not in ay49c_ma:\n",
    "        print(\"\\\"\" + i + \"\\\"\", end=', ')"
   ]
  },
  {
   "cell_type": "code",
   "execution_count": null,
   "id": "79447c75-e7f2-4993-a593-abfbe4016a3e",
   "metadata": {
    "tags": []
   },
   "outputs": [],
   "source": []
  },
  {
   "cell_type": "code",
   "execution_count": null,
   "id": "330585f4-fb7b-4a0b-a4be-87981b4a186f",
   "metadata": {},
   "outputs": [],
   "source": []
  },
  {
   "cell_type": "code",
   "execution_count": null,
   "id": "72a2748a-eb95-4c5b-8734-3a838ad3ed0c",
   "metadata": {},
   "outputs": [],
   "source": []
  },
  {
   "cell_type": "code",
   "execution_count": null,
   "id": "3b922f57-705c-4a35-ac21-8bf655838c6f",
   "metadata": {},
   "outputs": [],
   "source": [
    "buy2host = pd.read_csv(\"./buy2host.csv\")\n",
    "buy2host_hsf = buy2host[buy2host.throughput_type == \"HSF\"]\n",
    "\n"
   ]
  },
  {
   "cell_type": "code",
   "execution_count": null,
   "id": "01a72dc2-ef90-4fd3-9ea9-343e5872fe09",
   "metadata": {
    "tags": []
   },
   "outputs": [],
   "source": [
    "buy2_rt = buy2host_hsf.rt__ms_Q.values\n",
    "buy2_rt = buy2_rt.reshape(-1, 61)\n",
    "# buy2_99rt = np.percentile(buy2_rt, 99, axis=0)\n",
    "# buy2_99rt"
   ]
  },
  {
   "cell_type": "code",
   "execution_count": null,
   "id": "2592e34b-5950-412b-8d8e-2b6e06b96657",
   "metadata": {},
   "outputs": [],
   "source": [
    "buy2_qps = buy2host_hsf.qps__Q_s.values\n",
    "buy2_qps = buy2_qps.reshape(-1, 61)\n",
    "# buy2_qps = np.mean(buy2_qps, axis=0)\n",
    "# buy2_qps"
   ]
  },
  {
   "cell_type": "code",
   "execution_count": null,
   "id": "9edcdd2f-37a5-4058-bd33-b5b0a0083b0b",
   "metadata": {},
   "outputs": [],
   "source": [
    "# ifl = np.exp(buy2_qps) / buy2_99rt\n",
    "plt.plot(range(61), buy2_rt[1] / np.exp(buy2_qps[1]))"
   ]
  },
  {
   "cell_type": "code",
   "execution_count": null,
   "id": "69c9813a-2255-44c4-bd03-1258b296c35f",
   "metadata": {},
   "outputs": [],
   "source": [
    "m2service = pd.read_csv(\"/data/zkp/m2_service.csv\")\n",
    "m2machine = pd.read_csv(\"/data/zkp/m2.csv\")\n",
    "m2instance = pd.read_csv(\"/data/zkp/m2_instance.csv\")\n",
    "m2offline = pd.read_csv(\"/data/zkp/m2_offline.csv\")"
   ]
  },
  {
   "cell_type": "code",
   "execution_count": null,
   "id": "d3afb825-d5a4-4fd9-824e-01e5e6a07281",
   "metadata": {},
   "outputs": [],
   "source": [
    "m2ip = m2service.container_ip.unique()"
   ]
  },
  {
   "cell_type": "code",
   "execution_count": null,
   "id": "84b8bdcf-cb60-4f7a-b95b-2325e5534685",
   "metadata": {
    "tags": []
   },
   "outputs": [],
   "source": [
    "m2service.sample_time__m"
   ]
  },
  {
   "cell_type": "code",
   "execution_count": null,
   "id": "e48c7e1a-2749-4e31-9398-4ed6f49bedab",
   "metadata": {
    "tags": []
   },
   "outputs": [],
   "source": [
    "# for ip in m2ip:\n",
    "#     temp = m2service[m2service.container_ip==ip]\n",
    "#     temp = temp[temp.throughput_type==\"HSF\"]\n",
    "#     print(temp.isnull().sum().qps__Q_s)\n",
    "# m2service.shape\n",
    "# print(m2machine.shape)\n",
    "# buy2host.fillna(0, inplace=True)\n",
    "m2instance.isnull().sum()"
   ]
  },
  {
   "cell_type": "code",
   "execution_count": null,
   "id": "a41c434a-ae61-4f7d-a98b-d7b6d92e255e",
   "metadata": {
    "tags": []
   },
   "outputs": [],
   "source": [
    "m2data = []\n",
    "iplist = []\n",
    "for ip in m2ip:\n",
    "    print(ip)\n",
    "    temp = m2service[m2service.container_ip==ip]\n",
    "    if temp.shape[0] != 12957:\n",
    "        continue\n",
    "    temp = temp[temp.throughput_type==\"HSF\"] \n",
    "    if temp.isnull().sum().qps__Q_s > 10:\n",
    "        continue\n",
    "    temp.fillna(1, inplace=True)\n",
    "    \n",
    "    nc_cpu = m2machine.cpu_util__pct.values\n",
    "    nc_time = m2machine.sample_time.values  \n",
    "    \n",
    "    con_time = temp.sample_time__m.apply(\n",
    "        lambda x:time.mktime(time.strptime(x, \"%Y-%m-%d %H:%M:%S\"))).values\n",
    "    con_rt = temp.rt__ms_Q.values\n",
    "    con_qps = temp.qps__Q_s.values\n",
    "    con_cpu = temp.cpu_util__pct.values\n",
    "\n",
    "    offline = m2offline[m2offline.Task_Type==\"Offline\"].cpu_util__pct.values\n",
    "    online = m2offline[m2offline.Task_Type==\"Online\"].cpu_util__pct.values\n",
    "    offline_time = m2offline[m2offline.Task_Type==\"Offline\"].sample_time\n",
    "        \n",
    "    ins_start = m2instance.start_time.values\n",
    "    ins_end = m2instance.end_time.values\n",
    "    ins_cpu = m2instance.fuxi_avg_cpu.values\n",
    "    ins_mem = m2instance.fuxi_avg_mem.values\n",
    "    total_time = ins_end - ins_start\n",
    "    ins_data = [[] for i in range(4320)]\n",
    "    start_time = m2machine.sample_time.values[0]\n",
    "    for i in range(ins_start.shape[0]):\n",
    "#             for index in range(ins_start[i], ins_end[i], 60):\n",
    "#                 ins_data[int((index - 1644120000)/60)+1].append(ins_cpu[i] / ins_mem[i] if ins_mem[i] else 1)\n",
    "        index = int((ins_start[i] - start_time)/60)+1\n",
    "        score = 0\n",
    "        if not np.isnan(ins_cpu[i]) and not np.isnan(ins_mem[i]):\n",
    "            score = ins_cpu[i] / 9600 - ins_mem[i] /  512*1024\n",
    "        if total_time[i] > index * 60 + start_time - ins_start[i]:\n",
    "            ins_data[index].append(score * (index * 60 + start_time - ins_start[i]))\n",
    "            total_time[i] -= (index * 60 + start_time - ins_start[i])\n",
    "            index += 1\n",
    "            while total_time[i] > 0:\n",
    "                ins_data[index].append(score * min(total_time[i], 60))\n",
    "                total_time[i] -= 60\n",
    "                index += 1\n",
    "        else:\n",
    "            ins_data[index].append(score * total_time[i])\n",
    "        \n",
    "\n",
    "\n",
    "    mp = {}\n",
    "    for t in range(con_time.shape[0]):\n",
    "        mp[con_time[t]] = []\n",
    "        mp[con_time[t]].append(con_rt[t])\n",
    "        mp[con_time[t]].append(con_qps[t])\n",
    "        mp[con_time[t]].append(con_cpu[t])\n",
    "\n",
    "    for t in range(nc_time.shape[0]):\n",
    "        if nc_time[t] in mp:\n",
    "            mp[nc_time[t]].append(nc_cpu[t])\n",
    "            \n",
    "    for t in range(offline_time.shape[0]):\n",
    "        if offline_time[t] in mp:\n",
    "            mp[offline_time[t]].append(offline[t])\n",
    "            mp[offline_time[t]].append(online[t])\n",
    "\n",
    "    for t in range(con_time.shape[0]):\n",
    "        mp[con_time[t]].append(ins_data[t])\n",
    "\n",
    "    d = []\n",
    "    for k in sorted(mp.keys()):\n",
    "        if len(mp[k]) == 7:\n",
    "            d.append(mp[k])\n",
    "    m2data.append(d)\n",
    "    iplist.append(ip)\n"
   ]
  },
  {
   "cell_type": "code",
   "execution_count": null,
   "id": "6e2948b1-3250-49ae-9bc7-cf3062438744",
   "metadata": {},
   "outputs": [],
   "source": [
    "m2data = np.asarray(m2data)\n",
    "m2data.shape"
   ]
  },
  {
   "cell_type": "code",
   "execution_count": null,
   "id": "34122b5b-fe99-49fa-992c-e0faf77c544c",
   "metadata": {},
   "outputs": [],
   "source": [
    "task_length = []\n",
    "for i in range(m2data.shape[0]):\n",
    "    for j in range(m2data.shape[1]):\n",
    "        task_length.append(len(m2data[i, j, 4]))\n",
    "print(min(task_length), max(task_length), len(task_length))"
   ]
  },
  {
   "cell_type": "code",
   "execution_count": null,
   "id": "cfdbccce-b9f5-45bf-8673-8d79fb89484f",
   "metadata": {},
   "outputs": [],
   "source": [
    "for i in range(m2data.shape[0]):\n",
    "    for j in range(m2data.shape[1]):\n",
    "        for k in range(max(task_length) - len(m2data[i, j, 4])):\n",
    "            m2data[i, j, 4].append(0)"
   ]
  },
  {
   "cell_type": "code",
   "execution_count": null,
   "id": "f2a0befa-f606-4144-82ca-8b2efa06fb34",
   "metadata": {},
   "outputs": [],
   "source": [
    "m2data.shape"
   ]
  },
  {
   "cell_type": "code",
   "execution_count": null,
   "id": "3ad39c10-3a81-4a9e-9c3b-d8cbdd4c869c",
   "metadata": {
    "tags": []
   },
   "outputs": [],
   "source": [
    "X, label = [], []\n",
    "for i in range(m2data.shape[0]):\n",
    "#     plt.plot(sorted(list(m2data[i, :, 1].reshape(-1))), np.arange(4195) / (4195-1))\n",
    "#     plt.show()\n",
    "#     if i != 3:\n",
    "#         continue\n",
    "    bucket = [[] for k in range(20, 81, 2)]\n",
    "    for j in range(m2data.shape[1]):\n",
    "        index = int((m2data[i, j, 3] - 20) / 2) + 1\n",
    "        if m2data[i, j, 3] < 20:\n",
    "            index = 0\n",
    "        elif m2data[i, j, 3] > 80:\n",
    "            index = len(bucket) - 1\n",
    "        bucket[index].append(list(m2data[i, j, :]))\n",
    "#     X, label = [], []\n",
    "    for b in bucket[15:]:\n",
    "        bb = np.asarray(b)\n",
    "#         bb = bb[(bb[:, 1] >= 8)]\n",
    "#         bb = bb[(bb[:, 1] <= 10)]\n",
    "        rue = bb[:, 0]\n",
    "        if not rue.shape[0]:\n",
    "            continue\n",
    "#         print(rue)\n",
    "        p80 = np.percentile(rue, 80)\n",
    "        p20 = np.percentile(rue, 20)\n",
    "        if p80 == p20:\n",
    "            continue\n",
    "        for k in range(bb.shape[0]):\n",
    "            if rue[k] >= p80:\n",
    "                X.append([bb[k, 3], bb[k, 4], bb[k, 5]])\n",
    "                label.append(0)\n",
    "            elif rue[k] <= p20:\n",
    "                X.append([bb[k, 3], bb[k, 4], bb[k, 5]])\n",
    "                label.append(1)\n",
    "#     X = np.asarray(X)\n",
    "#     print(X.shape)\n",
    "#     if X.shape[0] < 10:\n",
    "#         continue\n",
    "#     X_train, X_test, y_train, y_test = train_test_split(X, label)\n",
    "    \n",
    "#     pca = PCA(n_components=20)\n",
    "#     pca.fit(X_train)\n",
    "#     X_train = pca.transform(X_train)\n",
    "#     X_test = pca.transform(X_test)\n",
    "#     print(X_train.shape)\n",
    "    \n",
    "#     model = RandomForestClassifier()\n",
    "#     model.fit(X_train, y_train)\n",
    "#     print(iplist[i])\n",
    "#     print(model.score(X_test, y_test))\n",
    "    \n"
   ]
  },
  {
   "cell_type": "code",
   "execution_count": null,
   "id": "34c582b0-e120-4ab4-b6b4-d0f630cd8930",
   "metadata": {},
   "outputs": [],
   "source": [
    "svc = pd.read_csv(\"/data/zkp/buy2/service/allservice.csv\")\n",
    "svc = svc[(svc.throughput_type==\"HSF\") &(~pd.isna(svc.rt__ms_Q))]"
   ]
  },
  {
   "cell_type": "code",
   "execution_count": null,
   "id": "4ce478ba-f1b8-4ecf-99a0-e84532c9027d",
   "metadata": {},
   "outputs": [],
   "source": [
    "rank = []\n",
    "for ip in svc.container_ip.unique():\n",
    "    temp = svc[svc.container_ip==ip].rt__ms_Q.values\n",
    "    p = []\n",
    "    for i in range(10, 101, 10):\n",
    "        p.append(np.percentile(temp, i))\n",
    "    for i in temp:\n",
    "        for j in range(1, 11):\n",
    "            if i <= p[j-1]:\n",
    "                rank.append(j)\n",
    "                break\n",
    "svc[\"rank\"] = rank    "
   ]
  },
  {
   "cell_type": "code",
   "execution_count": null,
   "id": "5fc0bc25-3b2d-4920-ad58-194965842d6a",
   "metadata": {},
   "outputs": [],
   "source": [
    "onoffline = pd.read_csv(\"/data/zkp/buy2/service/onoffline.csv\")\n",
    "offline = onoffline[onoffline.Task_Type==\"Offline\"]"
   ]
  },
  {
   "cell_type": "code",
   "execution_count": null,
   "id": "fd8a46f3-0611-4726-8f87-2ffd59940a24",
   "metadata": {},
   "outputs": [],
   "source": [
    "DATA = pd.read_csv(\"/data/zkp/buy2/service/DATA.csv\")\n",
    "DATA_X = np.load(\"/data/zkp/buy2/service/DATA.npy\")\n",
    "\n",
    "DATA_X = DATA_X[(DATA.container_ip==\"33.61.250.148\")]\n",
    "DATA = DATA[(DATA.container_ip==\"33.61.250.148\")]\n",
    "\n",
    "X = []"
   ]
  },
  {
   "cell_type": "code",
   "execution_count": null,
   "id": "db8dfa17-ebf3-4cd9-bbe3-ab2bf2d7c347",
   "metadata": {},
   "outputs": [],
   "source": [
    "mp = {}\n",
    "cpu = offline.cpu_util__pct.values\n",
    "t = offline.sample_time.values\n",
    "for i in range(offline.shape[0]):\n",
    "    mp[t[i]] = [cpu[i]]"
   ]
  },
  {
   "cell_type": "code",
   "execution_count": null,
   "id": "dcc9ed27-8be3-4b1f-bd01-42b0240cc82d",
   "metadata": {},
   "outputs": [],
   "source": [
    "for ip in svc.container_ip.unique():\n",
    "    temp = svc[svc.container_ip==ip]\n",
    "    t = temp.sample_time__m.apply(lambda x:int(time.mktime(time.strptime(x, \"%Y-%m-%d %H:%M:%S\")))).values\n",
    "    r = temp[\"rank\"].values\n",
    "    for i in range(t.shape[0]):\n",
    "        if t[i] in mp:\n",
    "            mp[t[i]].append(r[i])\n"
   ]
  },
  {
   "cell_type": "code",
   "execution_count": null,
   "id": "d825b6f2-1d51-43a2-9f5b-3ed04ad62a5a",
   "metadata": {},
   "outputs": [],
   "source": [
    "mpp = []\n",
    "for key in mp:\n",
    "    if len(mp[key]) == 6:\n",
    "        mpp.append(mp[key])\n",
    "#         X.append(DATA_X[DATA.sample_time==key])\n",
    "mpp = np.asarray(mpp)"
   ]
  },
  {
   "cell_type": "code",
   "execution_count": null,
   "id": "0f07e819-39cf-422a-868b-3cb2613f5c09",
   "metadata": {},
   "outputs": [],
   "source": [
    "# X = np.asarray(X).reshape(-1, 60)\n",
    "X.shape, mpp.shape"
   ]
  },
  {
   "cell_type": "code",
   "execution_count": null,
   "id": "d4093947-3445-4121-bafa-fbddbedec1ba",
   "metadata": {},
   "outputs": [],
   "source": [
    "for i in range(1, 6):\n",
    "    mpp[:, i] = (mpp[:, i] - np.mean(mpp[:, i])) / np.std(mpp[:, i])"
   ]
  },
  {
   "cell_type": "code",
   "execution_count": null,
   "id": "5c27e734-61a2-4064-a742-cbd3cb5d9fe9",
   "metadata": {},
   "outputs": [],
   "source": [
    "plt.plot(range(mpp[:, 1].shape[0]), mpp[:, 1])"
   ]
  },
  {
   "cell_type": "code",
   "execution_count": null,
   "id": "c2b70e1d-425d-4ac2-9d58-a44764d6f1d1",
   "metadata": {},
   "outputs": [],
   "source": [
    "mean = []\n",
    "for ip in svc.container_ip.unique():\n",
    "    temp = svc[svc.container_ip==ip]\n",
    "    mean.append(np.mean(temp.rt__ms_Q.values))\n"
   ]
  },
  {
   "cell_type": "code",
   "execution_count": null,
   "id": "11549421-1d37-4226-bbfe-12c3e04d64cc",
   "metadata": {},
   "outputs": [],
   "source": [
    "svc.container_ip.unique()"
   ]
  },
  {
   "cell_type": "code",
   "execution_count": null,
   "id": "2e64a743-d8e2-41c9-8d93-af9ac259e960",
   "metadata": {
    "tags": []
   },
   "outputs": [],
   "source": [
    "np.corrcoef(mpp.T)"
   ]
  },
  {
   "cell_type": "code",
   "execution_count": null,
   "id": "45db6703-2489-4681-a910-61494f6b60cb",
   "metadata": {
    "tags": []
   },
   "outputs": [],
   "source": [
    "y = []\n",
    "for i in range(mpp.shape[0]):\n",
    "    y.append(mpp[i, 1]*0.515*16 + mpp[i, 3]*0.256*4 + mpp[i, 4]*0.323*8)"
   ]
  },
  {
   "cell_type": "code",
   "execution_count": null,
   "id": "aea71281-a5c9-4f05-a3f7-240931f85811",
   "metadata": {},
   "outputs": [],
   "source": [
    "y = np.asarray(y)"
   ]
  },
  {
   "cell_type": "code",
   "execution_count": null,
   "id": "cf36ae5d-e35e-43bf-8a51-ff58c206aebc",
   "metadata": {
    "tags": []
   },
   "outputs": [],
   "source": [
    "y = (y - min(y)) / (max(y) - min(y))"
   ]
  },
  {
   "cell_type": "code",
   "execution_count": null,
   "id": "feb8e11a-c46d-45d3-88e5-311919772453",
   "metadata": {
    "tags": []
   },
   "outputs": [],
   "source": [
    "from sklearn.linear_model import LinearRegression\n",
    "model = LinearRegression()\n",
    "model.fit(X, y)\n",
    "model.score(X, y)"
   ]
  },
  {
   "cell_type": "code",
   "execution_count": null,
   "id": "4888159c-108e-49f0-b2a8-9057bac02033",
   "metadata": {},
   "outputs": [],
   "source": [
    "predict = model.predict(X)\n",
    "plt.scatter(predict, y)\n",
    "plt.xlabel(\"Predict score\")\n",
    "plt.ylabel(\"Machine level interference\")"
   ]
  },
  {
   "cell_type": "code",
   "execution_count": null,
   "id": "19dbdff3-18c1-4db1-a4b9-7b4d91440375",
   "metadata": {
    "tags": []
   },
   "outputs": [],
   "source": [
    "pod_meta  = pd.read_csv(\"/data/zkp/pod_meta.csv\")\n",
    "pod_meta"
   ]
  },
  {
   "cell_type": "code",
   "execution_count": null,
   "id": "fedebb7f-6ecb-48d1-9a97-c308fae3d3b9",
   "metadata": {},
   "outputs": [],
   "source": [
    "svc = pd.read_csv(\"/data/zkp/buy2/service/allservice2.csv\")\n",
    "svc = svc[(svc.throughput_type==\"HSF\") &(~pd.isna(svc.rt__ms_Q))]"
   ]
  },
  {
   "cell_type": "code",
   "execution_count": null,
   "id": "b61cf9e4-06ca-4393-927b-0a13663dcfea",
   "metadata": {},
   "outputs": [],
   "source": [
    "onoffline = pd.read_csv(\"/data/zkp/buy2/service/onoffline2.csv\")\n",
    "offline = onoffline[onoffline.Task_Type==\"Offline\"]"
   ]
  },
  {
   "cell_type": "code",
   "execution_count": null,
   "id": "8ef62158-ab87-4524-8924-f503ff449cdf",
   "metadata": {},
   "outputs": [],
   "source": [
    "# DATA = pd.merge(DATA, pod_meta[[\"container_ip\", \"container_app_group_name\"]], on=[\"container_ip\"], how=\"left\")\n",
    "DATA = pd.read_csv(\"/data/zkp/buy2/service/allservice3.csv\")"
   ]
  },
  {
   "cell_type": "code",
   "execution_count": null,
   "id": "a1ecf641-209a-4500-928f-34e308584e3a",
   "metadata": {},
   "outputs": [],
   "source": [
    "DATA = DATA.sort_values(by=[\"container_app_group_name\"])"
   ]
  },
  {
   "cell_type": "code",
   "execution_count": null,
   "id": "7c0e4c25-e4d1-4058-bc90-79cecd6d44f1",
   "metadata": {
    "tags": []
   },
   "outputs": [],
   "source": [
    "data = DATA[DATA.sample_time<1644422400]\n",
    "data = data[[\"container_app_group_name\", \"rt__ms_Q\", \"CPU_time__s\"]]\n",
    "data = data.sort_values(by=[\"container_app_group_name\"])\n",
    "data"
   ]
  },
  {
   "cell_type": "code",
   "execution_count": null,
   "id": "c124550a-be92-4574-a997-6a407837dcb1",
   "metadata": {},
   "outputs": [],
   "source": [
    "score = np.loadtxt(\"/data/zkp/figure/simulation/base2_score.txt\")\n",
    "score1 = np.bincount(np.asarray(score, dtype=np.int64).reshape(-1,))\n",
    "score = np.loadtxt(\"/data/zkp/figure/simulation/if2_score.txt\")\n",
    "score2 = np.bincount(np.asarray(score, dtype=np.int64).reshape(-1,))"
   ]
  },
  {
   "cell_type": "code",
   "execution_count": null,
   "id": "ffe34d11-bab4-4b66-853a-3a57ad164b0e",
   "metadata": {},
   "outputs": [],
   "source": [
    "score1, score2"
   ]
  },
  {
   "cell_type": "code",
   "execution_count": null,
   "id": "ffc6d092-00c5-4307-8fd7-ce0deb64fbc1",
   "metadata": {},
   "outputs": [],
   "source": [
    "p = np.arange(0, 11, 0.1)"
   ]
  },
  {
   "cell_type": "code",
   "execution_count": null,
   "id": "20a9f572-c160-46b8-a347-2f05aa86d620",
   "metadata": {},
   "outputs": [],
   "source": [
    "rt1 = sum(p*score1)/sum(score1)\n",
    "rt2 = sum(p*score2)/sum(score2)\n",
    "(rt1-rt2)/rt1"
   ]
  },
  {
   "cell_type": "code",
   "execution_count": null,
   "id": "db29ffdf-770b-4c21-960b-ea20bf5e0b1d",
   "metadata": {
    "tags": []
   },
   "outputs": [],
   "source": [
    "result = []\n",
    "for app in data.container_app_group_name.unique():\n",
    "    temp = data[data.container_app_group_name==app].rt__ms_Q.values\n",
    "    if temp.shape[0]>100:\n",
    "        p = [0]\n",
    "        length = temp.shape[0] // 10 *10\n",
    "        \n",
    "        temp = sorted(temp.tolist())\n",
    "        for i in range(0, length, int(length/10)):\n",
    "            p.append(np.mean(temp[i: i+int(length/10)]))\n",
    "        p = np.asarray(p)\n",
    "        rt1 = sum(p*score1)/sum(score1)\n",
    "        rt2 = sum(p*score2)/sum(score2)\n",
    "        if rt1:\n",
    "#             print(p[1], p[-1], rt1, rt2, (rt1-rt2)/rt1)\n",
    "            result.append([])\n",
    "            for i in p:\n",
    "                result[-1].append(i)\n",
    "            result[-1].append(length)\n",
    "            result[-1].append(rt1)\n",
    "            result[-1].append(rt2)\n",
    "            result[-1].append((rt1-rt2)/rt1)"
   ]
  },
  {
   "cell_type": "code",
   "execution_count": null,
   "id": "896736f4-55da-4d6f-9274-567159b02f4d",
   "metadata": {},
   "outputs": [],
   "source": [
    "np.savetxt(\"/data/zkp/figure/simulation/service_rt.txt\", np.asarray(result))"
   ]
  },
  {
   "cell_type": "code",
   "execution_count": null,
   "id": "3f15c87a-84f5-4861-af6c-f4eb3769efbd",
   "metadata": {},
   "outputs": [],
   "source": [
    "result = np.asarray(result)"
   ]
  },
  {
   "cell_type": "code",
   "execution_count": null,
   "id": "ed28f0ca-d6ee-45a3-87f7-269a1a00cfbc",
   "metadata": {},
   "outputs": [],
   "source": [
    "np.percentile(result[:, -4], 90)"
   ]
  },
  {
   "cell_type": "code",
   "execution_count": null,
   "id": "1278e9ab-cb68-41da-8059-619f60c64801",
   "metadata": {
    "tags": []
   },
   "outputs": [],
   "source": [
    "corr1 = {}\n",
    "for app in data.container_app_group_name.unique():\n",
    "    temp = data[(data.container_app_group_name==app) & (~pd.isna(data.CPU_time__s))]\n",
    "    if temp.shape[0] < 100:\n",
    "        corr1[app] = 0\n",
    "        continue\n",
    "    c1 = temp.rt__ms_Q.corr(temp.CPU_time__s)\n",
    "    if np.isnan(c1):\n",
    "        c1 = 0\n",
    "    corr1[app] = c1"
   ]
  },
  {
   "cell_type": "code",
   "execution_count": null,
   "id": "76f1ab40-5597-4e17-9b2a-1758909a40bb",
   "metadata": {},
   "outputs": [],
   "source": [
    "corr1[\"ump2_detailhost\"], corr2[\"ump2_detailhost\"]"
   ]
  },
  {
   "cell_type": "code",
   "execution_count": null,
   "id": "0f6a704c-0db2-49ca-83e5-626ac66a0ee0",
   "metadata": {
    "tags": []
   },
   "outputs": [],
   "source": [
    "rtP1 = {}\n",
    "for app in data.container_app_group_name.unique():\n",
    "    temp = data[data.container_app_group_name==app]\n",
    "    if temp.shape[0] < 100:\n",
    "        rtP1[app] = 0\n",
    "        continue\n",
    "#     rtP1[app] = np.std(temp.rt__ms_Q.values) / np.mean(temp.rt__ms_Q.values) if np.mean(temp.rt__ms_Q.values) else 0\n",
    "    rtP1[app] = np.percentile(temp.rt__ms_Q.values, 95) / np.percentile(temp.rt__ms_Q.values, 50) if np.percentile(temp.rt__ms_Q.values, 50) else 0"
   ]
  },
  {
   "cell_type": "code",
   "execution_count": null,
   "id": "a0151909-fca9-460e-82e2-81c7309516f3",
   "metadata": {},
   "outputs": [],
   "source": [
    "score = []\n",
    "for app in DATA.container_app_group_name.unique():\n",
    "    temp = data[data.container_app_group_name==app].rt__ms_Q.values\n",
    "    if temp.shape[0] < 10:\n",
    "        for i in range(DATA[DATA.container_app_group_name==app].shape[0]):\n",
    "            score.append(0)\n",
    "        continue\n",
    "    p = []\n",
    "    for i in range(10, 101, 10):\n",
    "        p.append(np.percentile(temp, i))\n",
    "    rt = DATA[DATA.container_app_group_name==app].rt__ms_Q.values\n",
    "    for i in rt:\n",
    "        for j in range(1, 11):\n",
    "            if i <= p[j-1] or j == 10:\n",
    "                score.append(j)\n",
    "                break\n",
    "DATA[\"score\"] = score    "
   ]
  },
  {
   "cell_type": "code",
   "execution_count": null,
   "id": "20537da9-f6ac-4165-8ad9-106edaa39333",
   "metadata": {},
   "outputs": [],
   "source": [
    "# co = []\n",
    "# rtP = []\n",
    "rtPP = []\n",
    "for app in DATA.container_app_group_name.values:\n",
    "    if app in rtP1:\n",
    "#         co.append(corr1[app])\n",
    "#         rtP.append(rtP1[app])\n",
    "        rtPP.append(rtP1[app])\n",
    "    else:\n",
    "#         co.append(0)\n",
    "#         rtP.append(0)\n",
    "        rtPP.append(0)\n",
    "# DATA[\"co\"] = co\n",
    "DATA[\"rtPP\"] = rtPP"
   ]
  },
  {
   "cell_type": "code",
   "execution_count": null,
   "id": "6b6a3bf1-259f-40a7-bec1-ac8d987a0018",
   "metadata": {},
   "outputs": [],
   "source": [
    "buy2 = pd.read_csv(\"/data/zkp/buy2/service/DATA.csv\")\n",
    "buy2_X = np.load(\"/data/zkp/buy2/service/DATA.npy\")"
   ]
  },
  {
   "cell_type": "code",
   "execution_count": null,
   "id": "9c9cbfc4-3f7d-4e8d-8bfc-f92414adaf54",
   "metadata": {},
   "outputs": [],
   "source": [
    "buy2"
   ]
  },
  {
   "cell_type": "code",
   "execution_count": null,
   "id": "7b5396c0-8fff-4026-b460-ba546fc25463",
   "metadata": {},
   "outputs": [],
   "source": [
    "temp = []\n",
    "for x in buy2_X:\n",
    "    temp.append(x)\n",
    "buy2[\"X\"] = temp"
   ]
  },
  {
   "cell_type": "code",
   "execution_count": null,
   "id": "55766d05-4453-43ef-bad0-d826d9525cae",
   "metadata": {
    "tags": []
   },
   "outputs": [],
   "source": [
    "buy2 = pd.merge(buy2, pod_meta[[\"nc_sn\", \"container_ip\"]], on=[\"container_ip\"], how=\"left\")\n",
    "DATA = buy2\n",
    "# DATA = pd.merge(DATA, buy2[[\"nc_sn\", \"sample_time\", \"X\"]], on=[\"nc_sn\", \"sample_time\"], how=\"left\")"
   ]
  },
  {
   "cell_type": "code",
   "execution_count": null,
   "id": "6a65a9e7-b5ef-4138-9e65-c8d10012ccfb",
   "metadata": {},
   "outputs": [],
   "source": [
    "DATA"
   ]
  },
  {
   "cell_type": "code",
   "execution_count": null,
   "id": "d63f1e31-895e-48c2-824e-07a39d6fe3ee",
   "metadata": {
    "tags": []
   },
   "outputs": [],
   "source": [
    "X = [[], [], [], []]\n",
    "y = [[], [], [], []]\n",
    "for nc in data.nc_sn.unique():\n",
    "    y_nc = []\n",
    "    X_nc = []\n",
    "    temp = data[data.nc_sn==nc]\n",
    "    for t in temp.sample_time.unique():\n",
    "        tep = temp[temp.sample_time==t]\n",
    "        y_nc.append([np.sum(tep[\"score\"].values),\n",
    "                     np.sum(tep[\"score\"].values*tep.request_cpu.values),\n",
    "                     np.sum(tep[\"score\"].values*tep.rt__ms_Q.values),\n",
    "                     np.sum(tep[\"rank\"].values*tep[\"corr\"].values),\n",
    "                    ])\n",
    "        X_nc.append(tep.X.values[0])\n",
    "    y_nc = np.asarray(y_nc)\n",
    "    X_nc = np.asarray(X_nc)\n",
    "    for i in range(5):\n",
    "        X_train, X_test, y_train, y_test = train_test_split(X_nc, y_nc[:, [i]])\n",
    "        scaler = MinMaxScaler().fit(y_train)\n",
    "        y_test = scaler.transform(y_test)\n",
    "        for j in y_test:\n",
    "            y[i].append(j[0])\n",
    "        for j in X_test:\n",
    "            X[i].append(j)"
   ]
  },
  {
   "cell_type": "code",
   "execution_count": null,
   "id": "3d4e487e-ed98-4323-baf0-e7bdef6a0d68",
   "metadata": {
    "tags": []
   },
   "outputs": [],
   "source": [
    "X = np.asarray(X).T\n",
    "y = np.asarray(y).T"
   ]
  },
  {
   "cell_type": "code",
   "execution_count": null,
   "id": "29c74171-1f13-4dd1-a468-5364074d1090",
   "metadata": {
    "tags": []
   },
   "outputs": [],
   "source": [
    "X.shape, y.shape"
   ]
  },
  {
   "cell_type": "code",
   "execution_count": null,
   "id": "ded82740-321a-4c6d-8ced-e97dc933d2c9",
   "metadata": {
    "tags": []
   },
   "outputs": [],
   "source": [
    "for i in range(5):\n",
    "    X_train, X_test, y_train, y_test = train_test_split(X, y[:, i])\n",
    "    model = RandomForestRegressor()\n",
    "    model.fit(X_train, y_train)\n",
    "    print(model.score(X_test, y_test))\n",
    "    \n",
    "    predict = model.predict(X_test)\n",
    "    plt.scatter(predict[::50], y_test[::50])\n",
    "    plt.xlabel(\"Predict score\")\n",
    "    plt.ylabel(\"Machine level interference\")\n",
    "    plt.show()\n",
    "\n",
    "    error = abs(predict - y_test)\n",
    "    plt.plot(sorted(error), np.arange(predict.shape[0]) / (predict.shape[0] - 1))\n",
    "    plt.xlim(0, 1)\n",
    "    plt.xlabel(\"error\", fontsize=30)\n",
    "    plt.ylabel(\"CDF\", fontsize=30)\n",
    "    plt.xticks(fontsize=30)\n",
    "    plt.yticks(fontsize=30)\n",
    "    plt.grid(\":\")\n",
    "    plt.show()"
   ]
  },
  {
   "cell_type": "code",
   "execution_count": null,
   "id": "7a5ff8e7-e3bf-4f87-a342-19cd58baf1b9",
   "metadata": {
    "tags": []
   },
   "outputs": [],
   "source": [
    "P = [[], [], [], []]\n",
    "T = [[], [], [], []]\n",
    "for nc in data.nc_sn.unique():\n",
    "#     if nc != \"i-8vb8e59yufyqspqng372\":\n",
    "#         continue\n",
    "    X = []\n",
    "    y = []\n",
    "    temp = data[data.nc_sn==nc]\n",
    "    for t in temp.sample_time.unique():\n",
    "        tep = temp[temp.sample_time==t]\n",
    "        y.append([np.sum(tep[\"score\"].values),\n",
    "                  np.sum(tep[\"score\"].values*tep.request_cpu.values),\n",
    "                  np.sum(tep[\"score\"].values*tep[\"co\"].values),\n",
    "                  np.sum(tep[\"score\"].values*tep[\"rtPP\"].values),\n",
    "                  ])\n",
    "        X.append(tep.X.values[0])\n",
    "    X = np.asarray(X)\n",
    "    if X.shape[0] < 1000:\n",
    "        continue\n",
    "    y = np.asarray(y)\n",
    "    for index in range(4):\n",
    "        p = []\n",
    "        for i in range(10, 101, 10):\n",
    "            p.append(np.percentile(y[:, index], i))\n",
    "        y_new = []\n",
    "        for i in y[:, index]:\n",
    "            for j in range(1, 11):\n",
    "                if i <= p[j-1]:\n",
    "                    y_new.append(j)\n",
    "                    break\n",
    "        y[:, index] = np.asarray(y_new)\n",
    "#         y[:, index] = (y[:, index] - np.percentile(y[:, index], 1)) / (np.percentile(y[:, index], 99) - np.percentile(y[:, index], 1))\n",
    "\n",
    "    print(nc, end=' ')\n",
    "    for index in range(4):\n",
    "        model = RandomForestClassifier()\n",
    "        X_train, X_test, y_train, y_test = train_test_split(X, y[:, index])\n",
    "#         scaler = MinMaxScaler().fit(y_train)\n",
    "#         y_train = scaler.transform(y_train)\n",
    "#         y_test = scaler.transform(y_test)\n",
    "        model.fit(X_train, y_train)\n",
    "        print(model.score(X_test, y_test), end='\\t')\n",
    "        predict = model.predict(X_test)\n",
    "    #     plt.scatter(predict, y)\n",
    "    #     plt.xlabel(\"Predict score\")\n",
    "    #     plt.ylabel(\"Machine level interference\")\n",
    "    #     plt.show()\n",
    "#         e = abs(predict - y_test)\n",
    "#         for i in e:\n",
    "        P[index].append(predict)\n",
    "        T[index].append(y_test)\n",
    "    print()\n",
    "#     plt.scatter(predict, scaler.transform(y[:, [index]]))\n",
    "#     plt.xlabel(\"predict\")\n",
    "#     plt.ylabel(\"interference score\")"
   ]
  },
  {
   "cell_type": "code",
   "execution_count": null,
   "id": "3b3f7c27-394f-4a2e-b18d-c1273dc8c20b",
   "metadata": {},
   "outputs": [],
   "source": [
    "MODEL = {}\n",
    "P = {}"
   ]
  },
  {
   "cell_type": "code",
   "execution_count": null,
   "id": "c294696c-97fc-42bb-837d-618b3911f7e2",
   "metadata": {
    "tags": []
   },
   "outputs": [],
   "source": [
    "for nc in data.nc_sn.unique():\n",
    "    X = []\n",
    "    y = []\n",
    "    temp = data[data.nc_sn==nc]\n",
    "    sample_time = temp.sample_time.unique()\n",
    "    for t in sample_time:\n",
    "        tep = temp[temp.sample_time==t]\n",
    "        y.append(np.sum(tep[\"score\"].values*tep[\"co\"].values))\n",
    "        X.append(tep.X.values[0])\n",
    "    X = np.asarray(X)\n",
    "    if X.shape[0] < 1000:\n",
    "        continue\n",
    "    y = np.asarray(y)\n",
    "    p = []\n",
    "    for i in range(10, 101, 10):\n",
    "        p.append(np.percentile(y, i))\n",
    "    for i in range(y.shape[0]):\n",
    "        for j in range(1, 11):\n",
    "            if y[i] <= p[j-1]:\n",
    "                y[i] = j\n",
    "                break\n",
    "\n",
    "    print(nc, end=' ')\n",
    "    model = RandomForestClassifier()\n",
    "    X_train, X_test, y_train, y_test = X[sample_time<1644505200], X[sample_time>=1644505200],  y[sample_time<1644505200], y[sample_time>=1644505200]\n",
    "    model.fit(X_train, y_train)\n",
    "    MODEL[nc] = model\n",
    "    P[nc] = model.predict(X_test)\n",
    "    print(model.score(X_test, y_test), end='\\t')"
   ]
  },
  {
   "cell_type": "markdown",
   "id": "e2a0ccea-b8f2-4ef8-8caa-4baf69e7d92c",
   "metadata": {},
   "source": [
    "1644465600: 0.1596676737160121\n",
    "+3600: 0.14778449144008057\n",
    "+3600: 0.2510255560934594\n",
    "+3600: 0.13641473759517606\n",
    "+3600: 0.051544288301155344\n",
    "-3600: 0.34655085599194363\n",
    "-3600: 0.2919436052366566\n",
    "-3600: 0.283031218529708\n",
    "-3600: 0.39798590130916417\n",
    "-3600: 0.4077794561933535\n",
    "-3600: 0.7136203423967774\n",
    "-3600: 0.7107754279959718\n",
    "-3600: 0.7244712990936556\n",
    "-3600: 0.7406847935548841"
   ]
  },
  {
   "cell_type": "code",
   "execution_count": null,
   "id": "22c74891-af77-419e-8378-0a82b80fea0e",
   "metadata": {},
   "outputs": [],
   "source": [
    "1644498000, 1644422400, 1644440400"
   ]
  },
  {
   "cell_type": "code",
   "execution_count": null,
   "id": "711ebcad-6d1f-4eb9-8df4-5b851ac439c4",
   "metadata": {},
   "outputs": [],
   "source": [
    "TIMESTAMP = 1644422400"
   ]
  },
  {
   "cell_type": "code",
   "execution_count": null,
   "id": "d1b4dc36-f30b-48d4-a8d4-9113cf19776e",
   "metadata": {
    "tags": []
   },
   "outputs": [],
   "source": [
    "for i in range(0, 3600*24, 3600):\n",
    "    TIMESTAMP = 1644422400 + i\n",
    "    print(TIMESTAMP, end=', ')\n",
    "    base = DATA[(DATA.sample_time>TIMESTAMP) & (DATA.sample_time<TIMESTAMP + 3600)]\n",
    "    print(base.machine_cpu.mean(), base.machine_cpu.std(), end=', ')\n",
    "    # temp = data\n",
    "    result = []\n",
    "    for i in e_score:\n",
    "        if i in MODEL:\n",
    "            X = []\n",
    "            for x in base[base.nc_sn==i].X.values:\n",
    "                 X.append(x)\n",
    "\n",
    "            for j in MODEL[i].predict(np.asarray(X)).tolist():\n",
    "                result.append(j)\n",
    "\n",
    "    base = np.bincount(result, minlength=11)\n",
    "    SUM = 0\n",
    "    for i in range(base.shape[0]):\n",
    "        SUM += base[i] * i\n",
    "    print(SUM / np.sum(base))"
   ]
  },
  {
   "cell_type": "code",
   "execution_count": null,
   "id": "1a169916-7aef-4e9f-a49c-20bc26d441bd",
   "metadata": {
    "tags": []
   },
   "outputs": [],
   "source": [
    "base = np.asarray(result).reshape(-1, 59)"
   ]
  },
  {
   "cell_type": "code",
   "execution_count": null,
   "id": "2c0f35ac-f4d8-40f5-a793-dae87f77cab3",
   "metadata": {},
   "outputs": [],
   "source": [
    "np.savetxt(\"/data/zkp/figure/simulation/base2_score.txt\", result)"
   ]
  },
  {
   "cell_type": "code",
   "execution_count": null,
   "id": "91f238a9-c961-4001-b413-5132cc645fb7",
   "metadata": {
    "tags": []
   },
   "outputs": [],
   "source": [
    "result.shape"
   ]
  },
  {
   "cell_type": "code",
   "execution_count": null,
   "id": "34ec5a1d-e4b6-4981-b456-3f73fdda012c",
   "metadata": {},
   "outputs": [],
   "source": [
    "batch = pd.read_csv(\"/data/zkp/buy2/instance.csv\")"
   ]
  },
  {
   "cell_type": "code",
   "execution_count": null,
   "id": "3ed597d9-33b5-40d1-a246-d8a3ab286ee8",
   "metadata": {},
   "outputs": [],
   "source": [
    "batch"
   ]
  },
  {
   "cell_type": "code",
   "execution_count": null,
   "id": "a5d93d39-98fa-42e2-9593-843cbe423efb",
   "metadata": {},
   "outputs": [],
   "source": [
    "batch[\"job_task_name\"] = batch.fuxi_job_name + batch.fuxi_task_name\n",
    "batch[\"total_time\"] = batch.end_time - batch.start_time\n",
    "G = batch[[\"job_task_name\", \"fuxi_avg_cpu\", \"fuxi_avg_mem\", \"total_time\"]].groupby([\"job_task_name\"]).mean()"
   ]
  },
  {
   "cell_type": "code",
   "execution_count": null,
   "id": "1b92b364-6ba4-4e72-a8da-0211826035a4",
   "metadata": {},
   "outputs": [],
   "source": [
    "task_type = {}\n",
    "type_cnt = [0 for i in range(60)]\n",
    "cpu = G.fuxi_avg_cpu.values\n",
    "mem = G.fuxi_avg_mem.values\n",
    "t = G.total_time.values\n",
    "key = G.index.values\n",
    "for i in range(G.shape[0]):\n",
    "    if np.isnan(cpu[i]) or np.isnan(mem[i]) or np.isnan(t[i]):\n",
    "        continue\n",
    "    index = 0\n",
    "    if cpu[i] < 50:\n",
    "        index = 0\n",
    "    elif 50 <= cpu[i] < 150:\n",
    "        index = 1\n",
    "    else:\n",
    "        index = 2\n",
    "\n",
    "    if mem[i] < 512:\n",
    "        index = (index*5) + 0\n",
    "    elif 512 <= mem[i] < 1536:\n",
    "        index = (index*5) + 1\n",
    "    elif 1536 <= mem[i] < 3072:\n",
    "        index = (index*5) + 2\n",
    "    elif 3072 <= mem[i] < 6144:\n",
    "        index = (index*5) + 3\n",
    "    else:\n",
    "        index = (index*5) + 4\n",
    "\n",
    "    if t[i] < 20:\n",
    "        index = (index*4) + 0\n",
    "    elif 20 <= t[i] < 40:\n",
    "        index = (index*4) + 1\n",
    "    elif 40 <= t[i] < 100:\n",
    "        index = (index*4) + 2\n",
    "    else:\n",
    "        index = (index*4) + 3\n",
    "    task_type[key[i]] = index\n",
    "    type_cnt[index] += 1"
   ]
  },
  {
   "cell_type": "code",
   "execution_count": null,
   "id": "1a53f301-e0f1-4ef4-8152-900eb8e58f12",
   "metadata": {},
   "outputs": [],
   "source": [
    "temp = []\n",
    "for i in batch.job_task_name.values:\n",
    "    if i in task_type:\n",
    "        temp.append(int(task_type[i]))\n",
    "    else:\n",
    "        temp.append(np.nan)\n",
    "batch[\"type\"] = temp"
   ]
  },
  {
   "cell_type": "code",
   "execution_count": null,
   "id": "c0968ac0-4d6d-48e3-9c74-c003701f2209",
   "metadata": {},
   "outputs": [],
   "source": [
    "batch = batch[~np.isnan(batch.type)]\n",
    "batch = batch[~((batch.start_time==0) | (batch.end_time==0))]\n",
    "batch = batch[~pd.isna(batch.worker_address)]\n",
    "batch.type = np.asarray(batch.type, dtype=\"int\")"
   ]
  },
  {
   "cell_type": "code",
   "execution_count": null,
   "id": "fc6ba6a5-164f-43ef-8e85-edd7487fe776",
   "metadata": {},
   "outputs": [],
   "source": [
    "queue = batch[(batch.start_time>=TIMESTAMP) & (batch.start_time<TIMESTAMP+3600)]"
   ]
  },
  {
   "cell_type": "code",
   "execution_count": null,
   "id": "350a9e7c-7ec5-4ee5-8a70-7637c90664af",
   "metadata": {},
   "outputs": [],
   "source": [
    "queue"
   ]
  },
  {
   "cell_type": "code",
   "execution_count": null,
   "id": "f4257a42-20a6-442e-94fd-6b0d939cc30e",
   "metadata": {},
   "outputs": [],
   "source": [
    "data = DATA[[\"nc_sn\", \"sample_time\", \"X\"]]\n",
    "data = data.dropna()\n",
    "data = data[(data.sample_time>=TIMESTAMP) & (data.sample_time<TIMESTAMP+3600)]"
   ]
  },
  {
   "cell_type": "code",
   "execution_count": null,
   "id": "75625580-631d-4d80-b19f-15968ce9dc23",
   "metadata": {},
   "outputs": [],
   "source": [
    "data"
   ]
  },
  {
   "cell_type": "code",
   "execution_count": null,
   "id": "101b3836-85e3-43f7-a3ee-95ffb6db01c7",
   "metadata": {},
   "outputs": [],
   "source": [
    "machine = pd.read_csv(\"/data/zkp/buy2/machine.csv\")"
   ]
  },
  {
   "cell_type": "code",
   "execution_count": null,
   "id": "43cb9d5d-2d1a-42f1-bd36-3e5af815ba6e",
   "metadata": {},
   "outputs": [],
   "source": [
    "machine"
   ]
  },
  {
   "cell_type": "code",
   "execution_count": null,
   "id": "27d6e1b0-c804-43a3-8e8a-7d883c8ec546",
   "metadata": {},
   "outputs": [],
   "source": [
    "data = pd.merge(data, machine[[\"nc_sn\", \"sample_time\", \"machine_cpu\"]], on=[\"nc_sn\", \"sample_time\"], how=\"left\")"
   ]
  },
  {
   "cell_type": "code",
   "execution_count": null,
   "id": "d715efc9-019c-46f6-b974-df999a9c6c25",
   "metadata": {},
   "outputs": [],
   "source": [
    "data = data[~pd.isna(data.machine_cpu)]"
   ]
  },
  {
   "cell_type": "code",
   "execution_count": null,
   "id": "54088d14-2f07-4379-8cfd-1c3119e198fc",
   "metadata": {},
   "outputs": [],
   "source": [
    "data = data[~((data.nc_sn==\"i-8vbfjjotg3mxpjcy0xyx\") | (data.nc_sn==\"i-8vb6iy0d1bzjh4ob84l5\") | (data.nc_sn==\"i-8vbbuc81w02wwl188bo6\"))]\n",
    "# data = data[~(data.nc_sn==\"i-8vbbuc81w02wwl188bo6\")]\n",
    "# data = data[~(data.nc_sn.isin([\"i-8vb6iy0d1bzjh4ob84l5\", \"i-8vbbuc81w02wwl188bo6\"]))]"
   ]
  },
  {
   "cell_type": "code",
   "execution_count": null,
   "id": "f0598c49-236c-4274-99c2-03af5d1d74a0",
   "metadata": {},
   "outputs": [],
   "source": [
    "nc_sn = data[data.sample_time==TIMESTAMP].nc_sn.unique()\n",
    "nc_sn.shape"
   ]
  },
  {
   "cell_type": "code",
   "execution_count": null,
   "id": "2ebac9b5-e772-403b-8b6f-106cece7745e",
   "metadata": {},
   "outputs": [],
   "source": [
    "pod_meta = pd.read_csv(\"/data/zkp/pod_meta.csv\")"
   ]
  },
  {
   "cell_type": "code",
   "execution_count": null,
   "id": "32f8cd5c-c0c9-4efe-9ed4-9df70708b5be",
   "metadata": {},
   "outputs": [],
   "source": [
    "ay49c = pod_meta[(pod_meta.container_app_name==\"ay49c\") & (pod_meta.nc_sn.isin(nc_sn))]"
   ]
  },
  {
   "cell_type": "code",
   "execution_count": null,
   "id": "9abe0940-fac9-4883-9975-356aaccccd22",
   "metadata": {},
   "outputs": [],
   "source": [
    "workermap = {}\n",
    "for ip, nc in zip(ay49c.container_ip.values, ay49c.nc_sn.values):\n",
    "    workermap[ip] = nc"
   ]
  },
  {
   "cell_type": "code",
   "execution_count": null,
   "id": "b4c57bab-1aa3-45f8-88b1-7de6cc3ddab7",
   "metadata": {
    "tags": []
   },
   "outputs": [],
   "source": [
    "len(workermap)"
   ]
  },
  {
   "cell_type": "code",
   "execution_count": null,
   "id": "50bb083a-0c50-43f3-8b7e-e94a3cdcbc10",
   "metadata": {},
   "outputs": [],
   "source": [
    "queue = queue[queue.worker_address.isin(ay49c.container_ip.values)]"
   ]
  },
  {
   "cell_type": "code",
   "execution_count": null,
   "id": "3aebc99b-6f31-414a-82ef-850dcf1350fe",
   "metadata": {},
   "outputs": [],
   "source": [
    "queue.worker_address.unique().shape"
   ]
  },
  {
   "cell_type": "code",
   "execution_count": null,
   "id": "53673918-066b-423a-b991-1c120073f9be",
   "metadata": {},
   "outputs": [],
   "source": [
    "temp = []\n",
    "for i in queue.worker_address.unique():\n",
    "    temp.append(workermap[i])\n",
    "for i in nc_sn:\n",
    "    if i not in temp:\n",
    "        print(i)"
   ]
  },
  {
   "cell_type": "code",
   "execution_count": null,
   "id": "c367856f-1ab3-4a12-8f29-ad12fff66578",
   "metadata": {},
   "outputs": [],
   "source": [
    "data = data[data.nc_sn.isin(nc_sn)]"
   ]
  },
  {
   "cell_type": "code",
   "execution_count": null,
   "id": "d08d5435-d210-4fbc-b58d-40daebbbdf58",
   "metadata": {},
   "outputs": [],
   "source": [
    "queue = queue[~pd.isna(queue.fuxi_avg_cpu)]"
   ]
  },
  {
   "cell_type": "code",
   "execution_count": null,
   "id": "1cb26aae-91c3-4326-89c6-5b8dc060c488",
   "metadata": {},
   "outputs": [],
   "source": [
    "data.sort_values(by=[\"sample_time\"], inplace=True)"
   ]
  },
  {
   "cell_type": "code",
   "execution_count": null,
   "id": "869aa802-d147-4aad-a830-bded05f40d7a",
   "metadata": {},
   "outputs": [],
   "source": [
    "queue.sort_values(by=[\"start_time\", \"end_time\"], inplace=True)"
   ]
  },
  {
   "cell_type": "code",
   "execution_count": null,
   "id": "e0f9183b-26f5-4e54-b6d0-6f6ba4b078de",
   "metadata": {},
   "outputs": [],
   "source": [
    "data"
   ]
  },
  {
   "cell_type": "code",
   "execution_count": null,
   "id": "6a95cb7d-08ea-4d74-afb3-a5b80923d6fd",
   "metadata": {},
   "outputs": [],
   "source": [
    "queue"
   ]
  },
  {
   "cell_type": "code",
   "execution_count": null,
   "id": "fc09db20-2263-4ebc-af0b-3acbc5a40a78",
   "metadata": {},
   "outputs": [],
   "source": [
    "temp = data[data.sample_time==TIMESTAMP]\n",
    "BED = {}\n",
    "for i in temp.nc_sn.unique():\n",
    "    BED[i] = temp[temp.nc_sn==i].X.values[0].tolist()"
   ]
  },
  {
   "cell_type": "code",
   "execution_count": null,
   "id": "62851e23-a5c5-4caf-84e4-c0fa4aaa588d",
   "metadata": {
    "tags": []
   },
   "outputs": [],
   "source": [
    "BED"
   ]
  },
  {
   "cell_type": "code",
   "execution_count": null,
   "id": "e8915954-ed22-4a44-a582-b7ad727348c4",
   "metadata": {},
   "outputs": [],
   "source": [
    "cur_machine = data[data.sample_time==TIMESTAMP].nc_sn.values\n",
    "machine_to_index = {}\n",
    "for i in range(cur_machine.shape[0]):\n",
    "    machine_to_index[cur_machine[i]] = i"
   ]
  },
  {
   "cell_type": "code",
   "execution_count": null,
   "id": "45d8bd3e-823f-4570-ba6f-1dee4e6fad18",
   "metadata": {},
   "outputs": [],
   "source": [
    "e_score = {}\n",
    "e_macpu = {}\n",
    "e_BED = {}\n",
    "for key in BED:\n",
    "    e_score[key] = []\n",
    "    e_macpu[key] = []\n",
    "    e_BED[key] = []"
   ]
  },
  {
   "cell_type": "code",
   "execution_count": null,
   "id": "e5044ec1-ce8a-4dcd-9af0-3699a4cec44c",
   "metadata": {
    "tags": []
   },
   "outputs": [],
   "source": [
    "end_list = {}\n",
    "before = batch[(batch.start_time<TIMESTAMP) & (batch.end_time>TIMESTAMP - 60)].sort_values(by=[\"start_time\", \"end_time\"])\n",
    "end_time = before.end_time.values\n",
    "ip = before.worker_address.values\n",
    "task_type = before.type.values\n",
    "\n",
    "for i in range(before.shape[0]):\n",
    "    if ip[i] not in workermap:\n",
    "        continue\n",
    "    if end_time[i] not in end_list:\n",
    "        end_list[end_time[i]] = {}\n",
    "    if workermap[ip[i]] not in end_list[end_time[i]]:\n",
    "        end_list[end_time[i]][workermap[ip[i]]] = []\n",
    "    end_list[end_time[i]][workermap[ip[i]]].append(task_type[i])\n",
    "    "
   ]
  },
  {
   "cell_type": "code",
   "execution_count": null,
   "id": "cf2f7b15-026d-4a5c-84f6-0b882f892878",
   "metadata": {
    "tags": []
   },
   "outputs": [],
   "source": [
    "cpu_delta = {}\n",
    "before = batch[(batch.start_time<TIMESTAMP) & (batch.end_time>TIMESTAMP)].sort_values(by=[\"start_time\", \"end_time\"])\n",
    "end_time = before.end_time.values\n",
    "ip = before.worker_address.values\n",
    "ins_cpu = before.fuxi_avg_cpu.values\n",
    "\n",
    "for i in range(before.shape[0]):\n",
    "    if np.isnan(ins_cpu[i]) or ip[i] not in workermap:\n",
    "        continue\n",
    "    if end_time[i] not in cpu_delta:\n",
    "        cpu_delta[end_time[i]] = np.zeros(cur_machine.shape[0])\n",
    "\n",
    "    cpu_delta[end_time[i]][machine_to_index[workermap[ip[i]]]] += ins_cpu[i]/100"
   ]
  },
  {
   "cell_type": "code",
   "execution_count": null,
   "id": "86849341-e62a-4835-bc1e-e10153eda389",
   "metadata": {},
   "outputs": [],
   "source": [
    "cur_score = []\n",
    "for key in cur_machine:\n",
    "    cur_score.append(MODEL[key].predict(np.asarray(BED[key]).reshape(1, -1))[0])"
   ]
  },
  {
   "cell_type": "code",
   "execution_count": null,
   "id": "542e205c-9e56-47b9-8c53-d59b01aec032",
   "metadata": {
    "tags": []
   },
   "outputs": [],
   "source": [
    "import time\n",
    "cur_min = TIMESTAMP\n",
    "start_time = queue.start_time.values\n",
    "ins_cpu = queue.fuxi_avg_cpu.values\n",
    "end_time = queue.end_time.values\n",
    "task_type = queue.type.values \n",
    "\n",
    "cur_time = TIMESTAMP\n",
    "\n",
    "cur_cpu = data[data.sample_time==cur_min].machine_cpu.values\n",
    "\n",
    "random_list = np.arange(cur_machine.shape[0])\n",
    "\n",
    "s = time.time()\n",
    "\n",
    "for i in range(queue.shape[0]):\n",
    "#     if i%10000 == 0:\n",
    "#         print(i, end=',')\n",
    "    if start_time[i] != cur_time:\n",
    "        while cur_time < start_time[i]:\n",
    "            if cur_time in end_list:\n",
    "                for key in end_list[cur_time]:\n",
    "                    for ins in end_list[cur_time][key]:\n",
    "                        BED[key][ins] -= 1\n",
    "            if cur_time in cpu_delta:\n",
    "                    cur_cpu -= cpu_delta[cur_time]\n",
    "            cur_time += 1\n",
    "#         for nc in range(cur_machine.shape[0]):\n",
    "#             cur_score[nc] = MODEL[cur_machine[nc]].predict(np.asarray(BED[cur_machine[nc]]).reshape(1, -1))[0]\n",
    "#         print(np.mean(cur_score))\n",
    "    if start_time[i] >= cur_min + 60:\n",
    "        cur_min += 60\n",
    "        print(cur_min, end=',')\n",
    "        \n",
    "        for nc in range(cur_machine.shape[0]):\n",
    "            e_score[cur_machine[nc]].append(MODEL[cur_machine[nc]].predict(np.asarray(BED[cur_machine[nc]]).reshape(1, -1))[0])\n",
    "#             e_BED[cur_machine[nc]].append(BED[cur_machine[nc]])\n",
    "            e_macpu[cur_machine[nc]].append(cur_cpu[nc])\n",
    "\n",
    "#     index = np.argmin(cur_cpu)\n",
    "#     index = np.argsort(cur_cpu)[:10]\n",
    "#     X = []\n",
    "#     for key in index:\n",
    "#         BED[cur_machine[key]][task_type[i]] += 1\n",
    "#         a = MODEL[cur_machine[key]].predict(np.asarray(BED[cur_machine[key]]).reshape(1, -1))[0]\n",
    "#         X.append(a)\n",
    "#         BED[cur_machine[key]][task_type[i]] -= 1\n",
    "#         if a == 1:\n",
    "#             break\n",
    "#     index = index[np.argmin(X)]\n",
    "    \n",
    "    sortmax = np.argsort(-cur_cpu)\n",
    "    index = sortmax.shape[0] - 1\n",
    "    for l in range(sortmax.shape[0]):\n",
    "        if cur_cpu[sortmax[l]] + ins_cpu[i]/100 <= 80:\n",
    "            index = l\n",
    "            break\n",
    "    index = sortmax[index]\n",
    "#     LIST = []\n",
    "#     if sortmax.shape[0] - index < 10:\n",
    "#         LIST = sortmax[sortmax.shape[0]-10:sortmax.shape[0]]\n",
    "#     else:\n",
    "#         LIST = sortmax[index:index+10]\n",
    "#     X = []\n",
    "#     for key in LIST:\n",
    "#         BED[cur_machine[key]][task_type[i]] += 1\n",
    "#         a = MODEL[cur_machine[key]].predict(np.asarray(BED[cur_machine[key]]).reshape(1, -1))[0]\n",
    "#         X.append(a)\n",
    "#         BED[cur_machine[key]][task_type[i]] -= 1\n",
    "#         if a == 1:\n",
    "#             break\n",
    "#     index = LIST[np.argmin(X)]\n",
    "\n",
    "#     min_score = 11\n",
    "# #     np.random.shuffle(random_list)\n",
    "#     random_list = np.argsort(cur_score)\n",
    "#     index = 0\n",
    "#     for key in random_list:\n",
    "# #         if cur_score[key] > cur_score[random_list[0]] and min_score != 11:\n",
    "# #             break\n",
    "#         if cur_cpu[key] + ins_cpu[i]/100 > 105:\n",
    "#             continue\n",
    "#         BED[cur_machine[key]][task_type[i]] += 1\n",
    "#         a = MODEL[cur_machine[key]].predict(np.asarray(BED[cur_machine[key]]).reshape(1, -1))[0]\n",
    "#         BED[cur_machine[key]][task_type[i]] -= 1\n",
    "#         if a < min_score:\n",
    "#             min_score = a\n",
    "#             index = key\n",
    "#             if a == 1:\n",
    "#                 break\n",
    "#     index = np.argmin(cur_score)\n",
    "\n",
    "\n",
    "    cur_cpu[index] += ins_cpu[i]/100\n",
    "    target = cur_machine[index]\n",
    "    BED[target][task_type[i]] += 1\n",
    "#     cur_score[index] = MODEL[target].predict(np.asarray(BED[target]).reshape(1, -1))[0]\n",
    "#     print(cur_score[index], end=',')\n",
    "\n",
    "    \n",
    "    if end_time[i] not in cpu_delta:\n",
    "        cpu_delta[end_time[i]] = np.zeros(cur_machine.shape[0])\n",
    "\n",
    "    cpu_delta[end_time[i]][index] += ins_cpu[i]/100\n",
    "       \n",
    "    if end_time[i] not in end_list:\n",
    "        end_list[end_time[i]] = {}\n",
    "    if target not in end_list[end_time[i]]:\n",
    "        end_list[end_time[i]][target] = []\n",
    "    end_list[end_time[i]][target].append(task_type[i])\n",
    "print(time.time()-s)    "
   ]
  },
  {
   "cell_type": "code",
   "execution_count": null,
   "id": "b7d9e5cf-7a04-4fe5-bb70-ad7a4f1c597f",
   "metadata": {
    "tags": []
   },
   "outputs": [],
   "source": [
    "temp = []\n",
    "for key in e_score:\n",
    "    temp.append(e_score[key])\n",
    "np.mean(temp)"
   ]
  },
  {
   "cell_type": "code",
   "execution_count": null,
   "id": "5ea726f7-416e-427f-9283-be15c7e157c1",
   "metadata": {},
   "outputs": [],
   "source": [
    "temp = []\n",
    "for key in e_macpu:\n",
    "    temp.append(e_macpu[key])\n",
    "np.mean(temp)"
   ]
  },
  {
   "cell_type": "code",
   "execution_count": null,
   "id": "c641c6ae-5d88-4c83-ad3b-8cbe948f5b23",
   "metadata": {},
   "outputs": [],
   "source": [
    "np.savetxt(\"/data/zkp/figure/simulation/stack_cpu.txt\", np.asarray(temp))\n",
    "# np.savetxt(\"/data/zkp/figure/simulation/stack_score.txt\", np.asarray(temp), fmt=\"%d\")"
   ]
  },
  {
   "cell_type": "code",
   "execution_count": null,
   "id": "3a8e5f45-3a43-4da9-863e-25ae5af2fc0b",
   "metadata": {
    "tags": []
   },
   "outputs": [],
   "source": [
    "temp = []\n",
    "for key in e_BED:\n",
    "    temp.append(e_BED[key])\n",
    "print(np.asarray(temp).shape)\n",
    "np.save(\"/data/zkp/figure/simulation/if2_BED\", np.asarray(temp))"
   ]
  },
  {
   "cell_type": "code",
   "execution_count": null,
   "id": "1a254a94-5e15-4741-9c5a-007d85473a4e",
   "metadata": {
    "tags": []
   },
   "outputs": [],
   "source": [
    "index = 1\n",
    "for key in e_score:\n",
    "    print(e_score[key][index], e_macpu[key][index])"
   ]
  },
  {
   "cell_type": "code",
   "execution_count": null,
   "id": "eb1ca034-d9e5-428b-b6b0-9bb920661c1b",
   "metadata": {
    "tags": []
   },
   "outputs": [],
   "source": [
    "temp = np.asarray(temp)"
   ]
  },
  {
   "cell_type": "code",
   "execution_count": null,
   "id": "6962a260-e4f0-426a-b877-30e6ccf3606e",
   "metadata": {
    "tags": []
   },
   "outputs": [],
   "source": [
    "e_macpu"
   ]
  },
  {
   "cell_type": "code",
   "execution_count": null,
   "id": "fdb2dd21-e7e7-46fd-8b23-30a6d8c65c26",
   "metadata": {
    "tags": []
   },
   "outputs": [],
   "source": [
    "np.mean(np.loadtxt(\"/data/zkp/figure/simulation/spread_score.txt\"))"
   ]
  },
  {
   "cell_type": "code",
   "execution_count": null,
   "id": "ddf5869d-788a-46e7-a3b4-9d62516e6330",
   "metadata": {
    "tags": []
   },
   "outputs": [],
   "source": [
    "for i in range(59):\n",
    "    print(np.mean(temp[:, i]), np.mean(base[:, i]))"
   ]
  },
  {
   "cell_type": "code",
   "execution_count": null,
   "id": "23144aea-acaa-4c65-963f-87d2161372a4",
   "metadata": {},
   "outputs": [],
   "source": [
    "data.machine_cpu.std()"
   ]
  },
  {
   "cell_type": "code",
   "execution_count": null,
   "id": "05373923-014c-475c-b953-c7df15f34ff1",
   "metadata": {
    "tags": []
   },
   "outputs": [],
   "source": [
    "new_P = [[], [], [], []]\n",
    "new_T = [[], [], [], []]\n",
    "for index in range(4):\n",
    "    for i in range(len(P[index])):\n",
    "        \n",
    "        new_P[index].append(P[index][i][:348].tolist())\n",
    "        new_T[index].append(T[index][i][:348].tolist())"
   ]
  },
  {
   "cell_type": "code",
   "execution_count": null,
   "id": "74af2968-b0a8-468b-9e44-8c56ca1e321f",
   "metadata": {},
   "outputs": [],
   "source": [
    "new_P = np.asarray(new_P)\n",
    "new_T = np.asarray(new_T)"
   ]
  },
  {
   "cell_type": "code",
   "execution_count": null,
   "id": "4a690f3a-a444-44b4-a4d0-62c7207abc52",
   "metadata": {
    "tags": []
   },
   "outputs": [],
   "source": [
    "predict = new_P\n",
    "y = new_T\n",
    "fontsize=20\n",
    "plt.figure(figsize=(8, 7), dpi=120)\n",
    "for i, n, ls in zip(range(y.shape[0]), [\"w=1\", \"w=CPU quota\", \"w=Corr\", \"w=COV\"], [\"-\", \"--\", \"-.\", \":\"]):\n",
    "    f1 = []\n",
    "    for j in range(y.shape[1]):\n",
    "        cnt = [[0, 0], [0, 0]]\n",
    "        for k in range(predict.shape[2]):\n",
    "            cnt[int(predict[i, j, k]<3)][int(y[i, j, k]>8)] += 1\n",
    "        f1.append(cnt[1][1] / predict.shape[2])\n",
    "    plt.plot(sorted(f1), np.arange(len(f1))*100 / (len(f1) - 1), label=n, lw=4, ls=ls)\n",
    "plt.xlim(0, 0.1)\n",
    "plt.xlabel(\"Proportion of severe prediction errors\", fontsize=fontsize)\n",
    "plt.xticks(fontsize=fontsize)\n",
    "plt.ylabel(\"CDF (%)\", fontsize=fontsize)\n",
    "plt.yticks(fontsize=fontsize)\n",
    "plt.ylim(0, 100)\n",
    "plt.legend(fontsize=fontsize, loc=\"lower right\")\n",
    "plt.grid(ls=\":\")\n",
    "# plt.savefig(\"./figure/ml-risk.png\", bbox_inches=\"tight\")\n",
    "plt.show()"
   ]
  },
  {
   "cell_type": "code",
   "execution_count": null,
   "id": "3cb86062-0850-4927-b6f5-01173bdaf13e",
   "metadata": {},
   "outputs": [],
   "source": [
    "df = data[(data.sample_time==1644501780)]\n",
    "X = df.X.values\n",
    "nc_sn = df.nc_sn.values\n",
    "temp = []\n",
    "for i in range(nc_sn.shape[0]):\n",
    "    temp.append(MODEL[nc_sn[i]].predict(X[i].reshape(1,-1)))"
   ]
  },
  {
   "cell_type": "code",
   "execution_count": null,
   "id": "ca0e8831-09c8-4aec-838f-12df43b63146",
   "metadata": {},
   "outputs": [],
   "source": [
    "temp = []\n",
    "for i in data.X.values:\n",
    "    temp.append(i)\n",
    "np.save(\"/data/zkp/figure/simulation/base2_BED\", np.asarray(temp))"
   ]
  }
 ],
 "metadata": {
  "kernelspec": {
   "display_name": "Python 3 (ipykernel)",
   "language": "python",
   "name": "python3"
  },
  "language_info": {
   "codemirror_mode": {
    "name": "ipython",
    "version": 3
   },
   "file_extension": ".py",
   "mimetype": "text/x-python",
   "name": "python",
   "nbconvert_exporter": "python",
   "pygments_lexer": "ipython3",
   "version": "3.8.8"
  }
 },
 "nbformat": 4,
 "nbformat_minor": 5
}
